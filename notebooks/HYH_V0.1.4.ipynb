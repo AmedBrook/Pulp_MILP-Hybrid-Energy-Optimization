{
 "cells": [
  {
   "attachments": {},
   "cell_type": "markdown",
   "metadata": {
    "id": "sjW945RUgTbF"
   },
   "source": [
    "# Optimization Model - Hybrid Energy Generation & Storage: 1 Battery-1 Genset .\n",
    "=========================================================================================================================\n",
    "$ \n",
    "\\\\\n",
    "$\n",
    "\n",
    "$ \n",
    "\\\\\n",
    "$"
   ]
  },
  {
   "attachments": {},
   "cell_type": "markdown",
   "metadata": {
    "id": "mnPIv4l7V0Vi"
   },
   "source": [
    "### Installing PuLP Modeler."
   ]
  },
  {
   "cell_type": "code",
   "execution_count": 32,
   "metadata": {
    "id": "NV7CprTqVgLv"
   },
   "outputs": [
    {
     "name": "stdout",
     "output_type": "stream",
     "text": [
      "Requirement already satisfied: pulp in c:\\programdata\\anaconda3\\lib\\site-packages (2.7.0)\n",
      "Note: you may need to restart the kernel to use updated packages.\n"
     ]
    }
   ],
   "source": [
    "%pip install pulp"
   ]
  },
  {
   "cell_type": "markdown",
   "metadata": {
    "id": "zcEvkT1ZXzvd"
   },
   "source": [
    "### Testing PuLP packages."
   ]
  },
  {
   "cell_type": "code",
   "execution_count": null,
   "metadata": {
    "id": "FnDEdmzWXbOE"
   },
   "outputs": [],
   "source": [
    "import pulp\n",
    "pulp.pulpTestAll()"
   ]
  },
  {
   "cell_type": "markdown",
   "metadata": {
    "id": "T_UvbcS_gyqa"
   },
   "source": [
    "### Importing Libraries."
   ]
  },
  {
   "cell_type": "code",
   "execution_count": 34,
   "metadata": {
    "id": "Y0QsQ0VGgsyU"
   },
   "outputs": [],
   "source": [
    "import numpy as np\n",
    "from collections import Counter\n",
    "import math\n",
    "from pulp import *"
   ]
  },
  {
   "cell_type": "markdown",
   "metadata": {
    "id": "8eO_dSzqgXaU"
   },
   "source": [
    "### Introducing problem Parameters."
   ]
  },
  {
   "cell_type": "code",
   "execution_count": 35,
   "metadata": {
    "id": "CjP63KtPgH1N"
   },
   "outputs": [],
   "source": [
    "Q_max = 250                                                                         # Maximal capacity stored on battery\n",
    "Q_0 = 0.2*Q_max                                                                     # Inital capacity stored on battery\n",
    "P_A_max = 800                                                                       # Max output from gen set A\n",
    "dt = 1                                                                              # Time step in simulation dt=1min\n",
    "t_max = 60                                                                          # Time span for simulation = t_max hours\n",
    "t = np.atleast_2d(np.arange(0,t_max,dt)).T.conj()\n",
    "n = len(t)                                                                          # Number of time steps\n",
    "m = 5                                                                               # Number of Gensets on the ship \n",
    "a_j = 1.5                                                                           # Slope for the linear model of genset j consumption \n",
    "fc_j_offset = 500                                                                   # Genset j fuel consumption when no power gnerated (p=0) in g/h \n",
    "y_k_j = 1                                                                           # Genset j pointer at time step k (if genset j is used then = 1 otherwise = 0)\n",
    "y_k_j_1 = 0                                                                         # Henset j pointer at time step k-1 (if genset j is used then = 1 otherwise = 0)\n",
    "K_j_start = dict.fromkeys([x for x in range(60)],0)\n",
    "K_j_start[0]=0.1                                                                    # Additional fuel consumption when starting genset j (kg)\n",
    "\n",
    "                                                                                    \n",
    "import sys, os\n",
    "sys.path.append(os.path.abspath(os.path.join(r'wpath', r'ppath')))                  # Bringing the packages onto the path\n",
    "\n",
    "\n",
    "from Load_window import Load_window                                                 # Now we import modules of Load_window_function\n",
    "L = Load_window (200,200,10,400,400,10,600,600,10,600,200,30,0,10,20,30)\n",
    "\n",
    "\n",
    "from Dictionaries_add import merge_dictionaries_1_2                                 # Now we import modules of Dictionaries_add\n",
    "\n"
   ]
  },
  {
   "cell_type": "markdown",
   "metadata": {
    "id": "4IKe4UG9OXGR"
   },
   "source": [
    "### Creating the problem variable."
   ]
  },
  {
   "cell_type": "code",
   "execution_count": 36,
   "metadata": {
    "id": "IdXNRhkLOfr5"
   },
   "outputs": [],
   "source": [
    "prob = LpProblem('Energy_Opt',LpMinimize)"
   ]
  },
  {
   "cell_type": "markdown",
   "metadata": {
    "id": "MToHP-f6mBi5"
   },
   "source": [
    "### Setting-up decision Variables."
   ]
  },
  {
   "cell_type": "code",
   "execution_count": 37,
   "metadata": {
    "id": "JTeLHDUxmHnF"
   },
   "outputs": [],
   "source": [
    "steps = np.arange(0,n)\n",
    "V_steps =  range(0, steps.shape[0]) \n",
    "\n",
    "Q_bat = pulp.LpVariable.dicts(\"Q_bat\", V_steps, lowBound=0.2*Q_max, upBound=Q_max, cat = LpContinuous)\n",
    "P_bat = pulp.LpVariable.dicts(\"P_bat\", V_steps, lowBound=0, upBound=None, cat = LpContinuous)\n",
    "P_A = pulp.LpVariable.dicts(\"P_A\", V_steps, lowBound=0.2*P_A_max, upBound=0.9*P_A_max, cat = LpInteger)\n",
    "P_A_load = pulp.LpVariable.dicts(\"P_A_load\", V_steps, lowBound=0.2*P_A_max, upBound=0.9*P_A_max, cat = LpInteger)\n",
    "P_A_bat = pulp.LpVariable.dicts(\"P_A_bat\", V_steps, lowBound=0.2*P_A_max, upBound=0.9*P_A_max, cat = LpContinuous)\n",
    "SFOC_A = pulp.LpVariable.dicts(\"SFOC_A\", V_steps, lowBound=None, upBound=None, cat = LpInteger)\n",
    "Z_k_j = pulp.LpVariable.dicts(\"Z_k_j\", V_steps, lowBound=0, upBound=1, cat = LpBinary)"
   ]
  },
  {
   "cell_type": "markdown",
   "metadata": {
    "id": "TUKTG2Hrrij4"
   },
   "source": [
    "### Setting-up the objective function."
   ]
  },
  {
   "cell_type": "code",
   "execution_count": 38,
   "metadata": {
    "colab": {
     "base_uri": "https://localhost:8080/",
     "height": 87
    },
    "id": "_QipTr5hnVLr",
    "outputId": "7500dd00-c52a-4b86-f3d7-6a33098bd479"
   },
   "outputs": [
    {
     "name": "stderr",
     "output_type": "stream",
     "text": [
      "c:\\ProgramData\\Anaconda3\\lib\\site-packages\\pulp\\pulp.py:1704: UserWarning: Overwriting previously set objective.\n",
      "  warnings.warn(\"Overwriting previously set objective.\")\n"
     ]
    }
   ],
   "source": [
    "for j in range(1,m):\n",
    "  for k in range(0,n):\n",
    "    FC_k_j = {key: P_A[key]*a_j + fc_j_offset * y_k_j  for key in P_A}   # linear model for fuel consumption of genset j at time step k\n",
    "    FC = sum(sum(FC_k_j[k] * dt/1000 * k for k in range(0,n) )*j for j in range(1,m)) # sum of the fuel oil comsumption for all gensets over all time steps.\n",
    "    L_added_cost = sum(Z_k_j[j] * j for j in range(1,m)) * sum(K_j_start[k] * k for k in range(0,n) ) # sum of all of the additional costs including starting costs. \n",
    "    prob += FC + L_added_cost # The minimize objective function."
   ]
  },
  {
   "cell_type": "markdown",
   "metadata": {
    "id": "ga275eNBF_ZV"
   },
   "source": [
    "### Setting-up problem Constraints."
   ]
  },
  {
   "cell_type": "code",
   "execution_count": 39,
   "metadata": {
    "id": "Ndw9zmAJGDP-"
   },
   "outputs": [],
   "source": [
    "\n",
    "prob += L == merge_dictionaries_1_2(P_A_load, P_bat), \"Load Requirements\"                                               # Load requirements constraints\n",
    "prob += P_A == merge_dictionaries_1_2(P_A_load, P_A_bat), \"Power Split\"                                                 # Power split\n",
    "\n",
    "\n",
    "for x in P_A: \n",
    "  P_A_A = dict.fromkeys([x for x in range(60)])\n",
    "  P_A_A[x] = P_A[x]*(-67/P_A_max) + 260\n",
    "  prob += SFOC_A == P_A_A, \"Specific Fuel Oil Consumption of Genset A\"                                                  # Genset specific Fuel oil consumption \n",
    "\n",
    "for x in range(0,0):\n",
    "  prob += Q_bat[0] == Q_0, \"Initial Charge balance\"                                                                     # Initial charge balance\n",
    "\n",
    "\n",
    "Q_init = dict.fromkeys([x for x in range(60)], 0)\n",
    "Q_k = dict.fromkeys([x for x in range(60)], 0)\n",
    "\n",
    "for k in range(1,n,1):\n",
    "  Q_k[k] = (P_A_bat[k] - P_bat[k])*dt\n",
    "\n",
    "for i in range(0,n-1,1):\n",
    "  Q_init[i] = Q_bat[i]\n",
    "\n",
    "\n",
    "  prob += Q_bat == merge_dictionaries_1_2(Q_init,Q_k), \"Charge balance at time step k\"                                  # Charge balance \n",
    "\n"
   ]
  },
  {
   "cell_type": "markdown",
   "metadata": {
    "id": "Nskl-jsXpeTA"
   },
   "source": [
    "### Solving the problem."
   ]
  },
  {
   "cell_type": "code",
   "execution_count": 40,
   "metadata": {
    "id": "HemnG5SIpiBW"
   },
   "outputs": [],
   "source": [
    "status = prob.solve()"
   ]
  },
  {
   "cell_type": "markdown",
   "metadata": {
    "id": "oqwSjeLJqY3n"
   },
   "source": [
    "### Optimization result."
   ]
  },
  {
   "cell_type": "code",
   "execution_count": 41,
   "metadata": {
    "colab": {
     "base_uri": "https://localhost:8080/",
     "height": 35
    },
    "id": "KVHSlqFNqNmY",
    "outputId": "04293189-d215-427d-c0a2-cc123313e02d"
   },
   "outputs": [
    {
     "data": {
      "text/plain": [
       "'Optimal'"
      ]
     },
     "execution_count": 41,
     "metadata": {},
     "output_type": "execute_result"
    }
   ],
   "source": [
    "LpStatus[status]"
   ]
  },
  {
   "cell_type": "markdown",
   "metadata": {
    "id": "hpO-x0-JnNH6"
   },
   "source": [
    "### Printing constraints per each time step."
   ]
  },
  {
   "cell_type": "code",
   "execution_count": null,
   "metadata": {
    "colab": {
     "base_uri": "https://localhost:8080/"
    },
    "id": "ZNAxqBmBnH2B",
    "outputId": "e0d57e67-81f4-4685-8be1-031e29aeb8b7"
   },
   "outputs": [],
   "source": [
    "for v in prob.variables():\n",
    "    print(v.name, \"=\", v.varValue)"
   ]
  },
  {
   "cell_type": "markdown",
   "metadata": {
    "id": "Rjev_Xmdo8lI"
   },
   "source": [
    "### Calculating the optimized fuel comsumption."
   ]
  },
  {
   "cell_type": "code",
   "execution_count": 43,
   "metadata": {
    "colab": {
     "base_uri": "https://localhost:8080/"
    },
    "id": "yGmTzG-KpGKl",
    "outputId": "e6fef998-17b3-4b92-aefa-01880a8c3947"
   },
   "outputs": [
    {
     "name": "stdout",
     "output_type": "stream",
     "text": [
      "Total optimized fuel comsumption of the trip : 13098.0 Kg\n"
     ]
    }
   ],
   "source": [
    "print(\"Total optimized fuel comsumption of the trip :\", value(prob.objective),'Kg')"
   ]
  }
 ],
 "metadata": {
  "colab": {
   "provenance": []
  },
  "kernelspec": {
   "display_name": "base",
   "language": "python",
   "name": "python3"
  },
  "language_info": {
   "codemirror_mode": {
    "name": "ipython",
    "version": 3
   },
   "file_extension": ".py",
   "mimetype": "text/x-python",
   "name": "python",
   "nbconvert_exporter": "python",
   "pygments_lexer": "ipython3",
   "version": "3.9.7 (default, Sep 16 2021, 16:59:28) [MSC v.1916 64 bit (AMD64)]"
  },
  "vscode": {
   "interpreter": {
    "hash": "ad2bdc8ecc057115af97d19610ffacc2b4e99fae6737bb82f5d7fb13d2f2c186"
   }
  }
 },
 "nbformat": 4,
 "nbformat_minor": 1
}
