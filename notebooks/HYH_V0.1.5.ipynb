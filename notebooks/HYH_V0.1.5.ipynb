{
 "cells": [
  {
   "attachments": {},
   "cell_type": "markdown",
   "metadata": {},
   "source": [
    "# Optimization Model - Hybrid Energy Generation & Storage: 1 Battery-1 Genset.\n",
    "=========================================================================================================================\n",
    "$ \n",
    "\\\\\n",
    "$\n",
    "\n",
    "$ \n",
    "\\\\\n",
    "$"
   ]
  },
  {
   "cell_type": "markdown",
   "metadata": {},
   "source": [
    "### Python environment."
   ]
  },
  {
   "cell_type": "code",
   "execution_count": 1,
   "metadata": {
    "colab": {
     "base_uri": "https://localhost:8080/"
    },
    "id": "c92qP1IyoF2V",
    "outputId": "d2e76b09-ee58-4558-ae86-d4f5da811745"
   },
   "outputs": [
    {
     "name": "stdout",
     "output_type": "stream",
     "text": [
      "Python version\n",
      "3.9.15 (main, Nov 24 2022, 14:39:17) [MSC v.1916 64 bit (AMD64)]\n",
      "Version info.\n",
      "sys.version_info(major=3, minor=9, micro=15, releaselevel='final', serial=0)\n"
     ]
    }
   ],
   "source": [
    "import sys\n",
    "print(\"Python version\")\n",
    "print (sys.version)\n",
    "print(\"Version info.\")\n",
    "print (sys.version_info)"
   ]
  },
  {
   "cell_type": "markdown",
   "metadata": {
    "id": "mnPIv4l7V0Vi"
   },
   "source": [
    "### Installing PuLP Modeler."
   ]
  },
  {
   "cell_type": "code",
   "execution_count": 2,
   "metadata": {
    "colab": {
     "base_uri": "https://localhost:8080/"
    },
    "id": "NV7CprTqVgLv",
    "outputId": "663f9697-a8b3-400a-e80f-1cfe942ffd71"
   },
   "outputs": [
    {
     "name": "stdout",
     "output_type": "stream",
     "text": [
      "Requirement already satisfied: pulp in c:\\users\\ahmmab2\\.conda\\envs\\hyh_model\\lib\\site-packages (2.7.0)\n",
      "Note: you may need to restart the kernel to use updated packages.\n"
     ]
    }
   ],
   "source": [
    "%pip install pulp"
   ]
  },
  {
   "cell_type": "markdown",
   "metadata": {
    "id": "zcEvkT1ZXzvd"
   },
   "source": [
    "### Testing PuLP packages."
   ]
  },
  {
   "cell_type": "code",
   "execution_count": 3,
   "metadata": {
    "colab": {
     "base_uri": "https://localhost:8080/"
    },
    "id": "FnDEdmzWXbOE",
    "outputId": "5df211da-1ecc-476a-e609-d95ccb6da1a6"
   },
   "outputs": [
    {
     "name": "stderr",
     "output_type": "stream",
     "text": [
      "ssssssssssssssssssssssssssssssssssssssssssssssssssssssssssssssssssssssssssssssssssssssssssssssssssssssssssssssssssssssssssssssssssssssssssssssssssssssssssssssssssssssssssssssssssssssssssssssssssssssssssssssssssssssssssssssssssssssssssssssssssssssssssssssssssssssssssssssssssssssssssssssssssssssssssssssssssssssssssssssssssssssssssssssssssssssssssssssssss"
     ]
    },
    {
     "name": "stdout",
     "output_type": "stream",
     "text": [
      "Restricted license - for non-production use only - expires 2024-10-28\n"
     ]
    },
    {
     "name": "stderr",
     "output_type": "stream",
     "text": [
      "............................"
     ]
    },
    {
     "name": "stdout",
     "output_type": "stream",
     "text": [
      "\t Test that logic put in place for deprecation handling of indexs works\n",
      "\t Testing 'indexs' param continues to work for LpVariable.dicts\n",
      "\t Testing 'indexs' param continues to work for LpVariable.matrix\n",
      "\t Testing 'indices' argument works in LpVariable.dicts\n",
      "\t Testing 'indices' param continues to work for LpVariable.matrix\n",
      "\t Testing invalid status\n",
      "\t Testing continuous LP solution - export dict\n",
      "\t Testing export dict for LP\n",
      "\t Testing export dict MIP\n",
      "\t Testing maximize continuous LP solution\n",
      "\t Testing continuous LP solution - export JSON\n",
      "\t Testing continuous LP solution - export solver dict\n",
      "\t Testing continuous LP solution - export solver JSON\n",
      "\t Testing reading MPS files - binary variable, no constraint names\n",
      "\t Testing reading MPS files - integer variable\n",
      "\t Testing reading MPS files - maximize\n",
      "\t Testing reading MPS files - noname\n",
      "\t Testing invalid var names\n",
      "\t Testing logPath argument\n",
      "\t Testing makeDict general behavior\n",
      "\t Testing makeDict default value behavior\n",
      "\t Testing measuring optimization time\n",
      "\t Testing that `readsol` can parse CPLEX mipopt solution\n",
      "\t Testing the availability of the function pulpTestAll\n",
      "\t Testing zero subtraction\n",
      "\t Testing inconsistent lp solution\n",
      "\t Testing continuous LP solution\n",
      "\t Testing maximize continuous LP solution\n"
     ]
    },
    {
     "name": "stderr",
     "output_type": "stream",
     "text": [
      "...."
     ]
    },
    {
     "name": "stdout",
     "output_type": "stream",
     "text": [
      "\t Testing unbounded continuous LP solution\n",
      "\t Testing Long Names\n",
      "\t Testing repeated Names\n"
     ]
    },
    {
     "name": "stderr",
     "output_type": "stream",
     "text": [
      "...........................sssssssss"
     ]
    },
    {
     "name": "stdout",
     "output_type": "stream",
     "text": [
      "\t Testing zero constraint\n",
      "\t Testing zero objective\n",
      "\t Testing LpVariable (not LpAffineExpression) objective\n",
      "\t Testing LpAffineExpression divide\n",
      "\t Testing MIP solution\n",
      "\t Testing MIP solution with floats in objective\n",
      "\t Testing Initial value in MIP solution\n",
      "\t Testing fixing value in MIP solution\n",
      "\t Testing MIP relaxation\n",
      "\t Testing feasibility problem (no objective)\n",
      "\t Testing an infeasible problem\n",
      "\t Testing an integer infeasible problem\n",
      "\t Testing another integer infeasible problem\n",
      "\t Testing column based modelling\n",
      "\t Testing Sequential Solves\n",
      "\t Testing fractional constraints\n",
      "\t Testing elastic constraints (no change)\n",
      "\t Testing elastic constraints (freebound)\n",
      "\t Testing elastic constraints (penalty unchanged)\n",
      "\t Testing elastic constraints (penalty unbounded)\n",
      "\t Testing timeLimit argument\n"
     ]
    },
    {
     "name": "stderr",
     "output_type": "stream",
     "text": [
      "sssssssssssssssssssssssssssssssssssssssssssssssssssssssssssssssssssssssssssssssssssssssssssssssssssssssssssssssssssssssssssssssssssssssssssssssssssssssssssssssssssssssssssssssssssssssssssssssssssssssssssssssssssssssssssssssssss......"
     ]
    },
    {
     "name": "stdout",
     "output_type": "stream",
     "text": [
      "\t Test that logic put in place for deprecation handling of indexs works\n",
      "\t Testing 'indexs' param continues to work for LpVariable.dicts\n",
      "\t Testing 'indexs' param continues to work for LpVariable.matrix\n",
      "\t Testing 'indices' argument works in LpVariable.dicts\n",
      "\t Testing 'indices' param continues to work for LpVariable.matrix\n",
      "\t Testing invalid status\n",
      "\t Testing continuous LP solution - export dict\n",
      "\t Testing export dict for LP\n",
      "\t Testing export dict MIP\n"
     ]
    },
    {
     "name": "stderr",
     "output_type": "stream",
     "text": [
      "..."
     ]
    },
    {
     "name": "stdout",
     "output_type": "stream",
     "text": [
      "\t Testing maximize continuous LP solution\n",
      "\t Testing continuous LP solution - export JSON\n",
      "\t Testing continuous LP solution - export solver dict\n"
     ]
    },
    {
     "name": "stderr",
     "output_type": "stream",
     "text": [
      "........."
     ]
    },
    {
     "name": "stdout",
     "output_type": "stream",
     "text": [
      "\t Testing continuous LP solution - export solver JSON\n",
      "\t Testing reading MPS files - binary variable, no constraint names\n",
      "\t Testing reading MPS files - integer variable\n",
      "\t Testing reading MPS files - maximize\n",
      "\t Testing reading MPS files - noname\n"
     ]
    },
    {
     "name": "stderr",
     "output_type": "stream",
     "text": [
      "...."
     ]
    },
    {
     "name": "stdout",
     "output_type": "stream",
     "text": [
      "\t Testing invalid var names\n",
      "\t Testing logPath argument\n",
      "\t Testing makeDict general behavior\n",
      "\t Testing makeDict default value behavior\n",
      "\t Testing measuring optimization time\n"
     ]
    },
    {
     "name": "stderr",
     "output_type": "stream",
     "text": [
      "......."
     ]
    },
    {
     "name": "stdout",
     "output_type": "stream",
     "text": [
      "\t Testing that `readsol` can parse CPLEX mipopt solution\n",
      "\t Testing the availability of the function pulpTestAll\n",
      "\t Testing zero subtraction\n",
      "\t Testing inconsistent lp solution\n",
      "\t Testing continuous LP solution\n",
      "\t Testing maximize continuous LP solution\n"
     ]
    },
    {
     "name": "stderr",
     "output_type": "stream",
     "text": [
      "..."
     ]
    },
    {
     "name": "stdout",
     "output_type": "stream",
     "text": [
      "\t Testing unbounded continuous LP solution\n",
      "\t Testing Long Names\n",
      "\t Testing repeated Names\n"
     ]
    },
    {
     "name": "stderr",
     "output_type": "stream",
     "text": [
      "..."
     ]
    },
    {
     "name": "stdout",
     "output_type": "stream",
     "text": [
      "\t Testing zero constraint\n",
      "\t Testing zero objective\n",
      "\t Testing LpVariable (not LpAffineExpression) objective\n"
     ]
    },
    {
     "name": "stderr",
     "output_type": "stream",
     "text": [
      "..."
     ]
    },
    {
     "name": "stdout",
     "output_type": "stream",
     "text": [
      "\t Testing Long lines in LP\n",
      "\t Testing LpAffineExpression divide\n",
      "\t Testing MIP solution\n"
     ]
    },
    {
     "name": "stderr",
     "output_type": "stream",
     "text": [
      "..."
     ]
    },
    {
     "name": "stdout",
     "output_type": "stream",
     "text": [
      "\t Testing MIP solution with floats in objective\n",
      "\t Testing Initial value in MIP solution\n",
      "\t Testing fixing value in MIP solution\n"
     ]
    },
    {
     "name": "stderr",
     "output_type": "stream",
     "text": [
      ".."
     ]
    },
    {
     "name": "stdout",
     "output_type": "stream",
     "text": [
      "\t Testing MIP relaxation\n",
      "\t Testing feasibility problem (no objective)\n",
      "\t Testing an infeasible problem\n"
     ]
    },
    {
     "name": "stderr",
     "output_type": "stream",
     "text": [
      "...."
     ]
    },
    {
     "name": "stdout",
     "output_type": "stream",
     "text": [
      "\t Testing an integer infeasible problem\n",
      "\t Testing another integer infeasible problem\n",
      "\t Testing column based modelling\n"
     ]
    },
    {
     "name": "stderr",
     "output_type": "stream",
     "text": [
      "....."
     ]
    },
    {
     "name": "stdout",
     "output_type": "stream",
     "text": [
      "\t Testing dual variables and slacks reporting\n",
      "\t Testing fractional constraints\n"
     ]
    },
    {
     "name": "stderr",
     "output_type": "stream",
     "text": [
      ".."
     ]
    },
    {
     "name": "stdout",
     "output_type": "stream",
     "text": [
      "\t Testing elastic constraints (no change)\n",
      "\t Testing elastic constraints (freebound)\n",
      "\t Testing elastic constraints (penalty unchanged)\n"
     ]
    },
    {
     "name": "stderr",
     "output_type": "stream",
     "text": [
      "....."
     ]
    },
    {
     "name": "stdout",
     "output_type": "stream",
     "text": [
      "\t Testing elastic constraints (penalty unbounded)\n",
      "\t Testing timeLimit argument\n"
     ]
    },
    {
     "name": "stderr",
     "output_type": "stream",
     "text": [
      "sssssssssssssssssssssssssssssssssssssssssssssssssssssssssssssssssssssssssssssssssssssssssssssssssssssssssssssssssssssssssssssssssssssssssssssssssssssssssssssssssssssssssssssssssssssssssssssssssssssssssssssssssssssssssssssssssssssssssssssssssssssssssssssssssssssssssssssssssssssssssssssssssssssss\n",
      "----------------------------------------------------------------------\n",
      "Ran 1003 tests in 20.520s\n",
      "\n",
      "OK (skipped=885)\n"
     ]
    }
   ],
   "source": [
    "import pulp\n",
    "pulp.pulpTestAll()"
   ]
  },
  {
   "cell_type": "markdown",
   "metadata": {
    "id": "T_UvbcS_gyqa"
   },
   "source": [
    "### Importing Libraries."
   ]
  },
  {
   "cell_type": "code",
   "execution_count": 4,
   "metadata": {
    "id": "Y0QsQ0VGgsyU"
   },
   "outputs": [],
   "source": [
    "import numpy as np\n",
    "from collections import Counter\n",
    "import math\n",
    "from pulp import *"
   ]
  },
  {
   "cell_type": "markdown",
   "metadata": {
    "id": "8eO_dSzqgXaU"
   },
   "source": [
    "### Introducing problem Parameters."
   ]
  },
  {
   "cell_type": "code",
   "execution_count": 12,
   "metadata": {
    "id": "CjP63KtPgH1N"
   },
   "outputs": [],
   "source": [
    "Q_max = 250                                                    # maximal capacity stored on battery\n",
    "Q_0 = 0.2*Q_max                                                # inital capacity stored on battery\n",
    "P_A_max = 800                                                  # max output from gen set A\n",
    "dt = 1                                                         # time step in simulation dt=1min\n",
    "t_max = 60                                                     # time span for simulation = t_max hours\n",
    "t = np.atleast_2d(np.arange(0,t_max,dt)).T.conj()\n",
    "n = len(t)                                                     # number of time steps\n",
    "m = 1                                                          # number of Gensets used on the ship \n",
    "a_j = 1.5                                                      # slope for the linear model of genset j consumption \n",
    "fc_j_offset = 500                                              # genset j fuel consumption when no power gnerated (p=0) in g/h \n",
    "y_k_j = 1                                                      # genset j pointer at time step k (if genset j is used then = 1 otherwise = 0)\n",
    "y_k_j_1 = 0                                                    # genset j pointer at time step k-1 (if genset j is used then = 1 otherwise = 0)\n",
    "K_j_start = dict.fromkeys([x for x in range(60)],0)\n",
    "K_j_start[0]=30                                                # additional fuel consumption when starting genset j (kg)\n",
    "\n",
    "\n",
    "# Bringing the Load_window packages onto the path\n",
    "import sys, os\n",
    "sys.path.append(os.path.abspath(os.path.join(r'wpath',r'ppath')))\n",
    "\n",
    "# Now we import modules of Load_window_function\n",
    "from Load_window import Load_window \n",
    "\n",
    "\n",
    "L = Load_window (200,200,10,400,400,10,600,600,10,600,200,30,0,10,20,30)                            # Pre-defined power requirements at each t-value, length(L)=length(t)\n",
    "\n",
    "\n",
    "# Now we import modules of Dictionaries_add\n",
    "from Dictionaries_add import merge_dictionaries_1_2 \n",
    "\n",
    "\n"
   ]
  },
  {
   "cell_type": "markdown",
   "metadata": {
    "id": "4IKe4UG9OXGR"
   },
   "source": [
    "### Creating the problem variable. "
   ]
  },
  {
   "cell_type": "code",
   "execution_count": null,
   "metadata": {
    "id": "IdXNRhkLOfr5"
   },
   "outputs": [],
   "source": [
    "Optim = LpProblem('Energy_Opt',LpMinimize)"
   ]
  },
  {
   "cell_type": "markdown",
   "metadata": {
    "id": "MToHP-f6mBi5"
   },
   "source": [
    "### Setting-up decision variables."
   ]
  },
  {
   "cell_type": "code",
   "execution_count": null,
   "metadata": {
    "id": "JTeLHDUxmHnF"
   },
   "outputs": [],
   "source": [
    "V_steps = [x for x in range (60)]\n",
    "\n",
    "Q_bat = LpVariable.dicts(\"Q_bat\", V_steps, lowBound=0.2*Q_max, upBound=Q_max, cat = LpContinuous)  # Battery charge at time step k.\n",
    "P_bat = LpVariable.dicts(\"P_bat\", V_steps, lowBound=0.2*P_A_max, upBound=0.9*P_A_max, cat = LpContinuous) # Power generated by the battery.\n",
    "P_A = LpVariable.dicts(\"P_A\", V_steps, lowBound=0.2*P_A_max, upBound=0.9*P_A_max, cat = LpInteger)  # Power generated by the Genset j.\n",
    "P_A_load = LpVariable.dicts(\"P_A_load\", V_steps, lowBound=0.2*P_A_max, upBound=0.9*P_A_max, cat = LpInteger) # Power required by the load at time step k.\n",
    "Z_k_j =  LpVariable.dicts(\"Z_k_j\", V_steps, lowBound=0, upBound=1, cat = LpBinary) # Aditional cost fuel oil consumption when starting Genset j.\n",
    "SFOC_A = LpVariable.dicts(\"SFOC_A\", V_steps, lowBound=0, upBound=None, cat = LpInteger) # Specific fuel oil consumption.\n",
    "P_A_bat =  LpVariable.dicts(\"P_A_bat\", V_steps, lowBound=0.2*P_A_max, upBound=0.9*P_A_max, cat = LpContinuous) \n",
    "Y_to_bat = LpVariable.dicts(\"Y_to_bat\", V_steps, lowBound=0, upBound=1, cat = LpBinary) # Genset selecter to charge the battery at time step k. \n",
    "Y_from_bat = LpVariable.dicts(\"Y_to_bat\", V_steps, lowBound=0, upBound=1, cat = LpBinary) # Battery selecter to transfert to the Genset j st time step k."
   ]
  },
  {
   "cell_type": "markdown",
   "metadata": {
    "id": "NFbKzKX-XP-7"
   },
   "source": [
    "### Setting-up the objective function."
   ]
  },
  {
   "cell_type": "code",
   "execution_count": null,
   "metadata": {
    "colab": {
     "base_uri": "https://localhost:8080/"
    },
    "id": "_QipTr5hnVLr",
    "outputId": "ca4f6477-e020-4b0f-ef6e-c487493f6fdc"
   },
   "outputs": [
    {
     "name": "stderr",
     "output_type": "stream",
     "text": [
      "C:\\ProgramData\\Anaconda3\\lib\\site-packages\\pulp\\pulp.py:1704: UserWarning: Overwriting previously set objective.\n",
      "  warnings.warn(\"Overwriting previously set objective.\")\n"
     ]
    }
   ],
   "source": [
    "for k in V_steps:\n",
    "  for j in range(1,m+1):    \n",
    "    FC_k_j = {k: (P_A[k]*a_j + fc_j_offset * y_k_j)  for k in V_steps}   # linear model for fuel consumption of genset j at time step k\n",
    "    FC = (sum(FC_k_j[k] * dt/1000 * k for k in V_steps ) ) # sum of the fuel oil comsumption for all gensets over all k steps.\n",
    "    L_added_cost = sum(Z_k_j[j] * j for j in range(1,m+1)) * sum( K_j_start[k] * k for k in V_steps ) # sum of all of the additional costs including starting costs. \n",
    "    Optim += lpSum( FC + L_added_cost ), \"objective function minimization fuel oil consumption\" \n"
   ]
  },
  {
   "cell_type": "markdown",
   "metadata": {
    "id": "ga275eNBF_ZV"
   },
   "source": [
    "### Setting-up problem Constraints."
   ]
  },
  {
   "cell_type": "code",
   "execution_count": null,
   "metadata": {
    "id": "Ndw9zmAJGDP-"
   },
   "outputs": [],
   "source": [
    "\n",
    "for k in V_steps: \n",
    "\n",
    "  Optim +=  lpSum (merge_dictionaries (P_A_load, P_bat)) == L  # Meet Power Requirement at each time step k\n",
    "  Optim +=  P_A_load[k] + P_A_bat[k] == P_A[k] #Power Split\n",
    "\n",
    "  P_A_A = {k: (P_A[k]*(-67/P_A_max) + 260) for k in P_A} \n",
    "  Optim += SFOC_A [k] == P_A_A[k]  # Specific Fuel oil consumption\n",
    "\n",
    "\n",
    "  Q_k =  {k: (P_A_bat[k] - P_bat[k])*dt for k in V_steps} \n",
    "  Optim += Q_bat[0] == Q_0 #nitial Charge balance\n",
    "  Optim += Q_bat[k] + Q_k[k] == Q_bat[k] #Charge balance at time step k\" \n",
    "\n",
    "  # Genset logical constraints. \n",
    "  Optim += P_A[k]  <= (0.9 * P_A_max * y_k_j) # upper bound logical constraint\n",
    "  Optim += P_A[k]  >=  (0.2 * P_A_max * y_k_j) # lower bound logical constraint\n",
    "\n",
    "\n",
    "  for j in range(1, m): \n",
    "    Optim += lpSum( (Y_to_bat[j] + Y_from_bat[j])  <= 1), #make sure charge and transfer of battery are not runing at the same time\"\n",
    "\n"
   ]
  },
  {
   "cell_type": "markdown",
   "metadata": {
    "id": "Nskl-jsXpeTA"
   },
   "source": [
    "### Solving the problem."
   ]
  },
  {
   "cell_type": "code",
   "execution_count": null,
   "metadata": {
    "id": "HemnG5SIpiBW"
   },
   "outputs": [],
   "source": [
    "status = Optim.solve()"
   ]
  },
  {
   "cell_type": "markdown",
   "metadata": {
    "id": "oqwSjeLJqY3n"
   },
   "source": [
    "### Optimization result."
   ]
  },
  {
   "cell_type": "code",
   "execution_count": null,
   "metadata": {
    "colab": {
     "base_uri": "https://localhost:8080/",
     "height": 35
    },
    "id": "KVHSlqFNqNmY",
    "outputId": "645a30d0-01fc-4dae-eb68-83cfe6e9a5b5"
   },
   "outputs": [
    {
     "data": {
      "text/plain": [
       "'Optimal'"
      ]
     },
     "execution_count": 11,
     "metadata": {},
     "output_type": "execute_result"
    }
   ],
   "source": [
    "LpStatus[status]"
   ]
  },
  {
   "cell_type": "markdown",
   "metadata": {
    "id": "hpO-x0-JnNH6"
   },
   "source": [
    "### Printing constraints per each time step."
   ]
  },
  {
   "cell_type": "code",
   "execution_count": null,
   "metadata": {
    "colab": {
     "base_uri": "https://localhost:8080/"
    },
    "id": "9EFNhBfd-rW3",
    "outputId": "7c7f0e5f-2336-4964-9210-cc9e294956e7"
   },
   "outputs": [],
   "source": [
    "print(Optim.variables)"
   ]
  },
  {
   "cell_type": "code",
   "execution_count": null,
   "metadata": {
    "colab": {
     "base_uri": "https://localhost:8080/"
    },
    "id": "ZNAxqBmBnH2B",
    "outputId": "d45cae3b-15f7-4735-fc3a-c5e00dfd325a"
   },
   "outputs": [],
   "source": [
    "for v in Optim.variables():\n",
    "    print(v.name, \"=\", v.varValue)"
   ]
  },
  {
   "cell_type": "markdown",
   "metadata": {
    "id": "Rjev_Xmdo8lI"
   },
   "source": [
    "### Calculating the optimized fuel comsumption."
   ]
  },
  {
   "cell_type": "code",
   "execution_count": null,
   "metadata": {
    "colab": {
     "base_uri": "https://localhost:8080/"
    },
    "id": "yGmTzG-KpGKl",
    "outputId": "f1cf962c-39ee-4476-c765-bd7edef91e24"
   },
   "outputs": [
    {
     "name": "stdout",
     "output_type": "stream",
     "text": [
      "Total fuel comsumption of the trip: 2117.1671642100005 Kg\n"
     ]
    }
   ],
   "source": [
    "print(\"Total fuel comsumption of the trip:\", value(Optim.objective),'Kg')"
   ]
  }
 ],
 "metadata": {
  "colab": {
   "provenance": []
  },
  "kernelspec": {
   "display_name": "HYH_model",
   "language": "python",
   "name": "python3"
  },
  "language_info": {
   "codemirror_mode": {
    "name": "ipython",
    "version": 3
   },
   "file_extension": ".py",
   "mimetype": "text/x-python",
   "name": "python",
   "nbconvert_exporter": "python",
   "pygments_lexer": "ipython3",
   "version": "3.9.15"
  },
  "vscode": {
   "interpreter": {
    "hash": "da16d1862b7c9695029237f92ea116777fedeaee6977ed2127bb41b5f4309858"
   }
  }
 },
 "nbformat": 4,
 "nbformat_minor": 1
}
