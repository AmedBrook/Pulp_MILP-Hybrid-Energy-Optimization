{
 "cells": [
  {
   "attachments": {},
   "cell_type": "markdown",
   "metadata": {
    "id": "sjW945RUgTbF"
   },
   "source": [
    "### HEO Model : 1 Battery-1 Genset.\n",
    "=========================================================================================================\n",
    "$ \n",
    "\\\\\n",
    "$\n",
    "\n",
    "$ \n",
    "\\\\\n",
    "$"
   ]
  },
  {
   "cell_type": "markdown",
   "metadata": {},
   "source": [
    "### Optimization parameters."
   ]
  },
  {
   "cell_type": "markdown",
   "metadata": {},
   "source": [
    "\n",
    "$ Q_{\\mathrm{max}} \\hspace{1cm}$ : Maximal energy charge stored in battery (kWh)\n",
    "\n",
    "\n",
    "\n",
    "$ Q_{\\mathrm{init}} \\hspace{1.1cm}$ : Initial energy charge stored on battery (kWh)\n",
    "\n",
    "\n",
    "\n",
    "$ Q_{\\mathrm{final}} \\hspace{0.9cm}$ :  Final charge stored on battery (kWh)\n",
    "\n",
    "\n",
    "\n",
    "$ P_{\\mathrm{max}\\;} \\hspace{1cm}$ : Maximal power available from genset (kW)\n",
    "\n",
    "\n",
    "\n",
    "${FC}_{max} \\hspace{0.7cm}$ : Maximal fuel consumption (g/h)\n",
    "\n",
    "\n",
    "\n",
    "$ {FC}_{offset} \\hspace{0.4cm}$ : Offset for fuel consumption model at P=0)\n",
    "\n",
    "\n",
    "\n",
    "$ a \\hspace{1.7cm}$ : Slope in fuel consumption model\n",
    "\n",
    "\n",
    "\n",
    "$ b \\hspace{1.7cm}$ : Intercept in fuel consumption model (=)\n",
    "\n",
    "\n",
    "\n",
    "$ K_{\\mathrm{start}} \\hspace{1cm}$ : Additional fuel consumption when starting genset (kg)\n",
    "\n",
    "\n",
    "\n",
    "$ \\Delta t \\hspace{1.5cm}$ : Time step in discretization (h)\n",
    "\n",
    "\n",
    "\n",
    "\n",
    "$ t_{\\mathrm{max}\\;} \\hspace{1.1cm}$ : Max time in simulation (h)\n",
    "\n",
    "\n",
    "\n",
    "$ n \\hspace{1.7cm}$ :  Number of time steps in simulation\n",
    "\n",
    "\n",
    "\n",
    "$ t_{\\mathrm{max}\\;} \\hspace{1.1cm}$ : Max time in simulation (h)\n",
    "\n",
    "\n",
    "\n",
    "$ t \\hspace{1.8cm}$ :  Time vector in simulation (dim(t)=n)\n",
    "\n",
    "\n",
    "\n",
    "$ \\eta^{\\mathrm{toBat}} \\; \\hspace{0.9cm}$ :  Efficiency when charging battery\n",
    "\n",
    "\n",
    "\n",
    "$ \\eta^{\\mathrm{fromBat}} \\; \\hspace{0.5cm}$ :   Efficiency when battery is used for load\n",
    "\n",
    "\n",
    "\n",
    "$ L \\hspace{1.6cm}$ : Vector of pre-defined load profile (must be of same length as time vector, dim(L)=dim(t)=n) (kW)\n",
    "\n",
    "$\\newline$ \n"
   ]
  },
  {
   "cell_type": "markdown",
   "metadata": {},
   "source": [
    "### Optimization model."
   ]
  },
  {
   "attachments": {},
   "cell_type": "markdown",
   "metadata": {},
   "source": [
    "$\\mathrm{minimize}\\;\\;\\;\\;\\;\\sum_{k=1}^n {FC}_{k\\;} \\cdot \\frac{\\Delta t}{1000}+K_{\\mathrm{start}} \\sum_{k=2}^n z_k$  \n",
    "\n",
    "$\\newline$ \n",
    "\n",
    "Fuel consumption model 1 (linear):     $\\hspace{1cm} {FC}_{k\\;} ={aP}_{k\\;} +b-{FC}_{offset} \\cdot \\left(1-y_k \\right)\\hspace{3cm}$      $k=1,\\dots ,n$\n",
    "\n",
    "Load requirements:     $\\hspace{3.5cm}L_k =P_k^{\\mathrm{load}} +\\eta {\\;}^{\\mathrm{fromBat}} {\\cdot \\;P}_k^{\\mathrm{fromBat}}\\hspace{4.2cm}$      $k=1,\\dots ,n$  \n",
    "\n",
    "\n",
    "Power split:   $\\hspace{4.8cm}P_{k\\;} =P_k^{\\mathrm{load}} {+\\;P}_k^{\\mathrm{toBat}}\\hspace{6.3cm}$   $k=1,\\dots ,n$\n",
    "\n",
    "Charge balance (initial):   $\\hspace{2.8cm}Q_0 =Q_{\\mathrm{init}}\\hspace{6.3cm}$  \n",
    "\n",
    "Charge balance:  $\\hspace{4cm}Q_k =Q_{k-1} +\\eta^{\\mathrm{toBat}} \\cdot \\;P_k^{\\mathrm{toBat}} \\Delta t-\\;P_k^{\\mathrm{fromBat}} \\Delta t\\hspace{1.8cm}$     $k=1,\\dots ,n$ \n",
    "\n",
    "\n",
    "Charge balance (final):     $\\hspace{3cm}Q_n =Q_{\\mathrm{final}}\\hspace{3cm}$   \n",
    "\n",
    "\n",
    "Logical conditions on genset: $\\hspace{2cm}P_{k\\;} \\le {0\\ldotp 9P}_{\\mathrm{max}\\;} {\\cdot y}_k\\hspace{6.7cm}$    $k=1,\\dots ,n$ \n",
    "\n",
    "\n",
    "(0 or in 0.2P_max - 0.9Pmax):  $\\hspace{1.8cm}P_{k\\;} \\le {0\\ldotp 2P}_{\\mathrm{max}\\;} {\\cdot y}_k\\hspace{6.8cm}$    $k=1,\\dots ,n$\n",
    "\n",
    "\n",
    "\n",
    "\n",
    "Logical conditions on battery:   $\\hspace{1.9cm}y_k^{\\mathrm{toBat}} +y_{k\\;}^{\\mathrm{fromBat}} \\le 1\\hspace{6.4cm}$     $k=1,\\dots ,n$  $ \\\\$     \n",
    "$\\hspace{6.9cm}P_k^{\\mathrm{toBat}} \\le 0\\ldotp 9P_{\\mathrm{max}} {\\cdot y}_k^{\\mathrm{toBat}}\\hspace{5.7cm}$ $k=1,\\dots ,n$ \n",
    "\n",
    "\n",
    "$\\hspace{6.9cm}P_k^{\\mathrm{fromBat}} \\le 0\\ldotp 9P_{\\mathrm{max}} {\\cdot \\;y}_k^{\\mathrm{fromBat}}\\hspace{4.8cm}$  $k=1,\\dots ,n$ \n",
    "\n",
    "$\\newline$ \n",
    "\n",
    "\n",
    "Constraints for linearization of objective:  $\\hspace{0.5cm}z_k \\ge y_k -y_{k-1}\\hspace{7.0cm}$ $k=2,\\ldotp \\ldotp \\ldotp ,n$\n",
    "\n",
    "$\\newline$ \n",
    "\n",
    "Variable bounds:  $\\hspace{4.1cm}0\\ldotp 2Q_{\\mathrm{max}} \\le Q_k \\le Q_{\\mathrm{max}}\\hspace{5.8cm}$ $k=0,\\ldotp \\ldotp \\ldotp ,n$  $ \\\\$  \n",
    "$\\hspace{7cm}0\\le P_k \\le 0\\ldotp 9P_{\\mathrm{max}}\\hspace{6.5cm}$  $k=1,\\ldotp \\ldotp \\ldotp ,n$    \n",
    " \n",
    "$\\hspace{7cm}0\\le P_k^{\\mathrm{toBat}} ,P_k^{\\mathrm{fromBat}} \\le {0\\ldotp 9P}_{\\mathrm{max}}\\hspace{4.3cm}$ $k=1,\\ldotp \\ldotp \\ldotp ,n$ \n",
    "\n",
    "\n",
    "$\\hspace{7cm}0\\le z_k \\le 1\\hspace{7.8cm}$  $k=2,\\ldotp \\ldotp \\ldotp ,n$\n",
    "\n",
    "\n",
    "$ \\\\$ Variable types:     $\\hspace{1cm}Q_{k\\}\\,P_k^{\\mathrm{toBat}} ,P_k^{\\mathrm{fromBat}}} ,z_k$ :Continuous $\\hspace{1cm}P_{k\\}}$  :Semi-continuous  $\\hspace{1.5cm}y_k ,y_k^{\\mathrm{toBat}} ,y_k^{\\mathrm{fromBat}}$ :Binary\n",
    "\n",
    "$\\newline$ \n",
    "\n",
    " $ \\\\$ $P_k \\hspace{2.1cm} $:  Power from genset during time step k\n",
    " \n",
    " $ \\\\$ $P_k^{\\mathrm{toBat}}\\hspace{1.5cm}$: Power to charge battery during time step k\n",
    " \n",
    " $ \\\\$ $P_k^{\\mathrm{fromBat}}\\hspace{1.2cm}$: Power delivered from battery during time step k\n",
    " \n",
    " $ \\\\$ $Q_k\\hspace{2.1cm}$: Energy charge on battery at the end of time step k\n",
    " \n",
    " $ \\\\$ $y_k\\hspace{2.1cm}$: Variable equal to 1 if genset is used in time step k, variable equal to 0 if genset not used in time step k\n",
    "\n",
    "$ \\\\$ $y_k^{\\mathrm{toBat}}\\hspace{1.6cm}$: Variable equal to 1 if battery is charged under time step k\n",
    "\n",
    "$ \\\\$ $y_k^{\\mathrm{fromBat}}\\hspace{1.1cm}$: Variable equal to 1 if battery if used for load in time step k\n",
    "\n",
    "$ \\\\$ $z_k\\hspace{1.9cm}$: Variable used to linearize additional cost when starting genset (  )\n",
    "\n",
    "\n",
    "\n",
    "$\\newline $\n",
    "$\\newline $\n",
    "\n",
    "\n"
   ]
  },
  {
   "attachments": {},
   "cell_type": "markdown",
   "metadata": {
    "id": "T_UvbcS_gyqa"
   },
   "source": [
    "$\\newline $\n",
    "### Importing modules."
   ]
  },
  {
   "cell_type": "code",
   "execution_count": 1,
   "metadata": {
    "id": "Y0QsQ0VGgsyU"
   },
   "outputs": [],
   "source": [
    "import sys\n",
    "import numpy as np\n",
    "import matplotlib.pyplot as plt\n",
    "from pulp import *\n",
    "from gurobipy import *\n",
    "from src.functions.fuel_consumption import fuelCon"
   ]
  },
  {
   "cell_type": "markdown",
   "metadata": {
    "id": "7gHwiI9iTS9a"
   },
   "source": [
    "### Python environment."
   ]
  },
  {
   "cell_type": "code",
   "execution_count": 2,
   "metadata": {
    "colab": {
     "base_uri": "https://localhost:8080/"
    },
    "id": "c92qP1IyoF2V",
    "outputId": "84ce7f61-fdda-4b2f-d5b4-70a101b3f9c2",
    "scrolled": true
   },
   "outputs": [
    {
     "name": "stdout",
     "output_type": "stream",
     "text": [
      "Python version\n",
      "3.10.9 | packaged by conda-forge | (main, Jan 11 2023, 15:15:40) [MSC v.1916 64 bit (AMD64)]\n",
      "Version info.\n",
      "sys.version_info(major=3, minor=10, micro=9, releaselevel='final', serial=0)\n"
     ]
    }
   ],
   "source": [
    "\n",
    "print(\"Python version\")\n",
    "print (sys.version)\n",
    "print(\"Version info.\")\n",
    "print (sys.version_info)"
   ]
  },
  {
   "cell_type": "markdown",
   "metadata": {
    "id": "8eO_dSzqgXaU"
   },
   "source": [
    "$\\newline $\n",
    "### Introducing problem Parameters."
   ]
  },
  {
   "cell_type": "code",
   "execution_count": 4,
   "metadata": {
    "id": "CjP63KtPgH1N"
   },
   "outputs": [],
   "source": [
    "Q_max = 250                                                   # Maximal capacity stored on battery.\n",
    "Q_0 = 0.5*Q_max                                               # Inital capacity stored on battery.\n",
    "Q_final = 0.5*Q_max                                           # Final capacity stored on the battery. \n",
    "eff_to_bat = 1                                                # Battery charging efficiency.\n",
    "eff_from_bat = 1                                              # Battery transfer efficiency. \n",
    "P_A_max = 1000                                                # Max output from gen set A.\n",
    "dt = 2/3                                                      # Simulation time step dt.\n",
    "t_max = 5                                                     # Time span for simulation = t_max hours.\n",
    "t = np.atleast_2d(np.arange(2,t_max,dt)).T.conj()             # Time scale in hours.\n",
    "n = len(t)                                                    # Number of time steps.\n",
    "m = 1                                                         # Number of Gensets used on the trip.\n",
    "fc_j_offset = 12060                                           # Genset j fuel consumption when no power gnerated (p=0) in g/h.\n",
    "K_j_start = 0.0                                               # Addicitional starting cost.\n",
    "V_steps = [x for x in range (2,n)]                            # Time steps vector. \n",
    "V_steps_z = V_steps[:-1]                                      # Time steps vector without the final step. \n",
    "\n",
    "\n",
    "# Benchmarking Analysis: 6 different load Scenarios (for testing).\n",
    "\n",
    "#L = {2:216, 3:350, 4:400} # Load Req Scenario 1 : l, MH, MH.\n",
    "L = {2: 218, 3:70, 4:500} # Load Req Scenario 2 : L, LL, H.\n",
    "#L = {2:520, 3: 236, 4: 650} # Load Req Scenario 3 : H, L, H.\n",
    "#L = {2:70, 3:120, 4:40} # Load Req Scenario 4 : LL, LL, LL.\n",
    "#L = {2:50, 3:23, 4:218} # Load Req Scenario 1 : LL, LL, L.\n",
    "#L = {2:350, 3:100, 4:218} # Load Req Scenario 1* : L, LL, L."
   ]
  },
  {
   "cell_type": "markdown",
   "metadata": {
    "id": "4IKe4UG9OXGR"
   },
   "source": [
    "$\\newline $\n",
    "### Creating the problem variable. "
   ]
  },
  {
   "cell_type": "code",
   "execution_count": 5,
   "metadata": {
    "id": "IdXNRhkLOfr5"
   },
   "outputs": [],
   "source": [
    "Optim = LpProblem('Energy_Opt',LpMinimize)"
   ]
  },
  {
   "cell_type": "markdown",
   "metadata": {
    "id": "GpJCAZ8lpAHa"
   },
   "source": [
    "$\\newline $\n",
    "### Slope, intercept and maximum fuel bound calculation."
   ]
  },
  {
   "cell_type": "code",
   "execution_count": 6,
   "metadata": {
    "id": "0Np7hciiqr0D"
   },
   "outputs": [
    {
     "name": "stdout",
     "output_type": "stream",
     "text": [
      "FC Linear model caracteristics\n",
      "-----------------------------\n",
      "Slope = 186.3\n",
      "Intercept = 12059.999999999993\n"
     ]
    }
   ],
   "source": [
    "\n",
    "a_j = (fuelCon(0.9*P_A_max, P_A_max) - fuelCon(0.2*P_A_max, P_A_max)) /(0.7*P_A_max) #slope.\n",
    "b_j = fuelCon(0.2*P_A_max, P_A_max) - a_j*0.2*P_A_max #Intercept.\n",
    "maxFC = fuelCon(0.9*P_A_max,P_A_max) # Max fuel bound.\n",
    "print('FC Linear model caracteristics')\n",
    "print('-----------------------------')\n",
    "print('Slope =', a_j)\n",
    "print('Intercept =', b_j)"
   ]
  },
  {
   "cell_type": "markdown",
   "metadata": {
    "id": "MToHP-f6mBi5"
   },
   "source": [
    "$\\newline $\n",
    "### Setting-up decision Variables."
   ]
  },
  {
   "cell_type": "code",
   "execution_count": 7,
   "metadata": {
    "id": "JTeLHDUxmHnF"
   },
   "outputs": [],
   "source": [
    "Q_bat = LpVariable.dicts(\"Q_bat\", V_steps, lowBound=0.2*Q_max, upBound=Q_max, cat = LpContinuous)  # Battery charge at time step k.\n",
    "P_From_bat = LpVariable.dicts(\"P_From_bat\", V_steps, lowBound=0, upBound=0.9*P_A_max, cat = LpContinuous) # Power transfered from the battery to the load.\n",
    "P_A = LpVariable.dicts(\"P_A\", V_steps, lowBound=0, upBound=0.9*P_A_max, cat = LpContinuous)  # Power generated by the Genset A.\n",
    "P_A_load = LpVariable.dicts(\"P_A_load\", V_steps, lowBound=0, upBound=0.9*P_A_max, cat= LpContinuous) # Power transfered from the Genset A to the load at time step k.\n",
    "Z =  LpVariable.dicts(\"Z\", V_steps_z, lowBound=0, upBound=1, cat = LpInteger) # Aditional cost fuel oil consumption when starting Genset j.\n",
    "FC_A = LpVariable.dicts(\"FC_A\", V_steps, lowBound=0, upBound= maxFC, cat = LpContinuous) # Specific fuel oil consumption.\n",
    "P_A_to_bat =  LpVariable.dicts(\"P_A_to_bat\", V_steps, lowBound=0, upBound=0.9*P_A_max, cat = LpContinuous) \n",
    "Y_to_bat = LpVariable.dicts(\"Y_to_bat\", V_steps, lowBound=0, upBound=1, cat = LpInteger) # Genset selecter to charge the battery at time step k. \n",
    "Y_from_bat = LpVariable.dicts(\"Y_from_bat\", V_steps, lowBound=0, upBound=1, cat = LpInteger) # Battery selecter to transfert to the Genset j st time step k.\n",
    "Y = LpVariable.dicts(\"Y\", V_steps, lowBound=0, upBound=1, cat = LpInteger) # Genset selecter : work ==> Y=1, Not work ==> Y=0."
   ]
  },
  {
   "cell_type": "markdown",
   "metadata": {
    "id": "PYdrJv4ECwV-"
   },
   "source": [
    "$\\newline $\n",
    "### Setting-up the objective function."
   ]
  },
  {
   "cell_type": "code",
   "execution_count": 8,
   "metadata": {
    "id": "_QipTr5hnVLr"
   },
   "outputs": [
    {
     "name": "stdout",
     "output_type": "stream",
     "text": [
      "0.0006666666666666666*FC_A_2 + 0.0006666666666666666*FC_A_3 + 0.0006666666666666666*FC_A_4\n"
     ]
    }
   ],
   "source": [
    "FC = sum(FC_A[k] for k in V_steps) * dt/1000  # sum of the fuel oil comsumption for all gensets over all k steps.\n",
    "L_added_cost = sum(Z[i] for i in V_steps_z) * K_j_start  # Sum of all of the additional costs including starting costs. \n",
    "Optim += lpSum (FC + L_added_cost), \"objective function minimization fuel oil consumption\" \n",
    "print(FC)"
   ]
  },
  {
   "cell_type": "markdown",
   "metadata": {
    "id": "ga275eNBF_ZV"
   },
   "source": [
    "$\\newline $\n",
    "$\\newline $\n",
    "### Setting-up problem constraints."
   ]
  },
  {
   "cell_type": "code",
   "execution_count": 10,
   "metadata": {
    "id": "Ndw9zmAJGDP-"
   },
   "outputs": [],
   "source": [
    "\n",
    "for k in V_steps:\n",
    "\n",
    "  # Fuel oil consumption constraint.\n",
    "  Optim += FC_A[k] == P_A[k]*a_j + b_j - fc_j_offset*(1-Y[k]) \n",
    "\n",
    "  # Load requirements constraints\n",
    "  Optim += P_A_load[k] + eff_from_bat*P_From_bat[k] == L[k]  \n",
    "  Optim += P_A_load[k] + P_A_to_bat[k] == P_A[k] \n",
    "\n",
    "\n",
    "  # Genset logical constraints.\n",
    "  Optim += P_A[k]  <= 0.9 * P_A_max * Y[k]\n",
    "  Optim += P_A[k]  >= 0.2 * P_A_max * Y[k]\n",
    "\n",
    "  # Battery charging logical constraints.\n",
    "  Optim += P_A_to_bat[k] <= 0.9 * P_A_max * Y_to_bat[k]\n",
    "  Optim += P_From_bat[k] <= 0.9 * P_A_max * Y_from_bat[k]\n",
    "  Optim += Y_to_bat[k] + Y_from_bat[k]  <= 1\n",
    "  \n",
    "\n",
    "  # Charge balance logical constraints.\n",
    "  if k == V_steps[0] : \n",
    "    Optim += Q_bat[k] == Q_0 + eff_to_bat*P_A_to_bat[k]*dt - P_From_bat[k]*dt\n",
    "\n",
    "\n",
    "  else :   \n",
    "    Optim += Q_bat[k] == Q_bat[k-1] + eff_to_bat*P_A_to_bat[k]*dt - P_From_bat[k]*dt\n",
    "\n",
    "    \n",
    "# Additional starting costs constraint.\n",
    "for k in range(V_steps[0], V_steps[-1]): \n",
    "  Optim += Z[k] >= Y[k + 1] - Y[k] \n",
    "  \n",
    "# Charge balance at the Final time step.\n",
    "Optim += Q_bat[V_steps[-1]] == Q_final"
   ]
  },
  {
   "cell_type": "markdown",
   "metadata": {
    "id": "Nskl-jsXpeTA"
   },
   "source": [
    "$\\newline $\n",
    "$\\newline $\n",
    "### Solving the problem."
   ]
  },
  {
   "cell_type": "code",
   "execution_count": 12,
   "metadata": {
    "colab": {
     "base_uri": "https://localhost:8080/"
    },
    "id": "HemnG5SIpiBW",
    "outputId": "52d1e100-5725-4575-b57c-b72cfeee9c4c"
   },
   "outputs": [
    {
     "name": "stdout",
     "output_type": "stream",
     "text": [
      "Gurobi Optimizer version 10.0.0 build v10.0.0rc2 (win64)\n",
      "\n",
      "CPU model: Intel(R) Core(TM) i3-4000M CPU @ 2.40GHz, instruction set [SSE2|AVX|AVX2]\n",
      "Thread count: 2 physical cores, 4 logical processors, using up to 4 threads\n",
      "\n",
      "Optimize a model with 60 rows, 29 columns and 144 nonzeros\n",
      "Model fingerprint: 0xb04bdb2e\n",
      "Variable types: 18 continuous, 11 integer (0 binary)\n",
      "Coefficient statistics:\n",
      "  Matrix range     [7e-01, 1e+04]\n",
      "  Objective range  [7e-04, 7e-04]\n",
      "  Bounds range     [1e+00, 2e+05]\n",
      "  RHS range        [7e-12, 5e+02]\n",
      "Found heuristic solution: objective 113.9496000\n",
      "Presolve removed 55 rows and 23 columns\n",
      "Presolve time: 0.00s\n",
      "Presolved: 5 rows, 6 columns, 12 nonzeros\n",
      "Variable types: 4 continuous, 2 integer (2 binary)\n",
      "\n",
      "Explored 0 nodes (0 simplex iterations) in 0.03 seconds (0.00 work units)\n",
      "Thread count was 4 (of 4 available processors)\n",
      "\n",
      "Solution count 1: 113.95 \n",
      "\n",
      "Optimal solution found (tolerance 1.00e-04)\n",
      "Best objective 1.139496000000e+02, best bound 1.139496000000e+02, gap 0.0000%\n",
      "Gurobi status= 2\n"
     ]
    }
   ],
   "source": [
    "status = Optim.solve(GUROBI())"
   ]
  },
  {
   "attachments": {},
   "cell_type": "markdown",
   "metadata": {
    "id": "oqwSjeLJqY3n"
   },
   "source": [
    "$\\newline $\n",
    "$\\newline $\n",
    "### Printing optimization status."
   ]
  },
  {
   "cell_type": "code",
   "execution_count": 13,
   "metadata": {
    "colab": {
     "base_uri": "https://localhost:8080/",
     "height": 35
    },
    "id": "KVHSlqFNqNmY",
    "outputId": "19a90101-d605-4c0d-999e-075c3df263a4"
   },
   "outputs": [
    {
     "data": {
      "text/plain": [
       "'Optimal'"
      ]
     },
     "execution_count": 13,
     "metadata": {},
     "output_type": "execute_result"
    }
   ],
   "source": [
    "LpStatus[status]"
   ]
  },
  {
   "cell_type": "markdown",
   "metadata": {
    "id": "hpO-x0-JnNH6"
   },
   "source": [
    "$\\newline $\n",
    "$\\newline $\n",
    "### Printing constraints per each time step."
   ]
  },
  {
   "cell_type": "code",
   "execution_count": 15,
   "metadata": {
    "colab": {
     "base_uri": "https://localhost:8080/"
    },
    "id": "9EFNhBfd-rW3",
    "outputId": "143a27d1-4ef5-4724-f2a0-1eb0d39c55b4"
   },
   "outputs": [
    {
     "name": "stdout",
     "output_type": "stream",
     "text": [
      "<bound method LpProblem.variables of Energy_Opt:\n",
      "MINIMIZE\n",
      "0.0006666666666666666*FC_A_2 + 0.0006666666666666666*FC_A_3 + 0.0006666666666666666*FC_A_4 + 0.0\n",
      "SUBJECT TO\n",
      "_C1: FC_A_2 - 186.3 P_A_2 - 12060 Y_2 = -7.27595761418e-12\n",
      "\n",
      "_C2: P_A_load_2 + P_From_bat_2 = 218\n",
      "\n",
      "_C3: - P_A_2 + P_A_load_2 + P_A_to_bat_2 = 0\n",
      "\n",
      "_C4: P_A_2 - 900 Y_2 <= 0\n",
      "\n",
      "_C5: P_A_2 - 200 Y_2 >= 0\n",
      "\n",
      "_C6: P_A_to_bat_2 - 900 Y_to_bat_2 <= 0\n",
      "\n",
      "_C7: P_From_bat_2 - 900 Y_from_bat_2 <= 0\n",
      "\n",
      "_C8: Y_from_bat_2 + Y_to_bat_2 <= 1\n",
      "\n",
      "_C9: - 0.666666666667 P_A_to_bat_2 + 0.666666666667 P_From_bat_2 + Q_bat_2\n",
      " = 125\n",
      "\n",
      "_C10: FC_A_3 - 186.3 P_A_3 - 12060 Y_3 = -7.27595761418e-12\n",
      "\n",
      "_C11: P_A_load_3 + P_From_bat_3 = 70\n",
      "\n",
      "_C12: - P_A_3 + P_A_load_3 + P_A_to_bat_3 = 0\n",
      "\n",
      "_C13: P_A_3 - 900 Y_3 <= 0\n",
      "\n",
      "_C14: P_A_3 - 200 Y_3 >= 0\n",
      "\n",
      "_C15: P_A_to_bat_3 - 900 Y_to_bat_3 <= 0\n",
      "\n",
      "_C16: P_From_bat_3 - 900 Y_from_bat_3 <= 0\n",
      "\n",
      "_C17: Y_from_bat_3 + Y_to_bat_3 <= 1\n",
      "\n",
      "_C18: - 0.666666666667 P_A_to_bat_3 + 0.666666666667 P_From_bat_3 - Q_bat_2\n",
      " + Q_bat_3 = 0\n",
      "\n",
      "_C19: FC_A_4 - 186.3 P_A_4 - 12060 Y_4 = -7.27595761418e-12\n",
      "\n",
      "_C20: P_A_load_4 + P_From_bat_4 = 500\n",
      "\n",
      "_C21: - P_A_4 + P_A_load_4 + P_A_to_bat_4 = 0\n",
      "\n",
      "_C22: P_A_4 - 900 Y_4 <= 0\n",
      "\n",
      "_C23: P_A_4 - 200 Y_4 >= 0\n",
      "\n",
      "_C24: P_A_to_bat_4 - 900 Y_to_bat_4 <= 0\n",
      "\n",
      "_C25: P_From_bat_4 - 900 Y_from_bat_4 <= 0\n",
      "\n",
      "_C26: Y_from_bat_4 + Y_to_bat_4 <= 1\n",
      "\n",
      "_C27: - 0.666666666667 P_A_to_bat_4 + 0.666666666667 P_From_bat_4 - Q_bat_3\n",
      " + Q_bat_4 = 0\n",
      "\n",
      "_C28: Y_2 - Y_3 + Z_2 >= 0\n",
      "\n",
      "_C29: Y_3 - Y_4 + Z_3 >= 0\n",
      "\n",
      "_C30: Q_bat_4 = 125\n",
      "\n",
      "VARIABLES\n",
      "FC_A_2 <= 179730 Continuous\n",
      "FC_A_3 <= 179730 Continuous\n",
      "FC_A_4 <= 179730 Continuous\n",
      "P_A_2 <= 900 Continuous\n",
      "P_A_3 <= 900 Continuous\n",
      "P_A_4 <= 900 Continuous\n",
      "P_A_load_2 <= 900 Continuous\n",
      "P_A_load_3 <= 900 Continuous\n",
      "P_A_load_4 <= 900 Continuous\n",
      "P_A_to_bat_2 <= 900 Continuous\n",
      "P_A_to_bat_3 <= 900 Continuous\n",
      "P_A_to_bat_4 <= 900 Continuous\n",
      "P_From_bat_2 <= 900 Continuous\n",
      "P_From_bat_3 <= 900 Continuous\n",
      "P_From_bat_4 <= 900 Continuous\n",
      "50 <= Q_bat_2 <= 250 Continuous\n",
      "50 <= Q_bat_3 <= 250 Continuous\n",
      "50 <= Q_bat_4 <= 250 Continuous\n",
      "0 <= Y_2 <= 1 Integer\n",
      "0 <= Y_3 <= 1 Integer\n",
      "0 <= Y_4 <= 1 Integer\n",
      "0 <= Y_from_bat_2 <= 1 Integer\n",
      "0 <= Y_from_bat_3 <= 1 Integer\n",
      "0 <= Y_from_bat_4 <= 1 Integer\n",
      "0 <= Y_to_bat_2 <= 1 Integer\n",
      "0 <= Y_to_bat_3 <= 1 Integer\n",
      "0 <= Y_to_bat_4 <= 1 Integer\n",
      "0 <= Z_2 <= 1 Integer\n",
      "0 <= Z_3 <= 1 Integer\n",
      ">\n"
     ]
    }
   ],
   "source": [
    "print(Optim.variables)"
   ]
  },
  {
   "cell_type": "code",
   "execution_count": 27,
   "metadata": {
    "colab": {
     "base_uri": "https://localhost:8080/"
    },
    "id": "ZNAxqBmBnH2B",
    "outputId": "61c9d3f2-b6ad-4416-f0b2-019eac6a175f"
   },
   "outputs": [
    {
     "name": "stdout",
     "output_type": "stream",
     "text": [
      "FC_A_2 = 65714.4\n",
      "FC_A_3 = 0.0\n",
      "FC_A_4 = 105210.0\n",
      "P_A_2 = 288.0\n",
      "P_A_3 = 0.0\n",
      "P_A_4 = 500.0\n",
      "P_A_load_2 = 218.0\n",
      "P_A_load_3 = 0.0\n",
      "P_A_load_4 = 500.0\n",
      "P_A_to_bat_2 = 69.99999999999999\n",
      "P_A_to_bat_3 = 0.0\n",
      "P_A_to_bat_4 = 0.0\n",
      "P_From_bat_2 = 0.0\n",
      "P_From_bat_3 = 70.0\n",
      "P_From_bat_4 = 0.0\n",
      "Q_bat_2 = 171.66666666666669\n",
      "Q_bat_3 = 125.0\n",
      "Q_bat_4 = 125.0\n",
      "Y_2 = 1.0\n",
      "Y_3 = -0.0\n",
      "Y_4 = 1.0\n",
      "Y_from_bat_2 = 0.0\n",
      "Y_from_bat_3 = 1.0\n",
      "Y_from_bat_4 = 1.0\n",
      "Y_to_bat_2 = 1.0\n",
      "Y_to_bat_3 = -0.0\n",
      "Y_to_bat_4 = -0.0\n",
      "Z_2 = 1.0\n",
      "Z_3 = 1.0\n"
     ]
    }
   ],
   "source": [
    "for v in Optim.variables():\n",
    "    print(v.name, \"=\", v.varValue )"
   ]
  },
  {
   "cell_type": "markdown",
   "metadata": {
    "id": "Rjev_Xmdo8lI"
   },
   "source": [
    "$\\newline $\n",
    "$\\newline $\n",
    "### Calculating the optimized fuel comsumption."
   ]
  },
  {
   "cell_type": "code",
   "execution_count": 28,
   "metadata": {
    "colab": {
     "base_uri": "https://localhost:8080/"
    },
    "id": "yGmTzG-KpGKl",
    "outputId": "14182726-9256-4906-89c2-14ed5d5d002a"
   },
   "outputs": [
    {
     "name": "stdout",
     "output_type": "stream",
     "text": [
      "Total saved fuel comsumption of the trip: 113.9496 kg\n"
     ]
    }
   ],
   "source": [
    "print(\"Total saved fuel comsumption of the trip:\", value(Optim.objective),'kg') "
   ]
  },
  {
   "attachments": {},
   "cell_type": "markdown",
   "metadata": {
    "id": "6EMpo1NxZHNv"
   },
   "source": [
    "$\\newline $\n",
    "### Pre-processing visualisation data."
   ]
  },
  {
   "cell_type": "code",
   "execution_count": 29,
   "metadata": {
    "colab": {
     "base_uri": "https://localhost:8080/"
    },
    "id": "QzIEU9ltJybA",
    "outputId": "d351f1e4-ad6a-407f-9ca2-bf61fe4177bb"
   },
   "outputs": [
    {
     "name": "stdout",
     "output_type": "stream",
     "text": [
      "[288.0, 0.0, 500.0]\n",
      "[218.0, 0.0, 500.0]\n",
      "[69.99999999999999, 0.0, 0.0]\n",
      "[0.0, 70.0, 0.0]\n",
      "[171.66666666666669, 125.0, 125.0]\n",
      "[65.7144, 0.0, 105.21]\n",
      "[218, 70, 500]\n"
     ]
    }
   ],
   "source": [
    "# Constructing list out of the P_A vector.\n",
    "\n",
    "P_A_list = []\n",
    "for v in Optim.variables():\n",
    "  for i in V_steps:\n",
    "    if v.name == ('P_A_'+ str(i)):\n",
    "      P_A_list.append(v.varValue)\n",
    "print(P_A_list)\n",
    "\n",
    "# Constructing list out of the P_A_load vector.\n",
    "\n",
    "P_A_load_list = []\n",
    "for v in Optim.variables():\n",
    "  for i in V_steps:\n",
    "    if v.name == ('P_A_load_'+ str(i)):\n",
    "      P_A_load_list.append(v.varValue)\n",
    "print(P_A_load_list)\n",
    "\n",
    "# Constructing list out of the P_A_to_bat vector.\n",
    "\n",
    "P_A_to_bat_list = []\n",
    "for v in Optim.variables():\n",
    "  for i in V_steps:\n",
    "    if v.name == ('P_A_to_bat_'+ str(i)):\n",
    "      P_A_to_bat_list.append(v.varValue)\n",
    "print(P_A_to_bat_list)\n",
    "\n",
    "# Constructing list out of the P_From_bat.\n",
    "\n",
    "P_From_bat_list = []\n",
    "for v in Optim.variables():\n",
    "  for i in V_steps:\n",
    "    if v.name == ('P_From_bat_'+ str(i)):\n",
    "      P_From_bat_list.append(v.varValue)\n",
    "print(P_From_bat_list)\n",
    "\n",
    "# Constructing list out of the Q_bat vector.\n",
    "\n",
    "Q_bat_list = []\n",
    "for v in Optim.variables():\n",
    "  for i in V_steps:\n",
    "    if v.name == ('Q_bat_'+ str(i)):\n",
    "      Q_bat_list.append(v.varValue)\n",
    "print(Q_bat_list)\n",
    "\n",
    "# constructing list out of the FC_A vector.\n",
    "\n",
    "FC_A_list = []\n",
    "for v in Optim.variables():\n",
    "  for i in V_steps:\n",
    "    if v.name == ('FC_A_'+ str(i)):\n",
    "      FC_A_list.append(v.varValue/1000)\n",
    "print(FC_A_list)\n",
    "\n",
    "# Constructing list out of load profil vector.\n",
    "\n",
    "d_load_list = []              \n",
    "for i in V_steps:\n",
    "    d_load_list.append(L[i])\n",
    "print(d_load_list)\n",
    "\n"
   ]
  },
  {
   "cell_type": "markdown",
   "metadata": {
    "id": "szFTzJxxZeoP"
   },
   "source": [
    "$\\newline $\n",
    "\n",
    "### Load requirement profil. "
   ]
  },
  {
   "cell_type": "code",
   "execution_count": 30,
   "metadata": {
    "colab": {
     "base_uri": "https://localhost:8080/",
     "height": 295
    },
    "id": "489uZigyve59",
    "outputId": "08793e0f-0d89-45e1-8a82-941493de950a"
   },
   "outputs": [
    {
     "data": {
      "image/png": "[encoded data removed]",
      "text/plain": [
       "<Figure size 400x400 with 1 Axes>"
      ]
     },
     "metadata": {},
     "output_type": "display_data"
    }
   ],
   "source": [
    "plt.rcParams[\"figure.figsize\"] =  (4,4)\n",
    "plt.bar(V_steps,d_load_list, width=0.17)\n",
    "plt.xlabel('Time Step (min)')\n",
    "plt.ylabel('Power(kw)')\n",
    "plt.title('load requirements')\n",
    "plt.show()"
   ]
  },
  {
   "cell_type": "code",
   "execution_count": 31,
   "metadata": {
    "colab": {
     "base_uri": "https://localhost:8080/"
    },
    "id": "MUPnO7G6UJDJ",
    "outputId": "ee771f7f-4cad-4f05-bd44-6c325b6f2d85"
   },
   "outputs": [
    {
     "name": "stdout",
     "output_type": "stream",
     "text": [
      "[2, 3, 4] {2: 218, 3: 70, 4: 500}\n"
     ]
    }
   ],
   "source": [
    "print(V_steps,L)"
   ]
  },
  {
   "cell_type": "markdown",
   "metadata": {
    "id": "Y9Ewjv-dZu1H"
   },
   "source": [
    "$\\newline $\n",
    "### Generated genset power."
   ]
  },
  {
   "cell_type": "code",
   "execution_count": 32,
   "metadata": {
    "colab": {
     "base_uri": "https://localhost:8080/",
     "height": 295
    },
    "id": "9iFbkk58QRjB",
    "outputId": "fd4c0ef1-781e-4df4-ff61-2906141ae7c1"
   },
   "outputs": [
    {
     "data": {
      "image/png": "[encoded data removed]",
      "text/plain": [
       "<Figure size 400x400 with 1 Axes>"
      ]
     },
     "metadata": {},
     "output_type": "display_data"
    }
   ],
   "source": [
    "plt.rcParams[\"figure.figsize\"] =  (4,4)\n",
    "plt.bar(V_steps,P_A_list, width=0.17)\n",
    "plt.xlabel('Time Step (min)')\n",
    "plt.ylabel('Power(kw)')\n",
    "plt.title('Power generated by the Genset A')\n",
    "plt.show()"
   ]
  },
  {
   "cell_type": "code",
   "execution_count": 33,
   "metadata": {
    "colab": {
     "base_uri": "https://localhost:8080/"
    },
    "id": "1AEl4BIHTicC",
    "outputId": "788e110c-d268-447e-b80d-3993732dea4e"
   },
   "outputs": [
    {
     "name": "stdout",
     "output_type": "stream",
     "text": [
      "[2, 3, 4] [288.0, 0.0, 500.0]\n"
     ]
    }
   ],
   "source": [
    "print(V_steps,P_A_list)"
   ]
  },
  {
   "cell_type": "markdown",
   "metadata": {
    "id": "20mSVMybaQWl"
   },
   "source": [
    "$\\newline $\n",
    "### Realised power from the genset to load."
   ]
  },
  {
   "cell_type": "code",
   "execution_count": 34,
   "metadata": {
    "colab": {
     "base_uri": "https://localhost:8080/",
     "height": 295
    },
    "id": "NpMBFHr-vBeC",
    "outputId": "fefc1851-18b2-4278-ec11-cbb5f716054f"
   },
   "outputs": [
    {
     "data": {
      "image/png": "[encoded data removed]",
      "text/plain": [
       "<Figure size 400x400 with 1 Axes>"
      ]
     },
     "metadata": {},
     "output_type": "display_data"
    }
   ],
   "source": [
    "plt.rcParams[\"figure.figsize\"] = (4,4)\n",
    "plt.bar(V_steps,P_A_load_list, width=0.17)\n",
    "plt.xlabel('Time Step (min)')\n",
    "plt.ylabel('Power(kw)')\n",
    "plt.title('Power transfered from the Genset to load ')\n",
    "plt.show()"
   ]
  },
  {
   "cell_type": "code",
   "execution_count": 35,
   "metadata": {
    "colab": {
     "base_uri": "https://localhost:8080/"
    },
    "id": "gAeVAzGQTpuq",
    "outputId": "af21dab2-067b-455d-ded0-44fd22080ba6"
   },
   "outputs": [
    {
     "name": "stdout",
     "output_type": "stream",
     "text": [
      "[2, 3, 4] [218.0, 0.0, 500.0]\n"
     ]
    }
   ],
   "source": [
    "print(V_steps,P_A_load_list)"
   ]
  },
  {
   "cell_type": "markdown",
   "metadata": {
    "id": "P4jlVCs6beGa"
   },
   "source": [
    "$\\newline $\n",
    "### Realised power to charge the battery."
   ]
  },
  {
   "cell_type": "code",
   "execution_count": 36,
   "metadata": {
    "colab": {
     "base_uri": "https://localhost:8080/",
     "height": 295
    },
    "id": "7IYFAEcAvDR4",
    "outputId": "60aed69b-8743-402b-a474-ef4193139519"
   },
   "outputs": [
    {
     "data": {
      "image/png": "[encoded data removed]",
      "text/plain": [
       "<Figure size 400x400 with 1 Axes>"
      ]
     },
     "metadata": {},
     "output_type": "display_data"
    }
   ],
   "source": [
    "plt.rcParams[\"figure.figsize\"] =  (4,4)                \n",
    "plt.bar(V_steps,P_A_to_bat_list, width=0.17)\n",
    "plt.xlabel('Time Step (min)')\n",
    "plt.ylabel('Power(kw)')\n",
    "plt.xticks()\n",
    "plt.title('Power transfered from Genset to battery')\n",
    "plt.show()"
   ]
  },
  {
   "cell_type": "code",
   "execution_count": 37,
   "metadata": {
    "colab": {
     "base_uri": "https://localhost:8080/"
    },
    "id": "OKdTPB8STvbh",
    "outputId": "86737613-c219-439a-98e9-fc059b37a7f2"
   },
   "outputs": [
    {
     "name": "stdout",
     "output_type": "stream",
     "text": [
      "[2, 3, 4] [69.99999999999999, 0.0, 0.0]\n"
     ]
    }
   ],
   "source": [
    "print(V_steps,P_A_to_bat_list)"
   ]
  },
  {
   "cell_type": "markdown",
   "metadata": {
    "id": "mjJtgq-Rbrv6"
   },
   "source": [
    "$\\newline $\n",
    "### Realised power from the battery to load."
   ]
  },
  {
   "cell_type": "code",
   "execution_count": 38,
   "metadata": {
    "colab": {
     "base_uri": "https://localhost:8080/",
     "height": 295
    },
    "id": "X_1xu-KwvDGF",
    "outputId": "46017402-ffcf-46c1-bf39-782368f53f90",
    "scrolled": true
   },
   "outputs": [
    {
     "data": {
      "image/png": "[encoded data removed]",
      "text/plain": [
       "<Figure size 400x400 with 1 Axes>"
      ]
     },
     "metadata": {},
     "output_type": "display_data"
    }
   ],
   "source": [
    "plt.rcParams[\"figure.figsize\"] =  (4,4)\n",
    "plt.bar(V_steps,P_From_bat_list, width=0.17)\n",
    "plt.xlabel('Time Step (min)')\n",
    "plt.ylabel('Power(kw)')\n",
    "plt.title('Power realised from the battery to load')\n",
    "plt.show()"
   ]
  },
  {
   "cell_type": "code",
   "execution_count": 39,
   "metadata": {
    "colab": {
     "base_uri": "https://localhost:8080/"
    },
    "id": "RSy0j2tgT25i",
    "outputId": "f4e89f42-490d-4a78-a7ad-b17483323336"
   },
   "outputs": [
    {
     "name": "stdout",
     "output_type": "stream",
     "text": [
      "[2, 3, 4] [0.0, 70.0, 0.0]\n"
     ]
    }
   ],
   "source": [
    "print(V_steps,P_From_bat_list)"
   ]
  },
  {
   "cell_type": "markdown",
   "metadata": {
    "id": "J5rf_mj9b5pZ"
   },
   "source": [
    "### Battery charge balance."
   ]
  },
  {
   "cell_type": "code",
   "execution_count": 40,
   "metadata": {
    "colab": {
     "base_uri": "https://localhost:8080/",
     "height": 295
    },
    "id": "jiGMSj3LvC4A",
    "outputId": "762da36a-baf0-492a-d193-0b6f95ecbc3d",
    "scrolled": true
   },
   "outputs": [
    {
     "data": {
      "image/png": "[encoded data removed]",
      "text/plain": [
       "<Figure size 400x400 with 1 Axes>"
      ]
     },
     "metadata": {},
     "output_type": "display_data"
    }
   ],
   "source": [
    "plt.rcParams[\"figure.figsize\"] = (4,4)\n",
    "plt.bar(V_steps,Q_bat_list, width=0.17)\n",
    "plt.xlabel('Time Step (min)')\n",
    "plt.ylabel('Charge(kwh)')\n",
    "plt.title('Battery charge balance')\n",
    "plt.show()"
   ]
  },
  {
   "cell_type": "code",
   "execution_count": 41,
   "metadata": {
    "colab": {
     "base_uri": "https://localhost:8080/"
    },
    "id": "zxGB2j8buZT_",
    "outputId": "2b132b83-be5b-4df0-a7ef-27700ee2b3b3"
   },
   "outputs": [
    {
     "name": "stdout",
     "output_type": "stream",
     "text": [
      "[2, 3, 4] [171.66666666666669, 125.0, 125.0]\n"
     ]
    }
   ],
   "source": [
    "print(V_steps,Q_bat_list)"
   ]
  },
  {
   "cell_type": "markdown",
   "metadata": {
    "id": "H1HkXt-BcO27"
   },
   "source": [
    "$\\newline $\n",
    "### Genset fuel consumption."
   ]
  },
  {
   "cell_type": "code",
   "execution_count": 42,
   "metadata": {
    "colab": {
     "base_uri": "https://localhost:8080/",
     "height": 295
    },
    "id": "VGXJ9Ox8vbeu",
    "outputId": "0e9e7182-580d-46a1-b3eb-8743c6a32bec",
    "scrolled": true
   },
   "outputs": [
    {
     "data": {
      "image/png": "[encoded data removed]",
      "text/plain": [
       "<Figure size 400x400 with 1 Axes>"
      ]
     },
     "metadata": {},
     "output_type": "display_data"
    }
   ],
   "source": [
    "plt.rcParams[\"figure.figsize\"] = (4,4)\n",
    "plt.bar(V_steps,FC_A_list, width=0.17)\n",
    "plt.xlabel('Time Step (min)')\n",
    "plt.ylabel('FC(kg/min)')\n",
    "plt.title(\"Genset's FC\")\n",
    "plt.show()"
   ]
  },
  {
   "cell_type": "code",
   "execution_count": 43,
   "metadata": {
    "colab": {
     "base_uri": "https://localhost:8080/"
    },
    "id": "PUBet75HHg45",
    "outputId": "5ca2ebe9-045a-4e8c-93e1-e6effe1fdbc6"
   },
   "outputs": [
    {
     "name": "stdout",
     "output_type": "stream",
     "text": [
      "[2, 3, 4] [65.7144, 0.0, 105.21]\n"
     ]
    }
   ],
   "source": [
    "print(V_steps, FC_A_list)"
   ]
  },
  {
   "cell_type": "code",
   "execution_count": 44,
   "metadata": {
    "colab": {
     "base_uri": "https://localhost:8080/"
    },
    "id": "Mmr7MzfBrnmp",
    "outputId": "29c2ddb0-15ea-40d6-abc9-8e5c0be0b87f"
   },
   "outputs": [
    {
     "name": "stdout",
     "output_type": "stream",
     "text": [
      "113.94959999999999\n"
     ]
    }
   ],
   "source": [
    "print(sum(FC_A_list)*dt)"
   ]
  },
  {
   "cell_type": "markdown",
   "metadata": {
    "id": "0p8MzO96JVV1"
   },
   "source": [
    "$\\newline $\n",
    "$\\newline $\n",
    "### Trip power flow bar chart."
   ]
  },
  {
   "cell_type": "code",
   "execution_count": 45,
   "metadata": {
    "colab": {
     "base_uri": "https://localhost:8080/",
     "height": 295
    },
    "id": "WjsUg-9qn4AA",
    "outputId": "e30169ed-49c3-4a04-ca5c-7bdb20be5c1b",
    "scrolled": false
   },
   "outputs": [
    {
     "data": {
      "image/png": "[encoded data removed]",
      "text/plain": [
       "<Figure size 400x400 with 1 Axes>"
      ]
     },
     "metadata": {},
     "output_type": "display_data"
    }
   ],
   "source": [
    " \n",
    "plt.rcParams[\"figure.figsize\"] = (4,4)\n",
    "\n",
    "gridnumber = V_steps\n",
    "\n",
    "b1 = plt.bar(gridnumber, P_A_list, color=\"blue\", width=0.25,\n",
    "                label=\"Power generted by the Genset A.\", align=\"center\")\n",
    "\n",
    "b2 = plt.bar(gridnumber, P_A_load_list, color=\"red\", width=0.17,\n",
    "                label=\"Power from the Genset A to load.\", align=\"center\")\n",
    "\n",
    "b3 = plt.bar(gridnumber, P_From_bat_list, color=\"yellow\", width=0.1,\n",
    "                label=\"Power from the battery to load.\", align=\"center\")\n",
    "\n",
    "b4 = plt.bar(gridnumber,d_load_list , color=\"green\", width=0.03,\n",
    "                label=\"Power load requirements.\", align=\"center\")\n",
    "\n",
    "plt.title('Trip Power Flow')\n",
    "plt.xlabel('Time Step (min)')\n",
    "plt.ylabel('Power(kw)')\n",
    "plt.xticks(gridnumber)\n",
    "plt.legend(bbox_to_anchor= (1, 1))\n",
    "plt.show()\n",
    "\n"
   ]
  }
 ],
 "metadata": {
  "colab": {
   "provenance": []
  },
  "kernelspec": {
   "display_name": "HYH_env",
   "language": "python",
   "name": "python3"
  },
  "language_info": {
   "codemirror_mode": {
    "name": "ipython",
    "version": 3
   },
   "file_extension": ".py",
   "mimetype": "text/x-python",
   "name": "python",
   "nbconvert_exporter": "python",
   "pygments_lexer": "ipython3",
   "version": "3.10.9"
  },
  "vscode": {
   "interpreter": {
    "hash": "b457b1efa9386fb31d0c27fbd21355d01f9885ccacfc2636833233b93949f974"
   }
  }
 },
 "nbformat": 4,
 "nbformat_minor": 1
}
