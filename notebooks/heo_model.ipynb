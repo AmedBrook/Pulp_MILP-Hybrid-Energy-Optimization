{
 "cells": [
  {
   "attachments": {},
   "cell_type": "markdown",
   "metadata": {
    "id": "sjW945RUgTbF"
   },
   "source": [
    "### HEO Model : 1 Battery-1 Genset. \n",
    "=========================================================================================================================\n",
    "$ \n",
    "\\\\\n",
    "$\n",
    "\n",
    "$ \n",
    "\\\\\n",
    "$"
   ]
  },
  {
   "cell_type": "markdown",
   "metadata": {},
   "source": [
    "### Optimization parameters."
   ]
  },
  {
   "cell_type": "markdown",
   "metadata": {},
   "source": [
    "\n",
    "$ Q_{\\mathrm{max}} \\hspace{1cm}$ : Maximal energy charge stored in battery (kWh)\n",
    "\n",
    "\n",
    "\n",
    "$ Q_{\\mathrm{init}} \\hspace{1.1cm}$ : Initial energy charge stored on battery (kWh)\n",
    "\n",
    "\n",
    "\n",
    "$ Q_{\\mathrm{final}} \\hspace{0.9cm}$ :  Final charge stored on battery (kWh)\n",
    "\n",
    "\n",
    "\n",
    "$ P_{\\mathrm{max}\\;} \\hspace{1cm}$ : Maximal power available from genset (kW)\n",
    "\n",
    "\n",
    "\n",
    "${FC}_{max} \\hspace{0.7cm}$ : Maximal fuel consumption (g/h)\n",
    "\n",
    "\n",
    "\n",
    "$ {FC}_{offset} \\hspace{0.4cm}$ : Offset for fuel consumption model at P=0)\n",
    "\n",
    "\n",
    "\n",
    "$ a \\hspace{1.7cm}$ : Slope in fuel consumption model\n",
    "\n",
    "\n",
    "\n",
    "$ b \\hspace{1.7cm}$ : Intercept in fuel consumption model (=)\n",
    "\n",
    "\n",
    "\n",
    "$ K_{\\mathrm{start}} \\hspace{1cm}$ : Additional fuel consumption when starting genset (kg)\n",
    "\n",
    "\n",
    "\n",
    "$ \\Delta t \\hspace{1.5cm}$ : Time step in discretization (h)\n",
    "\n",
    "\n",
    "\n",
    "\n",
    "$ t_{\\mathrm{max}\\;} \\hspace{1.1cm}$ : Max time in simulation (h)\n",
    "\n",
    "\n",
    "\n",
    "$ n \\hspace{1.7cm}$ :  Number of time steps in simulation\n",
    "\n",
    "\n",
    "\n",
    "$ t_{\\mathrm{max}\\;} \\hspace{1.1cm}$ : Max time in simulation (h)\n",
    "\n",
    "\n",
    "\n",
    "$ t \\hspace{1.8cm}$ :  Time vector in simulation (dim(t)=n)\n",
    "\n",
    "\n",
    "\n",
    "$ \\eta^{\\mathrm{toBat}} \\; \\hspace{0.9cm}$ :  Efficiency when charging battery\n",
    "\n",
    "\n",
    "\n",
    "$ \\eta^{\\mathrm{fromBat}} \\; \\hspace{0.5cm}$ :   Efficiency when battery is used for load\n",
    "\n",
    "\n",
    "\n",
    "$ L \\hspace{1.6cm}$ : Vector of pre-defined load profile (must be of same length as time vector, dim(L)=dim(t)=n) (kW)\n",
    "\n",
    "$\\newline$ \n"
   ]
  },
  {
   "cell_type": "markdown",
   "metadata": {},
   "source": [
    "### Optimization model."
   ]
  },
  {
   "attachments": {},
   "cell_type": "markdown",
   "metadata": {},
   "source": [
    "$\\mathrm{minimize}\\;\\;\\;\\;\\;\\sum_{k=1}^n {FC}_{k\\;} \\cdot \\frac{\\Delta t}{1000}+K_{\\mathrm{start}} \\sum_{k=2}^n z_k$  \n",
    "\n",
    "$\\newline$ \n",
    "\n",
    "Fuel consumption model 1 (linear):     $\\hspace{1cm} {FC}_{k\\;} ={aP}_{k\\;} +b-{FC}_{offset} \\cdot \\left(1-y_k \\right)\\hspace{3cm}$      $k=1,\\dots ,n$\n",
    "\n",
    "Load requirements:     $\\hspace{3.5cm}L_k =P_k^{\\mathrm{load}} +\\eta {\\;}^{\\mathrm{fromBat}} {\\cdot \\;P}_k^{\\mathrm{fromBat}}\\hspace{4.2cm}$      $k=1,\\dots ,n$  \n",
    "\n",
    "\n",
    "Power split:   $\\hspace{4.8cm}P_{k\\;} =P_k^{\\mathrm{load}} {+\\;P}_k^{\\mathrm{toBat}}\\hspace{6.3cm}$   $k=1,\\dots ,n$\n",
    "\n",
    "Charge balance (initial):   $\\hspace{2.8cm}Q_0 =Q_{\\mathrm{init}}\\hspace{6.3cm}$  \n",
    "\n",
    "Charge balance:  $\\hspace{4cm}Q_k =Q_{k-1} +\\eta^{\\mathrm{toBat}} \\cdot \\;P_k^{\\mathrm{toBat}} \\Delta t-\\;P_k^{\\mathrm{fromBat}} \\Delta t\\hspace{1.8cm}$     $k=1,\\dots ,n$ \n",
    "\n",
    "\n",
    "Charge balance (final):     $\\hspace{3cm}Q_n =Q_{\\mathrm{final}}\\hspace{3cm}$   \n",
    "\n",
    "\n",
    "Logical conditions on genset: $\\hspace{2cm}P_{k\\;} \\le {0\\ldotp 9P}_{\\mathrm{max}\\;} {\\cdot y}_k\\hspace{6.7cm}$    $k=1,\\dots ,n$ \n",
    "\n",
    "\n",
    "(0 or in 0.2P_max - 0.9Pmax):  $\\hspace{1.8cm}P_{k\\;} \\le {0\\ldotp 2P}_{\\mathrm{max}\\;} {\\cdot y}_k\\hspace{6.8cm}$    $k=1,\\dots ,n$\n",
    "\n",
    "\n",
    "\n",
    "\n",
    "Logical conditions on battery:   $\\hspace{1.9cm}y_k^{\\mathrm{toBat}} +y_{k\\;}^{\\mathrm{fromBat}} \\le 1\\hspace{6.4cm}$     $k=1,\\dots ,n$  $ \\\\$     \n",
    "$\\hspace{6.9cm}P_k^{\\mathrm{toBat}} \\le 0\\ldotp 9P_{\\mathrm{max}} {\\cdot y}_k^{\\mathrm{toBat}}\\hspace{5.7cm}$ $k=1,\\dots ,n$ \n",
    "\n",
    "\n",
    "$\\hspace{6.9cm}P_k^{\\mathrm{fromBat}} \\le 0\\ldotp 9P_{\\mathrm{max}} {\\cdot \\;y}_k^{\\mathrm{fromBat}}\\hspace{4.8cm}$  $k=1,\\dots ,n$ \n",
    "\n",
    "$\\newline$ \n",
    "\n",
    "\n",
    "Constraints for linearization of objective:  $\\hspace{0.5cm}z_k \\ge y_k -y_{k-1}\\hspace{7.0cm}$ $k=2,\\ldotp \\ldotp \\ldotp ,n$\n",
    "\n",
    "$\\newline$ \n",
    "\n",
    "Variable bounds:  $\\hspace{4.1cm}0\\ldotp 2Q_{\\mathrm{max}} \\le Q_k \\le Q_{\\mathrm{max}}\\hspace{5.8cm}$ $k=0,\\ldotp \\ldotp \\ldotp ,n$  $ \\\\$  \n",
    "$\\hspace{7cm}0\\le P_k \\le 0\\ldotp 9P_{\\mathrm{max}}\\hspace{6.5cm}$  $k=1,\\ldotp \\ldotp \\ldotp ,n$    \n",
    " \n",
    "$\\hspace{7cm}0\\le P_k^{\\mathrm{toBat}} ,P_k^{\\mathrm{fromBat}} \\le {0\\ldotp 9P}_{\\mathrm{max}}\\hspace{4.3cm}$ $k=1,\\ldotp \\ldotp \\ldotp ,n$ \n",
    "\n",
    "\n",
    "$\\hspace{7cm}0\\le z_k \\le 1\\hspace{7.8cm}$  $k=2,\\ldotp \\ldotp \\ldotp ,n$\n",
    "\n",
    "\n",
    "$ \\\\$ Variable types:     $\\hspace{1cm}Q_{k\\}\\,P_k^{\\mathrm{toBat}}} ,P_k^{\\mathrm{fromBat}} ,z_k$ :Continuous $\\hspace{1cm}P_{k\\}}$  :Semi-continuous  $\\hspace{1.5cm}y_k ,y_k^{\\mathrm{toBat}} ,y_k^{\\mathrm{fromBat}}$ :Binary\n",
    "\n",
    "$\\newline$ \n",
    "\n",
    " $ \\\\$ $P_k \\hspace{2.1cm} $:  Power from genset during time step k\n",
    " \n",
    " $ \\\\$ $P_k^{\\mathrm{toBat}}\\hspace{1.5cm}$: Power to charge battery during time step k\n",
    " \n",
    " $ \\\\$ $P_k^{\\mathrm{fromBat}}\\hspace{1.2cm}$: Power delivered from battery during time step k\n",
    " \n",
    " $ \\\\$ $Q_k\\hspace{2.1cm}$: Energy charge on battery at the end of time step k\n",
    " \n",
    " $ \\\\$ $y_k\\hspace{2.1cm}$: Variable equal to 1 if genset is used in time step k, variable equal to 0 if genset not used in time step k\n",
    "\n",
    "$ \\\\$ $y_k^{\\mathrm{toBat}}\\hspace{1.6cm}$: Variable equal to 1 if battery is charged under time step k\n",
    "\n",
    "$ \\\\$ $y_k^{\\mathrm{fromBat}}\\hspace{1.1cm}$: Variable equal to 1 if battery if used for load in time step k\n",
    "\n",
    "$ \\\\$ $z_k\\hspace{1.9cm}$: Variable used to linearize additional cost when starting genset (  )\n",
    "\n",
    "\n",
    "\n",
    "$\\newline $\n",
    "$\\newline $\n",
    "\n",
    "\n"
   ]
  },
  {
   "attachments": {},
   "cell_type": "markdown",
   "metadata": {
    "id": "T_UvbcS_gyqa"
   },
   "source": [
    "$\\newline $\n",
    "### Importing modules."
   ]
  },
  {
   "cell_type": "code",
   "execution_count": 94,
   "metadata": {
    "id": "Y0QsQ0VGgsyU"
   },
   "outputs": [],
   "source": [
    "import sys\n",
    "import numpy as np\n",
    "import plotly.express as px\n",
    "import chart_studio as cs\n",
    "import plotly.graph_objects as go\n",
    "import pandas as pd\n",
    "from pulp import *\n",
    "from gurobipy import *\n",
    "from src.functions.fuel_consumption import fuelCon\n",
    "from src.functions.load_window import lwd "
   ]
  },
  {
   "cell_type": "markdown",
   "metadata": {
    "id": "7gHwiI9iTS9a"
   },
   "source": [
    "### Python environment."
   ]
  },
  {
   "cell_type": "code",
   "execution_count": 95,
   "metadata": {
    "colab": {
     "base_uri": "https://localhost:8080/"
    },
    "id": "c92qP1IyoF2V",
    "outputId": "84ce7f61-fdda-4b2f-d5b4-70a101b3f9c2",
    "scrolled": true
   },
   "outputs": [
    {
     "name": "stdout",
     "output_type": "stream",
     "text": [
      "Python version\n",
      "3.10.9 | packaged by conda-forge | (main, Jan 11 2023, 15:15:40) [MSC v.1916 64 bit (AMD64)]\n",
      "Version info.\n",
      "sys.version_info(major=3, minor=10, micro=9, releaselevel='final', serial=0)\n"
     ]
    }
   ],
   "source": [
    "print(\"Python version\")\n",
    "print (sys.version)\n",
    "print(\"Version info.\")\n",
    "print (sys.version_info)"
   ]
  },
  {
   "cell_type": "markdown",
   "metadata": {
    "id": "8eO_dSzqgXaU"
   },
   "source": [
    "$\\newline $\n",
    "### Introducing problem Parameters."
   ]
  },
  {
   "cell_type": "code",
   "execution_count": 96,
   "metadata": {
    "id": "CjP63KtPgH1N"
   },
   "outputs": [],
   "source": [
    "Q_max = 250                                                   # maximal capacity stored on battery.\n",
    "Q_0 = 0.5*Q_max                                               # inital capacity stored on battery.\n",
    "Q_final = 0.5*Q_max                                           # Final capacity stored on the battery. \n",
    "eff_to_bat = 0.98                                             # battery charging efficiency.\n",
    "eff_from_bat = 0.98                                           # battery transfer efficiency. \n",
    "P_A_max = 1000                                                # max output from gen set A.\n",
    "dt = 1                                                        # simulation time step dt.\n",
    "t_max = 60                                                    # time span for simulation = t_max hours.\n",
    "t = np.atleast_2d(np.arange(0,t_max,dt)).T.conj()             # time scale in hours.\n",
    "n = len(t)                                                    # number of time steps.\n",
    "m = 1                                                         # number of Gensets used on the trip.\n",
    "fc_j_offset = 12060                                           # genset j fuel consumption when no power gnerated (p=0) in g/h.\n",
    "K_j_start = 0.0                                               # Addicitional starting cost.\n",
    "V_steps = [x for x in range (0,n)]                            # Time steps vector. \n",
    "V_steps_z = V_steps[:-1]                                      # Time steps vector without the final step. \n",
    "\n",
    "\n",
    "L = lwd (200,100,10,                                          # Power requirement window.\n",
    "                100,300,10,\n",
    "                300,150,10,\n",
    "                150,250,30,\n",
    "                0,10,20,30\n",
    "                )                                             # Pre-defined load porfile requirements framed in 60 time steps"
   ]
  },
  {
   "cell_type": "markdown",
   "metadata": {
    "id": "4IKe4UG9OXGR"
   },
   "source": [
    "$\\newline $\n",
    "### Creating the problem variable. "
   ]
  },
  {
   "cell_type": "code",
   "execution_count": 97,
   "metadata": {
    "id": "IdXNRhkLOfr5"
   },
   "outputs": [],
   "source": [
    "Optim = LpProblem('Energy_Opt',LpMinimize)"
   ]
  },
  {
   "cell_type": "markdown",
   "metadata": {
    "id": "GpJCAZ8lpAHa"
   },
   "source": [
    "$\\newline $\n",
    "### Slope, intercept and maximum fuel bound calculation."
   ]
  },
  {
   "cell_type": "code",
   "execution_count": 98,
   "metadata": {
    "id": "0Np7hciiqr0D"
   },
   "outputs": [
    {
     "name": "stdout",
     "output_type": "stream",
     "text": [
      "FC Linear model caracteristics\n",
      "-----------------------------\n",
      "Slope = 186.3\n",
      "Intercept = 12059.999999999993\n"
     ]
    }
   ],
   "source": [
    "a_j = (fuelCon(0.9*P_A_max, P_A_max) - fuelCon(0.2*P_A_max, P_A_max)) /(0.7*P_A_max) #slope.\n",
    "b_j = fuelCon(0.2*P_A_max, P_A_max) - a_j*0.2*P_A_max #Intercept.\n",
    "maxFC = fuelCon(0.9*P_A_max,P_A_max) # Max fuel bound.\n",
    "print('FC Linear model caracteristics')\n",
    "print('-----------------------------')\n",
    "print('Slope =', a_j)\n",
    "print('Intercept =', b_j)"
   ]
  },
  {
   "cell_type": "markdown",
   "metadata": {
    "id": "MToHP-f6mBi5"
   },
   "source": [
    "$\\newline $\n",
    "### Setting-up decision Variables."
   ]
  },
  {
   "cell_type": "code",
   "execution_count": 99,
   "metadata": {
    "id": "JTeLHDUxmHnF"
   },
   "outputs": [],
   "source": [
    "Q_bat = LpVariable.dicts(\"Q_bat\", V_steps, lowBound=0.2*Q_max, upBound=Q_max, cat = LpContinuous)  # Battery charge at time step k.\n",
    "P_From_bat = LpVariable.dicts(\"P_From_bat\", V_steps, lowBound=0, upBound=0.9*P_A_max, cat = LpContinuous) # Power transfered from the battery to the load.\n",
    "P_A = LpVariable.dicts(\"P_A\", V_steps, lowBound=0, upBound=0.9*P_A_max, cat = LpContinuous)  # Power generated by the Genset A.\n",
    "P_A_load = LpVariable.dicts(\"P_A_load\", V_steps, lowBound=0, upBound=0.9*P_A_max, cat= LpContinuous) # Power transfered from the Genset A to the load at time step k.\n",
    "Z =  LpVariable.dicts(\"Z\", V_steps_z, lowBound=0, upBound=1, cat = LpInteger) # Aditional cost fuel oil consumption when starting Genset j.\n",
    "FC_A = LpVariable.dicts(\"FC_A\", V_steps, lowBound=0, upBound= maxFC, cat = LpContinuous) # Specific fuel oil consumption.\n",
    "P_A_to_bat =  LpVariable.dicts(\"P_A_to_bat\", V_steps, lowBound=0, upBound=0.9*P_A_max, cat = LpContinuous) \n",
    "Y_to_bat = LpVariable.dicts(\"Y_to_bat\", V_steps, lowBound=0, upBound=1, cat = LpInteger) # Genset selecter to charge the battery at time step k. \n",
    "Y_from_bat = LpVariable.dicts(\"Y_from_bat\", V_steps, lowBound=0, upBound=1, cat = LpInteger) # Battery selecter to transfert to the Genset j st time step k.\n",
    "Y = LpVariable.dicts(\"Y\", V_steps, lowBound=0, upBound=1, cat = LpInteger) # Genset selecter : work ==> Y=1, Not work ==> Y=0."
   ]
  },
  {
   "cell_type": "markdown",
   "metadata": {
    "id": "PYdrJv4ECwV-"
   },
   "source": [
    "$\\newline $\n",
    "### Setting-up the objective function."
   ]
  },
  {
   "cell_type": "code",
   "execution_count": 100,
   "metadata": {
    "id": "_QipTr5hnVLr"
   },
   "outputs": [
    {
     "name": "stdout",
     "output_type": "stream",
     "text": [
      "0.001*FC_A_0 + 0.001*FC_A_1 + 0.001*FC_A_10 + 0.001*FC_A_11 + 0.001*FC_A_12 + 0.001*FC_A_13 + 0.001*FC_A_14 + 0.001*FC_A_15 + 0.001*FC_A_16 + 0.001*FC_A_17 + 0.001*FC_A_18 + 0.001*FC_A_19 + 0.001*FC_A_2 + 0.001*FC_A_20 + 0.001*FC_A_21 + 0.001*FC_A_22 + 0.001*FC_A_23 + 0.001*FC_A_24 + 0.001*FC_A_25 + 0.001*FC_A_26 + 0.001*FC_A_27 + 0.001*FC_A_28 + 0.001*FC_A_29 + 0.001*FC_A_3 + 0.001*FC_A_30 + 0.001*FC_A_31 + 0.001*FC_A_32 + 0.001*FC_A_33 + 0.001*FC_A_34 + 0.001*FC_A_35 + 0.001*FC_A_36 + 0.001*FC_A_37 + 0.001*FC_A_38 + 0.001*FC_A_39 + 0.001*FC_A_4 + 0.001*FC_A_40 + 0.001*FC_A_41 + 0.001*FC_A_42 + 0.001*FC_A_43 + 0.001*FC_A_44 + 0.001*FC_A_45 + 0.001*FC_A_46 + 0.001*FC_A_47 + 0.001*FC_A_48 + 0.001*FC_A_49 + 0.001*FC_A_5 + 0.001*FC_A_50 + 0.001*FC_A_51 + 0.001*FC_A_52 + 0.001*FC_A_53 + 0.001*FC_A_54 + 0.001*FC_A_55 + 0.001*FC_A_56 + 0.001*FC_A_57 + 0.001*FC_A_58 + 0.001*FC_A_59 + 0.001*FC_A_6 + 0.001*FC_A_7 + 0.001*FC_A_8 + 0.001*FC_A_9\n"
     ]
    }
   ],
   "source": [
    "FC = sum(FC_A[k] for k in V_steps) * dt/1000  # sum of the fuel oil comsumption for all gensets over all k steps.\n",
    "L_added_cost = sum(Z[i] for i in V_steps_z) * K_j_start  # Sum of all of the additional costs including starting costs. \n",
    "Optim += lpSum (FC + L_added_cost), \"objective function minimization fuel oil consumption\" \n",
    "print(FC)"
   ]
  },
  {
   "cell_type": "markdown",
   "metadata": {
    "id": "ga275eNBF_ZV"
   },
   "source": [
    "$\\newline $\n",
    "$\\newline $\n",
    "### Setting-up problem constraints."
   ]
  },
  {
   "cell_type": "code",
   "execution_count": 101,
   "metadata": {
    "id": "Ndw9zmAJGDP-"
   },
   "outputs": [],
   "source": [
    "\n",
    "for k in V_steps:\n",
    "\n",
    "  # Fuel oil consumption constraint.\n",
    "  Optim += FC_A[k] == P_A[k]*a_j + b_j - fc_j_offset*(1-Y[k])     \n",
    "\n",
    "  # Load requirements constraints\n",
    "  Optim += P_A_load[k] + eff_from_bat*P_From_bat[k] == L[k]       \n",
    "  Optim += P_A_load[k] + P_A_to_bat[k] == P_A[k]                  \n",
    "\n",
    "\n",
    "  # Genset logical constraints.\n",
    "  Optim += P_A[k]  <= 0.9 * P_A_max * Y[k]\n",
    "  Optim += P_A[k]  >= 0.2 * P_A_max * Y[k]\n",
    "  Optim += Y[k]  >= 0\n",
    "  Optim += Y[k]  <= 1\n",
    "    \n",
    "  # Battery charging logical constraints.\n",
    "  Optim += P_A_to_bat[k] <= 0.9 * P_A_max * Y_to_bat[k]\n",
    "  Optim += P_From_bat[k] <= 0.9 * P_A_max * Y_from_bat[k]\n",
    "  Optim += Y_to_bat[k] + Y_from_bat[k]  <= 1\n",
    "  \n",
    "\n",
    "  # Charge balance logical constraints.\n",
    "  if k == V_steps[0] :                                            \n",
    "    Optim += Q_bat[k] == Q_0 + eff_to_bat*P_A_to_bat[k]*dt - P_From_bat[k]*dt\n",
    "\n",
    "\n",
    "  else :  \n",
    "    Optim += Q_bat[k] == Q_bat[k-1] + eff_to_bat*P_A_to_bat[k]*dt - P_From_bat[k]*dt\n",
    "\n",
    "    \n",
    "# Additional starting costs constraint.\n",
    "for k in range(V_steps[0], V_steps[-1]): \n",
    "  Optim += Z[k] >= Y[k + 1] - Y[k] \n",
    "  \n",
    "# Charge balance at the Final time step.\n",
    "Optim += Q_bat[V_steps[-1]] == Q_final"
   ]
  },
  {
   "cell_type": "markdown",
   "metadata": {
    "id": "Nskl-jsXpeTA"
   },
   "source": [
    "$\\newline $\n",
    "$\\newline $\n",
    "### Solving the problem."
   ]
  },
  {
   "cell_type": "code",
   "execution_count": 102,
   "metadata": {
    "colab": {
     "base_uri": "https://localhost:8080/"
    },
    "id": "HemnG5SIpiBW",
    "outputId": "52d1e100-5725-4575-b57c-b72cfeee9c4c"
   },
   "outputs": [
    {
     "name": "stdout",
     "output_type": "stream",
     "text": [
      "Gurobi Optimizer version 10.0.0 build v10.0.0rc2 (win64)\n",
      "\n",
      "CPU model: Intel(R) Core(TM) i3-4000M CPU @ 2.40GHz, instruction set [SSE2|AVX|AVX2]\n",
      "Thread count: 2 physical cores, 4 logical processors, using up to 4 threads\n",
      "\n",
      "Optimize a model with 720 rows, 599 columns and 1617 nonzeros\n",
      "Model fingerprint: 0xc21a6466\n",
      "Variable types: 360 continuous, 239 integer (0 binary)\n",
      "Coefficient statistics:\n",
      "  Matrix range     [1e+00, 1e+04]\n",
      "  Objective range  [1e-03, 1e-03]\n",
      "  Bounds range     [1e+00, 2e+05]\n",
      "  RHS range        [7e-12, 3e+02]\n",
      "Presolve removed 577 rows and 430 columns\n",
      "Presolve time: 0.02s\n",
      "Presolved: 143 rows, 169 columns, 402 nonzeros\n",
      "Variable types: 111 continuous, 58 integer (58 binary)\n",
      "Found heuristic solution: objective 2739.3562804\n",
      "\n",
      "Root relaxation: objective 2.712472e+03, 72 iterations, 0.00 seconds (0.00 work units)\n",
      "\n",
      "    Nodes    |    Current Node    |     Objective Bounds      |     Work\n",
      " Expl Unexpl |  Obj  Depth IntInf | Incumbent    BestBd   Gap | It/Node Time\n",
      "\n",
      "     0     0 2712.47239    0   28 2739.35628 2712.47239  0.98%     -    0s\n",
      "     0     0 2739.30561    0   14 2739.35628 2739.30561  0.00%     -    0s\n",
      "\n",
      "Cutting planes:\n",
      "  Cover: 27\n",
      "  Implied bound: 13\n",
      "  MIR: 25\n",
      "  Relax-and-lift: 2\n",
      "\n",
      "Explored 1 nodes (129 simplex iterations) in 0.19 seconds (0.00 work units)\n",
      "Thread count was 4 (of 4 available processors)\n",
      "\n",
      "Solution count 1: 2739.36 \n",
      "\n",
      "Optimal solution found (tolerance 1.00e-04)\n",
      "Best objective 2.739356280429e+03, best bound 2.739305610656e+03, gap 0.0018%\n",
      "Gurobi status= 2\n"
     ]
    }
   ],
   "source": [
    "status = Optim.solve(GUROBI())"
   ]
  },
  {
   "attachments": {},
   "cell_type": "markdown",
   "metadata": {
    "id": "oqwSjeLJqY3n"
   },
   "source": [
    "$\\newline $\n",
    "$\\newline $\n",
    "### Printing optimization status."
   ]
  },
  {
   "cell_type": "code",
   "execution_count": 103,
   "metadata": {
    "colab": {
     "base_uri": "https://localhost:8080/",
     "height": 35
    },
    "id": "KVHSlqFNqNmY",
    "outputId": "19a90101-d605-4c0d-999e-075c3df263a4"
   },
   "outputs": [
    {
     "data": {
      "text/plain": [
       "'Optimal'"
      ]
     },
     "execution_count": 103,
     "metadata": {},
     "output_type": "execute_result"
    }
   ],
   "source": [
    "LpStatus[status]"
   ]
  },
  {
   "cell_type": "markdown",
   "metadata": {
    "id": "hpO-x0-JnNH6"
   },
   "source": [
    "$\\newline $\n",
    "$\\newline $\n",
    "### Printing constraints per each time step."
   ]
  },
  {
   "cell_type": "code",
   "execution_count": 104,
   "metadata": {
    "colab": {
     "base_uri": "https://localhost:8080/"
    },
    "id": "9EFNhBfd-rW3",
    "outputId": "143a27d1-4ef5-4724-f2a0-1eb0d39c55b4"
   },
   "outputs": [
    {
     "name": "stdout",
     "output_type": "stream",
     "text": [
      "<bound method LpProblem.variables of Energy_Opt:\n",
      "MINIMIZE\n",
      "0.001*FC_A_0 + 0.001*FC_A_1 + 0.001*FC_A_10 + 0.001*FC_A_11 + 0.001*FC_A_12 + 0.001*FC_A_13 + 0.001*FC_A_14 + 0.001*FC_A_15 + 0.001*FC_A_16 + 0.001*FC_A_17 + 0.001*FC_A_18 + 0.001*FC_A_19 + 0.001*FC_A_2 + 0.001*FC_A_20 + 0.001*FC_A_21 + 0.001*FC_A_22 + 0.001*FC_A_23 + 0.001*FC_A_24 + 0.001*FC_A_25 + 0.001*FC_A_26 + 0.001*FC_A_27 + 0.001*FC_A_28 + 0.001*FC_A_29 + 0.001*FC_A_3 + 0.001*FC_A_30 + 0.001*FC_A_31 + 0.001*FC_A_32 + 0.001*FC_A_33 + 0.001*FC_A_34 + 0.001*FC_A_35 + 0.001*FC_A_36 + 0.001*FC_A_37 + 0.001*FC_A_38 + 0.001*FC_A_39 + 0.001*FC_A_4 + 0.001*FC_A_40 + 0.001*FC_A_41 + 0.001*FC_A_42 + 0.001*FC_A_43 + 0.001*FC_A_44 + 0.001*FC_A_45 + 0.001*FC_A_46 + 0.001*FC_A_47 + 0.001*FC_A_48 + 0.001*FC_A_49 + 0.001*FC_A_5 + 0.001*FC_A_50 + 0.001*FC_A_51 + 0.001*FC_A_52 + 0.001*FC_A_53 + 0.001*FC_A_54 + 0.001*FC_A_55 + 0.001*FC_A_56 + 0.001*FC_A_57 + 0.001*FC_A_58 + 0.001*FC_A_59 + 0.001*FC_A_6 + 0.001*FC_A_7 + 0.001*FC_A_8 + 0.001*FC_A_9 + 0.0\n",
      "SUBJECT TO\n",
      "_C1: FC_A_0 - 186.3 P_A_0 - 12060 Y_0 = -7.27595761418e-12\n",
      "\n",
      "_C2: P_A_load_0 + 0.98 P_From_bat_0 = 200\n",
      "\n",
      "_C3: - P_A_0 + P_A_load_0 + P_A_to_bat_0 = 0\n",
      "\n",
      "_C4: P_A_0 - 900 Y_0 <= 0\n",
      "\n",
      "_C5: P_A_0 - 200 Y_0 >= 0\n",
      "\n",
      "_C6: Y_0 >= 0\n",
      "\n",
      "_C7: Y_0 <= 1\n",
      "\n",
      "_C8: P_A_to_bat_0 - 900 Y_to_bat_0 <= 0\n",
      "\n",
      "_C9: P_From_bat_0 - 900 Y_from_bat_0 <= 0\n",
      "\n",
      "_C10: Y_from_bat_0 + Y_to_bat_0 <= 1\n",
      "\n",
      "_C11: - 0.98 P_A_to_bat_0 + P_From_bat_0 + Q_bat_0 = 125\n",
      "\n",
      "_C12: FC_A_1 - 186.3 P_A_1 - 12060 Y_1 = -7.27595761418e-12\n",
      "\n",
      "_C13: P_A_load_1 + 0.98 P_From_bat_1 = 188.888888889\n",
      "\n",
      "_C14: - P_A_1 + P_A_load_1 + P_A_to_bat_1 = 0\n",
      "\n",
      "_C15: P_A_1 - 900 Y_1 <= 0\n",
      "\n",
      "_C16: P_A_1 - 200 Y_1 >= 0\n",
      "\n",
      "_C17: Y_1 >= 0\n",
      "\n",
      "_C18: Y_1 <= 1\n",
      "\n",
      "_C19: P_A_to_bat_1 - 900 Y_to_bat_1 <= 0\n",
      "\n",
      "_C20: P_From_bat_1 - 900 Y_from_bat_1 <= 0\n",
      "\n",
      "_C21: Y_from_bat_1 + Y_to_bat_1 <= 1\n",
      "\n",
      "_C22: - 0.98 P_A_to_bat_1 + P_From_bat_1 - Q_bat_0 + Q_bat_1 = 0\n",
      "\n",
      "_C23: FC_A_2 - 186.3 P_A_2 - 12060 Y_2 = -7.27595761418e-12\n",
      "\n",
      "_C24: P_A_load_2 + 0.98 P_From_bat_2 = 177.777777778\n",
      "\n",
      "_C25: - P_A_2 + P_A_load_2 + P_A_to_bat_2 = 0\n",
      "\n",
      "_C26: P_A_2 - 900 Y_2 <= 0\n",
      "\n",
      "_C27: P_A_2 - 200 Y_2 >= 0\n",
      "\n",
      "_C28: Y_2 >= 0\n",
      "\n",
      "_C29: Y_2 <= 1\n",
      "\n",
      "_C30: P_A_to_bat_2 - 900 Y_to_bat_2 <= 0\n",
      "\n",
      "_C31: P_From_bat_2 - 900 Y_from_bat_2 <= 0\n",
      "\n",
      "_C32: Y_from_bat_2 + Y_to_bat_2 <= 1\n",
      "\n",
      "_C33: - 0.98 P_A_to_bat_2 + P_From_bat_2 - Q_bat_1 + Q_bat_2 = 0\n",
      "\n",
      "_C34: FC_A_3 - 186.3 P_A_3 - 12060 Y_3 = -7.27595761418e-12\n",
      "\n",
      "_C35: P_A_load_3 + 0.98 P_From_bat_3 = 166.666666667\n",
      "\n",
      "_C36: - P_A_3 + P_A_load_3 + P_A_to_bat_3 = 0\n",
      "\n",
      "_C37: P_A_3 - 900 Y_3 <= 0\n",
      "\n",
      "_C38: P_A_3 - 200 Y_3 >= 0\n",
      "\n",
      "_C39: Y_3 >= 0\n",
      "\n",
      "_C40: Y_3 <= 1\n",
      "\n",
      "_C41: P_A_to_bat_3 - 900 Y_to_bat_3 <= 0\n",
      "\n",
      "_C42: P_From_bat_3 - 900 Y_from_bat_3 <= 0\n",
      "\n",
      "_C43: Y_from_bat_3 + Y_to_bat_3 <= 1\n",
      "\n",
      "_C44: - 0.98 P_A_to_bat_3 + P_From_bat_3 - Q_bat_2 + Q_bat_3 = 0\n",
      "\n",
      "_C45: FC_A_4 - 186.3 P_A_4 - 12060 Y_4 = -7.27595761418e-12\n",
      "\n",
      "_C46: P_A_load_4 + 0.98 P_From_bat_4 = 155.555555556\n",
      "\n",
      "_C47: - P_A_4 + P_A_load_4 + P_A_to_bat_4 = 0\n",
      "\n",
      "_C48: P_A_4 - 900 Y_4 <= 0\n",
      "\n",
      "_C49: P_A_4 - 200 Y_4 >= 0\n",
      "\n",
      "_C50: Y_4 >= 0\n",
      "\n",
      "_C51: Y_4 <= 1\n",
      "\n",
      "_C52: P_A_to_bat_4 - 900 Y_to_bat_4 <= 0\n",
      "\n",
      "_C53: P_From_bat_4 - 900 Y_from_bat_4 <= 0\n",
      "\n",
      "_C54: Y_from_bat_4 + Y_to_bat_4 <= 1\n",
      "\n",
      "_C55: - 0.98 P_A_to_bat_4 + P_From_bat_4 - Q_bat_3 + Q_bat_4 = 0\n",
      "\n",
      "_C56: FC_A_5 - 186.3 P_A_5 - 12060 Y_5 = -7.27595761418e-12\n",
      "\n",
      "_C57: P_A_load_5 + 0.98 P_From_bat_5 = 144.444444444\n",
      "\n",
      "_C58: - P_A_5 + P_A_load_5 + P_A_to_bat_5 = 0\n",
      "\n",
      "_C59: P_A_5 - 900 Y_5 <= 0\n",
      "\n",
      "_C60: P_A_5 - 200 Y_5 >= 0\n",
      "\n",
      "_C61: Y_5 >= 0\n",
      "\n",
      "_C62: Y_5 <= 1\n",
      "\n",
      "_C63: P_A_to_bat_5 - 900 Y_to_bat_5 <= 0\n",
      "\n",
      "_C64: P_From_bat_5 - 900 Y_from_bat_5 <= 0\n",
      "\n",
      "_C65: Y_from_bat_5 + Y_to_bat_5 <= 1\n",
      "\n",
      "_C66: - 0.98 P_A_to_bat_5 + P_From_bat_5 - Q_bat_4 + Q_bat_5 = 0\n",
      "\n",
      "_C67: FC_A_6 - 186.3 P_A_6 - 12060 Y_6 = -7.27595761418e-12\n",
      "\n",
      "_C68: P_A_load_6 + 0.98 P_From_bat_6 = 133.333333333\n",
      "\n",
      "_C69: - P_A_6 + P_A_load_6 + P_A_to_bat_6 = 0\n",
      "\n",
      "_C70: P_A_6 - 900 Y_6 <= 0\n",
      "\n",
      "_C71: P_A_6 - 200 Y_6 >= 0\n",
      "\n",
      "_C72: Y_6 >= 0\n",
      "\n",
      "_C73: Y_6 <= 1\n",
      "\n",
      "_C74: P_A_to_bat_6 - 900 Y_to_bat_6 <= 0\n",
      "\n",
      "_C75: P_From_bat_6 - 900 Y_from_bat_6 <= 0\n",
      "\n",
      "_C76: Y_from_bat_6 + Y_to_bat_6 <= 1\n",
      "\n",
      "_C77: - 0.98 P_A_to_bat_6 + P_From_bat_6 - Q_bat_5 + Q_bat_6 = 0\n",
      "\n",
      "_C78: FC_A_7 - 186.3 P_A_7 - 12060 Y_7 = -7.27595761418e-12\n",
      "\n",
      "_C79: P_A_load_7 + 0.98 P_From_bat_7 = 122.222222222\n",
      "\n",
      "_C80: - P_A_7 + P_A_load_7 + P_A_to_bat_7 = 0\n",
      "\n",
      "_C81: P_A_7 - 900 Y_7 <= 0\n",
      "\n",
      "_C82: P_A_7 - 200 Y_7 >= 0\n",
      "\n",
      "_C83: Y_7 >= 0\n",
      "\n",
      "_C84: Y_7 <= 1\n",
      "\n",
      "_C85: P_A_to_bat_7 - 900 Y_to_bat_7 <= 0\n",
      "\n",
      "_C86: P_From_bat_7 - 900 Y_from_bat_7 <= 0\n",
      "\n",
      "_C87: Y_from_bat_7 + Y_to_bat_7 <= 1\n",
      "\n",
      "_C88: - 0.98 P_A_to_bat_7 + P_From_bat_7 - Q_bat_6 + Q_bat_7 = 0\n",
      "\n",
      "_C89: FC_A_8 - 186.3 P_A_8 - 12060 Y_8 = -7.27595761418e-12\n",
      "\n",
      "_C90: P_A_load_8 + 0.98 P_From_bat_8 = 111.111111111\n",
      "\n",
      "_C91: - P_A_8 + P_A_load_8 + P_A_to_bat_8 = 0\n",
      "\n",
      "_C92: P_A_8 - 900 Y_8 <= 0\n",
      "\n",
      "_C93: P_A_8 - 200 Y_8 >= 0\n",
      "\n",
      "_C94: Y_8 >= 0\n",
      "\n",
      "_C95: Y_8 <= 1\n",
      "\n",
      "_C96: P_A_to_bat_8 - 900 Y_to_bat_8 <= 0\n",
      "\n",
      "_C97: P_From_bat_8 - 900 Y_from_bat_8 <= 0\n",
      "\n",
      "_C98: Y_from_bat_8 + Y_to_bat_8 <= 1\n",
      "\n",
      "_C99: - 0.98 P_A_to_bat_8 + P_From_bat_8 - Q_bat_7 + Q_bat_8 = 0\n",
      "\n",
      "_C100: FC_A_9 - 186.3 P_A_9 - 12060 Y_9 = -7.27595761418e-12\n",
      "\n",
      "_C101: P_A_load_9 + 0.98 P_From_bat_9 = 100\n",
      "\n",
      "_C102: - P_A_9 + P_A_load_9 + P_A_to_bat_9 = 0\n",
      "\n",
      "_C103: P_A_9 - 900 Y_9 <= 0\n",
      "\n",
      "_C104: P_A_9 - 200 Y_9 >= 0\n",
      "\n",
      "_C105: Y_9 >= 0\n",
      "\n",
      "_C106: Y_9 <= 1\n",
      "\n",
      "_C107: P_A_to_bat_9 - 900 Y_to_bat_9 <= 0\n",
      "\n",
      "_C108: P_From_bat_9 - 900 Y_from_bat_9 <= 0\n",
      "\n",
      "_C109: Y_from_bat_9 + Y_to_bat_9 <= 1\n",
      "\n",
      "_C110: - 0.98 P_A_to_bat_9 + P_From_bat_9 - Q_bat_8 + Q_bat_9 = 0\n",
      "\n",
      "_C111: FC_A_10 - 186.3 P_A_10 - 12060 Y_10 = -7.27595761418e-12\n",
      "\n",
      "_C112: P_A_load_10 + 0.98 P_From_bat_10 = 100\n",
      "\n",
      "_C113: - P_A_10 + P_A_load_10 + P_A_to_bat_10 = 0\n",
      "\n",
      "_C114: P_A_10 - 900 Y_10 <= 0\n",
      "\n",
      "_C115: P_A_10 - 200 Y_10 >= 0\n",
      "\n",
      "_C116: Y_10 >= 0\n",
      "\n",
      "_C117: Y_10 <= 1\n",
      "\n",
      "_C118: P_A_to_bat_10 - 900 Y_to_bat_10 <= 0\n",
      "\n",
      "_C119: P_From_bat_10 - 900 Y_from_bat_10 <= 0\n",
      "\n",
      "_C120: Y_from_bat_10 + Y_to_bat_10 <= 1\n",
      "\n",
      "_C121: - 0.98 P_A_to_bat_10 + P_From_bat_10 + Q_bat_10 - Q_bat_9 = 0\n",
      "\n",
      "_C122: FC_A_11 - 186.3 P_A_11 - 12060 Y_11 = -7.27595761418e-12\n",
      "\n",
      "_C123: P_A_load_11 + 0.98 P_From_bat_11 = 122.222222222\n",
      "\n",
      "_C124: - P_A_11 + P_A_load_11 + P_A_to_bat_11 = 0\n",
      "\n",
      "_C125: P_A_11 - 900 Y_11 <= 0\n",
      "\n",
      "_C126: P_A_11 - 200 Y_11 >= 0\n",
      "\n",
      "_C127: Y_11 >= 0\n",
      "\n",
      "_C128: Y_11 <= 1\n",
      "\n",
      "_C129: P_A_to_bat_11 - 900 Y_to_bat_11 <= 0\n",
      "\n",
      "_C130: P_From_bat_11 - 900 Y_from_bat_11 <= 0\n",
      "\n",
      "_C131: Y_from_bat_11 + Y_to_bat_11 <= 1\n",
      "\n",
      "_C132: - 0.98 P_A_to_bat_11 + P_From_bat_11 - Q_bat_10 + Q_bat_11 = 0\n",
      "\n",
      "_C133: FC_A_12 - 186.3 P_A_12 - 12060 Y_12 = -7.27595761418e-12\n",
      "\n",
      "_C134: P_A_load_12 + 0.98 P_From_bat_12 = 144.444444444\n",
      "\n",
      "_C135: - P_A_12 + P_A_load_12 + P_A_to_bat_12 = 0\n",
      "\n",
      "_C136: P_A_12 - 900 Y_12 <= 0\n",
      "\n",
      "_C137: P_A_12 - 200 Y_12 >= 0\n",
      "\n",
      "_C138: Y_12 >= 0\n",
      "\n",
      "_C139: Y_12 <= 1\n",
      "\n",
      "_C140: P_A_to_bat_12 - 900 Y_to_bat_12 <= 0\n",
      "\n",
      "_C141: P_From_bat_12 - 900 Y_from_bat_12 <= 0\n",
      "\n",
      "_C142: Y_from_bat_12 + Y_to_bat_12 <= 1\n",
      "\n",
      "_C143: - 0.98 P_A_to_bat_12 + P_From_bat_12 - Q_bat_11 + Q_bat_12 = 0\n",
      "\n",
      "_C144: FC_A_13 - 186.3 P_A_13 - 12060 Y_13 = -7.27595761418e-12\n",
      "\n",
      "_C145: P_A_load_13 + 0.98 P_From_bat_13 = 166.666666667\n",
      "\n",
      "_C146: - P_A_13 + P_A_load_13 + P_A_to_bat_13 = 0\n",
      "\n",
      "_C147: P_A_13 - 900 Y_13 <= 0\n",
      "\n",
      "_C148: P_A_13 - 200 Y_13 >= 0\n",
      "\n",
      "_C149: Y_13 >= 0\n",
      "\n",
      "_C150: Y_13 <= 1\n",
      "\n",
      "_C151: P_A_to_bat_13 - 900 Y_to_bat_13 <= 0\n",
      "\n",
      "_C152: P_From_bat_13 - 900 Y_from_bat_13 <= 0\n",
      "\n",
      "_C153: Y_from_bat_13 + Y_to_bat_13 <= 1\n",
      "\n",
      "_C154: - 0.98 P_A_to_bat_13 + P_From_bat_13 - Q_bat_12 + Q_bat_13 = 0\n",
      "\n",
      "_C155: FC_A_14 - 186.3 P_A_14 - 12060 Y_14 = -7.27595761418e-12\n",
      "\n",
      "_C156: P_A_load_14 + 0.98 P_From_bat_14 = 188.888888889\n",
      "\n",
      "_C157: - P_A_14 + P_A_load_14 + P_A_to_bat_14 = 0\n",
      "\n",
      "_C158: P_A_14 - 900 Y_14 <= 0\n",
      "\n",
      "_C159: P_A_14 - 200 Y_14 >= 0\n",
      "\n",
      "_C160: Y_14 >= 0\n",
      "\n",
      "_C161: Y_14 <= 1\n",
      "\n",
      "_C162: P_A_to_bat_14 - 900 Y_to_bat_14 <= 0\n",
      "\n",
      "_C163: P_From_bat_14 - 900 Y_from_bat_14 <= 0\n",
      "\n",
      "_C164: Y_from_bat_14 + Y_to_bat_14 <= 1\n",
      "\n",
      "_C165: - 0.98 P_A_to_bat_14 + P_From_bat_14 - Q_bat_13 + Q_bat_14 = 0\n",
      "\n",
      "_C166: FC_A_15 - 186.3 P_A_15 - 12060 Y_15 = -7.27595761418e-12\n",
      "\n",
      "_C167: P_A_load_15 + 0.98 P_From_bat_15 = 211.111111111\n",
      "\n",
      "_C168: - P_A_15 + P_A_load_15 + P_A_to_bat_15 = 0\n",
      "\n",
      "_C169: P_A_15 - 900 Y_15 <= 0\n",
      "\n",
      "_C170: P_A_15 - 200 Y_15 >= 0\n",
      "\n",
      "_C171: Y_15 >= 0\n",
      "\n",
      "_C172: Y_15 <= 1\n",
      "\n",
      "_C173: P_A_to_bat_15 - 900 Y_to_bat_15 <= 0\n",
      "\n",
      "_C174: P_From_bat_15 - 900 Y_from_bat_15 <= 0\n",
      "\n",
      "_C175: Y_from_bat_15 + Y_to_bat_15 <= 1\n",
      "\n",
      "_C176: - 0.98 P_A_to_bat_15 + P_From_bat_15 - Q_bat_14 + Q_bat_15 = 0\n",
      "\n",
      "_C177: FC_A_16 - 186.3 P_A_16 - 12060 Y_16 = -7.27595761418e-12\n",
      "\n",
      "_C178: P_A_load_16 + 0.98 P_From_bat_16 = 233.333333333\n",
      "\n",
      "_C179: - P_A_16 + P_A_load_16 + P_A_to_bat_16 = 0\n",
      "\n",
      "_C180: P_A_16 - 900 Y_16 <= 0\n",
      "\n",
      "_C181: P_A_16 - 200 Y_16 >= 0\n",
      "\n",
      "_C182: Y_16 >= 0\n",
      "\n",
      "_C183: Y_16 <= 1\n",
      "\n",
      "_C184: P_A_to_bat_16 - 900 Y_to_bat_16 <= 0\n",
      "\n",
      "_C185: P_From_bat_16 - 900 Y_from_bat_16 <= 0\n",
      "\n",
      "_C186: Y_from_bat_16 + Y_to_bat_16 <= 1\n",
      "\n",
      "_C187: - 0.98 P_A_to_bat_16 + P_From_bat_16 - Q_bat_15 + Q_bat_16 = 0\n",
      "\n",
      "_C188: FC_A_17 - 186.3 P_A_17 - 12060 Y_17 = -7.27595761418e-12\n",
      "\n",
      "_C189: P_A_load_17 + 0.98 P_From_bat_17 = 255.555555556\n",
      "\n",
      "_C190: - P_A_17 + P_A_load_17 + P_A_to_bat_17 = 0\n",
      "\n",
      "_C191: P_A_17 - 900 Y_17 <= 0\n",
      "\n",
      "_C192: P_A_17 - 200 Y_17 >= 0\n",
      "\n",
      "_C193: Y_17 >= 0\n",
      "\n",
      "_C194: Y_17 <= 1\n",
      "\n",
      "_C195: P_A_to_bat_17 - 900 Y_to_bat_17 <= 0\n",
      "\n",
      "_C196: P_From_bat_17 - 900 Y_from_bat_17 <= 0\n",
      "\n",
      "_C197: Y_from_bat_17 + Y_to_bat_17 <= 1\n",
      "\n",
      "_C198: - 0.98 P_A_to_bat_17 + P_From_bat_17 - Q_bat_16 + Q_bat_17 = 0\n",
      "\n",
      "_C199: FC_A_18 - 186.3 P_A_18 - 12060 Y_18 = -7.27595761418e-12\n",
      "\n",
      "_C200: P_A_load_18 + 0.98 P_From_bat_18 = 277.777777778\n",
      "\n",
      "_C201: - P_A_18 + P_A_load_18 + P_A_to_bat_18 = 0\n",
      "\n",
      "_C202: P_A_18 - 900 Y_18 <= 0\n",
      "\n",
      "_C203: P_A_18 - 200 Y_18 >= 0\n",
      "\n",
      "_C204: Y_18 >= 0\n",
      "\n",
      "_C205: Y_18 <= 1\n",
      "\n",
      "_C206: P_A_to_bat_18 - 900 Y_to_bat_18 <= 0\n",
      "\n",
      "_C207: P_From_bat_18 - 900 Y_from_bat_18 <= 0\n",
      "\n",
      "_C208: Y_from_bat_18 + Y_to_bat_18 <= 1\n",
      "\n",
      "_C209: - 0.98 P_A_to_bat_18 + P_From_bat_18 - Q_bat_17 + Q_bat_18 = 0\n",
      "\n",
      "_C210: FC_A_19 - 186.3 P_A_19 - 12060 Y_19 = -7.27595761418e-12\n",
      "\n",
      "_C211: P_A_load_19 + 0.98 P_From_bat_19 = 300\n",
      "\n",
      "_C212: - P_A_19 + P_A_load_19 + P_A_to_bat_19 = 0\n",
      "\n",
      "_C213: P_A_19 - 900 Y_19 <= 0\n",
      "\n",
      "_C214: P_A_19 - 200 Y_19 >= 0\n",
      "\n",
      "_C215: Y_19 >= 0\n",
      "\n",
      "_C216: Y_19 <= 1\n",
      "\n",
      "_C217: P_A_to_bat_19 - 900 Y_to_bat_19 <= 0\n",
      "\n",
      "_C218: P_From_bat_19 - 900 Y_from_bat_19 <= 0\n",
      "\n",
      "_C219: Y_from_bat_19 + Y_to_bat_19 <= 1\n",
      "\n",
      "_C220: - 0.98 P_A_to_bat_19 + P_From_bat_19 - Q_bat_18 + Q_bat_19 = 0\n",
      "\n",
      "_C221: FC_A_20 - 186.3 P_A_20 - 12060 Y_20 = -7.27595761418e-12\n",
      "\n",
      "_C222: P_A_load_20 + 0.98 P_From_bat_20 = 300\n",
      "\n",
      "_C223: - P_A_20 + P_A_load_20 + P_A_to_bat_20 = 0\n",
      "\n",
      "_C224: P_A_20 - 900 Y_20 <= 0\n",
      "\n",
      "_C225: P_A_20 - 200 Y_20 >= 0\n",
      "\n",
      "_C226: Y_20 >= 0\n",
      "\n",
      "_C227: Y_20 <= 1\n",
      "\n",
      "_C228: P_A_to_bat_20 - 900 Y_to_bat_20 <= 0\n",
      "\n",
      "_C229: P_From_bat_20 - 900 Y_from_bat_20 <= 0\n",
      "\n",
      "_C230: Y_from_bat_20 + Y_to_bat_20 <= 1\n",
      "\n",
      "_C231: - 0.98 P_A_to_bat_20 + P_From_bat_20 - Q_bat_19 + Q_bat_20 = 0\n",
      "\n",
      "_C232: FC_A_21 - 186.3 P_A_21 - 12060 Y_21 = -7.27595761418e-12\n",
      "\n",
      "_C233: P_A_load_21 + 0.98 P_From_bat_21 = 283.333333333\n",
      "\n",
      "_C234: - P_A_21 + P_A_load_21 + P_A_to_bat_21 = 0\n",
      "\n",
      "_C235: P_A_21 - 900 Y_21 <= 0\n",
      "\n",
      "_C236: P_A_21 - 200 Y_21 >= 0\n",
      "\n",
      "_C237: Y_21 >= 0\n",
      "\n",
      "_C238: Y_21 <= 1\n",
      "\n",
      "_C239: P_A_to_bat_21 - 900 Y_to_bat_21 <= 0\n",
      "\n",
      "_C240: P_From_bat_21 - 900 Y_from_bat_21 <= 0\n",
      "\n",
      "_C241: Y_from_bat_21 + Y_to_bat_21 <= 1\n",
      "\n",
      "_C242: - 0.98 P_A_to_bat_21 + P_From_bat_21 - Q_bat_20 + Q_bat_21 = 0\n",
      "\n",
      "_C243: FC_A_22 - 186.3 P_A_22 - 12060 Y_22 = -7.27595761418e-12\n",
      "\n",
      "_C244: P_A_load_22 + 0.98 P_From_bat_22 = 266.666666667\n",
      "\n",
      "_C245: - P_A_22 + P_A_load_22 + P_A_to_bat_22 = 0\n",
      "\n",
      "_C246: P_A_22 - 900 Y_22 <= 0\n",
      "\n",
      "_C247: P_A_22 - 200 Y_22 >= 0\n",
      "\n",
      "_C248: Y_22 >= 0\n",
      "\n",
      "_C249: Y_22 <= 1\n",
      "\n",
      "_C250: P_A_to_bat_22 - 900 Y_to_bat_22 <= 0\n",
      "\n",
      "_C251: P_From_bat_22 - 900 Y_from_bat_22 <= 0\n",
      "\n",
      "_C252: Y_from_bat_22 + Y_to_bat_22 <= 1\n",
      "\n",
      "_C253: - 0.98 P_A_to_bat_22 + P_From_bat_22 - Q_bat_21 + Q_bat_22 = 0\n",
      "\n",
      "_C254: FC_A_23 - 186.3 P_A_23 - 12060 Y_23 = -7.27595761418e-12\n",
      "\n",
      "_C255: P_A_load_23 + 0.98 P_From_bat_23 = 250\n",
      "\n",
      "_C256: - P_A_23 + P_A_load_23 + P_A_to_bat_23 = 0\n",
      "\n",
      "_C257: P_A_23 - 900 Y_23 <= 0\n",
      "\n",
      "_C258: P_A_23 - 200 Y_23 >= 0\n",
      "\n",
      "_C259: Y_23 >= 0\n",
      "\n",
      "_C260: Y_23 <= 1\n",
      "\n",
      "_C261: P_A_to_bat_23 - 900 Y_to_bat_23 <= 0\n",
      "\n",
      "_C262: P_From_bat_23 - 900 Y_from_bat_23 <= 0\n",
      "\n",
      "_C263: Y_from_bat_23 + Y_to_bat_23 <= 1\n",
      "\n",
      "_C264: - 0.98 P_A_to_bat_23 + P_From_bat_23 - Q_bat_22 + Q_bat_23 = 0\n",
      "\n",
      "_C265: FC_A_24 - 186.3 P_A_24 - 12060 Y_24 = -7.27595761418e-12\n",
      "\n",
      "_C266: P_A_load_24 + 0.98 P_From_bat_24 = 233.333333333\n",
      "\n",
      "_C267: - P_A_24 + P_A_load_24 + P_A_to_bat_24 = 0\n",
      "\n",
      "_C268: P_A_24 - 900 Y_24 <= 0\n",
      "\n",
      "_C269: P_A_24 - 200 Y_24 >= 0\n",
      "\n",
      "_C270: Y_24 >= 0\n",
      "\n",
      "_C271: Y_24 <= 1\n",
      "\n",
      "_C272: P_A_to_bat_24 - 900 Y_to_bat_24 <= 0\n",
      "\n",
      "_C273: P_From_bat_24 - 900 Y_from_bat_24 <= 0\n",
      "\n",
      "_C274: Y_from_bat_24 + Y_to_bat_24 <= 1\n",
      "\n",
      "_C275: - 0.98 P_A_to_bat_24 + P_From_bat_24 - Q_bat_23 + Q_bat_24 = 0\n",
      "\n",
      "_C276: FC_A_25 - 186.3 P_A_25 - 12060 Y_25 = -7.27595761418e-12\n",
      "\n",
      "_C277: P_A_load_25 + 0.98 P_From_bat_25 = 216.666666667\n",
      "\n",
      "_C278: - P_A_25 + P_A_load_25 + P_A_to_bat_25 = 0\n",
      "\n",
      "_C279: P_A_25 - 900 Y_25 <= 0\n",
      "\n",
      "_C280: P_A_25 - 200 Y_25 >= 0\n",
      "\n",
      "_C281: Y_25 >= 0\n",
      "\n",
      "_C282: Y_25 <= 1\n",
      "\n",
      "_C283: P_A_to_bat_25 - 900 Y_to_bat_25 <= 0\n",
      "\n",
      "_C284: P_From_bat_25 - 900 Y_from_bat_25 <= 0\n",
      "\n",
      "_C285: Y_from_bat_25 + Y_to_bat_25 <= 1\n",
      "\n",
      "_C286: - 0.98 P_A_to_bat_25 + P_From_bat_25 - Q_bat_24 + Q_bat_25 = 0\n",
      "\n",
      "_C287: FC_A_26 - 186.3 P_A_26 - 12060 Y_26 = -7.27595761418e-12\n",
      "\n",
      "_C288: P_A_load_26 + 0.98 P_From_bat_26 = 200\n",
      "\n",
      "_C289: - P_A_26 + P_A_load_26 + P_A_to_bat_26 = 0\n",
      "\n",
      "_C290: P_A_26 - 900 Y_26 <= 0\n",
      "\n",
      "_C291: P_A_26 - 200 Y_26 >= 0\n",
      "\n",
      "_C292: Y_26 >= 0\n",
      "\n",
      "_C293: Y_26 <= 1\n",
      "\n",
      "_C294: P_A_to_bat_26 - 900 Y_to_bat_26 <= 0\n",
      "\n",
      "_C295: P_From_bat_26 - 900 Y_from_bat_26 <= 0\n",
      "\n",
      "_C296: Y_from_bat_26 + Y_to_bat_26 <= 1\n",
      "\n",
      "_C297: - 0.98 P_A_to_bat_26 + P_From_bat_26 - Q_bat_25 + Q_bat_26 = 0\n",
      "\n",
      "_C298: FC_A_27 - 186.3 P_A_27 - 12060 Y_27 = -7.27595761418e-12\n",
      "\n",
      "_C299: P_A_load_27 + 0.98 P_From_bat_27 = 183.333333333\n",
      "\n",
      "_C300: - P_A_27 + P_A_load_27 + P_A_to_bat_27 = 0\n",
      "\n",
      "_C301: P_A_27 - 900 Y_27 <= 0\n",
      "\n",
      "_C302: P_A_27 - 200 Y_27 >= 0\n",
      "\n",
      "_C303: Y_27 >= 0\n",
      "\n",
      "_C304: Y_27 <= 1\n",
      "\n",
      "_C305: P_A_to_bat_27 - 900 Y_to_bat_27 <= 0\n",
      "\n",
      "_C306: P_From_bat_27 - 900 Y_from_bat_27 <= 0\n",
      "\n",
      "_C307: Y_from_bat_27 + Y_to_bat_27 <= 1\n",
      "\n",
      "_C308: - 0.98 P_A_to_bat_27 + P_From_bat_27 - Q_bat_26 + Q_bat_27 = 0\n",
      "\n",
      "_C309: FC_A_28 - 186.3 P_A_28 - 12060 Y_28 = -7.27595761418e-12\n",
      "\n",
      "_C310: P_A_load_28 + 0.98 P_From_bat_28 = 166.666666667\n",
      "\n",
      "_C311: - P_A_28 + P_A_load_28 + P_A_to_bat_28 = 0\n",
      "\n",
      "_C312: P_A_28 - 900 Y_28 <= 0\n",
      "\n",
      "_C313: P_A_28 - 200 Y_28 >= 0\n",
      "\n",
      "_C314: Y_28 >= 0\n",
      "\n",
      "_C315: Y_28 <= 1\n",
      "\n",
      "_C316: P_A_to_bat_28 - 900 Y_to_bat_28 <= 0\n",
      "\n",
      "_C317: P_From_bat_28 - 900 Y_from_bat_28 <= 0\n",
      "\n",
      "_C318: Y_from_bat_28 + Y_to_bat_28 <= 1\n",
      "\n",
      "_C319: - 0.98 P_A_to_bat_28 + P_From_bat_28 - Q_bat_27 + Q_bat_28 = 0\n",
      "\n",
      "_C320: FC_A_29 - 186.3 P_A_29 - 12060 Y_29 = -7.27595761418e-12\n",
      "\n",
      "_C321: P_A_load_29 + 0.98 P_From_bat_29 = 150\n",
      "\n",
      "_C322: - P_A_29 + P_A_load_29 + P_A_to_bat_29 = 0\n",
      "\n",
      "_C323: P_A_29 - 900 Y_29 <= 0\n",
      "\n",
      "_C324: P_A_29 - 200 Y_29 >= 0\n",
      "\n",
      "_C325: Y_29 >= 0\n",
      "\n",
      "_C326: Y_29 <= 1\n",
      "\n",
      "_C327: P_A_to_bat_29 - 900 Y_to_bat_29 <= 0\n",
      "\n",
      "_C328: P_From_bat_29 - 900 Y_from_bat_29 <= 0\n",
      "\n",
      "_C329: Y_from_bat_29 + Y_to_bat_29 <= 1\n",
      "\n",
      "_C330: - 0.98 P_A_to_bat_29 + P_From_bat_29 - Q_bat_28 + Q_bat_29 = 0\n",
      "\n",
      "_C331: FC_A_30 - 186.3 P_A_30 - 12060 Y_30 = -7.27595761418e-12\n",
      "\n",
      "_C332: P_A_load_30 + 0.98 P_From_bat_30 = 150\n",
      "\n",
      "_C333: - P_A_30 + P_A_load_30 + P_A_to_bat_30 = 0\n",
      "\n",
      "_C334: P_A_30 - 900 Y_30 <= 0\n",
      "\n",
      "_C335: P_A_30 - 200 Y_30 >= 0\n",
      "\n",
      "_C336: Y_30 >= 0\n",
      "\n",
      "_C337: Y_30 <= 1\n",
      "\n",
      "_C338: P_A_to_bat_30 - 900 Y_to_bat_30 <= 0\n",
      "\n",
      "_C339: P_From_bat_30 - 900 Y_from_bat_30 <= 0\n",
      "\n",
      "_C340: Y_from_bat_30 + Y_to_bat_30 <= 1\n",
      "\n",
      "_C341: - 0.98 P_A_to_bat_30 + P_From_bat_30 - Q_bat_29 + Q_bat_30 = 0\n",
      "\n",
      "_C342: FC_A_31 - 186.3 P_A_31 - 12060 Y_31 = -7.27595761418e-12\n",
      "\n",
      "_C343: P_A_load_31 + 0.98 P_From_bat_31 = 153.448275862\n",
      "\n",
      "_C344: - P_A_31 + P_A_load_31 + P_A_to_bat_31 = 0\n",
      "\n",
      "_C345: P_A_31 - 900 Y_31 <= 0\n",
      "\n",
      "_C346: P_A_31 - 200 Y_31 >= 0\n",
      "\n",
      "_C347: Y_31 >= 0\n",
      "\n",
      "_C348: Y_31 <= 1\n",
      "\n",
      "_C349: P_A_to_bat_31 - 900 Y_to_bat_31 <= 0\n",
      "\n",
      "_C350: P_From_bat_31 - 900 Y_from_bat_31 <= 0\n",
      "\n",
      "_C351: Y_from_bat_31 + Y_to_bat_31 <= 1\n",
      "\n",
      "_C352: - 0.98 P_A_to_bat_31 + P_From_bat_31 - Q_bat_30 + Q_bat_31 = 0\n",
      "\n",
      "_C353: FC_A_32 - 186.3 P_A_32 - 12060 Y_32 = -7.27595761418e-12\n",
      "\n",
      "_C354: P_A_load_32 + 0.98 P_From_bat_32 = 156.896551724\n",
      "\n",
      "_C355: - P_A_32 + P_A_load_32 + P_A_to_bat_32 = 0\n",
      "\n",
      "_C356: P_A_32 - 900 Y_32 <= 0\n",
      "\n",
      "_C357: P_A_32 - 200 Y_32 >= 0\n",
      "\n",
      "_C358: Y_32 >= 0\n",
      "\n",
      "_C359: Y_32 <= 1\n",
      "\n",
      "_C360: P_A_to_bat_32 - 900 Y_to_bat_32 <= 0\n",
      "\n",
      "_C361: P_From_bat_32 - 900 Y_from_bat_32 <= 0\n",
      "\n",
      "_C362: Y_from_bat_32 + Y_to_bat_32 <= 1\n",
      "\n",
      "_C363: - 0.98 P_A_to_bat_32 + P_From_bat_32 - Q_bat_31 + Q_bat_32 = 0\n",
      "\n",
      "_C364: FC_A_33 - 186.3 P_A_33 - 12060 Y_33 = -7.27595761418e-12\n",
      "\n",
      "_C365: P_A_load_33 + 0.98 P_From_bat_33 = 160.344827586\n",
      "\n",
      "_C366: - P_A_33 + P_A_load_33 + P_A_to_bat_33 = 0\n",
      "\n",
      "_C367: P_A_33 - 900 Y_33 <= 0\n",
      "\n",
      "_C368: P_A_33 - 200 Y_33 >= 0\n",
      "\n",
      "_C369: Y_33 >= 0\n",
      "\n",
      "_C370: Y_33 <= 1\n",
      "\n",
      "_C371: P_A_to_bat_33 - 900 Y_to_bat_33 <= 0\n",
      "\n",
      "_C372: P_From_bat_33 - 900 Y_from_bat_33 <= 0\n",
      "\n",
      "_C373: Y_from_bat_33 + Y_to_bat_33 <= 1\n",
      "\n",
      "_C374: - 0.98 P_A_to_bat_33 + P_From_bat_33 - Q_bat_32 + Q_bat_33 = 0\n",
      "\n",
      "_C375: FC_A_34 - 186.3 P_A_34 - 12060 Y_34 = -7.27595761418e-12\n",
      "\n",
      "_C376: P_A_load_34 + 0.98 P_From_bat_34 = 163.793103448\n",
      "\n",
      "_C377: - P_A_34 + P_A_load_34 + P_A_to_bat_34 = 0\n",
      "\n",
      "_C378: P_A_34 - 900 Y_34 <= 0\n",
      "\n",
      "_C379: P_A_34 - 200 Y_34 >= 0\n",
      "\n",
      "_C380: Y_34 >= 0\n",
      "\n",
      "_C381: Y_34 <= 1\n",
      "\n",
      "_C382: P_A_to_bat_34 - 900 Y_to_bat_34 <= 0\n",
      "\n",
      "_C383: P_From_bat_34 - 900 Y_from_bat_34 <= 0\n",
      "\n",
      "_C384: Y_from_bat_34 + Y_to_bat_34 <= 1\n",
      "\n",
      "_C385: - 0.98 P_A_to_bat_34 + P_From_bat_34 - Q_bat_33 + Q_bat_34 = 0\n",
      "\n",
      "_C386: FC_A_35 - 186.3 P_A_35 - 12060 Y_35 = -7.27595761418e-12\n",
      "\n",
      "_C387: P_A_load_35 + 0.98 P_From_bat_35 = 167.24137931\n",
      "\n",
      "_C388: - P_A_35 + P_A_load_35 + P_A_to_bat_35 = 0\n",
      "\n",
      "_C389: P_A_35 - 900 Y_35 <= 0\n",
      "\n",
      "_C390: P_A_35 - 200 Y_35 >= 0\n",
      "\n",
      "_C391: Y_35 >= 0\n",
      "\n",
      "_C392: Y_35 <= 1\n",
      "\n",
      "_C393: P_A_to_bat_35 - 900 Y_to_bat_35 <= 0\n",
      "\n",
      "_C394: P_From_bat_35 - 900 Y_from_bat_35 <= 0\n",
      "\n",
      "_C395: Y_from_bat_35 + Y_to_bat_35 <= 1\n",
      "\n",
      "_C396: - 0.98 P_A_to_bat_35 + P_From_bat_35 - Q_bat_34 + Q_bat_35 = 0\n",
      "\n",
      "_C397: FC_A_36 - 186.3 P_A_36 - 12060 Y_36 = -7.27595761418e-12\n",
      "\n",
      "_C398: P_A_load_36 + 0.98 P_From_bat_36 = 170.689655172\n",
      "\n",
      "_C399: - P_A_36 + P_A_load_36 + P_A_to_bat_36 = 0\n",
      "\n",
      "_C400: P_A_36 - 900 Y_36 <= 0\n",
      "\n",
      "_C401: P_A_36 - 200 Y_36 >= 0\n",
      "\n",
      "_C402: Y_36 >= 0\n",
      "\n",
      "_C403: Y_36 <= 1\n",
      "\n",
      "_C404: P_A_to_bat_36 - 900 Y_to_bat_36 <= 0\n",
      "\n",
      "_C405: P_From_bat_36 - 900 Y_from_bat_36 <= 0\n",
      "\n",
      "_C406: Y_from_bat_36 + Y_to_bat_36 <= 1\n",
      "\n",
      "_C407: - 0.98 P_A_to_bat_36 + P_From_bat_36 - Q_bat_35 + Q_bat_36 = 0\n",
      "\n",
      "_C408: FC_A_37 - 186.3 P_A_37 - 12060 Y_37 = -7.27595761418e-12\n",
      "\n",
      "_C409: P_A_load_37 + 0.98 P_From_bat_37 = 174.137931034\n",
      "\n",
      "_C410: - P_A_37 + P_A_load_37 + P_A_to_bat_37 = 0\n",
      "\n",
      "_C411: P_A_37 - 900 Y_37 <= 0\n",
      "\n",
      "_C412: P_A_37 - 200 Y_37 >= 0\n",
      "\n",
      "_C413: Y_37 >= 0\n",
      "\n",
      "_C414: Y_37 <= 1\n",
      "\n",
      "_C415: P_A_to_bat_37 - 900 Y_to_bat_37 <= 0\n",
      "\n",
      "_C416: P_From_bat_37 - 900 Y_from_bat_37 <= 0\n",
      "\n",
      "_C417: Y_from_bat_37 + Y_to_bat_37 <= 1\n",
      "\n",
      "_C418: - 0.98 P_A_to_bat_37 + P_From_bat_37 - Q_bat_36 + Q_bat_37 = 0\n",
      "\n",
      "_C419: FC_A_38 - 186.3 P_A_38 - 12060 Y_38 = -7.27595761418e-12\n",
      "\n",
      "_C420: P_A_load_38 + 0.98 P_From_bat_38 = 177.586206897\n",
      "\n",
      "_C421: - P_A_38 + P_A_load_38 + P_A_to_bat_38 = 0\n",
      "\n",
      "_C422: P_A_38 - 900 Y_38 <= 0\n",
      "\n",
      "_C423: P_A_38 - 200 Y_38 >= 0\n",
      "\n",
      "_C424: Y_38 >= 0\n",
      "\n",
      "_C425: Y_38 <= 1\n",
      "\n",
      "_C426: P_A_to_bat_38 - 900 Y_to_bat_38 <= 0\n",
      "\n",
      "_C427: P_From_bat_38 - 900 Y_from_bat_38 <= 0\n",
      "\n",
      "_C428: Y_from_bat_38 + Y_to_bat_38 <= 1\n",
      "\n",
      "_C429: - 0.98 P_A_to_bat_38 + P_From_bat_38 - Q_bat_37 + Q_bat_38 = 0\n",
      "\n",
      "_C430: FC_A_39 - 186.3 P_A_39 - 12060 Y_39 = -7.27595761418e-12\n",
      "\n",
      "_C431: P_A_load_39 + 0.98 P_From_bat_39 = 181.034482759\n",
      "\n",
      "_C432: - P_A_39 + P_A_load_39 + P_A_to_bat_39 = 0\n",
      "\n",
      "_C433: P_A_39 - 900 Y_39 <= 0\n",
      "\n",
      "_C434: P_A_39 - 200 Y_39 >= 0\n",
      "\n",
      "_C435: Y_39 >= 0\n",
      "\n",
      "_C436: Y_39 <= 1\n",
      "\n",
      "_C437: P_A_to_bat_39 - 900 Y_to_bat_39 <= 0\n",
      "\n",
      "_C438: P_From_bat_39 - 900 Y_from_bat_39 <= 0\n",
      "\n",
      "_C439: Y_from_bat_39 + Y_to_bat_39 <= 1\n",
      "\n",
      "_C440: - 0.98 P_A_to_bat_39 + P_From_bat_39 - Q_bat_38 + Q_bat_39 = 0\n",
      "\n",
      "_C441: FC_A_40 - 186.3 P_A_40 - 12060 Y_40 = -7.27595761418e-12\n",
      "\n",
      "_C442: P_A_load_40 + 0.98 P_From_bat_40 = 184.482758621\n",
      "\n",
      "_C443: - P_A_40 + P_A_load_40 + P_A_to_bat_40 = 0\n",
      "\n",
      "_C444: P_A_40 - 900 Y_40 <= 0\n",
      "\n",
      "_C445: P_A_40 - 200 Y_40 >= 0\n",
      "\n",
      "_C446: Y_40 >= 0\n",
      "\n",
      "_C447: Y_40 <= 1\n",
      "\n",
      "_C448: P_A_to_bat_40 - 900 Y_to_bat_40 <= 0\n",
      "\n",
      "_C449: P_From_bat_40 - 900 Y_from_bat_40 <= 0\n",
      "\n",
      "_C450: Y_from_bat_40 + Y_to_bat_40 <= 1\n",
      "\n",
      "_C451: - 0.98 P_A_to_bat_40 + P_From_bat_40 - Q_bat_39 + Q_bat_40 = 0\n",
      "\n",
      "_C452: FC_A_41 - 186.3 P_A_41 - 12060 Y_41 = -7.27595761418e-12\n",
      "\n",
      "_C453: P_A_load_41 + 0.98 P_From_bat_41 = 187.931034483\n",
      "\n",
      "_C454: - P_A_41 + P_A_load_41 + P_A_to_bat_41 = 0\n",
      "\n",
      "_C455: P_A_41 - 900 Y_41 <= 0\n",
      "\n",
      "_C456: P_A_41 - 200 Y_41 >= 0\n",
      "\n",
      "_C457: Y_41 >= 0\n",
      "\n",
      "_C458: Y_41 <= 1\n",
      "\n",
      "_C459: P_A_to_bat_41 - 900 Y_to_bat_41 <= 0\n",
      "\n",
      "_C460: P_From_bat_41 - 900 Y_from_bat_41 <= 0\n",
      "\n",
      "_C461: Y_from_bat_41 + Y_to_bat_41 <= 1\n",
      "\n",
      "_C462: - 0.98 P_A_to_bat_41 + P_From_bat_41 - Q_bat_40 + Q_bat_41 = 0\n",
      "\n",
      "_C463: FC_A_42 - 186.3 P_A_42 - 12060 Y_42 = -7.27595761418e-12\n",
      "\n",
      "_C464: P_A_load_42 + 0.98 P_From_bat_42 = 191.379310345\n",
      "\n",
      "_C465: - P_A_42 + P_A_load_42 + P_A_to_bat_42 = 0\n",
      "\n",
      "_C466: P_A_42 - 900 Y_42 <= 0\n",
      "\n",
      "_C467: P_A_42 - 200 Y_42 >= 0\n",
      "\n",
      "_C468: Y_42 >= 0\n",
      "\n",
      "_C469: Y_42 <= 1\n",
      "\n",
      "_C470: P_A_to_bat_42 - 900 Y_to_bat_42 <= 0\n",
      "\n",
      "_C471: P_From_bat_42 - 900 Y_from_bat_42 <= 0\n",
      "\n",
      "_C472: Y_from_bat_42 + Y_to_bat_42 <= 1\n",
      "\n",
      "_C473: - 0.98 P_A_to_bat_42 + P_From_bat_42 - Q_bat_41 + Q_bat_42 = 0\n",
      "\n",
      "_C474: FC_A_43 - 186.3 P_A_43 - 12060 Y_43 = -7.27595761418e-12\n",
      "\n",
      "_C475: P_A_load_43 + 0.98 P_From_bat_43 = 194.827586207\n",
      "\n",
      "_C476: - P_A_43 + P_A_load_43 + P_A_to_bat_43 = 0\n",
      "\n",
      "_C477: P_A_43 - 900 Y_43 <= 0\n",
      "\n",
      "_C478: P_A_43 - 200 Y_43 >= 0\n",
      "\n",
      "_C479: Y_43 >= 0\n",
      "\n",
      "_C480: Y_43 <= 1\n",
      "\n",
      "_C481: P_A_to_bat_43 - 900 Y_to_bat_43 <= 0\n",
      "\n",
      "_C482: P_From_bat_43 - 900 Y_from_bat_43 <= 0\n",
      "\n",
      "_C483: Y_from_bat_43 + Y_to_bat_43 <= 1\n",
      "\n",
      "_C484: - 0.98 P_A_to_bat_43 + P_From_bat_43 - Q_bat_42 + Q_bat_43 = 0\n",
      "\n",
      "_C485: FC_A_44 - 186.3 P_A_44 - 12060 Y_44 = -7.27595761418e-12\n",
      "\n",
      "_C486: P_A_load_44 + 0.98 P_From_bat_44 = 198.275862069\n",
      "\n",
      "_C487: - P_A_44 + P_A_load_44 + P_A_to_bat_44 = 0\n",
      "\n",
      "_C488: P_A_44 - 900 Y_44 <= 0\n",
      "\n",
      "_C489: P_A_44 - 200 Y_44 >= 0\n",
      "\n",
      "_C490: Y_44 >= 0\n",
      "\n",
      "_C491: Y_44 <= 1\n",
      "\n",
      "_C492: P_A_to_bat_44 - 900 Y_to_bat_44 <= 0\n",
      "\n",
      "_C493: P_From_bat_44 - 900 Y_from_bat_44 <= 0\n",
      "\n",
      "_C494: Y_from_bat_44 + Y_to_bat_44 <= 1\n",
      "\n",
      "_C495: - 0.98 P_A_to_bat_44 + P_From_bat_44 - Q_bat_43 + Q_bat_44 = 0\n",
      "\n",
      "_C496: FC_A_45 - 186.3 P_A_45 - 12060 Y_45 = -7.27595761418e-12\n",
      "\n",
      "_C497: P_A_load_45 + 0.98 P_From_bat_45 = 201.724137931\n",
      "\n",
      "_C498: - P_A_45 + P_A_load_45 + P_A_to_bat_45 = 0\n",
      "\n",
      "_C499: P_A_45 - 900 Y_45 <= 0\n",
      "\n",
      "_C500: P_A_45 - 200 Y_45 >= 0\n",
      "\n",
      "_C501: Y_45 >= 0\n",
      "\n",
      "_C502: Y_45 <= 1\n",
      "\n",
      "_C503: P_A_to_bat_45 - 900 Y_to_bat_45 <= 0\n",
      "\n",
      "_C504: P_From_bat_45 - 900 Y_from_bat_45 <= 0\n",
      "\n",
      "_C505: Y_from_bat_45 + Y_to_bat_45 <= 1\n",
      "\n",
      "_C506: - 0.98 P_A_to_bat_45 + P_From_bat_45 - Q_bat_44 + Q_bat_45 = 0\n",
      "\n",
      "_C507: FC_A_46 - 186.3 P_A_46 - 12060 Y_46 = -7.27595761418e-12\n",
      "\n",
      "_C508: P_A_load_46 + 0.98 P_From_bat_46 = 205.172413793\n",
      "\n",
      "_C509: - P_A_46 + P_A_load_46 + P_A_to_bat_46 = 0\n",
      "\n",
      "_C510: P_A_46 - 900 Y_46 <= 0\n",
      "\n",
      "_C511: P_A_46 - 200 Y_46 >= 0\n",
      "\n",
      "_C512: Y_46 >= 0\n",
      "\n",
      "_C513: Y_46 <= 1\n",
      "\n",
      "_C514: P_A_to_bat_46 - 900 Y_to_bat_46 <= 0\n",
      "\n",
      "_C515: P_From_bat_46 - 900 Y_from_bat_46 <= 0\n",
      "\n",
      "_C516: Y_from_bat_46 + Y_to_bat_46 <= 1\n",
      "\n",
      "_C517: - 0.98 P_A_to_bat_46 + P_From_bat_46 - Q_bat_45 + Q_bat_46 = 0\n",
      "\n",
      "_C518: FC_A_47 - 186.3 P_A_47 - 12060 Y_47 = -7.27595761418e-12\n",
      "\n",
      "_C519: P_A_load_47 + 0.98 P_From_bat_47 = 208.620689655\n",
      "\n",
      "_C520: - P_A_47 + P_A_load_47 + P_A_to_bat_47 = 0\n",
      "\n",
      "_C521: P_A_47 - 900 Y_47 <= 0\n",
      "\n",
      "_C522: P_A_47 - 200 Y_47 >= 0\n",
      "\n",
      "_C523: Y_47 >= 0\n",
      "\n",
      "_C524: Y_47 <= 1\n",
      "\n",
      "_C525: P_A_to_bat_47 - 900 Y_to_bat_47 <= 0\n",
      "\n",
      "_C526: P_From_bat_47 - 900 Y_from_bat_47 <= 0\n",
      "\n",
      "_C527: Y_from_bat_47 + Y_to_bat_47 <= 1\n",
      "\n",
      "_C528: - 0.98 P_A_to_bat_47 + P_From_bat_47 - Q_bat_46 + Q_bat_47 = 0\n",
      "\n",
      "_C529: FC_A_48 - 186.3 P_A_48 - 12060 Y_48 = -7.27595761418e-12\n",
      "\n",
      "_C530: P_A_load_48 + 0.98 P_From_bat_48 = 212.068965517\n",
      "\n",
      "_C531: - P_A_48 + P_A_load_48 + P_A_to_bat_48 = 0\n",
      "\n",
      "_C532: P_A_48 - 900 Y_48 <= 0\n",
      "\n",
      "_C533: P_A_48 - 200 Y_48 >= 0\n",
      "\n",
      "_C534: Y_48 >= 0\n",
      "\n",
      "_C535: Y_48 <= 1\n",
      "\n",
      "_C536: P_A_to_bat_48 - 900 Y_to_bat_48 <= 0\n",
      "\n",
      "_C537: P_From_bat_48 - 900 Y_from_bat_48 <= 0\n",
      "\n",
      "_C538: Y_from_bat_48 + Y_to_bat_48 <= 1\n",
      "\n",
      "_C539: - 0.98 P_A_to_bat_48 + P_From_bat_48 - Q_bat_47 + Q_bat_48 = 0\n",
      "\n",
      "_C540: FC_A_49 - 186.3 P_A_49 - 12060 Y_49 = -7.27595761418e-12\n",
      "\n",
      "_C541: P_A_load_49 + 0.98 P_From_bat_49 = 215.517241379\n",
      "\n",
      "_C542: - P_A_49 + P_A_load_49 + P_A_to_bat_49 = 0\n",
      "\n",
      "_C543: P_A_49 - 900 Y_49 <= 0\n",
      "\n",
      "_C544: P_A_49 - 200 Y_49 >= 0\n",
      "\n",
      "_C545: Y_49 >= 0\n",
      "\n",
      "_C546: Y_49 <= 1\n",
      "\n",
      "_C547: P_A_to_bat_49 - 900 Y_to_bat_49 <= 0\n",
      "\n",
      "_C548: P_From_bat_49 - 900 Y_from_bat_49 <= 0\n",
      "\n",
      "_C549: Y_from_bat_49 + Y_to_bat_49 <= 1\n",
      "\n",
      "_C550: - 0.98 P_A_to_bat_49 + P_From_bat_49 - Q_bat_48 + Q_bat_49 = 0\n",
      "\n",
      "_C551: FC_A_50 - 186.3 P_A_50 - 12060 Y_50 = -7.27595761418e-12\n",
      "\n",
      "_C552: P_A_load_50 + 0.98 P_From_bat_50 = 218.965517241\n",
      "\n",
      "_C553: - P_A_50 + P_A_load_50 + P_A_to_bat_50 = 0\n",
      "\n",
      "_C554: P_A_50 - 900 Y_50 <= 0\n",
      "\n",
      "_C555: P_A_50 - 200 Y_50 >= 0\n",
      "\n",
      "_C556: Y_50 >= 0\n",
      "\n",
      "_C557: Y_50 <= 1\n",
      "\n",
      "_C558: P_A_to_bat_50 - 900 Y_to_bat_50 <= 0\n",
      "\n",
      "_C559: P_From_bat_50 - 900 Y_from_bat_50 <= 0\n",
      "\n",
      "_C560: Y_from_bat_50 + Y_to_bat_50 <= 1\n",
      "\n",
      "_C561: - 0.98 P_A_to_bat_50 + P_From_bat_50 - Q_bat_49 + Q_bat_50 = 0\n",
      "\n",
      "_C562: FC_A_51 - 186.3 P_A_51 - 12060 Y_51 = -7.27595761418e-12\n",
      "\n",
      "_C563: P_A_load_51 + 0.98 P_From_bat_51 = 222.413793103\n",
      "\n",
      "_C564: - P_A_51 + P_A_load_51 + P_A_to_bat_51 = 0\n",
      "\n",
      "_C565: P_A_51 - 900 Y_51 <= 0\n",
      "\n",
      "_C566: P_A_51 - 200 Y_51 >= 0\n",
      "\n",
      "_C567: Y_51 >= 0\n",
      "\n",
      "_C568: Y_51 <= 1\n",
      "\n",
      "_C569: P_A_to_bat_51 - 900 Y_to_bat_51 <= 0\n",
      "\n",
      "_C570: P_From_bat_51 - 900 Y_from_bat_51 <= 0\n",
      "\n",
      "_C571: Y_from_bat_51 + Y_to_bat_51 <= 1\n",
      "\n",
      "_C572: - 0.98 P_A_to_bat_51 + P_From_bat_51 - Q_bat_50 + Q_bat_51 = 0\n",
      "\n",
      "_C573: FC_A_52 - 186.3 P_A_52 - 12060 Y_52 = -7.27595761418e-12\n",
      "\n",
      "_C574: P_A_load_52 + 0.98 P_From_bat_52 = 225.862068966\n",
      "\n",
      "_C575: - P_A_52 + P_A_load_52 + P_A_to_bat_52 = 0\n",
      "\n",
      "_C576: P_A_52 - 900 Y_52 <= 0\n",
      "\n",
      "_C577: P_A_52 - 200 Y_52 >= 0\n",
      "\n",
      "_C578: Y_52 >= 0\n",
      "\n",
      "_C579: Y_52 <= 1\n",
      "\n",
      "_C580: P_A_to_bat_52 - 900 Y_to_bat_52 <= 0\n",
      "\n",
      "_C581: P_From_bat_52 - 900 Y_from_bat_52 <= 0\n",
      "\n",
      "_C582: Y_from_bat_52 + Y_to_bat_52 <= 1\n",
      "\n",
      "_C583: - 0.98 P_A_to_bat_52 + P_From_bat_52 - Q_bat_51 + Q_bat_52 = 0\n",
      "\n",
      "_C584: FC_A_53 - 186.3 P_A_53 - 12060 Y_53 = -7.27595761418e-12\n",
      "\n",
      "_C585: P_A_load_53 + 0.98 P_From_bat_53 = 229.310344828\n",
      "\n",
      "_C586: - P_A_53 + P_A_load_53 + P_A_to_bat_53 = 0\n",
      "\n",
      "_C587: P_A_53 - 900 Y_53 <= 0\n",
      "\n",
      "_C588: P_A_53 - 200 Y_53 >= 0\n",
      "\n",
      "_C589: Y_53 >= 0\n",
      "\n",
      "_C590: Y_53 <= 1\n",
      "\n",
      "_C591: P_A_to_bat_53 - 900 Y_to_bat_53 <= 0\n",
      "\n",
      "_C592: P_From_bat_53 - 900 Y_from_bat_53 <= 0\n",
      "\n",
      "_C593: Y_from_bat_53 + Y_to_bat_53 <= 1\n",
      "\n",
      "_C594: - 0.98 P_A_to_bat_53 + P_From_bat_53 - Q_bat_52 + Q_bat_53 = 0\n",
      "\n",
      "_C595: FC_A_54 - 186.3 P_A_54 - 12060 Y_54 = -7.27595761418e-12\n",
      "\n",
      "_C596: P_A_load_54 + 0.98 P_From_bat_54 = 232.75862069\n",
      "\n",
      "_C597: - P_A_54 + P_A_load_54 + P_A_to_bat_54 = 0\n",
      "\n",
      "_C598: P_A_54 - 900 Y_54 <= 0\n",
      "\n",
      "_C599: P_A_54 - 200 Y_54 >= 0\n",
      "\n",
      "_C600: Y_54 >= 0\n",
      "\n",
      "_C601: Y_54 <= 1\n",
      "\n",
      "_C602: P_A_to_bat_54 - 900 Y_to_bat_54 <= 0\n",
      "\n",
      "_C603: P_From_bat_54 - 900 Y_from_bat_54 <= 0\n",
      "\n",
      "_C604: Y_from_bat_54 + Y_to_bat_54 <= 1\n",
      "\n",
      "_C605: - 0.98 P_A_to_bat_54 + P_From_bat_54 - Q_bat_53 + Q_bat_54 = 0\n",
      "\n",
      "_C606: FC_A_55 - 186.3 P_A_55 - 12060 Y_55 = -7.27595761418e-12\n",
      "\n",
      "_C607: P_A_load_55 + 0.98 P_From_bat_55 = 236.206896552\n",
      "\n",
      "_C608: - P_A_55 + P_A_load_55 + P_A_to_bat_55 = 0\n",
      "\n",
      "_C609: P_A_55 - 900 Y_55 <= 0\n",
      "\n",
      "_C610: P_A_55 - 200 Y_55 >= 0\n",
      "\n",
      "_C611: Y_55 >= 0\n",
      "\n",
      "_C612: Y_55 <= 1\n",
      "\n",
      "_C613: P_A_to_bat_55 - 900 Y_to_bat_55 <= 0\n",
      "\n",
      "_C614: P_From_bat_55 - 900 Y_from_bat_55 <= 0\n",
      "\n",
      "_C615: Y_from_bat_55 + Y_to_bat_55 <= 1\n",
      "\n",
      "_C616: - 0.98 P_A_to_bat_55 + P_From_bat_55 - Q_bat_54 + Q_bat_55 = 0\n",
      "\n",
      "_C617: FC_A_56 - 186.3 P_A_56 - 12060 Y_56 = -7.27595761418e-12\n",
      "\n",
      "_C618: P_A_load_56 + 0.98 P_From_bat_56 = 239.655172414\n",
      "\n",
      "_C619: - P_A_56 + P_A_load_56 + P_A_to_bat_56 = 0\n",
      "\n",
      "_C620: P_A_56 - 900 Y_56 <= 0\n",
      "\n",
      "_C621: P_A_56 - 200 Y_56 >= 0\n",
      "\n",
      "_C622: Y_56 >= 0\n",
      "\n",
      "_C623: Y_56 <= 1\n",
      "\n",
      "_C624: P_A_to_bat_56 - 900 Y_to_bat_56 <= 0\n",
      "\n",
      "_C625: P_From_bat_56 - 900 Y_from_bat_56 <= 0\n",
      "\n",
      "_C626: Y_from_bat_56 + Y_to_bat_56 <= 1\n",
      "\n",
      "_C627: - 0.98 P_A_to_bat_56 + P_From_bat_56 - Q_bat_55 + Q_bat_56 = 0\n",
      "\n",
      "_C628: FC_A_57 - 186.3 P_A_57 - 12060 Y_57 = -7.27595761418e-12\n",
      "\n",
      "_C629: P_A_load_57 + 0.98 P_From_bat_57 = 243.103448276\n",
      "\n",
      "_C630: - P_A_57 + P_A_load_57 + P_A_to_bat_57 = 0\n",
      "\n",
      "_C631: P_A_57 - 900 Y_57 <= 0\n",
      "\n",
      "_C632: P_A_57 - 200 Y_57 >= 0\n",
      "\n",
      "_C633: Y_57 >= 0\n",
      "\n",
      "_C634: Y_57 <= 1\n",
      "\n",
      "_C635: P_A_to_bat_57 - 900 Y_to_bat_57 <= 0\n",
      "\n",
      "_C636: P_From_bat_57 - 900 Y_from_bat_57 <= 0\n",
      "\n",
      "_C637: Y_from_bat_57 + Y_to_bat_57 <= 1\n",
      "\n",
      "_C638: - 0.98 P_A_to_bat_57 + P_From_bat_57 - Q_bat_56 + Q_bat_57 = 0\n",
      "\n",
      "_C639: FC_A_58 - 186.3 P_A_58 - 12060 Y_58 = -7.27595761418e-12\n",
      "\n",
      "_C640: P_A_load_58 + 0.98 P_From_bat_58 = 246.551724138\n",
      "\n",
      "_C641: - P_A_58 + P_A_load_58 + P_A_to_bat_58 = 0\n",
      "\n",
      "_C642: P_A_58 - 900 Y_58 <= 0\n",
      "\n",
      "_C643: P_A_58 - 200 Y_58 >= 0\n",
      "\n",
      "_C644: Y_58 >= 0\n",
      "\n",
      "_C645: Y_58 <= 1\n",
      "\n",
      "_C646: P_A_to_bat_58 - 900 Y_to_bat_58 <= 0\n",
      "\n",
      "_C647: P_From_bat_58 - 900 Y_from_bat_58 <= 0\n",
      "\n",
      "_C648: Y_from_bat_58 + Y_to_bat_58 <= 1\n",
      "\n",
      "_C649: - 0.98 P_A_to_bat_58 + P_From_bat_58 - Q_bat_57 + Q_bat_58 = 0\n",
      "\n",
      "_C650: FC_A_59 - 186.3 P_A_59 - 12060 Y_59 = -7.27595761418e-12\n",
      "\n",
      "_C651: P_A_load_59 + 0.98 P_From_bat_59 = 250\n",
      "\n",
      "_C652: - P_A_59 + P_A_load_59 + P_A_to_bat_59 = 0\n",
      "\n",
      "_C653: P_A_59 - 900 Y_59 <= 0\n",
      "\n",
      "_C654: P_A_59 - 200 Y_59 >= 0\n",
      "\n",
      "_C655: Y_59 >= 0\n",
      "\n",
      "_C656: Y_59 <= 1\n",
      "\n",
      "_C657: P_A_to_bat_59 - 900 Y_to_bat_59 <= 0\n",
      "\n",
      "_C658: P_From_bat_59 - 900 Y_from_bat_59 <= 0\n",
      "\n",
      "_C659: Y_from_bat_59 + Y_to_bat_59 <= 1\n",
      "\n",
      "_C660: - 0.98 P_A_to_bat_59 + P_From_bat_59 - Q_bat_58 + Q_bat_59 = 0\n",
      "\n",
      "_C661: Y_0 - Y_1 + Z_0 >= 0\n",
      "\n",
      "_C662: Y_1 - Y_2 + Z_1 >= 0\n",
      "\n",
      "_C663: Y_2 - Y_3 + Z_2 >= 0\n",
      "\n",
      "_C664: Y_3 - Y_4 + Z_3 >= 0\n",
      "\n",
      "_C665: Y_4 - Y_5 + Z_4 >= 0\n",
      "\n",
      "_C666: Y_5 - Y_6 + Z_5 >= 0\n",
      "\n",
      "_C667: Y_6 - Y_7 + Z_6 >= 0\n",
      "\n",
      "_C668: Y_7 - Y_8 + Z_7 >= 0\n",
      "\n",
      "_C669: Y_8 - Y_9 + Z_8 >= 0\n",
      "\n",
      "_C670: - Y_10 + Y_9 + Z_9 >= 0\n",
      "\n",
      "_C671: Y_10 - Y_11 + Z_10 >= 0\n",
      "\n",
      "_C672: Y_11 - Y_12 + Z_11 >= 0\n",
      "\n",
      "_C673: Y_12 - Y_13 + Z_12 >= 0\n",
      "\n",
      "_C674: Y_13 - Y_14 + Z_13 >= 0\n",
      "\n",
      "_C675: Y_14 - Y_15 + Z_14 >= 0\n",
      "\n",
      "_C676: Y_15 - Y_16 + Z_15 >= 0\n",
      "\n",
      "_C677: Y_16 - Y_17 + Z_16 >= 0\n",
      "\n",
      "_C678: Y_17 - Y_18 + Z_17 >= 0\n",
      "\n",
      "_C679: Y_18 - Y_19 + Z_18 >= 0\n",
      "\n",
      "_C680: Y_19 - Y_20 + Z_19 >= 0\n",
      "\n",
      "_C681: Y_20 - Y_21 + Z_20 >= 0\n",
      "\n",
      "_C682: Y_21 - Y_22 + Z_21 >= 0\n",
      "\n",
      "_C683: Y_22 - Y_23 + Z_22 >= 0\n",
      "\n",
      "_C684: Y_23 - Y_24 + Z_23 >= 0\n",
      "\n",
      "_C685: Y_24 - Y_25 + Z_24 >= 0\n",
      "\n",
      "_C686: Y_25 - Y_26 + Z_25 >= 0\n",
      "\n",
      "_C687: Y_26 - Y_27 + Z_26 >= 0\n",
      "\n",
      "_C688: Y_27 - Y_28 + Z_27 >= 0\n",
      "\n",
      "_C689: Y_28 - Y_29 + Z_28 >= 0\n",
      "\n",
      "_C690: Y_29 - Y_30 + Z_29 >= 0\n",
      "\n",
      "_C691: Y_30 - Y_31 + Z_30 >= 0\n",
      "\n",
      "_C692: Y_31 - Y_32 + Z_31 >= 0\n",
      "\n",
      "_C693: Y_32 - Y_33 + Z_32 >= 0\n",
      "\n",
      "_C694: Y_33 - Y_34 + Z_33 >= 0\n",
      "\n",
      "_C695: Y_34 - Y_35 + Z_34 >= 0\n",
      "\n",
      "_C696: Y_35 - Y_36 + Z_35 >= 0\n",
      "\n",
      "_C697: Y_36 - Y_37 + Z_36 >= 0\n",
      "\n",
      "_C698: Y_37 - Y_38 + Z_37 >= 0\n",
      "\n",
      "_C699: Y_38 - Y_39 + Z_38 >= 0\n",
      "\n",
      "_C700: Y_39 - Y_40 + Z_39 >= 0\n",
      "\n",
      "_C701: Y_40 - Y_41 + Z_40 >= 0\n",
      "\n",
      "_C702: Y_41 - Y_42 + Z_41 >= 0\n",
      "\n",
      "_C703: Y_42 - Y_43 + Z_42 >= 0\n",
      "\n",
      "_C704: Y_43 - Y_44 + Z_43 >= 0\n",
      "\n",
      "_C705: Y_44 - Y_45 + Z_44 >= 0\n",
      "\n",
      "_C706: Y_45 - Y_46 + Z_45 >= 0\n",
      "\n",
      "_C707: Y_46 - Y_47 + Z_46 >= 0\n",
      "\n",
      "_C708: Y_47 - Y_48 + Z_47 >= 0\n",
      "\n",
      "_C709: Y_48 - Y_49 + Z_48 >= 0\n",
      "\n",
      "_C710: Y_49 - Y_50 + Z_49 >= 0\n",
      "\n",
      "_C711: Y_50 - Y_51 + Z_50 >= 0\n",
      "\n",
      "_C712: Y_51 - Y_52 + Z_51 >= 0\n",
      "\n",
      "_C713: Y_52 - Y_53 + Z_52 >= 0\n",
      "\n",
      "_C714: Y_53 - Y_54 + Z_53 >= 0\n",
      "\n",
      "_C715: Y_54 - Y_55 + Z_54 >= 0\n",
      "\n",
      "_C716: Y_55 - Y_56 + Z_55 >= 0\n",
      "\n",
      "_C717: Y_56 - Y_57 + Z_56 >= 0\n",
      "\n",
      "_C718: Y_57 - Y_58 + Z_57 >= 0\n",
      "\n",
      "_C719: Y_58 - Y_59 + Z_58 >= 0\n",
      "\n",
      "_C720: Q_bat_59 = 125\n",
      "\n",
      "VARIABLES\n",
      "FC_A_0 <= 179730 Continuous\n",
      "FC_A_1 <= 179730 Continuous\n",
      "FC_A_10 <= 179730 Continuous\n",
      "FC_A_11 <= 179730 Continuous\n",
      "FC_A_12 <= 179730 Continuous\n",
      "FC_A_13 <= 179730 Continuous\n",
      "FC_A_14 <= 179730 Continuous\n",
      "FC_A_15 <= 179730 Continuous\n",
      "FC_A_16 <= 179730 Continuous\n",
      "FC_A_17 <= 179730 Continuous\n",
      "FC_A_18 <= 179730 Continuous\n",
      "FC_A_19 <= 179730 Continuous\n",
      "FC_A_2 <= 179730 Continuous\n",
      "FC_A_20 <= 179730 Continuous\n",
      "FC_A_21 <= 179730 Continuous\n",
      "FC_A_22 <= 179730 Continuous\n",
      "FC_A_23 <= 179730 Continuous\n",
      "FC_A_24 <= 179730 Continuous\n",
      "FC_A_25 <= 179730 Continuous\n",
      "FC_A_26 <= 179730 Continuous\n",
      "FC_A_27 <= 179730 Continuous\n",
      "FC_A_28 <= 179730 Continuous\n",
      "FC_A_29 <= 179730 Continuous\n",
      "FC_A_3 <= 179730 Continuous\n",
      "FC_A_30 <= 179730 Continuous\n",
      "FC_A_31 <= 179730 Continuous\n",
      "FC_A_32 <= 179730 Continuous\n",
      "FC_A_33 <= 179730 Continuous\n",
      "FC_A_34 <= 179730 Continuous\n",
      "FC_A_35 <= 179730 Continuous\n",
      "FC_A_36 <= 179730 Continuous\n",
      "FC_A_37 <= 179730 Continuous\n",
      "FC_A_38 <= 179730 Continuous\n",
      "FC_A_39 <= 179730 Continuous\n",
      "FC_A_4 <= 179730 Continuous\n",
      "FC_A_40 <= 179730 Continuous\n",
      "FC_A_41 <= 179730 Continuous\n",
      "FC_A_42 <= 179730 Continuous\n",
      "FC_A_43 <= 179730 Continuous\n",
      "FC_A_44 <= 179730 Continuous\n",
      "FC_A_45 <= 179730 Continuous\n",
      "FC_A_46 <= 179730 Continuous\n",
      "FC_A_47 <= 179730 Continuous\n",
      "FC_A_48 <= 179730 Continuous\n",
      "FC_A_49 <= 179730 Continuous\n",
      "FC_A_5 <= 179730 Continuous\n",
      "FC_A_50 <= 179730 Continuous\n",
      "FC_A_51 <= 179730 Continuous\n",
      "FC_A_52 <= 179730 Continuous\n",
      "FC_A_53 <= 179730 Continuous\n",
      "FC_A_54 <= 179730 Continuous\n",
      "FC_A_55 <= 179730 Continuous\n",
      "FC_A_56 <= 179730 Continuous\n",
      "FC_A_57 <= 179730 Continuous\n",
      "FC_A_58 <= 179730 Continuous\n",
      "FC_A_59 <= 179730 Continuous\n",
      "FC_A_6 <= 179730 Continuous\n",
      "FC_A_7 <= 179730 Continuous\n",
      "FC_A_8 <= 179730 Continuous\n",
      "FC_A_9 <= 179730 Continuous\n",
      "P_A_0 <= 900 Continuous\n",
      "P_A_1 <= 900 Continuous\n",
      "P_A_10 <= 900 Continuous\n",
      "P_A_11 <= 900 Continuous\n",
      "P_A_12 <= 900 Continuous\n",
      "P_A_13 <= 900 Continuous\n",
      "P_A_14 <= 900 Continuous\n",
      "P_A_15 <= 900 Continuous\n",
      "P_A_16 <= 900 Continuous\n",
      "P_A_17 <= 900 Continuous\n",
      "P_A_18 <= 900 Continuous\n",
      "P_A_19 <= 900 Continuous\n",
      "P_A_2 <= 900 Continuous\n",
      "P_A_20 <= 900 Continuous\n",
      "P_A_21 <= 900 Continuous\n",
      "P_A_22 <= 900 Continuous\n",
      "P_A_23 <= 900 Continuous\n",
      "P_A_24 <= 900 Continuous\n",
      "P_A_25 <= 900 Continuous\n",
      "P_A_26 <= 900 Continuous\n",
      "P_A_27 <= 900 Continuous\n",
      "P_A_28 <= 900 Continuous\n",
      "P_A_29 <= 900 Continuous\n",
      "P_A_3 <= 900 Continuous\n",
      "P_A_30 <= 900 Continuous\n",
      "P_A_31 <= 900 Continuous\n",
      "P_A_32 <= 900 Continuous\n",
      "P_A_33 <= 900 Continuous\n",
      "P_A_34 <= 900 Continuous\n",
      "P_A_35 <= 900 Continuous\n",
      "P_A_36 <= 900 Continuous\n",
      "P_A_37 <= 900 Continuous\n",
      "P_A_38 <= 900 Continuous\n",
      "P_A_39 <= 900 Continuous\n",
      "P_A_4 <= 900 Continuous\n",
      "P_A_40 <= 900 Continuous\n",
      "P_A_41 <= 900 Continuous\n",
      "P_A_42 <= 900 Continuous\n",
      "P_A_43 <= 900 Continuous\n",
      "P_A_44 <= 900 Continuous\n",
      "P_A_45 <= 900 Continuous\n",
      "P_A_46 <= 900 Continuous\n",
      "P_A_47 <= 900 Continuous\n",
      "P_A_48 <= 900 Continuous\n",
      "P_A_49 <= 900 Continuous\n",
      "P_A_5 <= 900 Continuous\n",
      "P_A_50 <= 900 Continuous\n",
      "P_A_51 <= 900 Continuous\n",
      "P_A_52 <= 900 Continuous\n",
      "P_A_53 <= 900 Continuous\n",
      "P_A_54 <= 900 Continuous\n",
      "P_A_55 <= 900 Continuous\n",
      "P_A_56 <= 900 Continuous\n",
      "P_A_57 <= 900 Continuous\n",
      "P_A_58 <= 900 Continuous\n",
      "P_A_59 <= 900 Continuous\n",
      "P_A_6 <= 900 Continuous\n",
      "P_A_7 <= 900 Continuous\n",
      "P_A_8 <= 900 Continuous\n",
      "P_A_9 <= 900 Continuous\n",
      "P_A_load_0 <= 900 Continuous\n",
      "P_A_load_1 <= 900 Continuous\n",
      "P_A_load_10 <= 900 Continuous\n",
      "P_A_load_11 <= 900 Continuous\n",
      "P_A_load_12 <= 900 Continuous\n",
      "P_A_load_13 <= 900 Continuous\n",
      "P_A_load_14 <= 900 Continuous\n",
      "P_A_load_15 <= 900 Continuous\n",
      "P_A_load_16 <= 900 Continuous\n",
      "P_A_load_17 <= 900 Continuous\n",
      "P_A_load_18 <= 900 Continuous\n",
      "P_A_load_19 <= 900 Continuous\n",
      "P_A_load_2 <= 900 Continuous\n",
      "P_A_load_20 <= 900 Continuous\n",
      "P_A_load_21 <= 900 Continuous\n",
      "P_A_load_22 <= 900 Continuous\n",
      "P_A_load_23 <= 900 Continuous\n",
      "P_A_load_24 <= 900 Continuous\n",
      "P_A_load_25 <= 900 Continuous\n",
      "P_A_load_26 <= 900 Continuous\n",
      "P_A_load_27 <= 900 Continuous\n",
      "P_A_load_28 <= 900 Continuous\n",
      "P_A_load_29 <= 900 Continuous\n",
      "P_A_load_3 <= 900 Continuous\n",
      "P_A_load_30 <= 900 Continuous\n",
      "P_A_load_31 <= 900 Continuous\n",
      "P_A_load_32 <= 900 Continuous\n",
      "P_A_load_33 <= 900 Continuous\n",
      "P_A_load_34 <= 900 Continuous\n",
      "P_A_load_35 <= 900 Continuous\n",
      "P_A_load_36 <= 900 Continuous\n",
      "P_A_load_37 <= 900 Continuous\n",
      "P_A_load_38 <= 900 Continuous\n",
      "P_A_load_39 <= 900 Continuous\n",
      "P_A_load_4 <= 900 Continuous\n",
      "P_A_load_40 <= 900 Continuous\n",
      "P_A_load_41 <= 900 Continuous\n",
      "P_A_load_42 <= 900 Continuous\n",
      "P_A_load_43 <= 900 Continuous\n",
      "P_A_load_44 <= 900 Continuous\n",
      "P_A_load_45 <= 900 Continuous\n",
      "P_A_load_46 <= 900 Continuous\n",
      "P_A_load_47 <= 900 Continuous\n",
      "P_A_load_48 <= 900 Continuous\n",
      "P_A_load_49 <= 900 Continuous\n",
      "P_A_load_5 <= 900 Continuous\n",
      "P_A_load_50 <= 900 Continuous\n",
      "P_A_load_51 <= 900 Continuous\n",
      "P_A_load_52 <= 900 Continuous\n",
      "P_A_load_53 <= 900 Continuous\n",
      "P_A_load_54 <= 900 Continuous\n",
      "P_A_load_55 <= 900 Continuous\n",
      "P_A_load_56 <= 900 Continuous\n",
      "P_A_load_57 <= 900 Continuous\n",
      "P_A_load_58 <= 900 Continuous\n",
      "P_A_load_59 <= 900 Continuous\n",
      "P_A_load_6 <= 900 Continuous\n",
      "P_A_load_7 <= 900 Continuous\n",
      "P_A_load_8 <= 900 Continuous\n",
      "P_A_load_9 <= 900 Continuous\n",
      "P_A_to_bat_0 <= 900 Continuous\n",
      "P_A_to_bat_1 <= 900 Continuous\n",
      "P_A_to_bat_10 <= 900 Continuous\n",
      "P_A_to_bat_11 <= 900 Continuous\n",
      "P_A_to_bat_12 <= 900 Continuous\n",
      "P_A_to_bat_13 <= 900 Continuous\n",
      "P_A_to_bat_14 <= 900 Continuous\n",
      "P_A_to_bat_15 <= 900 Continuous\n",
      "P_A_to_bat_16 <= 900 Continuous\n",
      "P_A_to_bat_17 <= 900 Continuous\n",
      "P_A_to_bat_18 <= 900 Continuous\n",
      "P_A_to_bat_19 <= 900 Continuous\n",
      "P_A_to_bat_2 <= 900 Continuous\n",
      "P_A_to_bat_20 <= 900 Continuous\n",
      "P_A_to_bat_21 <= 900 Continuous\n",
      "P_A_to_bat_22 <= 900 Continuous\n",
      "P_A_to_bat_23 <= 900 Continuous\n",
      "P_A_to_bat_24 <= 900 Continuous\n",
      "P_A_to_bat_25 <= 900 Continuous\n",
      "P_A_to_bat_26 <= 900 Continuous\n",
      "P_A_to_bat_27 <= 900 Continuous\n",
      "P_A_to_bat_28 <= 900 Continuous\n",
      "P_A_to_bat_29 <= 900 Continuous\n",
      "P_A_to_bat_3 <= 900 Continuous\n",
      "P_A_to_bat_30 <= 900 Continuous\n",
      "P_A_to_bat_31 <= 900 Continuous\n",
      "P_A_to_bat_32 <= 900 Continuous\n",
      "P_A_to_bat_33 <= 900 Continuous\n",
      "P_A_to_bat_34 <= 900 Continuous\n",
      "P_A_to_bat_35 <= 900 Continuous\n",
      "P_A_to_bat_36 <= 900 Continuous\n",
      "P_A_to_bat_37 <= 900 Continuous\n",
      "P_A_to_bat_38 <= 900 Continuous\n",
      "P_A_to_bat_39 <= 900 Continuous\n",
      "P_A_to_bat_4 <= 900 Continuous\n",
      "P_A_to_bat_40 <= 900 Continuous\n",
      "P_A_to_bat_41 <= 900 Continuous\n",
      "P_A_to_bat_42 <= 900 Continuous\n",
      "P_A_to_bat_43 <= 900 Continuous\n",
      "P_A_to_bat_44 <= 900 Continuous\n",
      "P_A_to_bat_45 <= 900 Continuous\n",
      "P_A_to_bat_46 <= 900 Continuous\n",
      "P_A_to_bat_47 <= 900 Continuous\n",
      "P_A_to_bat_48 <= 900 Continuous\n",
      "P_A_to_bat_49 <= 900 Continuous\n",
      "P_A_to_bat_5 <= 900 Continuous\n",
      "P_A_to_bat_50 <= 900 Continuous\n",
      "P_A_to_bat_51 <= 900 Continuous\n",
      "P_A_to_bat_52 <= 900 Continuous\n",
      "P_A_to_bat_53 <= 900 Continuous\n",
      "P_A_to_bat_54 <= 900 Continuous\n",
      "P_A_to_bat_55 <= 900 Continuous\n",
      "P_A_to_bat_56 <= 900 Continuous\n",
      "P_A_to_bat_57 <= 900 Continuous\n",
      "P_A_to_bat_58 <= 900 Continuous\n",
      "P_A_to_bat_59 <= 900 Continuous\n",
      "P_A_to_bat_6 <= 900 Continuous\n",
      "P_A_to_bat_7 <= 900 Continuous\n",
      "P_A_to_bat_8 <= 900 Continuous\n",
      "P_A_to_bat_9 <= 900 Continuous\n",
      "P_From_bat_0 <= 900 Continuous\n",
      "P_From_bat_1 <= 900 Continuous\n",
      "P_From_bat_10 <= 900 Continuous\n",
      "P_From_bat_11 <= 900 Continuous\n",
      "P_From_bat_12 <= 900 Continuous\n",
      "P_From_bat_13 <= 900 Continuous\n",
      "P_From_bat_14 <= 900 Continuous\n",
      "P_From_bat_15 <= 900 Continuous\n",
      "P_From_bat_16 <= 900 Continuous\n",
      "P_From_bat_17 <= 900 Continuous\n",
      "P_From_bat_18 <= 900 Continuous\n",
      "P_From_bat_19 <= 900 Continuous\n",
      "P_From_bat_2 <= 900 Continuous\n",
      "P_From_bat_20 <= 900 Continuous\n",
      "P_From_bat_21 <= 900 Continuous\n",
      "P_From_bat_22 <= 900 Continuous\n",
      "P_From_bat_23 <= 900 Continuous\n",
      "P_From_bat_24 <= 900 Continuous\n",
      "P_From_bat_25 <= 900 Continuous\n",
      "P_From_bat_26 <= 900 Continuous\n",
      "P_From_bat_27 <= 900 Continuous\n",
      "P_From_bat_28 <= 900 Continuous\n",
      "P_From_bat_29 <= 900 Continuous\n",
      "P_From_bat_3 <= 900 Continuous\n",
      "P_From_bat_30 <= 900 Continuous\n",
      "P_From_bat_31 <= 900 Continuous\n",
      "P_From_bat_32 <= 900 Continuous\n",
      "P_From_bat_33 <= 900 Continuous\n",
      "P_From_bat_34 <= 900 Continuous\n",
      "P_From_bat_35 <= 900 Continuous\n",
      "P_From_bat_36 <= 900 Continuous\n",
      "P_From_bat_37 <= 900 Continuous\n",
      "P_From_bat_38 <= 900 Continuous\n",
      "P_From_bat_39 <= 900 Continuous\n",
      "P_From_bat_4 <= 900 Continuous\n",
      "P_From_bat_40 <= 900 Continuous\n",
      "P_From_bat_41 <= 900 Continuous\n",
      "P_From_bat_42 <= 900 Continuous\n",
      "P_From_bat_43 <= 900 Continuous\n",
      "P_From_bat_44 <= 900 Continuous\n",
      "P_From_bat_45 <= 900 Continuous\n",
      "P_From_bat_46 <= 900 Continuous\n",
      "P_From_bat_47 <= 900 Continuous\n",
      "P_From_bat_48 <= 900 Continuous\n",
      "P_From_bat_49 <= 900 Continuous\n",
      "P_From_bat_5 <= 900 Continuous\n",
      "P_From_bat_50 <= 900 Continuous\n",
      "P_From_bat_51 <= 900 Continuous\n",
      "P_From_bat_52 <= 900 Continuous\n",
      "P_From_bat_53 <= 900 Continuous\n",
      "P_From_bat_54 <= 900 Continuous\n",
      "P_From_bat_55 <= 900 Continuous\n",
      "P_From_bat_56 <= 900 Continuous\n",
      "P_From_bat_57 <= 900 Continuous\n",
      "P_From_bat_58 <= 900 Continuous\n",
      "P_From_bat_59 <= 900 Continuous\n",
      "P_From_bat_6 <= 900 Continuous\n",
      "P_From_bat_7 <= 900 Continuous\n",
      "P_From_bat_8 <= 900 Continuous\n",
      "P_From_bat_9 <= 900 Continuous\n",
      "50 <= Q_bat_0 <= 250 Continuous\n",
      "50 <= Q_bat_1 <= 250 Continuous\n",
      "50 <= Q_bat_10 <= 250 Continuous\n",
      "50 <= Q_bat_11 <= 250 Continuous\n",
      "50 <= Q_bat_12 <= 250 Continuous\n",
      "50 <= Q_bat_13 <= 250 Continuous\n",
      "50 <= Q_bat_14 <= 250 Continuous\n",
      "50 <= Q_bat_15 <= 250 Continuous\n",
      "50 <= Q_bat_16 <= 250 Continuous\n",
      "50 <= Q_bat_17 <= 250 Continuous\n",
      "50 <= Q_bat_18 <= 250 Continuous\n",
      "50 <= Q_bat_19 <= 250 Continuous\n",
      "50 <= Q_bat_2 <= 250 Continuous\n",
      "50 <= Q_bat_20 <= 250 Continuous\n",
      "50 <= Q_bat_21 <= 250 Continuous\n",
      "50 <= Q_bat_22 <= 250 Continuous\n",
      "50 <= Q_bat_23 <= 250 Continuous\n",
      "50 <= Q_bat_24 <= 250 Continuous\n",
      "50 <= Q_bat_25 <= 250 Continuous\n",
      "50 <= Q_bat_26 <= 250 Continuous\n",
      "50 <= Q_bat_27 <= 250 Continuous\n",
      "50 <= Q_bat_28 <= 250 Continuous\n",
      "50 <= Q_bat_29 <= 250 Continuous\n",
      "50 <= Q_bat_3 <= 250 Continuous\n",
      "50 <= Q_bat_30 <= 250 Continuous\n",
      "50 <= Q_bat_31 <= 250 Continuous\n",
      "50 <= Q_bat_32 <= 250 Continuous\n",
      "50 <= Q_bat_33 <= 250 Continuous\n",
      "50 <= Q_bat_34 <= 250 Continuous\n",
      "50 <= Q_bat_35 <= 250 Continuous\n",
      "50 <= Q_bat_36 <= 250 Continuous\n",
      "50 <= Q_bat_37 <= 250 Continuous\n",
      "50 <= Q_bat_38 <= 250 Continuous\n",
      "50 <= Q_bat_39 <= 250 Continuous\n",
      "50 <= Q_bat_4 <= 250 Continuous\n",
      "50 <= Q_bat_40 <= 250 Continuous\n",
      "50 <= Q_bat_41 <= 250 Continuous\n",
      "50 <= Q_bat_42 <= 250 Continuous\n",
      "50 <= Q_bat_43 <= 250 Continuous\n",
      "50 <= Q_bat_44 <= 250 Continuous\n",
      "50 <= Q_bat_45 <= 250 Continuous\n",
      "50 <= Q_bat_46 <= 250 Continuous\n",
      "50 <= Q_bat_47 <= 250 Continuous\n",
      "50 <= Q_bat_48 <= 250 Continuous\n",
      "50 <= Q_bat_49 <= 250 Continuous\n",
      "50 <= Q_bat_5 <= 250 Continuous\n",
      "50 <= Q_bat_50 <= 250 Continuous\n",
      "50 <= Q_bat_51 <= 250 Continuous\n",
      "50 <= Q_bat_52 <= 250 Continuous\n",
      "50 <= Q_bat_53 <= 250 Continuous\n",
      "50 <= Q_bat_54 <= 250 Continuous\n",
      "50 <= Q_bat_55 <= 250 Continuous\n",
      "50 <= Q_bat_56 <= 250 Continuous\n",
      "50 <= Q_bat_57 <= 250 Continuous\n",
      "50 <= Q_bat_58 <= 250 Continuous\n",
      "50 <= Q_bat_59 <= 250 Continuous\n",
      "50 <= Q_bat_6 <= 250 Continuous\n",
      "50 <= Q_bat_7 <= 250 Continuous\n",
      "50 <= Q_bat_8 <= 250 Continuous\n",
      "50 <= Q_bat_9 <= 250 Continuous\n",
      "0 <= Y_0 <= 1 Integer\n",
      "0 <= Y_1 <= 1 Integer\n",
      "0 <= Y_10 <= 1 Integer\n",
      "0 <= Y_11 <= 1 Integer\n",
      "0 <= Y_12 <= 1 Integer\n",
      "0 <= Y_13 <= 1 Integer\n",
      "0 <= Y_14 <= 1 Integer\n",
      "0 <= Y_15 <= 1 Integer\n",
      "0 <= Y_16 <= 1 Integer\n",
      "0 <= Y_17 <= 1 Integer\n",
      "0 <= Y_18 <= 1 Integer\n",
      "0 <= Y_19 <= 1 Integer\n",
      "0 <= Y_2 <= 1 Integer\n",
      "0 <= Y_20 <= 1 Integer\n",
      "0 <= Y_21 <= 1 Integer\n",
      "0 <= Y_22 <= 1 Integer\n",
      "0 <= Y_23 <= 1 Integer\n",
      "0 <= Y_24 <= 1 Integer\n",
      "0 <= Y_25 <= 1 Integer\n",
      "0 <= Y_26 <= 1 Integer\n",
      "0 <= Y_27 <= 1 Integer\n",
      "0 <= Y_28 <= 1 Integer\n",
      "0 <= Y_29 <= 1 Integer\n",
      "0 <= Y_3 <= 1 Integer\n",
      "0 <= Y_30 <= 1 Integer\n",
      "0 <= Y_31 <= 1 Integer\n",
      "0 <= Y_32 <= 1 Integer\n",
      "0 <= Y_33 <= 1 Integer\n",
      "0 <= Y_34 <= 1 Integer\n",
      "0 <= Y_35 <= 1 Integer\n",
      "0 <= Y_36 <= 1 Integer\n",
      "0 <= Y_37 <= 1 Integer\n",
      "0 <= Y_38 <= 1 Integer\n",
      "0 <= Y_39 <= 1 Integer\n",
      "0 <= Y_4 <= 1 Integer\n",
      "0 <= Y_40 <= 1 Integer\n",
      "0 <= Y_41 <= 1 Integer\n",
      "0 <= Y_42 <= 1 Integer\n",
      "0 <= Y_43 <= 1 Integer\n",
      "0 <= Y_44 <= 1 Integer\n",
      "0 <= Y_45 <= 1 Integer\n",
      "0 <= Y_46 <= 1 Integer\n",
      "0 <= Y_47 <= 1 Integer\n",
      "0 <= Y_48 <= 1 Integer\n",
      "0 <= Y_49 <= 1 Integer\n",
      "0 <= Y_5 <= 1 Integer\n",
      "0 <= Y_50 <= 1 Integer\n",
      "0 <= Y_51 <= 1 Integer\n",
      "0 <= Y_52 <= 1 Integer\n",
      "0 <= Y_53 <= 1 Integer\n",
      "0 <= Y_54 <= 1 Integer\n",
      "0 <= Y_55 <= 1 Integer\n",
      "0 <= Y_56 <= 1 Integer\n",
      "0 <= Y_57 <= 1 Integer\n",
      "0 <= Y_58 <= 1 Integer\n",
      "0 <= Y_59 <= 1 Integer\n",
      "0 <= Y_6 <= 1 Integer\n",
      "0 <= Y_7 <= 1 Integer\n",
      "0 <= Y_8 <= 1 Integer\n",
      "0 <= Y_9 <= 1 Integer\n",
      "0 <= Y_from_bat_0 <= 1 Integer\n",
      "0 <= Y_from_bat_1 <= 1 Integer\n",
      "0 <= Y_from_bat_10 <= 1 Integer\n",
      "0 <= Y_from_bat_11 <= 1 Integer\n",
      "0 <= Y_from_bat_12 <= 1 Integer\n",
      "0 <= Y_from_bat_13 <= 1 Integer\n",
      "0 <= Y_from_bat_14 <= 1 Integer\n",
      "0 <= Y_from_bat_15 <= 1 Integer\n",
      "0 <= Y_from_bat_16 <= 1 Integer\n",
      "0 <= Y_from_bat_17 <= 1 Integer\n",
      "0 <= Y_from_bat_18 <= 1 Integer\n",
      "0 <= Y_from_bat_19 <= 1 Integer\n",
      "0 <= Y_from_bat_2 <= 1 Integer\n",
      "0 <= Y_from_bat_20 <= 1 Integer\n",
      "0 <= Y_from_bat_21 <= 1 Integer\n",
      "0 <= Y_from_bat_22 <= 1 Integer\n",
      "0 <= Y_from_bat_23 <= 1 Integer\n",
      "0 <= Y_from_bat_24 <= 1 Integer\n",
      "0 <= Y_from_bat_25 <= 1 Integer\n",
      "0 <= Y_from_bat_26 <= 1 Integer\n",
      "0 <= Y_from_bat_27 <= 1 Integer\n",
      "0 <= Y_from_bat_28 <= 1 Integer\n",
      "0 <= Y_from_bat_29 <= 1 Integer\n",
      "0 <= Y_from_bat_3 <= 1 Integer\n",
      "0 <= Y_from_bat_30 <= 1 Integer\n",
      "0 <= Y_from_bat_31 <= 1 Integer\n",
      "0 <= Y_from_bat_32 <= 1 Integer\n",
      "0 <= Y_from_bat_33 <= 1 Integer\n",
      "0 <= Y_from_bat_34 <= 1 Integer\n",
      "0 <= Y_from_bat_35 <= 1 Integer\n",
      "0 <= Y_from_bat_36 <= 1 Integer\n",
      "0 <= Y_from_bat_37 <= 1 Integer\n",
      "0 <= Y_from_bat_38 <= 1 Integer\n",
      "0 <= Y_from_bat_39 <= 1 Integer\n",
      "0 <= Y_from_bat_4 <= 1 Integer\n",
      "0 <= Y_from_bat_40 <= 1 Integer\n",
      "0 <= Y_from_bat_41 <= 1 Integer\n",
      "0 <= Y_from_bat_42 <= 1 Integer\n",
      "0 <= Y_from_bat_43 <= 1 Integer\n",
      "0 <= Y_from_bat_44 <= 1 Integer\n",
      "0 <= Y_from_bat_45 <= 1 Integer\n",
      "0 <= Y_from_bat_46 <= 1 Integer\n",
      "0 <= Y_from_bat_47 <= 1 Integer\n",
      "0 <= Y_from_bat_48 <= 1 Integer\n",
      "0 <= Y_from_bat_49 <= 1 Integer\n",
      "0 <= Y_from_bat_5 <= 1 Integer\n",
      "0 <= Y_from_bat_50 <= 1 Integer\n",
      "0 <= Y_from_bat_51 <= 1 Integer\n",
      "0 <= Y_from_bat_52 <= 1 Integer\n",
      "0 <= Y_from_bat_53 <= 1 Integer\n",
      "0 <= Y_from_bat_54 <= 1 Integer\n",
      "0 <= Y_from_bat_55 <= 1 Integer\n",
      "0 <= Y_from_bat_56 <= 1 Integer\n",
      "0 <= Y_from_bat_57 <= 1 Integer\n",
      "0 <= Y_from_bat_58 <= 1 Integer\n",
      "0 <= Y_from_bat_59 <= 1 Integer\n",
      "0 <= Y_from_bat_6 <= 1 Integer\n",
      "0 <= Y_from_bat_7 <= 1 Integer\n",
      "0 <= Y_from_bat_8 <= 1 Integer\n",
      "0 <= Y_from_bat_9 <= 1 Integer\n",
      "0 <= Y_to_bat_0 <= 1 Integer\n",
      "0 <= Y_to_bat_1 <= 1 Integer\n",
      "0 <= Y_to_bat_10 <= 1 Integer\n",
      "0 <= Y_to_bat_11 <= 1 Integer\n",
      "0 <= Y_to_bat_12 <= 1 Integer\n",
      "0 <= Y_to_bat_13 <= 1 Integer\n",
      "0 <= Y_to_bat_14 <= 1 Integer\n",
      "0 <= Y_to_bat_15 <= 1 Integer\n",
      "0 <= Y_to_bat_16 <= 1 Integer\n",
      "0 <= Y_to_bat_17 <= 1 Integer\n",
      "0 <= Y_to_bat_18 <= 1 Integer\n",
      "0 <= Y_to_bat_19 <= 1 Integer\n",
      "0 <= Y_to_bat_2 <= 1 Integer\n",
      "0 <= Y_to_bat_20 <= 1 Integer\n",
      "0 <= Y_to_bat_21 <= 1 Integer\n",
      "0 <= Y_to_bat_22 <= 1 Integer\n",
      "0 <= Y_to_bat_23 <= 1 Integer\n",
      "0 <= Y_to_bat_24 <= 1 Integer\n",
      "0 <= Y_to_bat_25 <= 1 Integer\n",
      "0 <= Y_to_bat_26 <= 1 Integer\n",
      "0 <= Y_to_bat_27 <= 1 Integer\n",
      "0 <= Y_to_bat_28 <= 1 Integer\n",
      "0 <= Y_to_bat_29 <= 1 Integer\n",
      "0 <= Y_to_bat_3 <= 1 Integer\n",
      "0 <= Y_to_bat_30 <= 1 Integer\n",
      "0 <= Y_to_bat_31 <= 1 Integer\n",
      "0 <= Y_to_bat_32 <= 1 Integer\n",
      "0 <= Y_to_bat_33 <= 1 Integer\n",
      "0 <= Y_to_bat_34 <= 1 Integer\n",
      "0 <= Y_to_bat_35 <= 1 Integer\n",
      "0 <= Y_to_bat_36 <= 1 Integer\n",
      "0 <= Y_to_bat_37 <= 1 Integer\n",
      "0 <= Y_to_bat_38 <= 1 Integer\n",
      "0 <= Y_to_bat_39 <= 1 Integer\n",
      "0 <= Y_to_bat_4 <= 1 Integer\n",
      "0 <= Y_to_bat_40 <= 1 Integer\n",
      "0 <= Y_to_bat_41 <= 1 Integer\n",
      "0 <= Y_to_bat_42 <= 1 Integer\n",
      "0 <= Y_to_bat_43 <= 1 Integer\n",
      "0 <= Y_to_bat_44 <= 1 Integer\n",
      "0 <= Y_to_bat_45 <= 1 Integer\n",
      "0 <= Y_to_bat_46 <= 1 Integer\n",
      "0 <= Y_to_bat_47 <= 1 Integer\n",
      "0 <= Y_to_bat_48 <= 1 Integer\n",
      "0 <= Y_to_bat_49 <= 1 Integer\n",
      "0 <= Y_to_bat_5 <= 1 Integer\n",
      "0 <= Y_to_bat_50 <= 1 Integer\n",
      "0 <= Y_to_bat_51 <= 1 Integer\n",
      "0 <= Y_to_bat_52 <= 1 Integer\n",
      "0 <= Y_to_bat_53 <= 1 Integer\n",
      "0 <= Y_to_bat_54 <= 1 Integer\n",
      "0 <= Y_to_bat_55 <= 1 Integer\n",
      "0 <= Y_to_bat_56 <= 1 Integer\n",
      "0 <= Y_to_bat_57 <= 1 Integer\n",
      "0 <= Y_to_bat_58 <= 1 Integer\n",
      "0 <= Y_to_bat_59 <= 1 Integer\n",
      "0 <= Y_to_bat_6 <= 1 Integer\n",
      "0 <= Y_to_bat_7 <= 1 Integer\n",
      "0 <= Y_to_bat_8 <= 1 Integer\n",
      "0 <= Y_to_bat_9 <= 1 Integer\n",
      "0 <= Z_0 <= 1 Integer\n",
      "0 <= Z_1 <= 1 Integer\n",
      "0 <= Z_10 <= 1 Integer\n",
      "0 <= Z_11 <= 1 Integer\n",
      "0 <= Z_12 <= 1 Integer\n",
      "0 <= Z_13 <= 1 Integer\n",
      "0 <= Z_14 <= 1 Integer\n",
      "0 <= Z_15 <= 1 Integer\n",
      "0 <= Z_16 <= 1 Integer\n",
      "0 <= Z_17 <= 1 Integer\n",
      "0 <= Z_18 <= 1 Integer\n",
      "0 <= Z_19 <= 1 Integer\n",
      "0 <= Z_2 <= 1 Integer\n",
      "0 <= Z_20 <= 1 Integer\n",
      "0 <= Z_21 <= 1 Integer\n",
      "0 <= Z_22 <= 1 Integer\n",
      "0 <= Z_23 <= 1 Integer\n",
      "0 <= Z_24 <= 1 Integer\n",
      "0 <= Z_25 <= 1 Integer\n",
      "0 <= Z_26 <= 1 Integer\n",
      "0 <= Z_27 <= 1 Integer\n",
      "0 <= Z_28 <= 1 Integer\n",
      "0 <= Z_29 <= 1 Integer\n",
      "0 <= Z_3 <= 1 Integer\n",
      "0 <= Z_30 <= 1 Integer\n",
      "0 <= Z_31 <= 1 Integer\n",
      "0 <= Z_32 <= 1 Integer\n",
      "0 <= Z_33 <= 1 Integer\n",
      "0 <= Z_34 <= 1 Integer\n",
      "0 <= Z_35 <= 1 Integer\n",
      "0 <= Z_36 <= 1 Integer\n",
      "0 <= Z_37 <= 1 Integer\n",
      "0 <= Z_38 <= 1 Integer\n",
      "0 <= Z_39 <= 1 Integer\n",
      "0 <= Z_4 <= 1 Integer\n",
      "0 <= Z_40 <= 1 Integer\n",
      "0 <= Z_41 <= 1 Integer\n",
      "0 <= Z_42 <= 1 Integer\n",
      "0 <= Z_43 <= 1 Integer\n",
      "0 <= Z_44 <= 1 Integer\n",
      "0 <= Z_45 <= 1 Integer\n",
      "0 <= Z_46 <= 1 Integer\n",
      "0 <= Z_47 <= 1 Integer\n",
      "0 <= Z_48 <= 1 Integer\n",
      "0 <= Z_49 <= 1 Integer\n",
      "0 <= Z_5 <= 1 Integer\n",
      "0 <= Z_50 <= 1 Integer\n",
      "0 <= Z_51 <= 1 Integer\n",
      "0 <= Z_52 <= 1 Integer\n",
      "0 <= Z_53 <= 1 Integer\n",
      "0 <= Z_54 <= 1 Integer\n",
      "0 <= Z_55 <= 1 Integer\n",
      "0 <= Z_56 <= 1 Integer\n",
      "0 <= Z_57 <= 1 Integer\n",
      "0 <= Z_58 <= 1 Integer\n",
      "0 <= Z_6 <= 1 Integer\n",
      "0 <= Z_7 <= 1 Integer\n",
      "0 <= Z_8 <= 1 Integer\n",
      "0 <= Z_9 <= 1 Integer\n",
      ">\n"
     ]
    }
   ],
   "source": [
    "print(Optim.variables)"
   ]
  },
  {
   "cell_type": "code",
   "execution_count": 105,
   "metadata": {
    "colab": {
     "base_uri": "https://localhost:8080/"
    },
    "id": "ZNAxqBmBnH2B",
    "outputId": "61c9d3f2-b6ad-4416-f0b2-019eac6a175f"
   },
   "outputs": [
    {
     "name": "stdout",
     "output_type": "stream",
     "text": [
      "FC_A_0 = 49319.99994501809\n",
      "FC_A_1 = 67477.9779808461\n",
      "FC_A_10 = 0.0\n",
      "FC_A_11 = 62849.575177009596\n",
      "FC_A_12 = 0.0\n",
      "FC_A_13 = 79750.98292378176\n",
      "FC_A_14 = 0.0\n",
      "FC_A_15 = 51389.99999999999\n",
      "FC_A_16 = 55529.99999999999\n",
      "FC_A_17 = 59669.99999999999\n",
      "FC_A_18 = 63809.99999999999\n",
      "FC_A_19 = 67950.0\n",
      "FC_A_2 = 3.313971319585108e-12\n",
      "FC_A_20 = 67950.0\n",
      "FC_A_21 = 64844.99999999999\n",
      "FC_A_22 = 61740.0\n",
      "FC_A_23 = 58634.99999999999\n",
      "FC_A_24 = 91093.3069554352\n",
      "FC_A_25 = 52424.99999999999\n",
      "FC_A_26 = 49320.00000000003\n",
      "FC_A_27 = 0.0\n",
      "FC_A_28 = 72207.25114535612\n",
      "FC_A_29 = 0.0\n",
      "FC_A_3 = 73284.92711370264\n",
      "FC_A_30 = 69771.1534705367\n",
      "FC_A_31 = 0.0\n",
      "FC_A_32 = 72393.7857071048\n",
      "FC_A_33 = 0.0\n",
      "FC_A_34 = 75016.41794367289\n",
      "FC_A_35 = 0.0\n",
      "FC_A_36 = 77639.050180241\n",
      "FC_A_37 = 0.0\n",
      "FC_A_38 = 80261.68241680908\n",
      "FC_A_39 = 0.0\n",
      "FC_A_4 = 0.0\n",
      "FC_A_40 = 82884.3146533772\n",
      "FC_A_41 = 0.0\n",
      "FC_A_42 = 85506.94688994528\n",
      "FC_A_43 = 0.0\n",
      "FC_A_44 = 63256.44616467276\n",
      "FC_A_45 = 49641.20689655172\n",
      "FC_A_46 = 50283.62068965517\n",
      "FC_A_47 = 50926.034482758616\n",
      "FC_A_48 = 51568.448275862065\n",
      "FC_A_49 = 52210.862068965514\n",
      "FC_A_5 = 64834.22324031654\n",
      "FC_A_50 = 52853.27586206896\n",
      "FC_A_51 = 53495.689655172406\n",
      "FC_A_52 = 54138.103448275855\n",
      "FC_A_53 = 54780.51724137931\n",
      "FC_A_54 = 55422.93103448275\n",
      "FC_A_55 = 56065.3448275862\n",
      "FC_A_56 = 56707.758620689645\n",
      "FC_A_57 = 57350.1724137931\n",
      "FC_A_58 = 57992.58620689655\n",
      "FC_A_59 = 58634.99999999999\n",
      "FC_A_6 = 0.0\n",
      "FC_A_7 = 56383.51936693045\n",
      "FC_A_8 = 0.0\n",
      "FC_A_9 = 50088.16743023739\n",
      "P_A_0 = 199.99999970487437\n",
      "P_A_1 = 297.46633376728994\n",
      "P_A_10 = 2.842170943040401e-14\n",
      "P_A_11 = 272.6225183951133\n",
      "P_A_12 = 0.0\n",
      "P_A_13 = 363.343977046601\n",
      "P_A_14 = 0.0\n",
      "P_A_15 = 211.11111111111111\n",
      "P_A_16 = 233.33333333333331\n",
      "P_A_17 = 255.55555555555554\n",
      "P_A_18 = 277.77777777777777\n",
      "P_A_19 = 300.0\n",
      "P_A_2 = 5.684341886080802e-14\n",
      "P_A_20 = 300.0\n",
      "P_A_21 = 283.3333333333333\n",
      "P_A_22 = 266.6666666666667\n",
      "P_A_23 = 250.0\n",
      "P_A_24 = 424.22601693738693\n",
      "P_A_25 = 216.66666666666666\n",
      "P_A_26 = 200.0000000000002\n",
      "P_A_27 = 0.0\n",
      "P_A_28 = 322.8515896154381\n",
      "P_A_29 = 0.0\n",
      "P_A_3 = 328.6362163913185\n",
      "P_A_30 = 309.7753809475937\n",
      "P_A_31 = 0.0\n",
      "P_A_32 = 323.8528486693763\n",
      "P_A_33 = 0.0\n",
      "P_A_34 = 337.9303163911589\n",
      "P_A_35 = 0.0\n",
      "P_A_36 = 352.0077841129415\n",
      "P_A_37 = 0.0\n",
      "P_A_38 = 366.0852518347241\n",
      "P_A_39 = 0.0\n",
      "P_A_4 = 0.0\n",
      "P_A_40 = 380.16271955650666\n",
      "P_A_41 = 0.0\n",
      "P_A_42 = 394.2401872782893\n",
      "P_A_43 = 0.0\n",
      "P_A_44 = 274.8064743138635\n",
      "P_A_45 = 201.72413793103448\n",
      "P_A_46 = 205.17241379310343\n",
      "P_A_47 = 208.6206896551724\n",
      "P_A_48 = 212.06896551724137\n",
      "P_A_49 = 215.51724137931035\n",
      "P_A_5 = 283.27548706557457\n",
      "P_A_50 = 218.9655172413793\n",
      "P_A_51 = 222.41379310344826\n",
      "P_A_52 = 225.86206896551724\n",
      "P_A_53 = 229.31034482758622\n",
      "P_A_54 = 232.75862068965517\n",
      "P_A_55 = 236.20689655172413\n",
      "P_A_56 = 239.65517241379308\n",
      "P_A_57 = 243.10344827586206\n",
      "P_A_58 = 246.55172413793105\n",
      "P_A_59 = 250.0\n",
      "P_A_6 = 2.842170943040401e-14\n",
      "P_A_7 = 237.91475773983066\n",
      "P_A_8 = 0.0\n",
      "P_A_9 = 204.12328196584753\n",
      "P_A_load_0 = 200.0\n",
      "P_A_load_1 = 188.88888888888889\n",
      "P_A_load_10 = 0.0\n",
      "P_A_load_11 = 122.22222222222223\n",
      "P_A_load_12 = 0.0\n",
      "P_A_load_13 = 166.66666666666666\n",
      "P_A_load_14 = 0.0\n",
      "P_A_load_15 = 211.11111111111111\n",
      "P_A_load_16 = 233.33333333333331\n",
      "P_A_load_17 = 255.55555555555554\n",
      "P_A_load_18 = 277.77777777777777\n",
      "P_A_load_19 = 300.0\n",
      "P_A_load_2 = 0.0\n",
      "P_A_load_20 = 300.0\n",
      "P_A_load_21 = 283.3333333333333\n",
      "P_A_load_22 = 266.6666666666667\n",
      "P_A_load_23 = 250.0\n",
      "P_A_load_24 = 233.33333333333331\n",
      "P_A_load_25 = 216.66666666666666\n",
      "P_A_load_26 = 200.0\n",
      "P_A_load_27 = 0.0\n",
      "P_A_load_28 = 166.66666666666666\n",
      "P_A_load_29 = 0.0\n",
      "P_A_load_3 = 166.66666666666669\n",
      "P_A_load_30 = 150.0\n",
      "P_A_load_31 = 0.0\n",
      "P_A_load_32 = 156.89655172413794\n",
      "P_A_load_33 = 0.0\n",
      "P_A_load_34 = 163.79310344827587\n",
      "P_A_load_35 = 0.0\n",
      "P_A_load_36 = 170.68965517241378\n",
      "P_A_load_37 = 0.0\n",
      "P_A_load_38 = 177.58620689655172\n",
      "P_A_load_39 = 0.0\n",
      "P_A_load_4 = 0.0\n",
      "P_A_load_40 = 184.48275862068965\n",
      "P_A_load_41 = 0.0\n",
      "P_A_load_42 = 191.3793103448276\n",
      "P_A_load_43 = 0.0\n",
      "P_A_load_44 = 198.27586206896552\n",
      "P_A_load_45 = 201.72413793103448\n",
      "P_A_load_46 = 205.17241379310343\n",
      "P_A_load_47 = 208.6206896551724\n",
      "P_A_load_48 = 212.06896551724137\n",
      "P_A_load_49 = 215.51724137931035\n",
      "P_A_load_5 = 144.44444444444446\n",
      "P_A_load_50 = 218.9655172413793\n",
      "P_A_load_51 = 222.41379310344826\n",
      "P_A_load_52 = 225.86206896551724\n",
      "P_A_load_53 = 229.31034482758622\n",
      "P_A_load_54 = 232.75862068965517\n",
      "P_A_load_55 = 236.20689655172413\n",
      "P_A_load_56 = 239.65517241379308\n",
      "P_A_load_57 = 243.10344827586206\n",
      "P_A_load_58 = 246.55172413793105\n",
      "P_A_load_59 = 250.0\n",
      "P_A_load_6 = 0.0\n",
      "P_A_load_7 = 122.22222222222223\n",
      "P_A_load_8 = 0.0\n",
      "P_A_load_9 = 100.0\n",
      "P_A_to_bat_0 = -2.917922972671901e-07\n",
      "P_A_to_bat_1 = 108.57744487840102\n",
      "P_A_to_bat_10 = 2.1316282072803006e-14\n",
      "P_A_to_bat_11 = 150.40029617289102\n",
      "P_A_to_bat_12 = 0.0\n",
      "P_A_to_bat_13 = 196.67731037993434\n",
      "P_A_to_bat_14 = 0.0\n",
      "P_A_to_bat_15 = 0.0\n",
      "P_A_to_bat_16 = 0.0\n",
      "P_A_to_bat_17 = 0.0\n",
      "P_A_to_bat_18 = 0.0\n",
      "P_A_to_bat_19 = 0.0\n",
      "P_A_to_bat_2 = 5.684341886080802e-14\n",
      "P_A_to_bat_20 = 0.0\n",
      "P_A_to_bat_21 = 0.0\n",
      "P_A_to_bat_22 = 0.0\n",
      "P_A_to_bat_23 = 0.0\n",
      "P_A_to_bat_24 = 190.89268360405364\n",
      "P_A_to_bat_25 = 0.0\n",
      "P_A_to_bat_26 = 1.9895196601282805e-13\n",
      "P_A_to_bat_27 = 0.0\n",
      "P_A_to_bat_28 = 156.18492294877143\n",
      "P_A_to_bat_29 = 0.0\n",
      "P_A_to_bat_3 = 161.96954972465178\n",
      "P_A_to_bat_30 = 159.7753809475937\n",
      "P_A_to_bat_31 = 0.0\n",
      "P_A_to_bat_32 = 166.9562969452384\n",
      "P_A_to_bat_33 = 0.0\n",
      "P_A_to_bat_34 = 174.13721294288302\n",
      "P_A_to_bat_35 = 0.0\n",
      "P_A_to_bat_36 = 181.31812894052774\n",
      "P_A_to_bat_37 = 0.0\n",
      "P_A_to_bat_38 = 188.49904493817237\n",
      "P_A_to_bat_39 = 0.0\n",
      "P_A_to_bat_4 = 0.0\n",
      "P_A_to_bat_40 = 195.67996093581698\n",
      "P_A_to_bat_41 = 0.0\n",
      "P_A_to_bat_42 = 202.8608769334617\n",
      "P_A_to_bat_43 = 0.0\n",
      "P_A_to_bat_44 = 76.53061224489795\n",
      "P_A_to_bat_45 = 0.0\n",
      "P_A_to_bat_46 = 0.0\n",
      "P_A_to_bat_47 = 0.0\n",
      "P_A_to_bat_48 = 0.0\n",
      "P_A_to_bat_49 = 0.0\n",
      "P_A_to_bat_5 = 138.83104262113008\n",
      "P_A_to_bat_50 = 0.0\n",
      "P_A_to_bat_51 = 0.0\n",
      "P_A_to_bat_52 = 0.0\n",
      "P_A_to_bat_53 = 0.0\n",
      "P_A_to_bat_54 = 0.0\n",
      "P_A_to_bat_55 = 0.0\n",
      "P_A_to_bat_56 = 0.0\n",
      "P_A_to_bat_57 = 0.0\n",
      "P_A_to_bat_58 = 0.0\n",
      "P_A_to_bat_59 = 0.0\n",
      "P_A_to_bat_6 = 2.842170943040401e-14\n",
      "P_A_to_bat_7 = 115.69253551760843\n",
      "P_A_to_bat_8 = 0.0\n",
      "P_A_to_bat_9 = 104.12328196584754\n",
      "P_From_bat_0 = 0.0\n",
      "P_From_bat_1 = 0.0\n",
      "P_From_bat_10 = 102.04081632653062\n",
      "P_From_bat_11 = 0.0\n",
      "P_From_bat_12 = 147.39229024943313\n",
      "P_From_bat_13 = 0.0\n",
      "P_From_bat_14 = 192.7437641723356\n",
      "P_From_bat_15 = 0.0\n",
      "P_From_bat_16 = 0.0\n",
      "P_From_bat_17 = 0.0\n",
      "P_From_bat_18 = 0.0\n",
      "P_From_bat_19 = 0.0\n",
      "P_From_bat_2 = 181.40589569160997\n",
      "P_From_bat_20 = 0.0\n",
      "P_From_bat_21 = 0.0\n",
      "P_From_bat_22 = 0.0\n",
      "P_From_bat_23 = 0.0\n",
      "P_From_bat_24 = 0.0\n",
      "P_From_bat_25 = 0.0\n",
      "P_From_bat_26 = 0.0\n",
      "P_From_bat_27 = 187.07482993197277\n",
      "P_From_bat_28 = 0.0\n",
      "P_From_bat_29 = 153.06122448979593\n",
      "P_From_bat_3 = 0.0\n",
      "P_From_bat_30 = 0.0\n",
      "P_From_bat_31 = 156.57987332864178\n",
      "P_From_bat_32 = 0.0\n",
      "P_From_bat_33 = 163.61717100633356\n",
      "P_From_bat_34 = 0.0\n",
      "P_From_bat_35 = 170.65446868402535\n",
      "P_From_bat_36 = 0.0\n",
      "P_From_bat_37 = 177.6917663617171\n",
      "P_From_bat_38 = 0.0\n",
      "P_From_bat_39 = 184.72906403940888\n",
      "P_From_bat_4 = 158.7301587301587\n",
      "P_From_bat_40 = 0.0\n",
      "P_From_bat_41 = 191.7663617171006\n",
      "P_From_bat_42 = 0.0\n",
      "P_From_bat_43 = 198.8036593947924\n",
      "P_From_bat_44 = 0.0\n",
      "P_From_bat_45 = 0.0\n",
      "P_From_bat_46 = 0.0\n",
      "P_From_bat_47 = 0.0\n",
      "P_From_bat_48 = 0.0\n",
      "P_From_bat_49 = 0.0\n",
      "P_From_bat_5 = 0.0\n",
      "P_From_bat_50 = 0.0\n",
      "P_From_bat_51 = 0.0\n",
      "P_From_bat_52 = 0.0\n",
      "P_From_bat_53 = 0.0\n",
      "P_From_bat_54 = 0.0\n",
      "P_From_bat_55 = 0.0\n",
      "P_From_bat_56 = 0.0\n",
      "P_From_bat_57 = 0.0\n",
      "P_From_bat_58 = 0.0\n",
      "P_From_bat_59 = 0.0\n",
      "P_From_bat_6 = 136.0544217687075\n",
      "P_From_bat_7 = 0.0\n",
      "P_From_bat_8 = 113.37868480725623\n",
      "P_From_bat_9 = 0.0\n",
      "Q_bat_0 = 124.99999971077689\n",
      "Q_bat_1 = 231.40589569160989\n",
      "Q_bat_10 = 50.0\n",
      "Q_bat_11 = 197.3922902494332\n",
      "Q_bat_12 = 50.0\n",
      "Q_bat_13 = 242.7437641723356\n",
      "Q_bat_14 = 50.00000000000002\n",
      "Q_bat_15 = 50.00000000000002\n",
      "Q_bat_16 = 50.00000000000002\n",
      "Q_bat_17 = 50.00000000000002\n",
      "Q_bat_18 = 50.00000000000002\n",
      "Q_bat_19 = 50.00000000000002\n",
      "Q_bat_2 = 50.0\n",
      "Q_bat_20 = 50.00000000000002\n",
      "Q_bat_21 = 50.00000000000002\n",
      "Q_bat_22 = 50.00000000000002\n",
      "Q_bat_23 = 50.00000000000002\n",
      "Q_bat_24 = 237.0748299319726\n",
      "Q_bat_25 = 237.0748299319726\n",
      "Q_bat_26 = 237.07482993197277\n",
      "Q_bat_27 = 50.0\n",
      "Q_bat_28 = 203.06122448979596\n",
      "Q_bat_29 = 50.0\n",
      "Q_bat_3 = 208.73015873015873\n",
      "Q_bat_30 = 206.57987332864178\n",
      "Q_bat_31 = 50.0\n",
      "Q_bat_32 = 213.61717100633362\n",
      "Q_bat_33 = 50.0\n",
      "Q_bat_34 = 220.65446868402537\n",
      "Q_bat_35 = 50.0\n",
      "Q_bat_36 = 227.69176636171716\n",
      "Q_bat_37 = 50.0\n",
      "Q_bat_38 = 234.7290640394089\n",
      "Q_bat_39 = 50.0\n",
      "Q_bat_4 = 50.0\n",
      "Q_bat_40 = 241.76636171710064\n",
      "Q_bat_41 = 50.0\n",
      "Q_bat_42 = 248.80365939479245\n",
      "Q_bat_43 = 50.0\n",
      "Q_bat_44 = 125.0\n",
      "Q_bat_45 = 125.0\n",
      "Q_bat_46 = 125.0\n",
      "Q_bat_47 = 125.0\n",
      "Q_bat_48 = 125.0\n",
      "Q_bat_49 = 125.0\n",
      "Q_bat_5 = 186.05442176870747\n",
      "Q_bat_50 = 125.0\n",
      "Q_bat_51 = 125.0\n",
      "Q_bat_52 = 125.0\n",
      "Q_bat_53 = 125.0\n",
      "Q_bat_54 = 125.0\n",
      "Q_bat_55 = 125.0\n",
      "Q_bat_56 = 125.0\n",
      "Q_bat_57 = 125.0\n",
      "Q_bat_58 = 125.0\n",
      "Q_bat_59 = 125.0\n",
      "Q_bat_6 = 50.0\n",
      "Q_bat_7 = 163.37868480725626\n",
      "Q_bat_8 = 50.0\n",
      "Q_bat_9 = 152.0408163265306\n",
      "Y_0 = 1.0\n",
      "Y_1 = 1.0\n",
      "Y_10 = -0.0\n",
      "Y_11 = 1.0\n",
      "Y_12 = -0.0\n",
      "Y_13 = 1.0\n",
      "Y_14 = -0.0\n",
      "Y_15 = 1.0\n",
      "Y_16 = 1.0\n",
      "Y_17 = 1.0\n",
      "Y_18 = 1.0\n",
      "Y_19 = 1.0\n",
      "Y_2 = -0.0\n",
      "Y_20 = 1.0\n",
      "Y_21 = 1.0\n",
      "Y_22 = 1.0\n",
      "Y_23 = 1.0\n",
      "Y_24 = 1.0\n",
      "Y_25 = 1.0\n",
      "Y_26 = 1.0\n",
      "Y_27 = -0.0\n",
      "Y_28 = 1.0\n",
      "Y_29 = -0.0\n",
      "Y_3 = 1.0\n",
      "Y_30 = 1.0\n",
      "Y_31 = -0.0\n",
      "Y_32 = 1.0\n",
      "Y_33 = -0.0\n",
      "Y_34 = 1.0\n",
      "Y_35 = -0.0\n",
      "Y_36 = 1.0\n",
      "Y_37 = -0.0\n",
      "Y_38 = 1.0\n",
      "Y_39 = -0.0\n",
      "Y_4 = -0.0\n",
      "Y_40 = 1.0\n",
      "Y_41 = -0.0\n",
      "Y_42 = 1.0\n",
      "Y_43 = -0.0\n",
      "Y_44 = 1.0\n",
      "Y_45 = 1.0\n",
      "Y_46 = 1.0\n",
      "Y_47 = 1.0\n",
      "Y_48 = 1.0\n",
      "Y_49 = 1.0\n",
      "Y_5 = 1.0\n",
      "Y_50 = 1.0\n",
      "Y_51 = 1.0\n",
      "Y_52 = 1.0\n",
      "Y_53 = 1.0\n",
      "Y_54 = 1.0\n",
      "Y_55 = 1.0\n",
      "Y_56 = 1.0\n",
      "Y_57 = 1.0\n",
      "Y_58 = 1.0\n",
      "Y_59 = 1.0\n",
      "Y_6 = -0.0\n",
      "Y_7 = 1.0\n",
      "Y_8 = -0.0\n",
      "Y_9 = 1.0\n",
      "Y_from_bat_0 = 0.0\n",
      "Y_from_bat_1 = 0.0\n",
      "Y_from_bat_10 = 1.0\n",
      "Y_from_bat_11 = 0.0\n",
      "Y_from_bat_12 = 1.0\n",
      "Y_from_bat_13 = 0.0\n",
      "Y_from_bat_14 = 1.0\n",
      "Y_from_bat_15 = 1.0\n",
      "Y_from_bat_16 = 1.0\n",
      "Y_from_bat_17 = 1.0\n",
      "Y_from_bat_18 = 1.0\n",
      "Y_from_bat_19 = 1.0\n",
      "Y_from_bat_2 = 1.0\n",
      "Y_from_bat_20 = 1.0\n",
      "Y_from_bat_21 = 1.0\n",
      "Y_from_bat_22 = 1.0\n",
      "Y_from_bat_23 = 1.0\n",
      "Y_from_bat_24 = 0.0\n",
      "Y_from_bat_25 = 1.0\n",
      "Y_from_bat_26 = 1.0\n",
      "Y_from_bat_27 = 1.0\n",
      "Y_from_bat_28 = 0.0\n",
      "Y_from_bat_29 = 1.0\n",
      "Y_from_bat_3 = 0.0\n",
      "Y_from_bat_30 = 0.0\n",
      "Y_from_bat_31 = 1.0\n",
      "Y_from_bat_32 = 0.0\n",
      "Y_from_bat_33 = 1.0\n",
      "Y_from_bat_34 = 0.0\n",
      "Y_from_bat_35 = 1.0\n",
      "Y_from_bat_36 = 0.0\n",
      "Y_from_bat_37 = 1.0\n",
      "Y_from_bat_38 = 0.0\n",
      "Y_from_bat_39 = 1.0\n",
      "Y_from_bat_4 = 1.0\n",
      "Y_from_bat_40 = 0.0\n",
      "Y_from_bat_41 = 1.0\n",
      "Y_from_bat_42 = 0.0\n",
      "Y_from_bat_43 = 1.0\n",
      "Y_from_bat_44 = 0.0\n",
      "Y_from_bat_45 = 1.0\n",
      "Y_from_bat_46 = 1.0\n",
      "Y_from_bat_47 = 1.0\n",
      "Y_from_bat_48 = 1.0\n",
      "Y_from_bat_49 = 1.0\n",
      "Y_from_bat_5 = 0.0\n",
      "Y_from_bat_50 = 1.0\n",
      "Y_from_bat_51 = 1.0\n",
      "Y_from_bat_52 = 1.0\n",
      "Y_from_bat_53 = 1.0\n",
      "Y_from_bat_54 = 1.0\n",
      "Y_from_bat_55 = 1.0\n",
      "Y_from_bat_56 = 1.0\n",
      "Y_from_bat_57 = 1.0\n",
      "Y_from_bat_58 = 1.0\n",
      "Y_from_bat_59 = 1.0\n",
      "Y_from_bat_6 = 1.0\n",
      "Y_from_bat_7 = 0.0\n",
      "Y_from_bat_8 = 1.0\n",
      "Y_from_bat_9 = 0.0\n",
      "Y_to_bat_0 = 1.0\n",
      "Y_to_bat_1 = 1.0\n",
      "Y_to_bat_10 = -0.0\n",
      "Y_to_bat_11 = 1.0\n",
      "Y_to_bat_12 = -0.0\n",
      "Y_to_bat_13 = 1.0\n",
      "Y_to_bat_14 = -0.0\n",
      "Y_to_bat_15 = -0.0\n",
      "Y_to_bat_16 = -0.0\n",
      "Y_to_bat_17 = -0.0\n",
      "Y_to_bat_18 = -0.0\n",
      "Y_to_bat_19 = -0.0\n",
      "Y_to_bat_2 = -0.0\n",
      "Y_to_bat_20 = -0.0\n",
      "Y_to_bat_21 = -0.0\n",
      "Y_to_bat_22 = -0.0\n",
      "Y_to_bat_23 = -0.0\n",
      "Y_to_bat_24 = 1.0\n",
      "Y_to_bat_25 = -0.0\n",
      "Y_to_bat_26 = -0.0\n",
      "Y_to_bat_27 = -0.0\n",
      "Y_to_bat_28 = 1.0\n",
      "Y_to_bat_29 = -0.0\n",
      "Y_to_bat_3 = 1.0\n",
      "Y_to_bat_30 = 1.0\n",
      "Y_to_bat_31 = -0.0\n",
      "Y_to_bat_32 = 1.0\n",
      "Y_to_bat_33 = -0.0\n",
      "Y_to_bat_34 = 1.0\n",
      "Y_to_bat_35 = -0.0\n",
      "Y_to_bat_36 = 1.0\n",
      "Y_to_bat_37 = -0.0\n",
      "Y_to_bat_38 = 1.0\n",
      "Y_to_bat_39 = -0.0\n",
      "Y_to_bat_4 = -0.0\n",
      "Y_to_bat_40 = 1.0\n",
      "Y_to_bat_41 = -0.0\n",
      "Y_to_bat_42 = 1.0\n",
      "Y_to_bat_43 = -0.0\n",
      "Y_to_bat_44 = 1.0\n",
      "Y_to_bat_45 = -0.0\n",
      "Y_to_bat_46 = -0.0\n",
      "Y_to_bat_47 = -0.0\n",
      "Y_to_bat_48 = -0.0\n",
      "Y_to_bat_49 = -0.0\n",
      "Y_to_bat_5 = 1.0\n",
      "Y_to_bat_50 = -0.0\n",
      "Y_to_bat_51 = -0.0\n",
      "Y_to_bat_52 = -0.0\n",
      "Y_to_bat_53 = -0.0\n",
      "Y_to_bat_54 = -0.0\n",
      "Y_to_bat_55 = -0.0\n",
      "Y_to_bat_56 = -0.0\n",
      "Y_to_bat_57 = -0.0\n",
      "Y_to_bat_58 = -0.0\n",
      "Y_to_bat_59 = -0.0\n",
      "Y_to_bat_6 = -0.0\n",
      "Y_to_bat_7 = 1.0\n",
      "Y_to_bat_8 = -0.0\n",
      "Y_to_bat_9 = 1.0\n",
      "Z_0 = 1.0\n",
      "Z_1 = 1.0\n",
      "Z_10 = 1.0\n",
      "Z_11 = 1.0\n",
      "Z_12 = 1.0\n",
      "Z_13 = 1.0\n",
      "Z_14 = 1.0\n",
      "Z_15 = 1.0\n",
      "Z_16 = 1.0\n",
      "Z_17 = 1.0\n",
      "Z_18 = 1.0\n",
      "Z_19 = 1.0\n",
      "Z_2 = 1.0\n",
      "Z_20 = 1.0\n",
      "Z_21 = 1.0\n",
      "Z_22 = 1.0\n",
      "Z_23 = 1.0\n",
      "Z_24 = 1.0\n",
      "Z_25 = 1.0\n",
      "Z_26 = 1.0\n",
      "Z_27 = 1.0\n",
      "Z_28 = 1.0\n",
      "Z_29 = 1.0\n",
      "Z_3 = 1.0\n",
      "Z_30 = 1.0\n",
      "Z_31 = 1.0\n",
      "Z_32 = 1.0\n",
      "Z_33 = 1.0\n",
      "Z_34 = 1.0\n",
      "Z_35 = 1.0\n",
      "Z_36 = 1.0\n",
      "Z_37 = 1.0\n",
      "Z_38 = 1.0\n",
      "Z_39 = 1.0\n",
      "Z_4 = 1.0\n",
      "Z_40 = 1.0\n",
      "Z_41 = 1.0\n",
      "Z_42 = 1.0\n",
      "Z_43 = 1.0\n",
      "Z_44 = 1.0\n",
      "Z_45 = 1.0\n",
      "Z_46 = 1.0\n",
      "Z_47 = 1.0\n",
      "Z_48 = 1.0\n",
      "Z_49 = 1.0\n",
      "Z_5 = 1.0\n",
      "Z_50 = 1.0\n",
      "Z_51 = 1.0\n",
      "Z_52 = 1.0\n",
      "Z_53 = 1.0\n",
      "Z_54 = 1.0\n",
      "Z_55 = 1.0\n",
      "Z_56 = 1.0\n",
      "Z_57 = 1.0\n",
      "Z_58 = 1.0\n",
      "Z_6 = 1.0\n",
      "Z_7 = 1.0\n",
      "Z_8 = 1.0\n",
      "Z_9 = 1.0\n"
     ]
    }
   ],
   "source": [
    "for v in Optim.variables():\n",
    "    print(v.name, \"=\", v.varValue )"
   ]
  },
  {
   "cell_type": "markdown",
   "metadata": {
    "id": "Rjev_Xmdo8lI"
   },
   "source": [
    "$\\newline $\n",
    "$\\newline $\n",
    "### Calculating the optimized fuel comsumption."
   ]
  },
  {
   "cell_type": "code",
   "execution_count": 106,
   "metadata": {
    "colab": {
     "base_uri": "https://localhost:8080/"
    },
    "id": "yGmTzG-KpGKl",
    "outputId": "14182726-9256-4906-89c2-14ed5d5d002a"
   },
   "outputs": [
    {
     "name": "stdout",
     "output_type": "stream",
     "text": [
      "Total saved fuel comsumption of the trip: 2739.3562804291314 kg\n"
     ]
    }
   ],
   "source": [
    "print(\"Total saved fuel comsumption of the trip:\", value(Optim.objective),'kg') "
   ]
  },
  {
   "attachments": {},
   "cell_type": "markdown",
   "metadata": {
    "id": "6EMpo1NxZHNv"
   },
   "source": [
    "$\\newline $\n",
    "### Pre-processing visualisation data."
   ]
  },
  {
   "cell_type": "code",
   "execution_count": 107,
   "metadata": {
    "colab": {
     "base_uri": "https://localhost:8080/"
    },
    "id": "QzIEU9ltJybA",
    "outputId": "d351f1e4-ad6a-407f-9ca2-bf61fe4177bb"
   },
   "outputs": [
    {
     "name": "stdout",
     "output_type": "stream",
     "text": [
      "[199.99999970487437, 297.46633376728994, 2.842170943040401e-14, 272.6225183951133, 0.0, 363.343977046601, 0.0, 211.11111111111111, 233.33333333333331, 255.55555555555554, 277.77777777777777, 300.0, 5.684341886080802e-14, 300.0, 283.3333333333333, 266.6666666666667, 250.0, 424.22601693738693, 216.66666666666666, 200.0000000000002, 0.0, 322.8515896154381, 0.0, 328.6362163913185, 309.7753809475937, 0.0, 323.8528486693763, 0.0, 337.9303163911589, 0.0, 352.0077841129415, 0.0, 366.0852518347241, 0.0, 0.0, 380.16271955650666, 0.0, 394.2401872782893, 0.0, 274.8064743138635, 201.72413793103448, 205.17241379310343, 208.6206896551724, 212.06896551724137, 215.51724137931035, 283.27548706557457, 218.9655172413793, 222.41379310344826, 225.86206896551724, 229.31034482758622, 232.75862068965517, 236.20689655172413, 239.65517241379308, 243.10344827586206, 246.55172413793105, 250.0, 2.842170943040401e-14, 237.91475773983066, 0.0, 204.12328196584753]\n",
      "[200.0, 188.88888888888889, 0.0, 122.22222222222223, 0.0, 166.66666666666666, 0.0, 211.11111111111111, 233.33333333333331, 255.55555555555554, 277.77777777777777, 300.0, 0.0, 300.0, 283.3333333333333, 266.6666666666667, 250.0, 233.33333333333331, 216.66666666666666, 200.0, 0.0, 166.66666666666666, 0.0, 166.66666666666669, 150.0, 0.0, 156.89655172413794, 0.0, 163.79310344827587, 0.0, 170.68965517241378, 0.0, 177.58620689655172, 0.0, 0.0, 184.48275862068965, 0.0, 191.3793103448276, 0.0, 198.27586206896552, 201.72413793103448, 205.17241379310343, 208.6206896551724, 212.06896551724137, 215.51724137931035, 144.44444444444446, 218.9655172413793, 222.41379310344826, 225.86206896551724, 229.31034482758622, 232.75862068965517, 236.20689655172413, 239.65517241379308, 243.10344827586206, 246.55172413793105, 250.0, 0.0, 122.22222222222223, 0.0, 100.0]\n",
      "[-2.917922972671901e-07, 108.57744487840102, 2.1316282072803006e-14, 150.40029617289102, 0.0, 196.67731037993434, 0.0, 0.0, 0.0, 0.0, 0.0, 0.0, 5.684341886080802e-14, 0.0, 0.0, 0.0, 0.0, 190.89268360405364, 0.0, 1.9895196601282805e-13, 0.0, 156.18492294877143, 0.0, 161.96954972465178, 159.7753809475937, 0.0, 166.9562969452384, 0.0, 174.13721294288302, 0.0, 181.31812894052774, 0.0, 188.49904493817237, 0.0, 0.0, 195.67996093581698, 0.0, 202.8608769334617, 0.0, 76.53061224489795, 0.0, 0.0, 0.0, 0.0, 0.0, 138.83104262113008, 0.0, 0.0, 0.0, 0.0, 0.0, 0.0, 0.0, 0.0, 0.0, 0.0, 2.842170943040401e-14, 115.69253551760843, 0.0, 104.12328196584754]\n",
      "[0.0, 0.0, 102.04081632653062, 0.0, 147.39229024943313, 0.0, 192.7437641723356, 0.0, 0.0, 0.0, 0.0, 0.0, 181.40589569160997, 0.0, 0.0, 0.0, 0.0, 0.0, 0.0, 0.0, 187.07482993197277, 0.0, 153.06122448979593, 0.0, 0.0, 156.57987332864178, 0.0, 163.61717100633356, 0.0, 170.65446868402535, 0.0, 177.6917663617171, 0.0, 184.72906403940888, 158.7301587301587, 0.0, 191.7663617171006, 0.0, 198.8036593947924, 0.0, 0.0, 0.0, 0.0, 0.0, 0.0, 0.0, 0.0, 0.0, 0.0, 0.0, 0.0, 0.0, 0.0, 0.0, 0.0, 0.0, 136.0544217687075, 0.0, 113.37868480725623, 0.0]\n",
      "[124.99999971077689, 231.40589569160989, 50.0, 197.3922902494332, 50.0, 242.7437641723356, 50.00000000000002, 50.00000000000002, 50.00000000000002, 50.00000000000002, 50.00000000000002, 50.00000000000002, 50.0, 50.00000000000002, 50.00000000000002, 50.00000000000002, 50.00000000000002, 237.0748299319726, 237.0748299319726, 237.07482993197277, 50.0, 203.06122448979596, 50.0, 208.73015873015873, 206.57987332864178, 50.0, 213.61717100633362, 50.0, 220.65446868402537, 50.0, 227.69176636171716, 50.0, 234.7290640394089, 50.0, 50.0, 241.76636171710064, 50.0, 248.80365939479245, 50.0, 125.0, 125.0, 125.0, 125.0, 125.0, 125.0, 186.05442176870747, 125.0, 125.0, 125.0, 125.0, 125.0, 125.0, 125.0, 125.0, 125.0, 125.0, 50.0, 163.37868480725626, 50.0, 152.0408163265306]\n",
      "[49.31999994501809, 67.4779779808461, 0.0, 62.8495751770096, 0.0, 79.75098292378176, 0.0, 51.38999999999999, 55.529999999999994, 59.669999999999995, 63.809999999999995, 67.95, 3.313971319585108e-15, 67.95, 64.845, 61.74, 58.63499999999999, 91.0933069554352, 52.42499999999999, 49.32000000000003, 0.0, 72.20725114535611, 0.0, 73.28492711370264, 69.77115347053669, 0.0, 72.39378570710481, 0.0, 75.01641794367289, 0.0, 77.639050180241, 0.0, 80.26168241680908, 0.0, 0.0, 82.88431465337719, 0.0, 85.50694688994528, 0.0, 63.25644616467276, 49.641206896551715, 50.283620689655166, 50.92603448275862, 51.56844827586207, 52.21086206896551, 64.83422324031655, 52.853275862068955, 53.495689655172406, 54.13810344827586, 54.780517241379314, 55.42293103448275, 56.0653448275862, 56.707758620689646, 57.3501724137931, 57.99258620689655, 58.63499999999999, 0.0, 56.38351936693045, 0.0, 50.088167430237384]\n",
      "[200.0, 188.88888888888889, 177.77777777777777, 166.66666666666669, 155.55555555555554, 144.44444444444446, 133.33333333333334, 122.22222222222223, 111.11111111111111, 100.0, 100.0, 122.22222222222223, 144.44444444444446, 166.66666666666666, 188.88888888888889, 211.11111111111111, 233.33333333333331, 255.55555555555554, 277.77777777777777, 300.0, 300.0, 283.3333333333333, 266.6666666666667, 250.0, 233.33333333333331, 216.66666666666666, 200.0, 183.33333333333331, 166.66666666666666, 150.0, 150.0, 153.44827586206895, 156.89655172413794, 160.3448275862069, 163.79310344827587, 167.24137931034483, 170.68965517241378, 174.13793103448276, 177.58620689655172, 181.0344827586207, 184.48275862068965, 187.9310344827586, 191.3793103448276, 194.82758620689654, 198.27586206896552, 201.72413793103448, 205.17241379310343, 208.6206896551724, 212.06896551724137, 215.51724137931035, 218.9655172413793, 222.41379310344826, 225.86206896551724, 229.31034482758622, 232.75862068965517, 236.20689655172413, 239.65517241379308, 243.10344827586206, 246.55172413793105, 250.0]\n"
     ]
    }
   ],
   "source": [
    "# Constructing list out of the P_A vector.\n",
    "\n",
    "P_A_list = []\n",
    "for v in Optim.variables():\n",
    "  for i in V_steps:\n",
    "    if v.name == ('P_A_'+ str(i)):\n",
    "      P_A_list.append(v.varValue)\n",
    "print(P_A_list)\n",
    "\n",
    "# Constructing list out of the P_A_load vector.\n",
    "\n",
    "P_A_load_list = []\n",
    "for v in Optim.variables():\n",
    "  for i in V_steps:\n",
    "    if v.name == ('P_A_load_'+ str(i)):\n",
    "      P_A_load_list.append(v.varValue)\n",
    "print(P_A_load_list)\n",
    "\n",
    "# Constructing list out of the P_A_to_bat vector.\n",
    "\n",
    "P_A_to_bat_list = []\n",
    "for v in Optim.variables():\n",
    "  for i in V_steps:\n",
    "    if v.name == ('P_A_to_bat_'+ str(i)):\n",
    "      P_A_to_bat_list.append(v.varValue)\n",
    "print(P_A_to_bat_list)\n",
    "\n",
    "# Constructing list out of the P_From_bat.\n",
    "\n",
    "P_From_bat_list = []\n",
    "for v in Optim.variables():\n",
    "  for i in V_steps:\n",
    "    if v.name == ('P_From_bat_'+ str(i)):\n",
    "      P_From_bat_list.append(v.varValue)\n",
    "print(P_From_bat_list)\n",
    "\n",
    "# Constructing list out of the Q_bat vector.\n",
    "\n",
    "Q_bat_list = []\n",
    "for v in Optim.variables():\n",
    "  for i in V_steps:\n",
    "    if v.name == ('Q_bat_'+ str(i)):\n",
    "      Q_bat_list.append(v.varValue)\n",
    "print(Q_bat_list)\n",
    "\n",
    "# constructing list out of the FC_A vector.\n",
    "\n",
    "FC_A_list = []\n",
    "for v in Optim.variables():\n",
    "  for i in V_steps:\n",
    "    if v.name == ('FC_A_'+ str(i)):\n",
    "      FC_A_list.append(v.varValue/1000)\n",
    "print(FC_A_list)\n",
    "\n",
    "# Constructing list out of load profil vector.\n",
    "\n",
    "d_load_list = []              \n",
    "for i in V_steps:\n",
    "    d_load_list.append(L[i])\n",
    "print(d_load_list)\n",
    "\n"
   ]
  },
  {
   "cell_type": "markdown",
   "metadata": {
    "id": "szFTzJxxZeoP"
   },
   "source": [
    "$\\newline $\n",
    "\n",
    "### Load requirement window. "
   ]
  },
  {
   "cell_type": "code",
   "execution_count": 108,
   "metadata": {
    "colab": {
     "base_uri": "https://localhost:8080/",
     "height": 295
    },
    "id": "489uZigyve59",
    "outputId": "08793e0f-0d89-45e1-8a82-941493de950a"
   },
   "outputs": [
    {
     "data": {
      "application/vnd.plotly.v1+json": {
       "config": {
        "plotlyServerURL": "https://plot.ly"
       },
       "data": [
        {
         "alignmentgroup": "True",
         "hovertemplate": "Time Step (min)=%{x}<br>Power load (kw)=%{y}<br>color=%{marker.color}<extra></extra>",
         "legendgroup": "",
         "marker": {
          "color": [
           200,
           188.88888888888889,
           177.77777777777777,
           166.66666666666669,
           155.55555555555554,
           144.44444444444446,
           133.33333333333334,
           122.22222222222223,
           111.11111111111111,
           100,
           100,
           122.22222222222223,
           144.44444444444446,
           166.66666666666666,
           188.88888888888889,
           211.11111111111111,
           233.33333333333331,
           255.55555555555554,
           277.77777777777777,
           300,
           300,
           283.3333333333333,
           266.6666666666667,
           250,
           233.33333333333331,
           216.66666666666666,
           200,
           183.33333333333331,
           166.66666666666666,
           150,
           150,
           153.44827586206895,
           156.89655172413794,
           160.3448275862069,
           163.79310344827587,
           167.24137931034483,
           170.68965517241378,
           174.13793103448276,
           177.58620689655172,
           181.0344827586207,
           184.48275862068965,
           187.9310344827586,
           191.3793103448276,
           194.82758620689654,
           198.27586206896552,
           201.72413793103448,
           205.17241379310343,
           208.6206896551724,
           212.06896551724137,
           215.51724137931035,
           218.9655172413793,
           222.41379310344826,
           225.86206896551724,
           229.31034482758622,
           232.75862068965517,
           236.20689655172413,
           239.65517241379308,
           243.10344827586206,
           246.55172413793105,
           250
          ],
          "coloraxis": "coloraxis",
          "pattern": {
           "shape": ""
          }
         },
         "name": "",
         "offsetgroup": "",
         "orientation": "v",
         "showlegend": false,
         "textposition": "auto",
         "texttemplate": "%{y}",
         "type": "bar",
         "x": [
          0,
          1,
          2,
          3,
          4,
          5,
          6,
          7,
          8,
          9,
          10,
          11,
          12,
          13,
          14,
          15,
          16,
          17,
          18,
          19,
          20,
          21,
          22,
          23,
          24,
          25,
          26,
          27,
          28,
          29,
          30,
          31,
          32,
          33,
          34,
          35,
          36,
          37,
          38,
          39,
          40,
          41,
          42,
          43,
          44,
          45,
          46,
          47,
          48,
          49,
          50,
          51,
          52,
          53,
          54,
          55,
          56,
          57,
          58,
          59
         ],
         "xaxis": "x",
         "y": [
          200,
          188.88888888888889,
          177.77777777777777,
          166.66666666666669,
          155.55555555555554,
          144.44444444444446,
          133.33333333333334,
          122.22222222222223,
          111.11111111111111,
          100,
          100,
          122.22222222222223,
          144.44444444444446,
          166.66666666666666,
          188.88888888888889,
          211.11111111111111,
          233.33333333333331,
          255.55555555555554,
          277.77777777777777,
          300,
          300,
          283.3333333333333,
          266.6666666666667,
          250,
          233.33333333333331,
          216.66666666666666,
          200,
          183.33333333333331,
          166.66666666666666,
          150,
          150,
          153.44827586206895,
          156.89655172413794,
          160.3448275862069,
          163.79310344827587,
          167.24137931034483,
          170.68965517241378,
          174.13793103448276,
          177.58620689655172,
          181.0344827586207,
          184.48275862068965,
          187.9310344827586,
          191.3793103448276,
          194.82758620689654,
          198.27586206896552,
          201.72413793103448,
          205.17241379310343,
          208.6206896551724,
          212.06896551724137,
          215.51724137931035,
          218.9655172413793,
          222.41379310344826,
          225.86206896551724,
          229.31034482758622,
          232.75862068965517,
          236.20689655172413,
          239.65517241379308,
          243.10344827586206,
          246.55172413793105,
          250
         ],
         "yaxis": "y"
        }
       ],
       "layout": {
        "barmode": "relative",
        "coloraxis": {
         "colorbar": {
          "title": {
           "text": "color"
          }
         },
         "colorscale": [
          [
           0,
           "#0d0887"
          ],
          [
           0.1111111111111111,
           "#46039f"
          ],
          [
           0.2222222222222222,
           "#7201a8"
          ],
          [
           0.3333333333333333,
           "#9c179e"
          ],
          [
           0.4444444444444444,
           "#bd3786"
          ],
          [
           0.5555555555555556,
           "#d8576b"
          ],
          [
           0.6666666666666666,
           "#ed7953"
          ],
          [
           0.7777777777777778,
           "#fb9f3a"
          ],
          [
           0.8888888888888888,
           "#fdca26"
          ],
          [
           1,
           "#f0f921"
          ]
         ]
        },
        "height": 400,
        "legend": {
         "tracegroupgap": 0
        },
        "template": {
         "data": {
          "bar": [
           {
            "error_x": {
             "color": "#2a3f5f"
            },
            "error_y": {
             "color": "#2a3f5f"
            },
            "marker": {
             "line": {
              "color": "#E5ECF6",
              "width": 0.5
             },
             "pattern": {
              "fillmode": "overlay",
              "size": 10,
              "solidity": 0.2
             }
            },
            "type": "bar"
           }
          ],
          "barpolar": [
           {
            "marker": {
             "line": {
              "color": "#E5ECF6",
              "width": 0.5
             },
             "pattern": {
              "fillmode": "overlay",
              "size": 10,
              "solidity": 0.2
             }
            },
            "type": "barpolar"
           }
          ],
          "carpet": [
           {
            "aaxis": {
             "endlinecolor": "#2a3f5f",
             "gridcolor": "white",
             "linecolor": "white",
             "minorgridcolor": "white",
             "startlinecolor": "#2a3f5f"
            },
            "baxis": {
             "endlinecolor": "#2a3f5f",
             "gridcolor": "white",
             "linecolor": "white",
             "minorgridcolor": "white",
             "startlinecolor": "#2a3f5f"
            },
            "type": "carpet"
           }
          ],
          "choropleth": [
           {
            "colorbar": {
             "outlinewidth": 0,
             "ticks": ""
            },
            "type": "choropleth"
           }
          ],
          "contour": [
           {
            "colorbar": {
             "outlinewidth": 0,
             "ticks": ""
            },
            "colorscale": [
             [
              0,
              "#0d0887"
             ],
             [
              0.1111111111111111,
              "#46039f"
             ],
             [
              0.2222222222222222,
              "#7201a8"
             ],
             [
              0.3333333333333333,
              "#9c179e"
             ],
             [
              0.4444444444444444,
              "#bd3786"
             ],
             [
              0.5555555555555556,
              "#d8576b"
             ],
             [
              0.6666666666666666,
              "#ed7953"
             ],
             [
              0.7777777777777778,
              "#fb9f3a"
             ],
             [
              0.8888888888888888,
              "#fdca26"
             ],
             [
              1,
              "#f0f921"
             ]
            ],
            "type": "contour"
           }
          ],
          "contourcarpet": [
           {
            "colorbar": {
             "outlinewidth": 0,
             "ticks": ""
            },
            "type": "contourcarpet"
           }
          ],
          "heatmap": [
           {
            "colorbar": {
             "outlinewidth": 0,
             "ticks": ""
            },
            "colorscale": [
             [
              0,
              "#0d0887"
             ],
             [
              0.1111111111111111,
              "#46039f"
             ],
             [
              0.2222222222222222,
              "#7201a8"
             ],
             [
              0.3333333333333333,
              "#9c179e"
             ],
             [
              0.4444444444444444,
              "#bd3786"
             ],
             [
              0.5555555555555556,
              "#d8576b"
             ],
             [
              0.6666666666666666,
              "#ed7953"
             ],
             [
              0.7777777777777778,
              "#fb9f3a"
             ],
             [
              0.8888888888888888,
              "#fdca26"
             ],
             [
              1,
              "#f0f921"
             ]
            ],
            "type": "heatmap"
           }
          ],
          "heatmapgl": [
           {
            "colorbar": {
             "outlinewidth": 0,
             "ticks": ""
            },
            "colorscale": [
             [
              0,
              "#0d0887"
             ],
             [
              0.1111111111111111,
              "#46039f"
             ],
             [
              0.2222222222222222,
              "#7201a8"
             ],
             [
              0.3333333333333333,
              "#9c179e"
             ],
             [
              0.4444444444444444,
              "#bd3786"
             ],
             [
              0.5555555555555556,
              "#d8576b"
             ],
             [
              0.6666666666666666,
              "#ed7953"
             ],
             [
              0.7777777777777778,
              "#fb9f3a"
             ],
             [
              0.8888888888888888,
              "#fdca26"
             ],
             [
              1,
              "#f0f921"
             ]
            ],
            "type": "heatmapgl"
           }
          ],
          "histogram": [
           {
            "marker": {
             "pattern": {
              "fillmode": "overlay",
              "size": 10,
              "solidity": 0.2
             }
            },
            "type": "histogram"
           }
          ],
          "histogram2d": [
           {
            "colorbar": {
             "outlinewidth": 0,
             "ticks": ""
            },
            "colorscale": [
             [
              0,
              "#0d0887"
             ],
             [
              0.1111111111111111,
              "#46039f"
             ],
             [
              0.2222222222222222,
              "#7201a8"
             ],
             [
              0.3333333333333333,
              "#9c179e"
             ],
             [
              0.4444444444444444,
              "#bd3786"
             ],
             [
              0.5555555555555556,
              "#d8576b"
             ],
             [
              0.6666666666666666,
              "#ed7953"
             ],
             [
              0.7777777777777778,
              "#fb9f3a"
             ],
             [
              0.8888888888888888,
              "#fdca26"
             ],
             [
              1,
              "#f0f921"
             ]
            ],
            "type": "histogram2d"
           }
          ],
          "histogram2dcontour": [
           {
            "colorbar": {
             "outlinewidth": 0,
             "ticks": ""
            },
            "colorscale": [
             [
              0,
              "#0d0887"
             ],
             [
              0.1111111111111111,
              "#46039f"
             ],
             [
              0.2222222222222222,
              "#7201a8"
             ],
             [
              0.3333333333333333,
              "#9c179e"
             ],
             [
              0.4444444444444444,
              "#bd3786"
             ],
             [
              0.5555555555555556,
              "#d8576b"
             ],
             [
              0.6666666666666666,
              "#ed7953"
             ],
             [
              0.7777777777777778,
              "#fb9f3a"
             ],
             [
              0.8888888888888888,
              "#fdca26"
             ],
             [
              1,
              "#f0f921"
             ]
            ],
            "type": "histogram2dcontour"
           }
          ],
          "mesh3d": [
           {
            "colorbar": {
             "outlinewidth": 0,
             "ticks": ""
            },
            "type": "mesh3d"
           }
          ],
          "parcoords": [
           {
            "line": {
             "colorbar": {
              "outlinewidth": 0,
              "ticks": ""
             }
            },
            "type": "parcoords"
           }
          ],
          "pie": [
           {
            "automargin": true,
            "type": "pie"
           }
          ],
          "scatter": [
           {
            "fillpattern": {
             "fillmode": "overlay",
             "size": 10,
             "solidity": 0.2
            },
            "type": "scatter"
           }
          ],
          "scatter3d": [
           {
            "line": {
             "colorbar": {
              "outlinewidth": 0,
              "ticks": ""
             }
            },
            "marker": {
             "colorbar": {
              "outlinewidth": 0,
              "ticks": ""
             }
            },
            "type": "scatter3d"
           }
          ],
          "scattercarpet": [
           {
            "marker": {
             "colorbar": {
              "outlinewidth": 0,
              "ticks": ""
             }
            },
            "type": "scattercarpet"
           }
          ],
          "scattergeo": [
           {
            "marker": {
             "colorbar": {
              "outlinewidth": 0,
              "ticks": ""
             }
            },
            "type": "scattergeo"
           }
          ],
          "scattergl": [
           {
            "marker": {
             "colorbar": {
              "outlinewidth": 0,
              "ticks": ""
             }
            },
            "type": "scattergl"
           }
          ],
          "scattermapbox": [
           {
            "marker": {
             "colorbar": {
              "outlinewidth": 0,
              "ticks": ""
             }
            },
            "type": "scattermapbox"
           }
          ],
          "scatterpolar": [
           {
            "marker": {
             "colorbar": {
              "outlinewidth": 0,
              "ticks": ""
             }
            },
            "type": "scatterpolar"
           }
          ],
          "scatterpolargl": [
           {
            "marker": {
             "colorbar": {
              "outlinewidth": 0,
              "ticks": ""
             }
            },
            "type": "scatterpolargl"
           }
          ],
          "scatterternary": [
           {
            "marker": {
             "colorbar": {
              "outlinewidth": 0,
              "ticks": ""
             }
            },
            "type": "scatterternary"
           }
          ],
          "surface": [
           {
            "colorbar": {
             "outlinewidth": 0,
             "ticks": ""
            },
            "colorscale": [
             [
              0,
              "#0d0887"
             ],
             [
              0.1111111111111111,
              "#46039f"
             ],
             [
              0.2222222222222222,
              "#7201a8"
             ],
             [
              0.3333333333333333,
              "#9c179e"
             ],
             [
              0.4444444444444444,
              "#bd3786"
             ],
             [
              0.5555555555555556,
              "#d8576b"
             ],
             [
              0.6666666666666666,
              "#ed7953"
             ],
             [
              0.7777777777777778,
              "#fb9f3a"
             ],
             [
              0.8888888888888888,
              "#fdca26"
             ],
             [
              1,
              "#f0f921"
             ]
            ],
            "type": "surface"
           }
          ],
          "table": [
           {
            "cells": {
             "fill": {
              "color": "#EBF0F8"
             },
             "line": {
              "color": "white"
             }
            },
            "header": {
             "fill": {
              "color": "#C8D4E3"
             },
             "line": {
              "color": "white"
             }
            },
            "type": "table"
           }
          ]
         },
         "layout": {
          "annotationdefaults": {
           "arrowcolor": "#2a3f5f",
           "arrowhead": 0,
           "arrowwidth": 1
          },
          "autotypenumbers": "strict",
          "coloraxis": {
           "colorbar": {
            "outlinewidth": 0,
            "ticks": ""
           }
          },
          "colorscale": {
           "diverging": [
            [
             0,
             "#8e0152"
            ],
            [
             0.1,
             "#c51b7d"
            ],
            [
             0.2,
             "#de77ae"
            ],
            [
             0.3,
             "#f1b6da"
            ],
            [
             0.4,
             "#fde0ef"
            ],
            [
             0.5,
             "#f7f7f7"
            ],
            [
             0.6,
             "#e6f5d0"
            ],
            [
             0.7,
             "#b8e186"
            ],
            [
             0.8,
             "#7fbc41"
            ],
            [
             0.9,
             "#4d9221"
            ],
            [
             1,
             "#276419"
            ]
           ],
           "sequential": [
            [
             0,
             "#0d0887"
            ],
            [
             0.1111111111111111,
             "#46039f"
            ],
            [
             0.2222222222222222,
             "#7201a8"
            ],
            [
             0.3333333333333333,
             "#9c179e"
            ],
            [
             0.4444444444444444,
             "#bd3786"
            ],
            [
             0.5555555555555556,
             "#d8576b"
            ],
            [
             0.6666666666666666,
             "#ed7953"
            ],
            [
             0.7777777777777778,
             "#fb9f3a"
            ],
            [
             0.8888888888888888,
             "#fdca26"
            ],
            [
             1,
             "#f0f921"
            ]
           ],
           "sequentialminus": [
            [
             0,
             "#0d0887"
            ],
            [
             0.1111111111111111,
             "#46039f"
            ],
            [
             0.2222222222222222,
             "#7201a8"
            ],
            [
             0.3333333333333333,
             "#9c179e"
            ],
            [
             0.4444444444444444,
             "#bd3786"
            ],
            [
             0.5555555555555556,
             "#d8576b"
            ],
            [
             0.6666666666666666,
             "#ed7953"
            ],
            [
             0.7777777777777778,
             "#fb9f3a"
            ],
            [
             0.8888888888888888,
             "#fdca26"
            ],
            [
             1,
             "#f0f921"
            ]
           ]
          },
          "colorway": [
           "#636efa",
           "#EF553B",
           "#00cc96",
           "#ab63fa",
           "#FFA15A",
           "#19d3f3",
           "#FF6692",
           "#B6E880",
           "#FF97FF",
           "#FECB52"
          ],
          "font": {
           "color": "#2a3f5f"
          },
          "geo": {
           "bgcolor": "white",
           "lakecolor": "white",
           "landcolor": "#E5ECF6",
           "showlakes": true,
           "showland": true,
           "subunitcolor": "white"
          },
          "hoverlabel": {
           "align": "left"
          },
          "hovermode": "closest",
          "mapbox": {
           "style": "light"
          },
          "paper_bgcolor": "white",
          "plot_bgcolor": "#E5ECF6",
          "polar": {
           "angularaxis": {
            "gridcolor": "white",
            "linecolor": "white",
            "ticks": ""
           },
           "bgcolor": "#E5ECF6",
           "radialaxis": {
            "gridcolor": "white",
            "linecolor": "white",
            "ticks": ""
           }
          },
          "scene": {
           "xaxis": {
            "backgroundcolor": "#E5ECF6",
            "gridcolor": "white",
            "gridwidth": 2,
            "linecolor": "white",
            "showbackground": true,
            "ticks": "",
            "zerolinecolor": "white"
           },
           "yaxis": {
            "backgroundcolor": "#E5ECF6",
            "gridcolor": "white",
            "gridwidth": 2,
            "linecolor": "white",
            "showbackground": true,
            "ticks": "",
            "zerolinecolor": "white"
           },
           "zaxis": {
            "backgroundcolor": "#E5ECF6",
            "gridcolor": "white",
            "gridwidth": 2,
            "linecolor": "white",
            "showbackground": true,
            "ticks": "",
            "zerolinecolor": "white"
           }
          },
          "shapedefaults": {
           "line": {
            "color": "#2a3f5f"
           }
          },
          "ternary": {
           "aaxis": {
            "gridcolor": "white",
            "linecolor": "white",
            "ticks": ""
           },
           "baxis": {
            "gridcolor": "white",
            "linecolor": "white",
            "ticks": ""
           },
           "bgcolor": "#E5ECF6",
           "caxis": {
            "gridcolor": "white",
            "linecolor": "white",
            "ticks": ""
           }
          },
          "title": {
           "x": 0.05
          },
          "xaxis": {
           "automargin": true,
           "gridcolor": "white",
           "linecolor": "white",
           "ticks": "",
           "title": {
            "standoff": 15
           },
           "zerolinecolor": "white",
           "zerolinewidth": 2
          },
          "yaxis": {
           "automargin": true,
           "gridcolor": "white",
           "linecolor": "white",
           "ticks": "",
           "title": {
            "standoff": 15
           },
           "zerolinecolor": "white",
           "zerolinewidth": 2
          }
         }
        },
        "title": {
         "text": "_____________________________Typical Load Requirements._____________________________"
        },
        "width": 1350,
        "xaxis": {
         "anchor": "y",
         "domain": [
          0,
          1
         ],
         "title": {
          "text": "Time Step (min)"
         }
        },
        "yaxis": {
         "anchor": "x",
         "domain": [
          0,
          1
         ],
         "title": {
          "text": "Power load (kw)"
         }
        }
       }
      }
     },
     "metadata": {},
     "output_type": "display_data"
    }
   ],
   "source": [
    "fig = px.bar(x=V_steps, y=d_load_list,\n",
    "             title='_____________________________Typical Load Requirements._____________________________',\n",
    "             height=400, width=1350,\n",
    "             labels=dict(x=\"Time Step (min)\", y=\"Power load (kw)\"), text_auto=True, color=d_load_list,\n",
    ")\n",
    "fig.show()"
   ]
  },
  {
   "cell_type": "code",
   "execution_count": 109,
   "metadata": {
    "colab": {
     "base_uri": "https://localhost:8080/"
    },
    "id": "MUPnO7G6UJDJ",
    "outputId": "ee771f7f-4cad-4f05-bd44-6c325b6f2d85"
   },
   "outputs": [
    {
     "name": "stdout",
     "output_type": "stream",
     "text": [
      "[0, 1, 2, 3, 4, 5, 6, 7, 8, 9, 10, 11, 12, 13, 14, 15, 16, 17, 18, 19, 20, 21, 22, 23, 24, 25, 26, 27, 28, 29, 30, 31, 32, 33, 34, 35, 36, 37, 38, 39, 40, 41, 42, 43, 44, 45, 46, 47, 48, 49, 50, 51, 52, 53, 54, 55, 56, 57, 58, 59] {0: 200.0, 1: 188.88888888888889, 2: 177.77777777777777, 3: 166.66666666666669, 4: 155.55555555555554, 5: 144.44444444444446, 6: 133.33333333333334, 7: 122.22222222222223, 8: 111.11111111111111, 9: 100.0, 10: 100.0, 11: 122.22222222222223, 12: 144.44444444444446, 13: 166.66666666666666, 14: 188.88888888888889, 15: 211.11111111111111, 16: 233.33333333333331, 17: 255.55555555555554, 18: 277.77777777777777, 19: 300.0, 20: 300.0, 21: 283.3333333333333, 22: 266.6666666666667, 23: 250.0, 24: 233.33333333333331, 25: 216.66666666666666, 26: 200.0, 27: 183.33333333333331, 28: 166.66666666666666, 29: 150.0, 30: 150.0, 31: 153.44827586206895, 32: 156.89655172413794, 33: 160.3448275862069, 34: 163.79310344827587, 35: 167.24137931034483, 36: 170.68965517241378, 37: 174.13793103448276, 38: 177.58620689655172, 39: 181.0344827586207, 40: 184.48275862068965, 41: 187.9310344827586, 42: 191.3793103448276, 43: 194.82758620689654, 44: 198.27586206896552, 45: 201.72413793103448, 46: 205.17241379310343, 47: 208.6206896551724, 48: 212.06896551724137, 49: 215.51724137931035, 50: 218.9655172413793, 51: 222.41379310344826, 52: 225.86206896551724, 53: 229.31034482758622, 54: 232.75862068965517, 55: 236.20689655172413, 56: 239.65517241379308, 57: 243.10344827586206, 58: 246.55172413793105, 59: 250.0}\n"
     ]
    }
   ],
   "source": [
    "print(V_steps,L)"
   ]
  },
  {
   "cell_type": "markdown",
   "metadata": {
    "id": "Y9Ewjv-dZu1H"
   },
   "source": [
    "$\\newline $\n",
    "### Generated genset power."
   ]
  },
  {
   "cell_type": "code",
   "execution_count": 110,
   "metadata": {
    "colab": {
     "base_uri": "https://localhost:8080/",
     "height": 295
    },
    "id": "9iFbkk58QRjB",
    "outputId": "fd4c0ef1-781e-4df4-ff61-2906141ae7c1"
   },
   "outputs": [
    {
     "data": {
      "application/vnd.plotly.v1+json": {
       "config": {
        "plotlyServerURL": "https://plot.ly"
       },
       "data": [
        {
         "alignmentgroup": "True",
         "hovertemplate": "Time Step (min)=%{x}<br>Power(kw)=%{y}<br>color=%{marker.color}<extra></extra>",
         "legendgroup": "",
         "marker": {
          "color": [
           199.99999970487437,
           297.46633376728994,
           2.842170943040401e-14,
           272.6225183951133,
           0,
           363.343977046601,
           0,
           211.11111111111111,
           233.33333333333331,
           255.55555555555554,
           277.77777777777777,
           300,
           5.684341886080802e-14,
           300,
           283.3333333333333,
           266.6666666666667,
           250,
           424.22601693738693,
           216.66666666666666,
           200.0000000000002,
           0,
           322.8515896154381,
           0,
           328.6362163913185,
           309.7753809475937,
           0,
           323.8528486693763,
           0,
           337.9303163911589,
           0,
           352.0077841129415,
           0,
           366.0852518347241,
           0,
           0,
           380.16271955650666,
           0,
           394.2401872782893,
           0,
           274.8064743138635,
           201.72413793103448,
           205.17241379310343,
           208.6206896551724,
           212.06896551724137,
           215.51724137931035,
           283.27548706557457,
           218.9655172413793,
           222.41379310344826,
           225.86206896551724,
           229.31034482758622,
           232.75862068965517,
           236.20689655172413,
           239.65517241379308,
           243.10344827586206,
           246.55172413793105,
           250,
           2.842170943040401e-14,
           237.91475773983066,
           0,
           204.12328196584753
          ],
          "coloraxis": "coloraxis",
          "pattern": {
           "shape": ""
          }
         },
         "name": "",
         "offsetgroup": "",
         "orientation": "v",
         "showlegend": false,
         "textposition": "auto",
         "texttemplate": "%{y}",
         "type": "bar",
         "x": [
          0,
          1,
          2,
          3,
          4,
          5,
          6,
          7,
          8,
          9,
          10,
          11,
          12,
          13,
          14,
          15,
          16,
          17,
          18,
          19,
          20,
          21,
          22,
          23,
          24,
          25,
          26,
          27,
          28,
          29,
          30,
          31,
          32,
          33,
          34,
          35,
          36,
          37,
          38,
          39,
          40,
          41,
          42,
          43,
          44,
          45,
          46,
          47,
          48,
          49,
          50,
          51,
          52,
          53,
          54,
          55,
          56,
          57,
          58,
          59
         ],
         "xaxis": "x",
         "y": [
          199.99999970487437,
          297.46633376728994,
          2.842170943040401e-14,
          272.6225183951133,
          0,
          363.343977046601,
          0,
          211.11111111111111,
          233.33333333333331,
          255.55555555555554,
          277.77777777777777,
          300,
          5.684341886080802e-14,
          300,
          283.3333333333333,
          266.6666666666667,
          250,
          424.22601693738693,
          216.66666666666666,
          200.0000000000002,
          0,
          322.8515896154381,
          0,
          328.6362163913185,
          309.7753809475937,
          0,
          323.8528486693763,
          0,
          337.9303163911589,
          0,
          352.0077841129415,
          0,
          366.0852518347241,
          0,
          0,
          380.16271955650666,
          0,
          394.2401872782893,
          0,
          274.8064743138635,
          201.72413793103448,
          205.17241379310343,
          208.6206896551724,
          212.06896551724137,
          215.51724137931035,
          283.27548706557457,
          218.9655172413793,
          222.41379310344826,
          225.86206896551724,
          229.31034482758622,
          232.75862068965517,
          236.20689655172413,
          239.65517241379308,
          243.10344827586206,
          246.55172413793105,
          250,
          2.842170943040401e-14,
          237.91475773983066,
          0,
          204.12328196584753
         ],
         "yaxis": "y"
        }
       ],
       "layout": {
        "barmode": "relative",
        "coloraxis": {
         "colorbar": {
          "title": {
           "text": "color"
          }
         },
         "colorscale": [
          [
           0,
           "#0d0887"
          ],
          [
           0.1111111111111111,
           "#46039f"
          ],
          [
           0.2222222222222222,
           "#7201a8"
          ],
          [
           0.3333333333333333,
           "#9c179e"
          ],
          [
           0.4444444444444444,
           "#bd3786"
          ],
          [
           0.5555555555555556,
           "#d8576b"
          ],
          [
           0.6666666666666666,
           "#ed7953"
          ],
          [
           0.7777777777777778,
           "#fb9f3a"
          ],
          [
           0.8888888888888888,
           "#fdca26"
          ],
          [
           1,
           "#f0f921"
          ]
         ]
        },
        "height": 400,
        "legend": {
         "tracegroupgap": 0
        },
        "template": {
         "data": {
          "bar": [
           {
            "error_x": {
             "color": "#2a3f5f"
            },
            "error_y": {
             "color": "#2a3f5f"
            },
            "marker": {
             "line": {
              "color": "#E5ECF6",
              "width": 0.5
             },
             "pattern": {
              "fillmode": "overlay",
              "size": 10,
              "solidity": 0.2
             }
            },
            "type": "bar"
           }
          ],
          "barpolar": [
           {
            "marker": {
             "line": {
              "color": "#E5ECF6",
              "width": 0.5
             },
             "pattern": {
              "fillmode": "overlay",
              "size": 10,
              "solidity": 0.2
             }
            },
            "type": "barpolar"
           }
          ],
          "carpet": [
           {
            "aaxis": {
             "endlinecolor": "#2a3f5f",
             "gridcolor": "white",
             "linecolor": "white",
             "minorgridcolor": "white",
             "startlinecolor": "#2a3f5f"
            },
            "baxis": {
             "endlinecolor": "#2a3f5f",
             "gridcolor": "white",
             "linecolor": "white",
             "minorgridcolor": "white",
             "startlinecolor": "#2a3f5f"
            },
            "type": "carpet"
           }
          ],
          "choropleth": [
           {
            "colorbar": {
             "outlinewidth": 0,
             "ticks": ""
            },
            "type": "choropleth"
           }
          ],
          "contour": [
           {
            "colorbar": {
             "outlinewidth": 0,
             "ticks": ""
            },
            "colorscale": [
             [
              0,
              "#0d0887"
             ],
             [
              0.1111111111111111,
              "#46039f"
             ],
             [
              0.2222222222222222,
              "#7201a8"
             ],
             [
              0.3333333333333333,
              "#9c179e"
             ],
             [
              0.4444444444444444,
              "#bd3786"
             ],
             [
              0.5555555555555556,
              "#d8576b"
             ],
             [
              0.6666666666666666,
              "#ed7953"
             ],
             [
              0.7777777777777778,
              "#fb9f3a"
             ],
             [
              0.8888888888888888,
              "#fdca26"
             ],
             [
              1,
              "#f0f921"
             ]
            ],
            "type": "contour"
           }
          ],
          "contourcarpet": [
           {
            "colorbar": {
             "outlinewidth": 0,
             "ticks": ""
            },
            "type": "contourcarpet"
           }
          ],
          "heatmap": [
           {
            "colorbar": {
             "outlinewidth": 0,
             "ticks": ""
            },
            "colorscale": [
             [
              0,
              "#0d0887"
             ],
             [
              0.1111111111111111,
              "#46039f"
             ],
             [
              0.2222222222222222,
              "#7201a8"
             ],
             [
              0.3333333333333333,
              "#9c179e"
             ],
             [
              0.4444444444444444,
              "#bd3786"
             ],
             [
              0.5555555555555556,
              "#d8576b"
             ],
             [
              0.6666666666666666,
              "#ed7953"
             ],
             [
              0.7777777777777778,
              "#fb9f3a"
             ],
             [
              0.8888888888888888,
              "#fdca26"
             ],
             [
              1,
              "#f0f921"
             ]
            ],
            "type": "heatmap"
           }
          ],
          "heatmapgl": [
           {
            "colorbar": {
             "outlinewidth": 0,
             "ticks": ""
            },
            "colorscale": [
             [
              0,
              "#0d0887"
             ],
             [
              0.1111111111111111,
              "#46039f"
             ],
             [
              0.2222222222222222,
              "#7201a8"
             ],
             [
              0.3333333333333333,
              "#9c179e"
             ],
             [
              0.4444444444444444,
              "#bd3786"
             ],
             [
              0.5555555555555556,
              "#d8576b"
             ],
             [
              0.6666666666666666,
              "#ed7953"
             ],
             [
              0.7777777777777778,
              "#fb9f3a"
             ],
             [
              0.8888888888888888,
              "#fdca26"
             ],
             [
              1,
              "#f0f921"
             ]
            ],
            "type": "heatmapgl"
           }
          ],
          "histogram": [
           {
            "marker": {
             "pattern": {
              "fillmode": "overlay",
              "size": 10,
              "solidity": 0.2
             }
            },
            "type": "histogram"
           }
          ],
          "histogram2d": [
           {
            "colorbar": {
             "outlinewidth": 0,
             "ticks": ""
            },
            "colorscale": [
             [
              0,
              "#0d0887"
             ],
             [
              0.1111111111111111,
              "#46039f"
             ],
             [
              0.2222222222222222,
              "#7201a8"
             ],
             [
              0.3333333333333333,
              "#9c179e"
             ],
             [
              0.4444444444444444,
              "#bd3786"
             ],
             [
              0.5555555555555556,
              "#d8576b"
             ],
             [
              0.6666666666666666,
              "#ed7953"
             ],
             [
              0.7777777777777778,
              "#fb9f3a"
             ],
             [
              0.8888888888888888,
              "#fdca26"
             ],
             [
              1,
              "#f0f921"
             ]
            ],
            "type": "histogram2d"
           }
          ],
          "histogram2dcontour": [
           {
            "colorbar": {
             "outlinewidth": 0,
             "ticks": ""
            },
            "colorscale": [
             [
              0,
              "#0d0887"
             ],
             [
              0.1111111111111111,
              "#46039f"
             ],
             [
              0.2222222222222222,
              "#7201a8"
             ],
             [
              0.3333333333333333,
              "#9c179e"
             ],
             [
              0.4444444444444444,
              "#bd3786"
             ],
             [
              0.5555555555555556,
              "#d8576b"
             ],
             [
              0.6666666666666666,
              "#ed7953"
             ],
             [
              0.7777777777777778,
              "#fb9f3a"
             ],
             [
              0.8888888888888888,
              "#fdca26"
             ],
             [
              1,
              "#f0f921"
             ]
            ],
            "type": "histogram2dcontour"
           }
          ],
          "mesh3d": [
           {
            "colorbar": {
             "outlinewidth": 0,
             "ticks": ""
            },
            "type": "mesh3d"
           }
          ],
          "parcoords": [
           {
            "line": {
             "colorbar": {
              "outlinewidth": 0,
              "ticks": ""
             }
            },
            "type": "parcoords"
           }
          ],
          "pie": [
           {
            "automargin": true,
            "type": "pie"
           }
          ],
          "scatter": [
           {
            "fillpattern": {
             "fillmode": "overlay",
             "size": 10,
             "solidity": 0.2
            },
            "type": "scatter"
           }
          ],
          "scatter3d": [
           {
            "line": {
             "colorbar": {
              "outlinewidth": 0,
              "ticks": ""
             }
            },
            "marker": {
             "colorbar": {
              "outlinewidth": 0,
              "ticks": ""
             }
            },
            "type": "scatter3d"
           }
          ],
          "scattercarpet": [
           {
            "marker": {
             "colorbar": {
              "outlinewidth": 0,
              "ticks": ""
             }
            },
            "type": "scattercarpet"
           }
          ],
          "scattergeo": [
           {
            "marker": {
             "colorbar": {
              "outlinewidth": 0,
              "ticks": ""
             }
            },
            "type": "scattergeo"
           }
          ],
          "scattergl": [
           {
            "marker": {
             "colorbar": {
              "outlinewidth": 0,
              "ticks": ""
             }
            },
            "type": "scattergl"
           }
          ],
          "scattermapbox": [
           {
            "marker": {
             "colorbar": {
              "outlinewidth": 0,
              "ticks": ""
             }
            },
            "type": "scattermapbox"
           }
          ],
          "scatterpolar": [
           {
            "marker": {
             "colorbar": {
              "outlinewidth": 0,
              "ticks": ""
             }
            },
            "type": "scatterpolar"
           }
          ],
          "scatterpolargl": [
           {
            "marker": {
             "colorbar": {
              "outlinewidth": 0,
              "ticks": ""
             }
            },
            "type": "scatterpolargl"
           }
          ],
          "scatterternary": [
           {
            "marker": {
             "colorbar": {
              "outlinewidth": 0,
              "ticks": ""
             }
            },
            "type": "scatterternary"
           }
          ],
          "surface": [
           {
            "colorbar": {
             "outlinewidth": 0,
             "ticks": ""
            },
            "colorscale": [
             [
              0,
              "#0d0887"
             ],
             [
              0.1111111111111111,
              "#46039f"
             ],
             [
              0.2222222222222222,
              "#7201a8"
             ],
             [
              0.3333333333333333,
              "#9c179e"
             ],
             [
              0.4444444444444444,
              "#bd3786"
             ],
             [
              0.5555555555555556,
              "#d8576b"
             ],
             [
              0.6666666666666666,
              "#ed7953"
             ],
             [
              0.7777777777777778,
              "#fb9f3a"
             ],
             [
              0.8888888888888888,
              "#fdca26"
             ],
             [
              1,
              "#f0f921"
             ]
            ],
            "type": "surface"
           }
          ],
          "table": [
           {
            "cells": {
             "fill": {
              "color": "#EBF0F8"
             },
             "line": {
              "color": "white"
             }
            },
            "header": {
             "fill": {
              "color": "#C8D4E3"
             },
             "line": {
              "color": "white"
             }
            },
            "type": "table"
           }
          ]
         },
         "layout": {
          "annotationdefaults": {
           "arrowcolor": "#2a3f5f",
           "arrowhead": 0,
           "arrowwidth": 1
          },
          "autotypenumbers": "strict",
          "coloraxis": {
           "colorbar": {
            "outlinewidth": 0,
            "ticks": ""
           }
          },
          "colorscale": {
           "diverging": [
            [
             0,
             "#8e0152"
            ],
            [
             0.1,
             "#c51b7d"
            ],
            [
             0.2,
             "#de77ae"
            ],
            [
             0.3,
             "#f1b6da"
            ],
            [
             0.4,
             "#fde0ef"
            ],
            [
             0.5,
             "#f7f7f7"
            ],
            [
             0.6,
             "#e6f5d0"
            ],
            [
             0.7,
             "#b8e186"
            ],
            [
             0.8,
             "#7fbc41"
            ],
            [
             0.9,
             "#4d9221"
            ],
            [
             1,
             "#276419"
            ]
           ],
           "sequential": [
            [
             0,
             "#0d0887"
            ],
            [
             0.1111111111111111,
             "#46039f"
            ],
            [
             0.2222222222222222,
             "#7201a8"
            ],
            [
             0.3333333333333333,
             "#9c179e"
            ],
            [
             0.4444444444444444,
             "#bd3786"
            ],
            [
             0.5555555555555556,
             "#d8576b"
            ],
            [
             0.6666666666666666,
             "#ed7953"
            ],
            [
             0.7777777777777778,
             "#fb9f3a"
            ],
            [
             0.8888888888888888,
             "#fdca26"
            ],
            [
             1,
             "#f0f921"
            ]
           ],
           "sequentialminus": [
            [
             0,
             "#0d0887"
            ],
            [
             0.1111111111111111,
             "#46039f"
            ],
            [
             0.2222222222222222,
             "#7201a8"
            ],
            [
             0.3333333333333333,
             "#9c179e"
            ],
            [
             0.4444444444444444,
             "#bd3786"
            ],
            [
             0.5555555555555556,
             "#d8576b"
            ],
            [
             0.6666666666666666,
             "#ed7953"
            ],
            [
             0.7777777777777778,
             "#fb9f3a"
            ],
            [
             0.8888888888888888,
             "#fdca26"
            ],
            [
             1,
             "#f0f921"
            ]
           ]
          },
          "colorway": [
           "#636efa",
           "#EF553B",
           "#00cc96",
           "#ab63fa",
           "#FFA15A",
           "#19d3f3",
           "#FF6692",
           "#B6E880",
           "#FF97FF",
           "#FECB52"
          ],
          "font": {
           "color": "#2a3f5f"
          },
          "geo": {
           "bgcolor": "white",
           "lakecolor": "white",
           "landcolor": "#E5ECF6",
           "showlakes": true,
           "showland": true,
           "subunitcolor": "white"
          },
          "hoverlabel": {
           "align": "left"
          },
          "hovermode": "closest",
          "mapbox": {
           "style": "light"
          },
          "paper_bgcolor": "white",
          "plot_bgcolor": "#E5ECF6",
          "polar": {
           "angularaxis": {
            "gridcolor": "white",
            "linecolor": "white",
            "ticks": ""
           },
           "bgcolor": "#E5ECF6",
           "radialaxis": {
            "gridcolor": "white",
            "linecolor": "white",
            "ticks": ""
           }
          },
          "scene": {
           "xaxis": {
            "backgroundcolor": "#E5ECF6",
            "gridcolor": "white",
            "gridwidth": 2,
            "linecolor": "white",
            "showbackground": true,
            "ticks": "",
            "zerolinecolor": "white"
           },
           "yaxis": {
            "backgroundcolor": "#E5ECF6",
            "gridcolor": "white",
            "gridwidth": 2,
            "linecolor": "white",
            "showbackground": true,
            "ticks": "",
            "zerolinecolor": "white"
           },
           "zaxis": {
            "backgroundcolor": "#E5ECF6",
            "gridcolor": "white",
            "gridwidth": 2,
            "linecolor": "white",
            "showbackground": true,
            "ticks": "",
            "zerolinecolor": "white"
           }
          },
          "shapedefaults": {
           "line": {
            "color": "#2a3f5f"
           }
          },
          "ternary": {
           "aaxis": {
            "gridcolor": "white",
            "linecolor": "white",
            "ticks": ""
           },
           "baxis": {
            "gridcolor": "white",
            "linecolor": "white",
            "ticks": ""
           },
           "bgcolor": "#E5ECF6",
           "caxis": {
            "gridcolor": "white",
            "linecolor": "white",
            "ticks": ""
           }
          },
          "title": {
           "x": 0.05
          },
          "xaxis": {
           "automargin": true,
           "gridcolor": "white",
           "linecolor": "white",
           "ticks": "",
           "title": {
            "standoff": 15
           },
           "zerolinecolor": "white",
           "zerolinewidth": 2
          },
          "yaxis": {
           "automargin": true,
           "gridcolor": "white",
           "linecolor": "white",
           "ticks": "",
           "title": {
            "standoff": 15
           },
           "zerolinecolor": "white",
           "zerolinewidth": 2
          }
         }
        },
        "title": {
         "text": "_____________________________Power Generated By The Genset A._____________________________"
        },
        "width": 1350,
        "xaxis": {
         "anchor": "y",
         "domain": [
          0,
          1
         ],
         "title": {
          "text": "Time Step (min)"
         }
        },
        "yaxis": {
         "anchor": "x",
         "domain": [
          0,
          1
         ],
         "title": {
          "text": "Power(kw)"
         }
        }
       }
      }
     },
     "metadata": {},
     "output_type": "display_data"
    }
   ],
   "source": [
    "fig = px.bar(x=V_steps, y=P_A_list,\n",
    "             title='_____________________________Power Generated By The Genset A._____________________________',\n",
    "             height=400, width=1350,\n",
    "             labels=dict(x=\"Time Step (min)\", y=\"Power(kw)\"), text_auto=True, color=P_A_list,\n",
    ")\n",
    "fig.show()"
   ]
  },
  {
   "cell_type": "code",
   "execution_count": 111,
   "metadata": {
    "colab": {
     "base_uri": "https://localhost:8080/"
    },
    "id": "1AEl4BIHTicC",
    "outputId": "788e110c-d268-447e-b80d-3993732dea4e"
   },
   "outputs": [
    {
     "name": "stdout",
     "output_type": "stream",
     "text": [
      "[0, 1, 2, 3, 4, 5, 6, 7, 8, 9, 10, 11, 12, 13, 14, 15, 16, 17, 18, 19, 20, 21, 22, 23, 24, 25, 26, 27, 28, 29, 30, 31, 32, 33, 34, 35, 36, 37, 38, 39, 40, 41, 42, 43, 44, 45, 46, 47, 48, 49, 50, 51, 52, 53, 54, 55, 56, 57, 58, 59] [199.99999970487437, 297.46633376728994, 2.842170943040401e-14, 272.6225183951133, 0.0, 363.343977046601, 0.0, 211.11111111111111, 233.33333333333331, 255.55555555555554, 277.77777777777777, 300.0, 5.684341886080802e-14, 300.0, 283.3333333333333, 266.6666666666667, 250.0, 424.22601693738693, 216.66666666666666, 200.0000000000002, 0.0, 322.8515896154381, 0.0, 328.6362163913185, 309.7753809475937, 0.0, 323.8528486693763, 0.0, 337.9303163911589, 0.0, 352.0077841129415, 0.0, 366.0852518347241, 0.0, 0.0, 380.16271955650666, 0.0, 394.2401872782893, 0.0, 274.8064743138635, 201.72413793103448, 205.17241379310343, 208.6206896551724, 212.06896551724137, 215.51724137931035, 283.27548706557457, 218.9655172413793, 222.41379310344826, 225.86206896551724, 229.31034482758622, 232.75862068965517, 236.20689655172413, 239.65517241379308, 243.10344827586206, 246.55172413793105, 250.0, 2.842170943040401e-14, 237.91475773983066, 0.0, 204.12328196584753]\n"
     ]
    }
   ],
   "source": [
    "print(V_steps,P_A_list)"
   ]
  },
  {
   "cell_type": "markdown",
   "metadata": {
    "id": "20mSVMybaQWl"
   },
   "source": [
    "$\\newline $\n",
    "### Realised power from the genset to load."
   ]
  },
  {
   "cell_type": "code",
   "execution_count": 112,
   "metadata": {
    "colab": {
     "base_uri": "https://localhost:8080/",
     "height": 295
    },
    "id": "NpMBFHr-vBeC",
    "outputId": "fefc1851-18b2-4278-ec11-cbb5f716054f"
   },
   "outputs": [
    {
     "data": {
      "application/vnd.plotly.v1+json": {
       "config": {
        "plotlyServerURL": "https://plot.ly"
       },
       "data": [
        {
         "alignmentgroup": "True",
         "hovertemplate": "Time Step (min)=%{x}<br>Power(kw)=%{y}<br>color=%{marker.color}<extra></extra>",
         "legendgroup": "",
         "marker": {
          "color": [
           200,
           188.88888888888889,
           0,
           122.22222222222223,
           0,
           166.66666666666666,
           0,
           211.11111111111111,
           233.33333333333331,
           255.55555555555554,
           277.77777777777777,
           300,
           0,
           300,
           283.3333333333333,
           266.6666666666667,
           250,
           233.33333333333331,
           216.66666666666666,
           200,
           0,
           166.66666666666666,
           0,
           166.66666666666669,
           150,
           0,
           156.89655172413794,
           0,
           163.79310344827587,
           0,
           170.68965517241378,
           0,
           177.58620689655172,
           0,
           0,
           184.48275862068965,
           0,
           191.3793103448276,
           0,
           198.27586206896552,
           201.72413793103448,
           205.17241379310343,
           208.6206896551724,
           212.06896551724137,
           215.51724137931035,
           144.44444444444446,
           218.9655172413793,
           222.41379310344826,
           225.86206896551724,
           229.31034482758622,
           232.75862068965517,
           236.20689655172413,
           239.65517241379308,
           243.10344827586206,
           246.55172413793105,
           250,
           0,
           122.22222222222223,
           0,
           100
          ],
          "coloraxis": "coloraxis",
          "pattern": {
           "shape": ""
          }
         },
         "name": "",
         "offsetgroup": "",
         "orientation": "v",
         "showlegend": false,
         "textposition": "auto",
         "texttemplate": "%{y}",
         "type": "bar",
         "x": [
          0,
          1,
          2,
          3,
          4,
          5,
          6,
          7,
          8,
          9,
          10,
          11,
          12,
          13,
          14,
          15,
          16,
          17,
          18,
          19,
          20,
          21,
          22,
          23,
          24,
          25,
          26,
          27,
          28,
          29,
          30,
          31,
          32,
          33,
          34,
          35,
          36,
          37,
          38,
          39,
          40,
          41,
          42,
          43,
          44,
          45,
          46,
          47,
          48,
          49,
          50,
          51,
          52,
          53,
          54,
          55,
          56,
          57,
          58,
          59
         ],
         "xaxis": "x",
         "y": [
          200,
          188.88888888888889,
          0,
          122.22222222222223,
          0,
          166.66666666666666,
          0,
          211.11111111111111,
          233.33333333333331,
          255.55555555555554,
          277.77777777777777,
          300,
          0,
          300,
          283.3333333333333,
          266.6666666666667,
          250,
          233.33333333333331,
          216.66666666666666,
          200,
          0,
          166.66666666666666,
          0,
          166.66666666666669,
          150,
          0,
          156.89655172413794,
          0,
          163.79310344827587,
          0,
          170.68965517241378,
          0,
          177.58620689655172,
          0,
          0,
          184.48275862068965,
          0,
          191.3793103448276,
          0,
          198.27586206896552,
          201.72413793103448,
          205.17241379310343,
          208.6206896551724,
          212.06896551724137,
          215.51724137931035,
          144.44444444444446,
          218.9655172413793,
          222.41379310344826,
          225.86206896551724,
          229.31034482758622,
          232.75862068965517,
          236.20689655172413,
          239.65517241379308,
          243.10344827586206,
          246.55172413793105,
          250,
          0,
          122.22222222222223,
          0,
          100
         ],
         "yaxis": "y"
        }
       ],
       "layout": {
        "barmode": "relative",
        "coloraxis": {
         "colorbar": {
          "title": {
           "text": "color"
          }
         },
         "colorscale": [
          [
           0,
           "#0d0887"
          ],
          [
           0.1111111111111111,
           "#46039f"
          ],
          [
           0.2222222222222222,
           "#7201a8"
          ],
          [
           0.3333333333333333,
           "#9c179e"
          ],
          [
           0.4444444444444444,
           "#bd3786"
          ],
          [
           0.5555555555555556,
           "#d8576b"
          ],
          [
           0.6666666666666666,
           "#ed7953"
          ],
          [
           0.7777777777777778,
           "#fb9f3a"
          ],
          [
           0.8888888888888888,
           "#fdca26"
          ],
          [
           1,
           "#f0f921"
          ]
         ]
        },
        "height": 400,
        "legend": {
         "tracegroupgap": 0
        },
        "template": {
         "data": {
          "bar": [
           {
            "error_x": {
             "color": "#2a3f5f"
            },
            "error_y": {
             "color": "#2a3f5f"
            },
            "marker": {
             "line": {
              "color": "#E5ECF6",
              "width": 0.5
             },
             "pattern": {
              "fillmode": "overlay",
              "size": 10,
              "solidity": 0.2
             }
            },
            "type": "bar"
           }
          ],
          "barpolar": [
           {
            "marker": {
             "line": {
              "color": "#E5ECF6",
              "width": 0.5
             },
             "pattern": {
              "fillmode": "overlay",
              "size": 10,
              "solidity": 0.2
             }
            },
            "type": "barpolar"
           }
          ],
          "carpet": [
           {
            "aaxis": {
             "endlinecolor": "#2a3f5f",
             "gridcolor": "white",
             "linecolor": "white",
             "minorgridcolor": "white",
             "startlinecolor": "#2a3f5f"
            },
            "baxis": {
             "endlinecolor": "#2a3f5f",
             "gridcolor": "white",
             "linecolor": "white",
             "minorgridcolor": "white",
             "startlinecolor": "#2a3f5f"
            },
            "type": "carpet"
           }
          ],
          "choropleth": [
           {
            "colorbar": {
             "outlinewidth": 0,
             "ticks": ""
            },
            "type": "choropleth"
           }
          ],
          "contour": [
           {
            "colorbar": {
             "outlinewidth": 0,
             "ticks": ""
            },
            "colorscale": [
             [
              0,
              "#0d0887"
             ],
             [
              0.1111111111111111,
              "#46039f"
             ],
             [
              0.2222222222222222,
              "#7201a8"
             ],
             [
              0.3333333333333333,
              "#9c179e"
             ],
             [
              0.4444444444444444,
              "#bd3786"
             ],
             [
              0.5555555555555556,
              "#d8576b"
             ],
             [
              0.6666666666666666,
              "#ed7953"
             ],
             [
              0.7777777777777778,
              "#fb9f3a"
             ],
             [
              0.8888888888888888,
              "#fdca26"
             ],
             [
              1,
              "#f0f921"
             ]
            ],
            "type": "contour"
           }
          ],
          "contourcarpet": [
           {
            "colorbar": {
             "outlinewidth": 0,
             "ticks": ""
            },
            "type": "contourcarpet"
           }
          ],
          "heatmap": [
           {
            "colorbar": {
             "outlinewidth": 0,
             "ticks": ""
            },
            "colorscale": [
             [
              0,
              "#0d0887"
             ],
             [
              0.1111111111111111,
              "#46039f"
             ],
             [
              0.2222222222222222,
              "#7201a8"
             ],
             [
              0.3333333333333333,
              "#9c179e"
             ],
             [
              0.4444444444444444,
              "#bd3786"
             ],
             [
              0.5555555555555556,
              "#d8576b"
             ],
             [
              0.6666666666666666,
              "#ed7953"
             ],
             [
              0.7777777777777778,
              "#fb9f3a"
             ],
             [
              0.8888888888888888,
              "#fdca26"
             ],
             [
              1,
              "#f0f921"
             ]
            ],
            "type": "heatmap"
           }
          ],
          "heatmapgl": [
           {
            "colorbar": {
             "outlinewidth": 0,
             "ticks": ""
            },
            "colorscale": [
             [
              0,
              "#0d0887"
             ],
             [
              0.1111111111111111,
              "#46039f"
             ],
             [
              0.2222222222222222,
              "#7201a8"
             ],
             [
              0.3333333333333333,
              "#9c179e"
             ],
             [
              0.4444444444444444,
              "#bd3786"
             ],
             [
              0.5555555555555556,
              "#d8576b"
             ],
             [
              0.6666666666666666,
              "#ed7953"
             ],
             [
              0.7777777777777778,
              "#fb9f3a"
             ],
             [
              0.8888888888888888,
              "#fdca26"
             ],
             [
              1,
              "#f0f921"
             ]
            ],
            "type": "heatmapgl"
           }
          ],
          "histogram": [
           {
            "marker": {
             "pattern": {
              "fillmode": "overlay",
              "size": 10,
              "solidity": 0.2
             }
            },
            "type": "histogram"
           }
          ],
          "histogram2d": [
           {
            "colorbar": {
             "outlinewidth": 0,
             "ticks": ""
            },
            "colorscale": [
             [
              0,
              "#0d0887"
             ],
             [
              0.1111111111111111,
              "#46039f"
             ],
             [
              0.2222222222222222,
              "#7201a8"
             ],
             [
              0.3333333333333333,
              "#9c179e"
             ],
             [
              0.4444444444444444,
              "#bd3786"
             ],
             [
              0.5555555555555556,
              "#d8576b"
             ],
             [
              0.6666666666666666,
              "#ed7953"
             ],
             [
              0.7777777777777778,
              "#fb9f3a"
             ],
             [
              0.8888888888888888,
              "#fdca26"
             ],
             [
              1,
              "#f0f921"
             ]
            ],
            "type": "histogram2d"
           }
          ],
          "histogram2dcontour": [
           {
            "colorbar": {
             "outlinewidth": 0,
             "ticks": ""
            },
            "colorscale": [
             [
              0,
              "#0d0887"
             ],
             [
              0.1111111111111111,
              "#46039f"
             ],
             [
              0.2222222222222222,
              "#7201a8"
             ],
             [
              0.3333333333333333,
              "#9c179e"
             ],
             [
              0.4444444444444444,
              "#bd3786"
             ],
             [
              0.5555555555555556,
              "#d8576b"
             ],
             [
              0.6666666666666666,
              "#ed7953"
             ],
             [
              0.7777777777777778,
              "#fb9f3a"
             ],
             [
              0.8888888888888888,
              "#fdca26"
             ],
             [
              1,
              "#f0f921"
             ]
            ],
            "type": "histogram2dcontour"
           }
          ],
          "mesh3d": [
           {
            "colorbar": {
             "outlinewidth": 0,
             "ticks": ""
            },
            "type": "mesh3d"
           }
          ],
          "parcoords": [
           {
            "line": {
             "colorbar": {
              "outlinewidth": 0,
              "ticks": ""
             }
            },
            "type": "parcoords"
           }
          ],
          "pie": [
           {
            "automargin": true,
            "type": "pie"
           }
          ],
          "scatter": [
           {
            "fillpattern": {
             "fillmode": "overlay",
             "size": 10,
             "solidity": 0.2
            },
            "type": "scatter"
           }
          ],
          "scatter3d": [
           {
            "line": {
             "colorbar": {
              "outlinewidth": 0,
              "ticks": ""
             }
            },
            "marker": {
             "colorbar": {
              "outlinewidth": 0,
              "ticks": ""
             }
            },
            "type": "scatter3d"
           }
          ],
          "scattercarpet": [
           {
            "marker": {
             "colorbar": {
              "outlinewidth": 0,
              "ticks": ""
             }
            },
            "type": "scattercarpet"
           }
          ],
          "scattergeo": [
           {
            "marker": {
             "colorbar": {
              "outlinewidth": 0,
              "ticks": ""
             }
            },
            "type": "scattergeo"
           }
          ],
          "scattergl": [
           {
            "marker": {
             "colorbar": {
              "outlinewidth": 0,
              "ticks": ""
             }
            },
            "type": "scattergl"
           }
          ],
          "scattermapbox": [
           {
            "marker": {
             "colorbar": {
              "outlinewidth": 0,
              "ticks": ""
             }
            },
            "type": "scattermapbox"
           }
          ],
          "scatterpolar": [
           {
            "marker": {
             "colorbar": {
              "outlinewidth": 0,
              "ticks": ""
             }
            },
            "type": "scatterpolar"
           }
          ],
          "scatterpolargl": [
           {
            "marker": {
             "colorbar": {
              "outlinewidth": 0,
              "ticks": ""
             }
            },
            "type": "scatterpolargl"
           }
          ],
          "scatterternary": [
           {
            "marker": {
             "colorbar": {
              "outlinewidth": 0,
              "ticks": ""
             }
            },
            "type": "scatterternary"
           }
          ],
          "surface": [
           {
            "colorbar": {
             "outlinewidth": 0,
             "ticks": ""
            },
            "colorscale": [
             [
              0,
              "#0d0887"
             ],
             [
              0.1111111111111111,
              "#46039f"
             ],
             [
              0.2222222222222222,
              "#7201a8"
             ],
             [
              0.3333333333333333,
              "#9c179e"
             ],
             [
              0.4444444444444444,
              "#bd3786"
             ],
             [
              0.5555555555555556,
              "#d8576b"
             ],
             [
              0.6666666666666666,
              "#ed7953"
             ],
             [
              0.7777777777777778,
              "#fb9f3a"
             ],
             [
              0.8888888888888888,
              "#fdca26"
             ],
             [
              1,
              "#f0f921"
             ]
            ],
            "type": "surface"
           }
          ],
          "table": [
           {
            "cells": {
             "fill": {
              "color": "#EBF0F8"
             },
             "line": {
              "color": "white"
             }
            },
            "header": {
             "fill": {
              "color": "#C8D4E3"
             },
             "line": {
              "color": "white"
             }
            },
            "type": "table"
           }
          ]
         },
         "layout": {
          "annotationdefaults": {
           "arrowcolor": "#2a3f5f",
           "arrowhead": 0,
           "arrowwidth": 1
          },
          "autotypenumbers": "strict",
          "coloraxis": {
           "colorbar": {
            "outlinewidth": 0,
            "ticks": ""
           }
          },
          "colorscale": {
           "diverging": [
            [
             0,
             "#8e0152"
            ],
            [
             0.1,
             "#c51b7d"
            ],
            [
             0.2,
             "#de77ae"
            ],
            [
             0.3,
             "#f1b6da"
            ],
            [
             0.4,
             "#fde0ef"
            ],
            [
             0.5,
             "#f7f7f7"
            ],
            [
             0.6,
             "#e6f5d0"
            ],
            [
             0.7,
             "#b8e186"
            ],
            [
             0.8,
             "#7fbc41"
            ],
            [
             0.9,
             "#4d9221"
            ],
            [
             1,
             "#276419"
            ]
           ],
           "sequential": [
            [
             0,
             "#0d0887"
            ],
            [
             0.1111111111111111,
             "#46039f"
            ],
            [
             0.2222222222222222,
             "#7201a8"
            ],
            [
             0.3333333333333333,
             "#9c179e"
            ],
            [
             0.4444444444444444,
             "#bd3786"
            ],
            [
             0.5555555555555556,
             "#d8576b"
            ],
            [
             0.6666666666666666,
             "#ed7953"
            ],
            [
             0.7777777777777778,
             "#fb9f3a"
            ],
            [
             0.8888888888888888,
             "#fdca26"
            ],
            [
             1,
             "#f0f921"
            ]
           ],
           "sequentialminus": [
            [
             0,
             "#0d0887"
            ],
            [
             0.1111111111111111,
             "#46039f"
            ],
            [
             0.2222222222222222,
             "#7201a8"
            ],
            [
             0.3333333333333333,
             "#9c179e"
            ],
            [
             0.4444444444444444,
             "#bd3786"
            ],
            [
             0.5555555555555556,
             "#d8576b"
            ],
            [
             0.6666666666666666,
             "#ed7953"
            ],
            [
             0.7777777777777778,
             "#fb9f3a"
            ],
            [
             0.8888888888888888,
             "#fdca26"
            ],
            [
             1,
             "#f0f921"
            ]
           ]
          },
          "colorway": [
           "#636efa",
           "#EF553B",
           "#00cc96",
           "#ab63fa",
           "#FFA15A",
           "#19d3f3",
           "#FF6692",
           "#B6E880",
           "#FF97FF",
           "#FECB52"
          ],
          "font": {
           "color": "#2a3f5f"
          },
          "geo": {
           "bgcolor": "white",
           "lakecolor": "white",
           "landcolor": "#E5ECF6",
           "showlakes": true,
           "showland": true,
           "subunitcolor": "white"
          },
          "hoverlabel": {
           "align": "left"
          },
          "hovermode": "closest",
          "mapbox": {
           "style": "light"
          },
          "paper_bgcolor": "white",
          "plot_bgcolor": "#E5ECF6",
          "polar": {
           "angularaxis": {
            "gridcolor": "white",
            "linecolor": "white",
            "ticks": ""
           },
           "bgcolor": "#E5ECF6",
           "radialaxis": {
            "gridcolor": "white",
            "linecolor": "white",
            "ticks": ""
           }
          },
          "scene": {
           "xaxis": {
            "backgroundcolor": "#E5ECF6",
            "gridcolor": "white",
            "gridwidth": 2,
            "linecolor": "white",
            "showbackground": true,
            "ticks": "",
            "zerolinecolor": "white"
           },
           "yaxis": {
            "backgroundcolor": "#E5ECF6",
            "gridcolor": "white",
            "gridwidth": 2,
            "linecolor": "white",
            "showbackground": true,
            "ticks": "",
            "zerolinecolor": "white"
           },
           "zaxis": {
            "backgroundcolor": "#E5ECF6",
            "gridcolor": "white",
            "gridwidth": 2,
            "linecolor": "white",
            "showbackground": true,
            "ticks": "",
            "zerolinecolor": "white"
           }
          },
          "shapedefaults": {
           "line": {
            "color": "#2a3f5f"
           }
          },
          "ternary": {
           "aaxis": {
            "gridcolor": "white",
            "linecolor": "white",
            "ticks": ""
           },
           "baxis": {
            "gridcolor": "white",
            "linecolor": "white",
            "ticks": ""
           },
           "bgcolor": "#E5ECF6",
           "caxis": {
            "gridcolor": "white",
            "linecolor": "white",
            "ticks": ""
           }
          },
          "title": {
           "x": 0.05
          },
          "xaxis": {
           "automargin": true,
           "gridcolor": "white",
           "linecolor": "white",
           "ticks": "",
           "title": {
            "standoff": 15
           },
           "zerolinecolor": "white",
           "zerolinewidth": 2
          },
          "yaxis": {
           "automargin": true,
           "gridcolor": "white",
           "linecolor": "white",
           "ticks": "",
           "title": {
            "standoff": 15
           },
           "zerolinecolor": "white",
           "zerolinewidth": 2
          }
         }
        },
        "title": {
         "text": "_____________________________Power Transfered From The Genset To Load._____________________________"
        },
        "width": 1350,
        "xaxis": {
         "anchor": "y",
         "domain": [
          0,
          1
         ],
         "title": {
          "text": "Time Step (min)"
         }
        },
        "yaxis": {
         "anchor": "x",
         "domain": [
          0,
          1
         ],
         "title": {
          "text": "Power(kw)"
         }
        }
       }
      }
     },
     "metadata": {},
     "output_type": "display_data"
    }
   ],
   "source": [
    "fig = px.bar(x=V_steps, y=P_A_load_list,\n",
    "             title='_____________________________Power Transfered From The Genset To Load._____________________________',\n",
    "             height=400, width=1350,\n",
    "             labels=dict(x=\"Time Step (min)\", y=\"Power(kw)\"), text_auto=True, color=P_A_load_list,\n",
    ")\n",
    "fig.show()"
   ]
  },
  {
   "cell_type": "code",
   "execution_count": 113,
   "metadata": {
    "colab": {
     "base_uri": "https://localhost:8080/"
    },
    "id": "gAeVAzGQTpuq",
    "outputId": "af21dab2-067b-455d-ded0-44fd22080ba6"
   },
   "outputs": [
    {
     "name": "stdout",
     "output_type": "stream",
     "text": [
      "[0, 1, 2, 3, 4, 5, 6, 7, 8, 9, 10, 11, 12, 13, 14, 15, 16, 17, 18, 19, 20, 21, 22, 23, 24, 25, 26, 27, 28, 29, 30, 31, 32, 33, 34, 35, 36, 37, 38, 39, 40, 41, 42, 43, 44, 45, 46, 47, 48, 49, 50, 51, 52, 53, 54, 55, 56, 57, 58, 59] [200.0, 188.88888888888889, 0.0, 122.22222222222223, 0.0, 166.66666666666666, 0.0, 211.11111111111111, 233.33333333333331, 255.55555555555554, 277.77777777777777, 300.0, 0.0, 300.0, 283.3333333333333, 266.6666666666667, 250.0, 233.33333333333331, 216.66666666666666, 200.0, 0.0, 166.66666666666666, 0.0, 166.66666666666669, 150.0, 0.0, 156.89655172413794, 0.0, 163.79310344827587, 0.0, 170.68965517241378, 0.0, 177.58620689655172, 0.0, 0.0, 184.48275862068965, 0.0, 191.3793103448276, 0.0, 198.27586206896552, 201.72413793103448, 205.17241379310343, 208.6206896551724, 212.06896551724137, 215.51724137931035, 144.44444444444446, 218.9655172413793, 222.41379310344826, 225.86206896551724, 229.31034482758622, 232.75862068965517, 236.20689655172413, 239.65517241379308, 243.10344827586206, 246.55172413793105, 250.0, 0.0, 122.22222222222223, 0.0, 100.0]\n"
     ]
    }
   ],
   "source": [
    "print(V_steps,P_A_load_list)"
   ]
  },
  {
   "cell_type": "markdown",
   "metadata": {
    "id": "P4jlVCs6beGa"
   },
   "source": [
    "$\\newline $\n",
    "### Realised power to charge the battery."
   ]
  },
  {
   "cell_type": "code",
   "execution_count": 114,
   "metadata": {
    "colab": {
     "base_uri": "https://localhost:8080/",
     "height": 295
    },
    "id": "7IYFAEcAvDR4",
    "outputId": "60aed69b-8743-402b-a474-ef4193139519"
   },
   "outputs": [
    {
     "data": {
      "application/vnd.plotly.v1+json": {
       "config": {
        "plotlyServerURL": "https://plot.ly"
       },
       "data": [
        {
         "alignmentgroup": "True",
         "hovertemplate": "Time Step (min)=%{x}<br>Power(kw)=%{y}<br>color=%{marker.color}<extra></extra>",
         "legendgroup": "",
         "marker": {
          "color": [
           -2.917922972671901e-7,
           108.57744487840102,
           2.1316282072803006e-14,
           150.40029617289102,
           0,
           196.67731037993434,
           0,
           0,
           0,
           0,
           0,
           0,
           5.684341886080802e-14,
           0,
           0,
           0,
           0,
           190.89268360405364,
           0,
           1.9895196601282805e-13,
           0,
           156.18492294877143,
           0,
           161.96954972465178,
           159.7753809475937,
           0,
           166.9562969452384,
           0,
           174.13721294288302,
           0,
           181.31812894052774,
           0,
           188.49904493817237,
           0,
           0,
           195.67996093581698,
           0,
           202.8608769334617,
           0,
           76.53061224489795,
           0,
           0,
           0,
           0,
           0,
           138.83104262113008,
           0,
           0,
           0,
           0,
           0,
           0,
           0,
           0,
           0,
           0,
           2.842170943040401e-14,
           115.69253551760843,
           0,
           104.12328196584754
          ],
          "coloraxis": "coloraxis",
          "pattern": {
           "shape": ""
          }
         },
         "name": "",
         "offsetgroup": "",
         "orientation": "v",
         "showlegend": false,
         "textposition": "auto",
         "texttemplate": "%{y}",
         "type": "bar",
         "x": [
          0,
          1,
          2,
          3,
          4,
          5,
          6,
          7,
          8,
          9,
          10,
          11,
          12,
          13,
          14,
          15,
          16,
          17,
          18,
          19,
          20,
          21,
          22,
          23,
          24,
          25,
          26,
          27,
          28,
          29,
          30,
          31,
          32,
          33,
          34,
          35,
          36,
          37,
          38,
          39,
          40,
          41,
          42,
          43,
          44,
          45,
          46,
          47,
          48,
          49,
          50,
          51,
          52,
          53,
          54,
          55,
          56,
          57,
          58,
          59
         ],
         "xaxis": "x",
         "y": [
          -2.917922972671901e-7,
          108.57744487840102,
          2.1316282072803006e-14,
          150.40029617289102,
          0,
          196.67731037993434,
          0,
          0,
          0,
          0,
          0,
          0,
          5.684341886080802e-14,
          0,
          0,
          0,
          0,
          190.89268360405364,
          0,
          1.9895196601282805e-13,
          0,
          156.18492294877143,
          0,
          161.96954972465178,
          159.7753809475937,
          0,
          166.9562969452384,
          0,
          174.13721294288302,
          0,
          181.31812894052774,
          0,
          188.49904493817237,
          0,
          0,
          195.67996093581698,
          0,
          202.8608769334617,
          0,
          76.53061224489795,
          0,
          0,
          0,
          0,
          0,
          138.83104262113008,
          0,
          0,
          0,
          0,
          0,
          0,
          0,
          0,
          0,
          0,
          2.842170943040401e-14,
          115.69253551760843,
          0,
          104.12328196584754
         ],
         "yaxis": "y"
        }
       ],
       "layout": {
        "barmode": "relative",
        "coloraxis": {
         "colorbar": {
          "title": {
           "text": "color"
          }
         },
         "colorscale": [
          [
           0,
           "#0d0887"
          ],
          [
           0.1111111111111111,
           "#46039f"
          ],
          [
           0.2222222222222222,
           "#7201a8"
          ],
          [
           0.3333333333333333,
           "#9c179e"
          ],
          [
           0.4444444444444444,
           "#bd3786"
          ],
          [
           0.5555555555555556,
           "#d8576b"
          ],
          [
           0.6666666666666666,
           "#ed7953"
          ],
          [
           0.7777777777777778,
           "#fb9f3a"
          ],
          [
           0.8888888888888888,
           "#fdca26"
          ],
          [
           1,
           "#f0f921"
          ]
         ]
        },
        "height": 400,
        "legend": {
         "tracegroupgap": 0
        },
        "template": {
         "data": {
          "bar": [
           {
            "error_x": {
             "color": "#2a3f5f"
            },
            "error_y": {
             "color": "#2a3f5f"
            },
            "marker": {
             "line": {
              "color": "#E5ECF6",
              "width": 0.5
             },
             "pattern": {
              "fillmode": "overlay",
              "size": 10,
              "solidity": 0.2
             }
            },
            "type": "bar"
           }
          ],
          "barpolar": [
           {
            "marker": {
             "line": {
              "color": "#E5ECF6",
              "width": 0.5
             },
             "pattern": {
              "fillmode": "overlay",
              "size": 10,
              "solidity": 0.2
             }
            },
            "type": "barpolar"
           }
          ],
          "carpet": [
           {
            "aaxis": {
             "endlinecolor": "#2a3f5f",
             "gridcolor": "white",
             "linecolor": "white",
             "minorgridcolor": "white",
             "startlinecolor": "#2a3f5f"
            },
            "baxis": {
             "endlinecolor": "#2a3f5f",
             "gridcolor": "white",
             "linecolor": "white",
             "minorgridcolor": "white",
             "startlinecolor": "#2a3f5f"
            },
            "type": "carpet"
           }
          ],
          "choropleth": [
           {
            "colorbar": {
             "outlinewidth": 0,
             "ticks": ""
            },
            "type": "choropleth"
           }
          ],
          "contour": [
           {
            "colorbar": {
             "outlinewidth": 0,
             "ticks": ""
            },
            "colorscale": [
             [
              0,
              "#0d0887"
             ],
             [
              0.1111111111111111,
              "#46039f"
             ],
             [
              0.2222222222222222,
              "#7201a8"
             ],
             [
              0.3333333333333333,
              "#9c179e"
             ],
             [
              0.4444444444444444,
              "#bd3786"
             ],
             [
              0.5555555555555556,
              "#d8576b"
             ],
             [
              0.6666666666666666,
              "#ed7953"
             ],
             [
              0.7777777777777778,
              "#fb9f3a"
             ],
             [
              0.8888888888888888,
              "#fdca26"
             ],
             [
              1,
              "#f0f921"
             ]
            ],
            "type": "contour"
           }
          ],
          "contourcarpet": [
           {
            "colorbar": {
             "outlinewidth": 0,
             "ticks": ""
            },
            "type": "contourcarpet"
           }
          ],
          "heatmap": [
           {
            "colorbar": {
             "outlinewidth": 0,
             "ticks": ""
            },
            "colorscale": [
             [
              0,
              "#0d0887"
             ],
             [
              0.1111111111111111,
              "#46039f"
             ],
             [
              0.2222222222222222,
              "#7201a8"
             ],
             [
              0.3333333333333333,
              "#9c179e"
             ],
             [
              0.4444444444444444,
              "#bd3786"
             ],
             [
              0.5555555555555556,
              "#d8576b"
             ],
             [
              0.6666666666666666,
              "#ed7953"
             ],
             [
              0.7777777777777778,
              "#fb9f3a"
             ],
             [
              0.8888888888888888,
              "#fdca26"
             ],
             [
              1,
              "#f0f921"
             ]
            ],
            "type": "heatmap"
           }
          ],
          "heatmapgl": [
           {
            "colorbar": {
             "outlinewidth": 0,
             "ticks": ""
            },
            "colorscale": [
             [
              0,
              "#0d0887"
             ],
             [
              0.1111111111111111,
              "#46039f"
             ],
             [
              0.2222222222222222,
              "#7201a8"
             ],
             [
              0.3333333333333333,
              "#9c179e"
             ],
             [
              0.4444444444444444,
              "#bd3786"
             ],
             [
              0.5555555555555556,
              "#d8576b"
             ],
             [
              0.6666666666666666,
              "#ed7953"
             ],
             [
              0.7777777777777778,
              "#fb9f3a"
             ],
             [
              0.8888888888888888,
              "#fdca26"
             ],
             [
              1,
              "#f0f921"
             ]
            ],
            "type": "heatmapgl"
           }
          ],
          "histogram": [
           {
            "marker": {
             "pattern": {
              "fillmode": "overlay",
              "size": 10,
              "solidity": 0.2
             }
            },
            "type": "histogram"
           }
          ],
          "histogram2d": [
           {
            "colorbar": {
             "outlinewidth": 0,
             "ticks": ""
            },
            "colorscale": [
             [
              0,
              "#0d0887"
             ],
             [
              0.1111111111111111,
              "#46039f"
             ],
             [
              0.2222222222222222,
              "#7201a8"
             ],
             [
              0.3333333333333333,
              "#9c179e"
             ],
             [
              0.4444444444444444,
              "#bd3786"
             ],
             [
              0.5555555555555556,
              "#d8576b"
             ],
             [
              0.6666666666666666,
              "#ed7953"
             ],
             [
              0.7777777777777778,
              "#fb9f3a"
             ],
             [
              0.8888888888888888,
              "#fdca26"
             ],
             [
              1,
              "#f0f921"
             ]
            ],
            "type": "histogram2d"
           }
          ],
          "histogram2dcontour": [
           {
            "colorbar": {
             "outlinewidth": 0,
             "ticks": ""
            },
            "colorscale": [
             [
              0,
              "#0d0887"
             ],
             [
              0.1111111111111111,
              "#46039f"
             ],
             [
              0.2222222222222222,
              "#7201a8"
             ],
             [
              0.3333333333333333,
              "#9c179e"
             ],
             [
              0.4444444444444444,
              "#bd3786"
             ],
             [
              0.5555555555555556,
              "#d8576b"
             ],
             [
              0.6666666666666666,
              "#ed7953"
             ],
             [
              0.7777777777777778,
              "#fb9f3a"
             ],
             [
              0.8888888888888888,
              "#fdca26"
             ],
             [
              1,
              "#f0f921"
             ]
            ],
            "type": "histogram2dcontour"
           }
          ],
          "mesh3d": [
           {
            "colorbar": {
             "outlinewidth": 0,
             "ticks": ""
            },
            "type": "mesh3d"
           }
          ],
          "parcoords": [
           {
            "line": {
             "colorbar": {
              "outlinewidth": 0,
              "ticks": ""
             }
            },
            "type": "parcoords"
           }
          ],
          "pie": [
           {
            "automargin": true,
            "type": "pie"
           }
          ],
          "scatter": [
           {
            "fillpattern": {
             "fillmode": "overlay",
             "size": 10,
             "solidity": 0.2
            },
            "type": "scatter"
           }
          ],
          "scatter3d": [
           {
            "line": {
             "colorbar": {
              "outlinewidth": 0,
              "ticks": ""
             }
            },
            "marker": {
             "colorbar": {
              "outlinewidth": 0,
              "ticks": ""
             }
            },
            "type": "scatter3d"
           }
          ],
          "scattercarpet": [
           {
            "marker": {
             "colorbar": {
              "outlinewidth": 0,
              "ticks": ""
             }
            },
            "type": "scattercarpet"
           }
          ],
          "scattergeo": [
           {
            "marker": {
             "colorbar": {
              "outlinewidth": 0,
              "ticks": ""
             }
            },
            "type": "scattergeo"
           }
          ],
          "scattergl": [
           {
            "marker": {
             "colorbar": {
              "outlinewidth": 0,
              "ticks": ""
             }
            },
            "type": "scattergl"
           }
          ],
          "scattermapbox": [
           {
            "marker": {
             "colorbar": {
              "outlinewidth": 0,
              "ticks": ""
             }
            },
            "type": "scattermapbox"
           }
          ],
          "scatterpolar": [
           {
            "marker": {
             "colorbar": {
              "outlinewidth": 0,
              "ticks": ""
             }
            },
            "type": "scatterpolar"
           }
          ],
          "scatterpolargl": [
           {
            "marker": {
             "colorbar": {
              "outlinewidth": 0,
              "ticks": ""
             }
            },
            "type": "scatterpolargl"
           }
          ],
          "scatterternary": [
           {
            "marker": {
             "colorbar": {
              "outlinewidth": 0,
              "ticks": ""
             }
            },
            "type": "scatterternary"
           }
          ],
          "surface": [
           {
            "colorbar": {
             "outlinewidth": 0,
             "ticks": ""
            },
            "colorscale": [
             [
              0,
              "#0d0887"
             ],
             [
              0.1111111111111111,
              "#46039f"
             ],
             [
              0.2222222222222222,
              "#7201a8"
             ],
             [
              0.3333333333333333,
              "#9c179e"
             ],
             [
              0.4444444444444444,
              "#bd3786"
             ],
             [
              0.5555555555555556,
              "#d8576b"
             ],
             [
              0.6666666666666666,
              "#ed7953"
             ],
             [
              0.7777777777777778,
              "#fb9f3a"
             ],
             [
              0.8888888888888888,
              "#fdca26"
             ],
             [
              1,
              "#f0f921"
             ]
            ],
            "type": "surface"
           }
          ],
          "table": [
           {
            "cells": {
             "fill": {
              "color": "#EBF0F8"
             },
             "line": {
              "color": "white"
             }
            },
            "header": {
             "fill": {
              "color": "#C8D4E3"
             },
             "line": {
              "color": "white"
             }
            },
            "type": "table"
           }
          ]
         },
         "layout": {
          "annotationdefaults": {
           "arrowcolor": "#2a3f5f",
           "arrowhead": 0,
           "arrowwidth": 1
          },
          "autotypenumbers": "strict",
          "coloraxis": {
           "colorbar": {
            "outlinewidth": 0,
            "ticks": ""
           }
          },
          "colorscale": {
           "diverging": [
            [
             0,
             "#8e0152"
            ],
            [
             0.1,
             "#c51b7d"
            ],
            [
             0.2,
             "#de77ae"
            ],
            [
             0.3,
             "#f1b6da"
            ],
            [
             0.4,
             "#fde0ef"
            ],
            [
             0.5,
             "#f7f7f7"
            ],
            [
             0.6,
             "#e6f5d0"
            ],
            [
             0.7,
             "#b8e186"
            ],
            [
             0.8,
             "#7fbc41"
            ],
            [
             0.9,
             "#4d9221"
            ],
            [
             1,
             "#276419"
            ]
           ],
           "sequential": [
            [
             0,
             "#0d0887"
            ],
            [
             0.1111111111111111,
             "#46039f"
            ],
            [
             0.2222222222222222,
             "#7201a8"
            ],
            [
             0.3333333333333333,
             "#9c179e"
            ],
            [
             0.4444444444444444,
             "#bd3786"
            ],
            [
             0.5555555555555556,
             "#d8576b"
            ],
            [
             0.6666666666666666,
             "#ed7953"
            ],
            [
             0.7777777777777778,
             "#fb9f3a"
            ],
            [
             0.8888888888888888,
             "#fdca26"
            ],
            [
             1,
             "#f0f921"
            ]
           ],
           "sequentialminus": [
            [
             0,
             "#0d0887"
            ],
            [
             0.1111111111111111,
             "#46039f"
            ],
            [
             0.2222222222222222,
             "#7201a8"
            ],
            [
             0.3333333333333333,
             "#9c179e"
            ],
            [
             0.4444444444444444,
             "#bd3786"
            ],
            [
             0.5555555555555556,
             "#d8576b"
            ],
            [
             0.6666666666666666,
             "#ed7953"
            ],
            [
             0.7777777777777778,
             "#fb9f3a"
            ],
            [
             0.8888888888888888,
             "#fdca26"
            ],
            [
             1,
             "#f0f921"
            ]
           ]
          },
          "colorway": [
           "#636efa",
           "#EF553B",
           "#00cc96",
           "#ab63fa",
           "#FFA15A",
           "#19d3f3",
           "#FF6692",
           "#B6E880",
           "#FF97FF",
           "#FECB52"
          ],
          "font": {
           "color": "#2a3f5f"
          },
          "geo": {
           "bgcolor": "white",
           "lakecolor": "white",
           "landcolor": "#E5ECF6",
           "showlakes": true,
           "showland": true,
           "subunitcolor": "white"
          },
          "hoverlabel": {
           "align": "left"
          },
          "hovermode": "closest",
          "mapbox": {
           "style": "light"
          },
          "paper_bgcolor": "white",
          "plot_bgcolor": "#E5ECF6",
          "polar": {
           "angularaxis": {
            "gridcolor": "white",
            "linecolor": "white",
            "ticks": ""
           },
           "bgcolor": "#E5ECF6",
           "radialaxis": {
            "gridcolor": "white",
            "linecolor": "white",
            "ticks": ""
           }
          },
          "scene": {
           "xaxis": {
            "backgroundcolor": "#E5ECF6",
            "gridcolor": "white",
            "gridwidth": 2,
            "linecolor": "white",
            "showbackground": true,
            "ticks": "",
            "zerolinecolor": "white"
           },
           "yaxis": {
            "backgroundcolor": "#E5ECF6",
            "gridcolor": "white",
            "gridwidth": 2,
            "linecolor": "white",
            "showbackground": true,
            "ticks": "",
            "zerolinecolor": "white"
           },
           "zaxis": {
            "backgroundcolor": "#E5ECF6",
            "gridcolor": "white",
            "gridwidth": 2,
            "linecolor": "white",
            "showbackground": true,
            "ticks": "",
            "zerolinecolor": "white"
           }
          },
          "shapedefaults": {
           "line": {
            "color": "#2a3f5f"
           }
          },
          "ternary": {
           "aaxis": {
            "gridcolor": "white",
            "linecolor": "white",
            "ticks": ""
           },
           "baxis": {
            "gridcolor": "white",
            "linecolor": "white",
            "ticks": ""
           },
           "bgcolor": "#E5ECF6",
           "caxis": {
            "gridcolor": "white",
            "linecolor": "white",
            "ticks": ""
           }
          },
          "title": {
           "x": 0.05
          },
          "xaxis": {
           "automargin": true,
           "gridcolor": "white",
           "linecolor": "white",
           "ticks": "",
           "title": {
            "standoff": 15
           },
           "zerolinecolor": "white",
           "zerolinewidth": 2
          },
          "yaxis": {
           "automargin": true,
           "gridcolor": "white",
           "linecolor": "white",
           "ticks": "",
           "title": {
            "standoff": 15
           },
           "zerolinecolor": "white",
           "zerolinewidth": 2
          }
         }
        },
        "title": {
         "text": "_____________________________Power Transfered From Genset To Battery._____________________________"
        },
        "width": 1350,
        "xaxis": {
         "anchor": "y",
         "domain": [
          0,
          1
         ],
         "title": {
          "text": "Time Step (min)"
         }
        },
        "yaxis": {
         "anchor": "x",
         "domain": [
          0,
          1
         ],
         "title": {
          "text": "Power(kw)"
         }
        }
       }
      }
     },
     "metadata": {},
     "output_type": "display_data"
    }
   ],
   "source": [
    "fig = px.bar(x=V_steps, y=P_A_to_bat_list,\n",
    "             title='_____________________________Power Transfered From Genset To Battery._____________________________',\n",
    "             height=400, width=1350,\n",
    "             labels=dict(x=\"Time Step (min)\", y=\"Power(kw)\"), text_auto=True, color=P_A_to_bat_list,\n",
    ")\n",
    "fig.show()"
   ]
  },
  {
   "cell_type": "code",
   "execution_count": 115,
   "metadata": {
    "colab": {
     "base_uri": "https://localhost:8080/"
    },
    "id": "OKdTPB8STvbh",
    "outputId": "86737613-c219-439a-98e9-fc059b37a7f2"
   },
   "outputs": [
    {
     "name": "stdout",
     "output_type": "stream",
     "text": [
      "[0, 1, 2, 3, 4, 5, 6, 7, 8, 9, 10, 11, 12, 13, 14, 15, 16, 17, 18, 19, 20, 21, 22, 23, 24, 25, 26, 27, 28, 29, 30, 31, 32, 33, 34, 35, 36, 37, 38, 39, 40, 41, 42, 43, 44, 45, 46, 47, 48, 49, 50, 51, 52, 53, 54, 55, 56, 57, 58, 59] [-2.917922972671901e-07, 108.57744487840102, 2.1316282072803006e-14, 150.40029617289102, 0.0, 196.67731037993434, 0.0, 0.0, 0.0, 0.0, 0.0, 0.0, 5.684341886080802e-14, 0.0, 0.0, 0.0, 0.0, 190.89268360405364, 0.0, 1.9895196601282805e-13, 0.0, 156.18492294877143, 0.0, 161.96954972465178, 159.7753809475937, 0.0, 166.9562969452384, 0.0, 174.13721294288302, 0.0, 181.31812894052774, 0.0, 188.49904493817237, 0.0, 0.0, 195.67996093581698, 0.0, 202.8608769334617, 0.0, 76.53061224489795, 0.0, 0.0, 0.0, 0.0, 0.0, 138.83104262113008, 0.0, 0.0, 0.0, 0.0, 0.0, 0.0, 0.0, 0.0, 0.0, 0.0, 2.842170943040401e-14, 115.69253551760843, 0.0, 104.12328196584754]\n"
     ]
    }
   ],
   "source": [
    "print(V_steps,P_A_to_bat_list)"
   ]
  },
  {
   "cell_type": "markdown",
   "metadata": {
    "id": "mjJtgq-Rbrv6"
   },
   "source": [
    "$\\newline $\n",
    "### Realised power from the battery to load."
   ]
  },
  {
   "cell_type": "code",
   "execution_count": 116,
   "metadata": {
    "colab": {
     "base_uri": "https://localhost:8080/",
     "height": 295
    },
    "id": "X_1xu-KwvDGF",
    "outputId": "46017402-ffcf-46c1-bf39-782368f53f90",
    "scrolled": true
   },
   "outputs": [
    {
     "data": {
      "application/vnd.plotly.v1+json": {
       "config": {
        "plotlyServerURL": "https://plot.ly"
       },
       "data": [
        {
         "alignmentgroup": "True",
         "hovertemplate": "Time Step (min)=%{x}<br>Power(kw)=%{y}<br>color=%{marker.color}<extra></extra>",
         "legendgroup": "",
         "marker": {
          "color": [
           0,
           0,
           102.04081632653062,
           0,
           147.39229024943313,
           0,
           192.7437641723356,
           0,
           0,
           0,
           0,
           0,
           181.40589569160997,
           0,
           0,
           0,
           0,
           0,
           0,
           0,
           187.07482993197277,
           0,
           153.06122448979593,
           0,
           0,
           156.57987332864178,
           0,
           163.61717100633356,
           0,
           170.65446868402535,
           0,
           177.6917663617171,
           0,
           184.72906403940888,
           158.7301587301587,
           0,
           191.7663617171006,
           0,
           198.8036593947924,
           0,
           0,
           0,
           0,
           0,
           0,
           0,
           0,
           0,
           0,
           0,
           0,
           0,
           0,
           0,
           0,
           0,
           136.0544217687075,
           0,
           113.37868480725623,
           0
          ],
          "coloraxis": "coloraxis",
          "pattern": {
           "shape": ""
          }
         },
         "name": "",
         "offsetgroup": "",
         "orientation": "v",
         "showlegend": false,
         "textposition": "auto",
         "texttemplate": "%{y}",
         "type": "bar",
         "x": [
          0,
          1,
          2,
          3,
          4,
          5,
          6,
          7,
          8,
          9,
          10,
          11,
          12,
          13,
          14,
          15,
          16,
          17,
          18,
          19,
          20,
          21,
          22,
          23,
          24,
          25,
          26,
          27,
          28,
          29,
          30,
          31,
          32,
          33,
          34,
          35,
          36,
          37,
          38,
          39,
          40,
          41,
          42,
          43,
          44,
          45,
          46,
          47,
          48,
          49,
          50,
          51,
          52,
          53,
          54,
          55,
          56,
          57,
          58,
          59
         ],
         "xaxis": "x",
         "y": [
          0,
          0,
          102.04081632653062,
          0,
          147.39229024943313,
          0,
          192.7437641723356,
          0,
          0,
          0,
          0,
          0,
          181.40589569160997,
          0,
          0,
          0,
          0,
          0,
          0,
          0,
          187.07482993197277,
          0,
          153.06122448979593,
          0,
          0,
          156.57987332864178,
          0,
          163.61717100633356,
          0,
          170.65446868402535,
          0,
          177.6917663617171,
          0,
          184.72906403940888,
          158.7301587301587,
          0,
          191.7663617171006,
          0,
          198.8036593947924,
          0,
          0,
          0,
          0,
          0,
          0,
          0,
          0,
          0,
          0,
          0,
          0,
          0,
          0,
          0,
          0,
          0,
          136.0544217687075,
          0,
          113.37868480725623,
          0
         ],
         "yaxis": "y"
        }
       ],
       "layout": {
        "barmode": "relative",
        "coloraxis": {
         "colorbar": {
          "title": {
           "text": "color"
          }
         },
         "colorscale": [
          [
           0,
           "#0d0887"
          ],
          [
           0.1111111111111111,
           "#46039f"
          ],
          [
           0.2222222222222222,
           "#7201a8"
          ],
          [
           0.3333333333333333,
           "#9c179e"
          ],
          [
           0.4444444444444444,
           "#bd3786"
          ],
          [
           0.5555555555555556,
           "#d8576b"
          ],
          [
           0.6666666666666666,
           "#ed7953"
          ],
          [
           0.7777777777777778,
           "#fb9f3a"
          ],
          [
           0.8888888888888888,
           "#fdca26"
          ],
          [
           1,
           "#f0f921"
          ]
         ]
        },
        "height": 400,
        "legend": {
         "tracegroupgap": 0
        },
        "template": {
         "data": {
          "bar": [
           {
            "error_x": {
             "color": "#2a3f5f"
            },
            "error_y": {
             "color": "#2a3f5f"
            },
            "marker": {
             "line": {
              "color": "#E5ECF6",
              "width": 0.5
             },
             "pattern": {
              "fillmode": "overlay",
              "size": 10,
              "solidity": 0.2
             }
            },
            "type": "bar"
           }
          ],
          "barpolar": [
           {
            "marker": {
             "line": {
              "color": "#E5ECF6",
              "width": 0.5
             },
             "pattern": {
              "fillmode": "overlay",
              "size": 10,
              "solidity": 0.2
             }
            },
            "type": "barpolar"
           }
          ],
          "carpet": [
           {
            "aaxis": {
             "endlinecolor": "#2a3f5f",
             "gridcolor": "white",
             "linecolor": "white",
             "minorgridcolor": "white",
             "startlinecolor": "#2a3f5f"
            },
            "baxis": {
             "endlinecolor": "#2a3f5f",
             "gridcolor": "white",
             "linecolor": "white",
             "minorgridcolor": "white",
             "startlinecolor": "#2a3f5f"
            },
            "type": "carpet"
           }
          ],
          "choropleth": [
           {
            "colorbar": {
             "outlinewidth": 0,
             "ticks": ""
            },
            "type": "choropleth"
           }
          ],
          "contour": [
           {
            "colorbar": {
             "outlinewidth": 0,
             "ticks": ""
            },
            "colorscale": [
             [
              0,
              "#0d0887"
             ],
             [
              0.1111111111111111,
              "#46039f"
             ],
             [
              0.2222222222222222,
              "#7201a8"
             ],
             [
              0.3333333333333333,
              "#9c179e"
             ],
             [
              0.4444444444444444,
              "#bd3786"
             ],
             [
              0.5555555555555556,
              "#d8576b"
             ],
             [
              0.6666666666666666,
              "#ed7953"
             ],
             [
              0.7777777777777778,
              "#fb9f3a"
             ],
             [
              0.8888888888888888,
              "#fdca26"
             ],
             [
              1,
              "#f0f921"
             ]
            ],
            "type": "contour"
           }
          ],
          "contourcarpet": [
           {
            "colorbar": {
             "outlinewidth": 0,
             "ticks": ""
            },
            "type": "contourcarpet"
           }
          ],
          "heatmap": [
           {
            "colorbar": {
             "outlinewidth": 0,
             "ticks": ""
            },
            "colorscale": [
             [
              0,
              "#0d0887"
             ],
             [
              0.1111111111111111,
              "#46039f"
             ],
             [
              0.2222222222222222,
              "#7201a8"
             ],
             [
              0.3333333333333333,
              "#9c179e"
             ],
             [
              0.4444444444444444,
              "#bd3786"
             ],
             [
              0.5555555555555556,
              "#d8576b"
             ],
             [
              0.6666666666666666,
              "#ed7953"
             ],
             [
              0.7777777777777778,
              "#fb9f3a"
             ],
             [
              0.8888888888888888,
              "#fdca26"
             ],
             [
              1,
              "#f0f921"
             ]
            ],
            "type": "heatmap"
           }
          ],
          "heatmapgl": [
           {
            "colorbar": {
             "outlinewidth": 0,
             "ticks": ""
            },
            "colorscale": [
             [
              0,
              "#0d0887"
             ],
             [
              0.1111111111111111,
              "#46039f"
             ],
             [
              0.2222222222222222,
              "#7201a8"
             ],
             [
              0.3333333333333333,
              "#9c179e"
             ],
             [
              0.4444444444444444,
              "#bd3786"
             ],
             [
              0.5555555555555556,
              "#d8576b"
             ],
             [
              0.6666666666666666,
              "#ed7953"
             ],
             [
              0.7777777777777778,
              "#fb9f3a"
             ],
             [
              0.8888888888888888,
              "#fdca26"
             ],
             [
              1,
              "#f0f921"
             ]
            ],
            "type": "heatmapgl"
           }
          ],
          "histogram": [
           {
            "marker": {
             "pattern": {
              "fillmode": "overlay",
              "size": 10,
              "solidity": 0.2
             }
            },
            "type": "histogram"
           }
          ],
          "histogram2d": [
           {
            "colorbar": {
             "outlinewidth": 0,
             "ticks": ""
            },
            "colorscale": [
             [
              0,
              "#0d0887"
             ],
             [
              0.1111111111111111,
              "#46039f"
             ],
             [
              0.2222222222222222,
              "#7201a8"
             ],
             [
              0.3333333333333333,
              "#9c179e"
             ],
             [
              0.4444444444444444,
              "#bd3786"
             ],
             [
              0.5555555555555556,
              "#d8576b"
             ],
             [
              0.6666666666666666,
              "#ed7953"
             ],
             [
              0.7777777777777778,
              "#fb9f3a"
             ],
             [
              0.8888888888888888,
              "#fdca26"
             ],
             [
              1,
              "#f0f921"
             ]
            ],
            "type": "histogram2d"
           }
          ],
          "histogram2dcontour": [
           {
            "colorbar": {
             "outlinewidth": 0,
             "ticks": ""
            },
            "colorscale": [
             [
              0,
              "#0d0887"
             ],
             [
              0.1111111111111111,
              "#46039f"
             ],
             [
              0.2222222222222222,
              "#7201a8"
             ],
             [
              0.3333333333333333,
              "#9c179e"
             ],
             [
              0.4444444444444444,
              "#bd3786"
             ],
             [
              0.5555555555555556,
              "#d8576b"
             ],
             [
              0.6666666666666666,
              "#ed7953"
             ],
             [
              0.7777777777777778,
              "#fb9f3a"
             ],
             [
              0.8888888888888888,
              "#fdca26"
             ],
             [
              1,
              "#f0f921"
             ]
            ],
            "type": "histogram2dcontour"
           }
          ],
          "mesh3d": [
           {
            "colorbar": {
             "outlinewidth": 0,
             "ticks": ""
            },
            "type": "mesh3d"
           }
          ],
          "parcoords": [
           {
            "line": {
             "colorbar": {
              "outlinewidth": 0,
              "ticks": ""
             }
            },
            "type": "parcoords"
           }
          ],
          "pie": [
           {
            "automargin": true,
            "type": "pie"
           }
          ],
          "scatter": [
           {
            "fillpattern": {
             "fillmode": "overlay",
             "size": 10,
             "solidity": 0.2
            },
            "type": "scatter"
           }
          ],
          "scatter3d": [
           {
            "line": {
             "colorbar": {
              "outlinewidth": 0,
              "ticks": ""
             }
            },
            "marker": {
             "colorbar": {
              "outlinewidth": 0,
              "ticks": ""
             }
            },
            "type": "scatter3d"
           }
          ],
          "scattercarpet": [
           {
            "marker": {
             "colorbar": {
              "outlinewidth": 0,
              "ticks": ""
             }
            },
            "type": "scattercarpet"
           }
          ],
          "scattergeo": [
           {
            "marker": {
             "colorbar": {
              "outlinewidth": 0,
              "ticks": ""
             }
            },
            "type": "scattergeo"
           }
          ],
          "scattergl": [
           {
            "marker": {
             "colorbar": {
              "outlinewidth": 0,
              "ticks": ""
             }
            },
            "type": "scattergl"
           }
          ],
          "scattermapbox": [
           {
            "marker": {
             "colorbar": {
              "outlinewidth": 0,
              "ticks": ""
             }
            },
            "type": "scattermapbox"
           }
          ],
          "scatterpolar": [
           {
            "marker": {
             "colorbar": {
              "outlinewidth": 0,
              "ticks": ""
             }
            },
            "type": "scatterpolar"
           }
          ],
          "scatterpolargl": [
           {
            "marker": {
             "colorbar": {
              "outlinewidth": 0,
              "ticks": ""
             }
            },
            "type": "scatterpolargl"
           }
          ],
          "scatterternary": [
           {
            "marker": {
             "colorbar": {
              "outlinewidth": 0,
              "ticks": ""
             }
            },
            "type": "scatterternary"
           }
          ],
          "surface": [
           {
            "colorbar": {
             "outlinewidth": 0,
             "ticks": ""
            },
            "colorscale": [
             [
              0,
              "#0d0887"
             ],
             [
              0.1111111111111111,
              "#46039f"
             ],
             [
              0.2222222222222222,
              "#7201a8"
             ],
             [
              0.3333333333333333,
              "#9c179e"
             ],
             [
              0.4444444444444444,
              "#bd3786"
             ],
             [
              0.5555555555555556,
              "#d8576b"
             ],
             [
              0.6666666666666666,
              "#ed7953"
             ],
             [
              0.7777777777777778,
              "#fb9f3a"
             ],
             [
              0.8888888888888888,
              "#fdca26"
             ],
             [
              1,
              "#f0f921"
             ]
            ],
            "type": "surface"
           }
          ],
          "table": [
           {
            "cells": {
             "fill": {
              "color": "#EBF0F8"
             },
             "line": {
              "color": "white"
             }
            },
            "header": {
             "fill": {
              "color": "#C8D4E3"
             },
             "line": {
              "color": "white"
             }
            },
            "type": "table"
           }
          ]
         },
         "layout": {
          "annotationdefaults": {
           "arrowcolor": "#2a3f5f",
           "arrowhead": 0,
           "arrowwidth": 1
          },
          "autotypenumbers": "strict",
          "coloraxis": {
           "colorbar": {
            "outlinewidth": 0,
            "ticks": ""
           }
          },
          "colorscale": {
           "diverging": [
            [
             0,
             "#8e0152"
            ],
            [
             0.1,
             "#c51b7d"
            ],
            [
             0.2,
             "#de77ae"
            ],
            [
             0.3,
             "#f1b6da"
            ],
            [
             0.4,
             "#fde0ef"
            ],
            [
             0.5,
             "#f7f7f7"
            ],
            [
             0.6,
             "#e6f5d0"
            ],
            [
             0.7,
             "#b8e186"
            ],
            [
             0.8,
             "#7fbc41"
            ],
            [
             0.9,
             "#4d9221"
            ],
            [
             1,
             "#276419"
            ]
           ],
           "sequential": [
            [
             0,
             "#0d0887"
            ],
            [
             0.1111111111111111,
             "#46039f"
            ],
            [
             0.2222222222222222,
             "#7201a8"
            ],
            [
             0.3333333333333333,
             "#9c179e"
            ],
            [
             0.4444444444444444,
             "#bd3786"
            ],
            [
             0.5555555555555556,
             "#d8576b"
            ],
            [
             0.6666666666666666,
             "#ed7953"
            ],
            [
             0.7777777777777778,
             "#fb9f3a"
            ],
            [
             0.8888888888888888,
             "#fdca26"
            ],
            [
             1,
             "#f0f921"
            ]
           ],
           "sequentialminus": [
            [
             0,
             "#0d0887"
            ],
            [
             0.1111111111111111,
             "#46039f"
            ],
            [
             0.2222222222222222,
             "#7201a8"
            ],
            [
             0.3333333333333333,
             "#9c179e"
            ],
            [
             0.4444444444444444,
             "#bd3786"
            ],
            [
             0.5555555555555556,
             "#d8576b"
            ],
            [
             0.6666666666666666,
             "#ed7953"
            ],
            [
             0.7777777777777778,
             "#fb9f3a"
            ],
            [
             0.8888888888888888,
             "#fdca26"
            ],
            [
             1,
             "#f0f921"
            ]
           ]
          },
          "colorway": [
           "#636efa",
           "#EF553B",
           "#00cc96",
           "#ab63fa",
           "#FFA15A",
           "#19d3f3",
           "#FF6692",
           "#B6E880",
           "#FF97FF",
           "#FECB52"
          ],
          "font": {
           "color": "#2a3f5f"
          },
          "geo": {
           "bgcolor": "white",
           "lakecolor": "white",
           "landcolor": "#E5ECF6",
           "showlakes": true,
           "showland": true,
           "subunitcolor": "white"
          },
          "hoverlabel": {
           "align": "left"
          },
          "hovermode": "closest",
          "mapbox": {
           "style": "light"
          },
          "paper_bgcolor": "white",
          "plot_bgcolor": "#E5ECF6",
          "polar": {
           "angularaxis": {
            "gridcolor": "white",
            "linecolor": "white",
            "ticks": ""
           },
           "bgcolor": "#E5ECF6",
           "radialaxis": {
            "gridcolor": "white",
            "linecolor": "white",
            "ticks": ""
           }
          },
          "scene": {
           "xaxis": {
            "backgroundcolor": "#E5ECF6",
            "gridcolor": "white",
            "gridwidth": 2,
            "linecolor": "white",
            "showbackground": true,
            "ticks": "",
            "zerolinecolor": "white"
           },
           "yaxis": {
            "backgroundcolor": "#E5ECF6",
            "gridcolor": "white",
            "gridwidth": 2,
            "linecolor": "white",
            "showbackground": true,
            "ticks": "",
            "zerolinecolor": "white"
           },
           "zaxis": {
            "backgroundcolor": "#E5ECF6",
            "gridcolor": "white",
            "gridwidth": 2,
            "linecolor": "white",
            "showbackground": true,
            "ticks": "",
            "zerolinecolor": "white"
           }
          },
          "shapedefaults": {
           "line": {
            "color": "#2a3f5f"
           }
          },
          "ternary": {
           "aaxis": {
            "gridcolor": "white",
            "linecolor": "white",
            "ticks": ""
           },
           "baxis": {
            "gridcolor": "white",
            "linecolor": "white",
            "ticks": ""
           },
           "bgcolor": "#E5ECF6",
           "caxis": {
            "gridcolor": "white",
            "linecolor": "white",
            "ticks": ""
           }
          },
          "title": {
           "x": 0.05
          },
          "xaxis": {
           "automargin": true,
           "gridcolor": "white",
           "linecolor": "white",
           "ticks": "",
           "title": {
            "standoff": 15
           },
           "zerolinecolor": "white",
           "zerolinewidth": 2
          },
          "yaxis": {
           "automargin": true,
           "gridcolor": "white",
           "linecolor": "white",
           "ticks": "",
           "title": {
            "standoff": 15
           },
           "zerolinecolor": "white",
           "zerolinewidth": 2
          }
         }
        },
        "title": {
         "text": "_____________________________Power Realised From The Battery To Load._____________________________"
        },
        "width": 1350,
        "xaxis": {
         "anchor": "y",
         "domain": [
          0,
          1
         ],
         "title": {
          "text": "Time Step (min)"
         }
        },
        "yaxis": {
         "anchor": "x",
         "domain": [
          0,
          1
         ],
         "title": {
          "text": "Power(kw)"
         }
        }
       }
      }
     },
     "metadata": {},
     "output_type": "display_data"
    }
   ],
   "source": [
    "fig = px.bar(x=V_steps, y=P_From_bat_list,\n",
    "             title='_____________________________Power Realised From The Battery To Load._____________________________',\n",
    "             height=400, width=1350,\n",
    "             labels=dict(x=\"Time Step (min)\", y=\"Power(kw)\"), text_auto=True, color=P_From_bat_list,\n",
    ")\n",
    "fig.show()"
   ]
  },
  {
   "cell_type": "code",
   "execution_count": 117,
   "metadata": {
    "colab": {
     "base_uri": "https://localhost:8080/"
    },
    "id": "RSy0j2tgT25i",
    "outputId": "f4e89f42-490d-4a78-a7ad-b17483323336"
   },
   "outputs": [
    {
     "name": "stdout",
     "output_type": "stream",
     "text": [
      "[0, 1, 2, 3, 4, 5, 6, 7, 8, 9, 10, 11, 12, 13, 14, 15, 16, 17, 18, 19, 20, 21, 22, 23, 24, 25, 26, 27, 28, 29, 30, 31, 32, 33, 34, 35, 36, 37, 38, 39, 40, 41, 42, 43, 44, 45, 46, 47, 48, 49, 50, 51, 52, 53, 54, 55, 56, 57, 58, 59] [0.0, 0.0, 102.04081632653062, 0.0, 147.39229024943313, 0.0, 192.7437641723356, 0.0, 0.0, 0.0, 0.0, 0.0, 181.40589569160997, 0.0, 0.0, 0.0, 0.0, 0.0, 0.0, 0.0, 187.07482993197277, 0.0, 153.06122448979593, 0.0, 0.0, 156.57987332864178, 0.0, 163.61717100633356, 0.0, 170.65446868402535, 0.0, 177.6917663617171, 0.0, 184.72906403940888, 158.7301587301587, 0.0, 191.7663617171006, 0.0, 198.8036593947924, 0.0, 0.0, 0.0, 0.0, 0.0, 0.0, 0.0, 0.0, 0.0, 0.0, 0.0, 0.0, 0.0, 0.0, 0.0, 0.0, 0.0, 136.0544217687075, 0.0, 113.37868480725623, 0.0]\n"
     ]
    }
   ],
   "source": [
    "print(V_steps,P_From_bat_list)"
   ]
  },
  {
   "cell_type": "markdown",
   "metadata": {
    "id": "J5rf_mj9b5pZ"
   },
   "source": [
    "### Battery charge balance."
   ]
  },
  {
   "cell_type": "code",
   "execution_count": 118,
   "metadata": {
    "colab": {
     "base_uri": "https://localhost:8080/",
     "height": 295
    },
    "id": "jiGMSj3LvC4A",
    "outputId": "762da36a-baf0-492a-d193-0b6f95ecbc3d",
    "scrolled": true
   },
   "outputs": [
    {
     "data": {
      "application/vnd.plotly.v1+json": {
       "config": {
        "plotlyServerURL": "https://plot.ly"
       },
       "data": [
        {
         "alignmentgroup": "True",
         "hovertemplate": "Time Step (min)=%{x}<br>Power(kw)=%{y}<br>color=%{marker.color}<extra></extra>",
         "legendgroup": "",
         "marker": {
          "color": [
           124.99999971077689,
           231.40589569160989,
           50,
           197.3922902494332,
           50,
           242.7437641723356,
           50.00000000000002,
           50.00000000000002,
           50.00000000000002,
           50.00000000000002,
           50.00000000000002,
           50.00000000000002,
           50,
           50.00000000000002,
           50.00000000000002,
           50.00000000000002,
           50.00000000000002,
           237.0748299319726,
           237.0748299319726,
           237.07482993197277,
           50,
           203.06122448979596,
           50,
           208.73015873015873,
           206.57987332864178,
           50,
           213.61717100633362,
           50,
           220.65446868402537,
           50,
           227.69176636171716,
           50,
           234.7290640394089,
           50,
           50,
           241.76636171710064,
           50,
           248.80365939479245,
           50,
           125,
           125,
           125,
           125,
           125,
           125,
           186.05442176870747,
           125,
           125,
           125,
           125,
           125,
           125,
           125,
           125,
           125,
           125,
           50,
           163.37868480725626,
           50,
           152.0408163265306
          ],
          "coloraxis": "coloraxis",
          "pattern": {
           "shape": ""
          }
         },
         "name": "",
         "offsetgroup": "",
         "orientation": "v",
         "showlegend": false,
         "textposition": "auto",
         "texttemplate": "%{y}",
         "type": "bar",
         "x": [
          0,
          1,
          2,
          3,
          4,
          5,
          6,
          7,
          8,
          9,
          10,
          11,
          12,
          13,
          14,
          15,
          16,
          17,
          18,
          19,
          20,
          21,
          22,
          23,
          24,
          25,
          26,
          27,
          28,
          29,
          30,
          31,
          32,
          33,
          34,
          35,
          36,
          37,
          38,
          39,
          40,
          41,
          42,
          43,
          44,
          45,
          46,
          47,
          48,
          49,
          50,
          51,
          52,
          53,
          54,
          55,
          56,
          57,
          58,
          59
         ],
         "xaxis": "x",
         "y": [
          124.99999971077689,
          231.40589569160989,
          50,
          197.3922902494332,
          50,
          242.7437641723356,
          50.00000000000002,
          50.00000000000002,
          50.00000000000002,
          50.00000000000002,
          50.00000000000002,
          50.00000000000002,
          50,
          50.00000000000002,
          50.00000000000002,
          50.00000000000002,
          50.00000000000002,
          237.0748299319726,
          237.0748299319726,
          237.07482993197277,
          50,
          203.06122448979596,
          50,
          208.73015873015873,
          206.57987332864178,
          50,
          213.61717100633362,
          50,
          220.65446868402537,
          50,
          227.69176636171716,
          50,
          234.7290640394089,
          50,
          50,
          241.76636171710064,
          50,
          248.80365939479245,
          50,
          125,
          125,
          125,
          125,
          125,
          125,
          186.05442176870747,
          125,
          125,
          125,
          125,
          125,
          125,
          125,
          125,
          125,
          125,
          50,
          163.37868480725626,
          50,
          152.0408163265306
         ],
         "yaxis": "y"
        }
       ],
       "layout": {
        "barmode": "relative",
        "coloraxis": {
         "colorbar": {
          "title": {
           "text": "color"
          }
         },
         "colorscale": [
          [
           0,
           "#0d0887"
          ],
          [
           0.1111111111111111,
           "#46039f"
          ],
          [
           0.2222222222222222,
           "#7201a8"
          ],
          [
           0.3333333333333333,
           "#9c179e"
          ],
          [
           0.4444444444444444,
           "#bd3786"
          ],
          [
           0.5555555555555556,
           "#d8576b"
          ],
          [
           0.6666666666666666,
           "#ed7953"
          ],
          [
           0.7777777777777778,
           "#fb9f3a"
          ],
          [
           0.8888888888888888,
           "#fdca26"
          ],
          [
           1,
           "#f0f921"
          ]
         ]
        },
        "height": 400,
        "legend": {
         "tracegroupgap": 0
        },
        "template": {
         "data": {
          "bar": [
           {
            "error_x": {
             "color": "#2a3f5f"
            },
            "error_y": {
             "color": "#2a3f5f"
            },
            "marker": {
             "line": {
              "color": "#E5ECF6",
              "width": 0.5
             },
             "pattern": {
              "fillmode": "overlay",
              "size": 10,
              "solidity": 0.2
             }
            },
            "type": "bar"
           }
          ],
          "barpolar": [
           {
            "marker": {
             "line": {
              "color": "#E5ECF6",
              "width": 0.5
             },
             "pattern": {
              "fillmode": "overlay",
              "size": 10,
              "solidity": 0.2
             }
            },
            "type": "barpolar"
           }
          ],
          "carpet": [
           {
            "aaxis": {
             "endlinecolor": "#2a3f5f",
             "gridcolor": "white",
             "linecolor": "white",
             "minorgridcolor": "white",
             "startlinecolor": "#2a3f5f"
            },
            "baxis": {
             "endlinecolor": "#2a3f5f",
             "gridcolor": "white",
             "linecolor": "white",
             "minorgridcolor": "white",
             "startlinecolor": "#2a3f5f"
            },
            "type": "carpet"
           }
          ],
          "choropleth": [
           {
            "colorbar": {
             "outlinewidth": 0,
             "ticks": ""
            },
            "type": "choropleth"
           }
          ],
          "contour": [
           {
            "colorbar": {
             "outlinewidth": 0,
             "ticks": ""
            },
            "colorscale": [
             [
              0,
              "#0d0887"
             ],
             [
              0.1111111111111111,
              "#46039f"
             ],
             [
              0.2222222222222222,
              "#7201a8"
             ],
             [
              0.3333333333333333,
              "#9c179e"
             ],
             [
              0.4444444444444444,
              "#bd3786"
             ],
             [
              0.5555555555555556,
              "#d8576b"
             ],
             [
              0.6666666666666666,
              "#ed7953"
             ],
             [
              0.7777777777777778,
              "#fb9f3a"
             ],
             [
              0.8888888888888888,
              "#fdca26"
             ],
             [
              1,
              "#f0f921"
             ]
            ],
            "type": "contour"
           }
          ],
          "contourcarpet": [
           {
            "colorbar": {
             "outlinewidth": 0,
             "ticks": ""
            },
            "type": "contourcarpet"
           }
          ],
          "heatmap": [
           {
            "colorbar": {
             "outlinewidth": 0,
             "ticks": ""
            },
            "colorscale": [
             [
              0,
              "#0d0887"
             ],
             [
              0.1111111111111111,
              "#46039f"
             ],
             [
              0.2222222222222222,
              "#7201a8"
             ],
             [
              0.3333333333333333,
              "#9c179e"
             ],
             [
              0.4444444444444444,
              "#bd3786"
             ],
             [
              0.5555555555555556,
              "#d8576b"
             ],
             [
              0.6666666666666666,
              "#ed7953"
             ],
             [
              0.7777777777777778,
              "#fb9f3a"
             ],
             [
              0.8888888888888888,
              "#fdca26"
             ],
             [
              1,
              "#f0f921"
             ]
            ],
            "type": "heatmap"
           }
          ],
          "heatmapgl": [
           {
            "colorbar": {
             "outlinewidth": 0,
             "ticks": ""
            },
            "colorscale": [
             [
              0,
              "#0d0887"
             ],
             [
              0.1111111111111111,
              "#46039f"
             ],
             [
              0.2222222222222222,
              "#7201a8"
             ],
             [
              0.3333333333333333,
              "#9c179e"
             ],
             [
              0.4444444444444444,
              "#bd3786"
             ],
             [
              0.5555555555555556,
              "#d8576b"
             ],
             [
              0.6666666666666666,
              "#ed7953"
             ],
             [
              0.7777777777777778,
              "#fb9f3a"
             ],
             [
              0.8888888888888888,
              "#fdca26"
             ],
             [
              1,
              "#f0f921"
             ]
            ],
            "type": "heatmapgl"
           }
          ],
          "histogram": [
           {
            "marker": {
             "pattern": {
              "fillmode": "overlay",
              "size": 10,
              "solidity": 0.2
             }
            },
            "type": "histogram"
           }
          ],
          "histogram2d": [
           {
            "colorbar": {
             "outlinewidth": 0,
             "ticks": ""
            },
            "colorscale": [
             [
              0,
              "#0d0887"
             ],
             [
              0.1111111111111111,
              "#46039f"
             ],
             [
              0.2222222222222222,
              "#7201a8"
             ],
             [
              0.3333333333333333,
              "#9c179e"
             ],
             [
              0.4444444444444444,
              "#bd3786"
             ],
             [
              0.5555555555555556,
              "#d8576b"
             ],
             [
              0.6666666666666666,
              "#ed7953"
             ],
             [
              0.7777777777777778,
              "#fb9f3a"
             ],
             [
              0.8888888888888888,
              "#fdca26"
             ],
             [
              1,
              "#f0f921"
             ]
            ],
            "type": "histogram2d"
           }
          ],
          "histogram2dcontour": [
           {
            "colorbar": {
             "outlinewidth": 0,
             "ticks": ""
            },
            "colorscale": [
             [
              0,
              "#0d0887"
             ],
             [
              0.1111111111111111,
              "#46039f"
             ],
             [
              0.2222222222222222,
              "#7201a8"
             ],
             [
              0.3333333333333333,
              "#9c179e"
             ],
             [
              0.4444444444444444,
              "#bd3786"
             ],
             [
              0.5555555555555556,
              "#d8576b"
             ],
             [
              0.6666666666666666,
              "#ed7953"
             ],
             [
              0.7777777777777778,
              "#fb9f3a"
             ],
             [
              0.8888888888888888,
              "#fdca26"
             ],
             [
              1,
              "#f0f921"
             ]
            ],
            "type": "histogram2dcontour"
           }
          ],
          "mesh3d": [
           {
            "colorbar": {
             "outlinewidth": 0,
             "ticks": ""
            },
            "type": "mesh3d"
           }
          ],
          "parcoords": [
           {
            "line": {
             "colorbar": {
              "outlinewidth": 0,
              "ticks": ""
             }
            },
            "type": "parcoords"
           }
          ],
          "pie": [
           {
            "automargin": true,
            "type": "pie"
           }
          ],
          "scatter": [
           {
            "fillpattern": {
             "fillmode": "overlay",
             "size": 10,
             "solidity": 0.2
            },
            "type": "scatter"
           }
          ],
          "scatter3d": [
           {
            "line": {
             "colorbar": {
              "outlinewidth": 0,
              "ticks": ""
             }
            },
            "marker": {
             "colorbar": {
              "outlinewidth": 0,
              "ticks": ""
             }
            },
            "type": "scatter3d"
           }
          ],
          "scattercarpet": [
           {
            "marker": {
             "colorbar": {
              "outlinewidth": 0,
              "ticks": ""
             }
            },
            "type": "scattercarpet"
           }
          ],
          "scattergeo": [
           {
            "marker": {
             "colorbar": {
              "outlinewidth": 0,
              "ticks": ""
             }
            },
            "type": "scattergeo"
           }
          ],
          "scattergl": [
           {
            "marker": {
             "colorbar": {
              "outlinewidth": 0,
              "ticks": ""
             }
            },
            "type": "scattergl"
           }
          ],
          "scattermapbox": [
           {
            "marker": {
             "colorbar": {
              "outlinewidth": 0,
              "ticks": ""
             }
            },
            "type": "scattermapbox"
           }
          ],
          "scatterpolar": [
           {
            "marker": {
             "colorbar": {
              "outlinewidth": 0,
              "ticks": ""
             }
            },
            "type": "scatterpolar"
           }
          ],
          "scatterpolargl": [
           {
            "marker": {
             "colorbar": {
              "outlinewidth": 0,
              "ticks": ""
             }
            },
            "type": "scatterpolargl"
           }
          ],
          "scatterternary": [
           {
            "marker": {
             "colorbar": {
              "outlinewidth": 0,
              "ticks": ""
             }
            },
            "type": "scatterternary"
           }
          ],
          "surface": [
           {
            "colorbar": {
             "outlinewidth": 0,
             "ticks": ""
            },
            "colorscale": [
             [
              0,
              "#0d0887"
             ],
             [
              0.1111111111111111,
              "#46039f"
             ],
             [
              0.2222222222222222,
              "#7201a8"
             ],
             [
              0.3333333333333333,
              "#9c179e"
             ],
             [
              0.4444444444444444,
              "#bd3786"
             ],
             [
              0.5555555555555556,
              "#d8576b"
             ],
             [
              0.6666666666666666,
              "#ed7953"
             ],
             [
              0.7777777777777778,
              "#fb9f3a"
             ],
             [
              0.8888888888888888,
              "#fdca26"
             ],
             [
              1,
              "#f0f921"
             ]
            ],
            "type": "surface"
           }
          ],
          "table": [
           {
            "cells": {
             "fill": {
              "color": "#EBF0F8"
             },
             "line": {
              "color": "white"
             }
            },
            "header": {
             "fill": {
              "color": "#C8D4E3"
             },
             "line": {
              "color": "white"
             }
            },
            "type": "table"
           }
          ]
         },
         "layout": {
          "annotationdefaults": {
           "arrowcolor": "#2a3f5f",
           "arrowhead": 0,
           "arrowwidth": 1
          },
          "autotypenumbers": "strict",
          "coloraxis": {
           "colorbar": {
            "outlinewidth": 0,
            "ticks": ""
           }
          },
          "colorscale": {
           "diverging": [
            [
             0,
             "#8e0152"
            ],
            [
             0.1,
             "#c51b7d"
            ],
            [
             0.2,
             "#de77ae"
            ],
            [
             0.3,
             "#f1b6da"
            ],
            [
             0.4,
             "#fde0ef"
            ],
            [
             0.5,
             "#f7f7f7"
            ],
            [
             0.6,
             "#e6f5d0"
            ],
            [
             0.7,
             "#b8e186"
            ],
            [
             0.8,
             "#7fbc41"
            ],
            [
             0.9,
             "#4d9221"
            ],
            [
             1,
             "#276419"
            ]
           ],
           "sequential": [
            [
             0,
             "#0d0887"
            ],
            [
             0.1111111111111111,
             "#46039f"
            ],
            [
             0.2222222222222222,
             "#7201a8"
            ],
            [
             0.3333333333333333,
             "#9c179e"
            ],
            [
             0.4444444444444444,
             "#bd3786"
            ],
            [
             0.5555555555555556,
             "#d8576b"
            ],
            [
             0.6666666666666666,
             "#ed7953"
            ],
            [
             0.7777777777777778,
             "#fb9f3a"
            ],
            [
             0.8888888888888888,
             "#fdca26"
            ],
            [
             1,
             "#f0f921"
            ]
           ],
           "sequentialminus": [
            [
             0,
             "#0d0887"
            ],
            [
             0.1111111111111111,
             "#46039f"
            ],
            [
             0.2222222222222222,
             "#7201a8"
            ],
            [
             0.3333333333333333,
             "#9c179e"
            ],
            [
             0.4444444444444444,
             "#bd3786"
            ],
            [
             0.5555555555555556,
             "#d8576b"
            ],
            [
             0.6666666666666666,
             "#ed7953"
            ],
            [
             0.7777777777777778,
             "#fb9f3a"
            ],
            [
             0.8888888888888888,
             "#fdca26"
            ],
            [
             1,
             "#f0f921"
            ]
           ]
          },
          "colorway": [
           "#636efa",
           "#EF553B",
           "#00cc96",
           "#ab63fa",
           "#FFA15A",
           "#19d3f3",
           "#FF6692",
           "#B6E880",
           "#FF97FF",
           "#FECB52"
          ],
          "font": {
           "color": "#2a3f5f"
          },
          "geo": {
           "bgcolor": "white",
           "lakecolor": "white",
           "landcolor": "#E5ECF6",
           "showlakes": true,
           "showland": true,
           "subunitcolor": "white"
          },
          "hoverlabel": {
           "align": "left"
          },
          "hovermode": "closest",
          "mapbox": {
           "style": "light"
          },
          "paper_bgcolor": "white",
          "plot_bgcolor": "#E5ECF6",
          "polar": {
           "angularaxis": {
            "gridcolor": "white",
            "linecolor": "white",
            "ticks": ""
           },
           "bgcolor": "#E5ECF6",
           "radialaxis": {
            "gridcolor": "white",
            "linecolor": "white",
            "ticks": ""
           }
          },
          "scene": {
           "xaxis": {
            "backgroundcolor": "#E5ECF6",
            "gridcolor": "white",
            "gridwidth": 2,
            "linecolor": "white",
            "showbackground": true,
            "ticks": "",
            "zerolinecolor": "white"
           },
           "yaxis": {
            "backgroundcolor": "#E5ECF6",
            "gridcolor": "white",
            "gridwidth": 2,
            "linecolor": "white",
            "showbackground": true,
            "ticks": "",
            "zerolinecolor": "white"
           },
           "zaxis": {
            "backgroundcolor": "#E5ECF6",
            "gridcolor": "white",
            "gridwidth": 2,
            "linecolor": "white",
            "showbackground": true,
            "ticks": "",
            "zerolinecolor": "white"
           }
          },
          "shapedefaults": {
           "line": {
            "color": "#2a3f5f"
           }
          },
          "ternary": {
           "aaxis": {
            "gridcolor": "white",
            "linecolor": "white",
            "ticks": ""
           },
           "baxis": {
            "gridcolor": "white",
            "linecolor": "white",
            "ticks": ""
           },
           "bgcolor": "#E5ECF6",
           "caxis": {
            "gridcolor": "white",
            "linecolor": "white",
            "ticks": ""
           }
          },
          "title": {
           "x": 0.05
          },
          "xaxis": {
           "automargin": true,
           "gridcolor": "white",
           "linecolor": "white",
           "ticks": "",
           "title": {
            "standoff": 15
           },
           "zerolinecolor": "white",
           "zerolinewidth": 2
          },
          "yaxis": {
           "automargin": true,
           "gridcolor": "white",
           "linecolor": "white",
           "ticks": "",
           "title": {
            "standoff": 15
           },
           "zerolinecolor": "white",
           "zerolinewidth": 2
          }
         }
        },
        "title": {
         "text": "_____________________________Battery Charge Balance._____________________________"
        },
        "width": 1350,
        "xaxis": {
         "anchor": "y",
         "domain": [
          0,
          1
         ],
         "title": {
          "text": "Time Step (min)"
         }
        },
        "yaxis": {
         "anchor": "x",
         "domain": [
          0,
          1
         ],
         "title": {
          "text": "Power(kw)"
         }
        }
       }
      }
     },
     "metadata": {},
     "output_type": "display_data"
    }
   ],
   "source": [
    "fig = px.bar(x=V_steps, y=Q_bat_list,\n",
    "             title='_____________________________Battery Charge Balance._____________________________',\n",
    "             height=400, width=1350,\n",
    "             labels=dict(x=\"Time Step (min)\", y=\"Power(kw)\"), text_auto=True, color=Q_bat_list,\n",
    ")\n",
    "fig.show()"
   ]
  },
  {
   "cell_type": "code",
   "execution_count": 119,
   "metadata": {
    "colab": {
     "base_uri": "https://localhost:8080/"
    },
    "id": "zxGB2j8buZT_",
    "outputId": "2b132b83-be5b-4df0-a7ef-27700ee2b3b3"
   },
   "outputs": [
    {
     "name": "stdout",
     "output_type": "stream",
     "text": [
      "[0, 1, 2, 3, 4, 5, 6, 7, 8, 9, 10, 11, 12, 13, 14, 15, 16, 17, 18, 19, 20, 21, 22, 23, 24, 25, 26, 27, 28, 29, 30, 31, 32, 33, 34, 35, 36, 37, 38, 39, 40, 41, 42, 43, 44, 45, 46, 47, 48, 49, 50, 51, 52, 53, 54, 55, 56, 57, 58, 59] [124.99999971077689, 231.40589569160989, 50.0, 197.3922902494332, 50.0, 242.7437641723356, 50.00000000000002, 50.00000000000002, 50.00000000000002, 50.00000000000002, 50.00000000000002, 50.00000000000002, 50.0, 50.00000000000002, 50.00000000000002, 50.00000000000002, 50.00000000000002, 237.0748299319726, 237.0748299319726, 237.07482993197277, 50.0, 203.06122448979596, 50.0, 208.73015873015873, 206.57987332864178, 50.0, 213.61717100633362, 50.0, 220.65446868402537, 50.0, 227.69176636171716, 50.0, 234.7290640394089, 50.0, 50.0, 241.76636171710064, 50.0, 248.80365939479245, 50.0, 125.0, 125.0, 125.0, 125.0, 125.0, 125.0, 186.05442176870747, 125.0, 125.0, 125.0, 125.0, 125.0, 125.0, 125.0, 125.0, 125.0, 125.0, 50.0, 163.37868480725626, 50.0, 152.0408163265306]\n"
     ]
    }
   ],
   "source": [
    "print(V_steps,Q_bat_list)"
   ]
  },
  {
   "cell_type": "markdown",
   "metadata": {
    "id": "H1HkXt-BcO27"
   },
   "source": [
    "$\\newline $\n",
    "### Genset fuel consumption."
   ]
  },
  {
   "cell_type": "code",
   "execution_count": 120,
   "metadata": {
    "colab": {
     "base_uri": "https://localhost:8080/",
     "height": 295
    },
    "id": "VGXJ9Ox8vbeu",
    "outputId": "0e9e7182-580d-46a1-b3eb-8743c6a32bec",
    "scrolled": true
   },
   "outputs": [
    {
     "data": {
      "application/vnd.plotly.v1+json": {
       "config": {
        "plotlyServerURL": "https://plot.ly"
       },
       "data": [
        {
         "alignmentgroup": "True",
         "hovertemplate": "Time Step (min)=%{x}<br>Power(kw)=%{y}<br>color=%{marker.color}<extra></extra>",
         "legendgroup": "",
         "marker": {
          "color": [
           49.31999994501809,
           67.4779779808461,
           0,
           62.8495751770096,
           0,
           79.75098292378176,
           0,
           51.38999999999999,
           55.529999999999994,
           59.669999999999995,
           63.809999999999995,
           67.95,
           3.313971319585108e-15,
           67.95,
           64.845,
           61.74,
           58.63499999999999,
           91.0933069554352,
           52.42499999999999,
           49.32000000000003,
           0,
           72.20725114535611,
           0,
           73.28492711370264,
           69.77115347053669,
           0,
           72.39378570710481,
           0,
           75.01641794367289,
           0,
           77.639050180241,
           0,
           80.26168241680908,
           0,
           0,
           82.88431465337719,
           0,
           85.50694688994528,
           0,
           63.25644616467276,
           49.641206896551715,
           50.283620689655166,
           50.92603448275862,
           51.56844827586207,
           52.21086206896551,
           64.83422324031655,
           52.853275862068955,
           53.495689655172406,
           54.13810344827586,
           54.780517241379314,
           55.42293103448275,
           56.0653448275862,
           56.707758620689646,
           57.3501724137931,
           57.99258620689655,
           58.63499999999999,
           0,
           56.38351936693045,
           0,
           50.088167430237384
          ],
          "coloraxis": "coloraxis",
          "pattern": {
           "shape": ""
          }
         },
         "name": "",
         "offsetgroup": "",
         "orientation": "v",
         "showlegend": false,
         "textposition": "auto",
         "texttemplate": "%{y}",
         "type": "bar",
         "x": [
          0,
          1,
          2,
          3,
          4,
          5,
          6,
          7,
          8,
          9,
          10,
          11,
          12,
          13,
          14,
          15,
          16,
          17,
          18,
          19,
          20,
          21,
          22,
          23,
          24,
          25,
          26,
          27,
          28,
          29,
          30,
          31,
          32,
          33,
          34,
          35,
          36,
          37,
          38,
          39,
          40,
          41,
          42,
          43,
          44,
          45,
          46,
          47,
          48,
          49,
          50,
          51,
          52,
          53,
          54,
          55,
          56,
          57,
          58,
          59
         ],
         "xaxis": "x",
         "y": [
          49.31999994501809,
          67.4779779808461,
          0,
          62.8495751770096,
          0,
          79.75098292378176,
          0,
          51.38999999999999,
          55.529999999999994,
          59.669999999999995,
          63.809999999999995,
          67.95,
          3.313971319585108e-15,
          67.95,
          64.845,
          61.74,
          58.63499999999999,
          91.0933069554352,
          52.42499999999999,
          49.32000000000003,
          0,
          72.20725114535611,
          0,
          73.28492711370264,
          69.77115347053669,
          0,
          72.39378570710481,
          0,
          75.01641794367289,
          0,
          77.639050180241,
          0,
          80.26168241680908,
          0,
          0,
          82.88431465337719,
          0,
          85.50694688994528,
          0,
          63.25644616467276,
          49.641206896551715,
          50.283620689655166,
          50.92603448275862,
          51.56844827586207,
          52.21086206896551,
          64.83422324031655,
          52.853275862068955,
          53.495689655172406,
          54.13810344827586,
          54.780517241379314,
          55.42293103448275,
          56.0653448275862,
          56.707758620689646,
          57.3501724137931,
          57.99258620689655,
          58.63499999999999,
          0,
          56.38351936693045,
          0,
          50.088167430237384
         ],
         "yaxis": "y"
        }
       ],
       "layout": {
        "barmode": "relative",
        "coloraxis": {
         "colorbar": {
          "title": {
           "text": "color"
          }
         },
         "colorscale": [
          [
           0,
           "#0d0887"
          ],
          [
           0.1111111111111111,
           "#46039f"
          ],
          [
           0.2222222222222222,
           "#7201a8"
          ],
          [
           0.3333333333333333,
           "#9c179e"
          ],
          [
           0.4444444444444444,
           "#bd3786"
          ],
          [
           0.5555555555555556,
           "#d8576b"
          ],
          [
           0.6666666666666666,
           "#ed7953"
          ],
          [
           0.7777777777777778,
           "#fb9f3a"
          ],
          [
           0.8888888888888888,
           "#fdca26"
          ],
          [
           1,
           "#f0f921"
          ]
         ]
        },
        "height": 400,
        "legend": {
         "tracegroupgap": 0
        },
        "template": {
         "data": {
          "bar": [
           {
            "error_x": {
             "color": "#2a3f5f"
            },
            "error_y": {
             "color": "#2a3f5f"
            },
            "marker": {
             "line": {
              "color": "#E5ECF6",
              "width": 0.5
             },
             "pattern": {
              "fillmode": "overlay",
              "size": 10,
              "solidity": 0.2
             }
            },
            "type": "bar"
           }
          ],
          "barpolar": [
           {
            "marker": {
             "line": {
              "color": "#E5ECF6",
              "width": 0.5
             },
             "pattern": {
              "fillmode": "overlay",
              "size": 10,
              "solidity": 0.2
             }
            },
            "type": "barpolar"
           }
          ],
          "carpet": [
           {
            "aaxis": {
             "endlinecolor": "#2a3f5f",
             "gridcolor": "white",
             "linecolor": "white",
             "minorgridcolor": "white",
             "startlinecolor": "#2a3f5f"
            },
            "baxis": {
             "endlinecolor": "#2a3f5f",
             "gridcolor": "white",
             "linecolor": "white",
             "minorgridcolor": "white",
             "startlinecolor": "#2a3f5f"
            },
            "type": "carpet"
           }
          ],
          "choropleth": [
           {
            "colorbar": {
             "outlinewidth": 0,
             "ticks": ""
            },
            "type": "choropleth"
           }
          ],
          "contour": [
           {
            "colorbar": {
             "outlinewidth": 0,
             "ticks": ""
            },
            "colorscale": [
             [
              0,
              "#0d0887"
             ],
             [
              0.1111111111111111,
              "#46039f"
             ],
             [
              0.2222222222222222,
              "#7201a8"
             ],
             [
              0.3333333333333333,
              "#9c179e"
             ],
             [
              0.4444444444444444,
              "#bd3786"
             ],
             [
              0.5555555555555556,
              "#d8576b"
             ],
             [
              0.6666666666666666,
              "#ed7953"
             ],
             [
              0.7777777777777778,
              "#fb9f3a"
             ],
             [
              0.8888888888888888,
              "#fdca26"
             ],
             [
              1,
              "#f0f921"
             ]
            ],
            "type": "contour"
           }
          ],
          "contourcarpet": [
           {
            "colorbar": {
             "outlinewidth": 0,
             "ticks": ""
            },
            "type": "contourcarpet"
           }
          ],
          "heatmap": [
           {
            "colorbar": {
             "outlinewidth": 0,
             "ticks": ""
            },
            "colorscale": [
             [
              0,
              "#0d0887"
             ],
             [
              0.1111111111111111,
              "#46039f"
             ],
             [
              0.2222222222222222,
              "#7201a8"
             ],
             [
              0.3333333333333333,
              "#9c179e"
             ],
             [
              0.4444444444444444,
              "#bd3786"
             ],
             [
              0.5555555555555556,
              "#d8576b"
             ],
             [
              0.6666666666666666,
              "#ed7953"
             ],
             [
              0.7777777777777778,
              "#fb9f3a"
             ],
             [
              0.8888888888888888,
              "#fdca26"
             ],
             [
              1,
              "#f0f921"
             ]
            ],
            "type": "heatmap"
           }
          ],
          "heatmapgl": [
           {
            "colorbar": {
             "outlinewidth": 0,
             "ticks": ""
            },
            "colorscale": [
             [
              0,
              "#0d0887"
             ],
             [
              0.1111111111111111,
              "#46039f"
             ],
             [
              0.2222222222222222,
              "#7201a8"
             ],
             [
              0.3333333333333333,
              "#9c179e"
             ],
             [
              0.4444444444444444,
              "#bd3786"
             ],
             [
              0.5555555555555556,
              "#d8576b"
             ],
             [
              0.6666666666666666,
              "#ed7953"
             ],
             [
              0.7777777777777778,
              "#fb9f3a"
             ],
             [
              0.8888888888888888,
              "#fdca26"
             ],
             [
              1,
              "#f0f921"
             ]
            ],
            "type": "heatmapgl"
           }
          ],
          "histogram": [
           {
            "marker": {
             "pattern": {
              "fillmode": "overlay",
              "size": 10,
              "solidity": 0.2
             }
            },
            "type": "histogram"
           }
          ],
          "histogram2d": [
           {
            "colorbar": {
             "outlinewidth": 0,
             "ticks": ""
            },
            "colorscale": [
             [
              0,
              "#0d0887"
             ],
             [
              0.1111111111111111,
              "#46039f"
             ],
             [
              0.2222222222222222,
              "#7201a8"
             ],
             [
              0.3333333333333333,
              "#9c179e"
             ],
             [
              0.4444444444444444,
              "#bd3786"
             ],
             [
              0.5555555555555556,
              "#d8576b"
             ],
             [
              0.6666666666666666,
              "#ed7953"
             ],
             [
              0.7777777777777778,
              "#fb9f3a"
             ],
             [
              0.8888888888888888,
              "#fdca26"
             ],
             [
              1,
              "#f0f921"
             ]
            ],
            "type": "histogram2d"
           }
          ],
          "histogram2dcontour": [
           {
            "colorbar": {
             "outlinewidth": 0,
             "ticks": ""
            },
            "colorscale": [
             [
              0,
              "#0d0887"
             ],
             [
              0.1111111111111111,
              "#46039f"
             ],
             [
              0.2222222222222222,
              "#7201a8"
             ],
             [
              0.3333333333333333,
              "#9c179e"
             ],
             [
              0.4444444444444444,
              "#bd3786"
             ],
             [
              0.5555555555555556,
              "#d8576b"
             ],
             [
              0.6666666666666666,
              "#ed7953"
             ],
             [
              0.7777777777777778,
              "#fb9f3a"
             ],
             [
              0.8888888888888888,
              "#fdca26"
             ],
             [
              1,
              "#f0f921"
             ]
            ],
            "type": "histogram2dcontour"
           }
          ],
          "mesh3d": [
           {
            "colorbar": {
             "outlinewidth": 0,
             "ticks": ""
            },
            "type": "mesh3d"
           }
          ],
          "parcoords": [
           {
            "line": {
             "colorbar": {
              "outlinewidth": 0,
              "ticks": ""
             }
            },
            "type": "parcoords"
           }
          ],
          "pie": [
           {
            "automargin": true,
            "type": "pie"
           }
          ],
          "scatter": [
           {
            "fillpattern": {
             "fillmode": "overlay",
             "size": 10,
             "solidity": 0.2
            },
            "type": "scatter"
           }
          ],
          "scatter3d": [
           {
            "line": {
             "colorbar": {
              "outlinewidth": 0,
              "ticks": ""
             }
            },
            "marker": {
             "colorbar": {
              "outlinewidth": 0,
              "ticks": ""
             }
            },
            "type": "scatter3d"
           }
          ],
          "scattercarpet": [
           {
            "marker": {
             "colorbar": {
              "outlinewidth": 0,
              "ticks": ""
             }
            },
            "type": "scattercarpet"
           }
          ],
          "scattergeo": [
           {
            "marker": {
             "colorbar": {
              "outlinewidth": 0,
              "ticks": ""
             }
            },
            "type": "scattergeo"
           }
          ],
          "scattergl": [
           {
            "marker": {
             "colorbar": {
              "outlinewidth": 0,
              "ticks": ""
             }
            },
            "type": "scattergl"
           }
          ],
          "scattermapbox": [
           {
            "marker": {
             "colorbar": {
              "outlinewidth": 0,
              "ticks": ""
             }
            },
            "type": "scattermapbox"
           }
          ],
          "scatterpolar": [
           {
            "marker": {
             "colorbar": {
              "outlinewidth": 0,
              "ticks": ""
             }
            },
            "type": "scatterpolar"
           }
          ],
          "scatterpolargl": [
           {
            "marker": {
             "colorbar": {
              "outlinewidth": 0,
              "ticks": ""
             }
            },
            "type": "scatterpolargl"
           }
          ],
          "scatterternary": [
           {
            "marker": {
             "colorbar": {
              "outlinewidth": 0,
              "ticks": ""
             }
            },
            "type": "scatterternary"
           }
          ],
          "surface": [
           {
            "colorbar": {
             "outlinewidth": 0,
             "ticks": ""
            },
            "colorscale": [
             [
              0,
              "#0d0887"
             ],
             [
              0.1111111111111111,
              "#46039f"
             ],
             [
              0.2222222222222222,
              "#7201a8"
             ],
             [
              0.3333333333333333,
              "#9c179e"
             ],
             [
              0.4444444444444444,
              "#bd3786"
             ],
             [
              0.5555555555555556,
              "#d8576b"
             ],
             [
              0.6666666666666666,
              "#ed7953"
             ],
             [
              0.7777777777777778,
              "#fb9f3a"
             ],
             [
              0.8888888888888888,
              "#fdca26"
             ],
             [
              1,
              "#f0f921"
             ]
            ],
            "type": "surface"
           }
          ],
          "table": [
           {
            "cells": {
             "fill": {
              "color": "#EBF0F8"
             },
             "line": {
              "color": "white"
             }
            },
            "header": {
             "fill": {
              "color": "#C8D4E3"
             },
             "line": {
              "color": "white"
             }
            },
            "type": "table"
           }
          ]
         },
         "layout": {
          "annotationdefaults": {
           "arrowcolor": "#2a3f5f",
           "arrowhead": 0,
           "arrowwidth": 1
          },
          "autotypenumbers": "strict",
          "coloraxis": {
           "colorbar": {
            "outlinewidth": 0,
            "ticks": ""
           }
          },
          "colorscale": {
           "diverging": [
            [
             0,
             "#8e0152"
            ],
            [
             0.1,
             "#c51b7d"
            ],
            [
             0.2,
             "#de77ae"
            ],
            [
             0.3,
             "#f1b6da"
            ],
            [
             0.4,
             "#fde0ef"
            ],
            [
             0.5,
             "#f7f7f7"
            ],
            [
             0.6,
             "#e6f5d0"
            ],
            [
             0.7,
             "#b8e186"
            ],
            [
             0.8,
             "#7fbc41"
            ],
            [
             0.9,
             "#4d9221"
            ],
            [
             1,
             "#276419"
            ]
           ],
           "sequential": [
            [
             0,
             "#0d0887"
            ],
            [
             0.1111111111111111,
             "#46039f"
            ],
            [
             0.2222222222222222,
             "#7201a8"
            ],
            [
             0.3333333333333333,
             "#9c179e"
            ],
            [
             0.4444444444444444,
             "#bd3786"
            ],
            [
             0.5555555555555556,
             "#d8576b"
            ],
            [
             0.6666666666666666,
             "#ed7953"
            ],
            [
             0.7777777777777778,
             "#fb9f3a"
            ],
            [
             0.8888888888888888,
             "#fdca26"
            ],
            [
             1,
             "#f0f921"
            ]
           ],
           "sequentialminus": [
            [
             0,
             "#0d0887"
            ],
            [
             0.1111111111111111,
             "#46039f"
            ],
            [
             0.2222222222222222,
             "#7201a8"
            ],
            [
             0.3333333333333333,
             "#9c179e"
            ],
            [
             0.4444444444444444,
             "#bd3786"
            ],
            [
             0.5555555555555556,
             "#d8576b"
            ],
            [
             0.6666666666666666,
             "#ed7953"
            ],
            [
             0.7777777777777778,
             "#fb9f3a"
            ],
            [
             0.8888888888888888,
             "#fdca26"
            ],
            [
             1,
             "#f0f921"
            ]
           ]
          },
          "colorway": [
           "#636efa",
           "#EF553B",
           "#00cc96",
           "#ab63fa",
           "#FFA15A",
           "#19d3f3",
           "#FF6692",
           "#B6E880",
           "#FF97FF",
           "#FECB52"
          ],
          "font": {
           "color": "#2a3f5f"
          },
          "geo": {
           "bgcolor": "white",
           "lakecolor": "white",
           "landcolor": "#E5ECF6",
           "showlakes": true,
           "showland": true,
           "subunitcolor": "white"
          },
          "hoverlabel": {
           "align": "left"
          },
          "hovermode": "closest",
          "mapbox": {
           "style": "light"
          },
          "paper_bgcolor": "white",
          "plot_bgcolor": "#E5ECF6",
          "polar": {
           "angularaxis": {
            "gridcolor": "white",
            "linecolor": "white",
            "ticks": ""
           },
           "bgcolor": "#E5ECF6",
           "radialaxis": {
            "gridcolor": "white",
            "linecolor": "white",
            "ticks": ""
           }
          },
          "scene": {
           "xaxis": {
            "backgroundcolor": "#E5ECF6",
            "gridcolor": "white",
            "gridwidth": 2,
            "linecolor": "white",
            "showbackground": true,
            "ticks": "",
            "zerolinecolor": "white"
           },
           "yaxis": {
            "backgroundcolor": "#E5ECF6",
            "gridcolor": "white",
            "gridwidth": 2,
            "linecolor": "white",
            "showbackground": true,
            "ticks": "",
            "zerolinecolor": "white"
           },
           "zaxis": {
            "backgroundcolor": "#E5ECF6",
            "gridcolor": "white",
            "gridwidth": 2,
            "linecolor": "white",
            "showbackground": true,
            "ticks": "",
            "zerolinecolor": "white"
           }
          },
          "shapedefaults": {
           "line": {
            "color": "#2a3f5f"
           }
          },
          "ternary": {
           "aaxis": {
            "gridcolor": "white",
            "linecolor": "white",
            "ticks": ""
           },
           "baxis": {
            "gridcolor": "white",
            "linecolor": "white",
            "ticks": ""
           },
           "bgcolor": "#E5ECF6",
           "caxis": {
            "gridcolor": "white",
            "linecolor": "white",
            "ticks": ""
           }
          },
          "title": {
           "x": 0.05
          },
          "xaxis": {
           "automargin": true,
           "gridcolor": "white",
           "linecolor": "white",
           "ticks": "",
           "title": {
            "standoff": 15
           },
           "zerolinecolor": "white",
           "zerolinewidth": 2
          },
          "yaxis": {
           "automargin": true,
           "gridcolor": "white",
           "linecolor": "white",
           "ticks": "",
           "title": {
            "standoff": 15
           },
           "zerolinecolor": "white",
           "zerolinewidth": 2
          }
         }
        },
        "title": {
         "text": "_____________________________Genset Fuel Comsumption__________________________"
        },
        "width": 1350,
        "xaxis": {
         "anchor": "y",
         "domain": [
          0,
          1
         ],
         "title": {
          "text": "Time Step (min)"
         }
        },
        "yaxis": {
         "anchor": "x",
         "domain": [
          0,
          1
         ],
         "title": {
          "text": "Power(kw)"
         }
        }
       }
      }
     },
     "metadata": {},
     "output_type": "display_data"
    }
   ],
   "source": [
    "fig = px.bar(x=V_steps, y=FC_A_list,\n",
    "             title=\"_____________________________Genset Fuel Comsumption__________________________\",\n",
    "             height=400, width=1350,\n",
    "             labels=dict(x=\"Time Step (min)\", y=\"Power(kw)\"), text_auto=True, color=FC_A_list,\n",
    ")\n",
    "fig.show()"
   ]
  },
  {
   "cell_type": "code",
   "execution_count": 121,
   "metadata": {
    "colab": {
     "base_uri": "https://localhost:8080/"
    },
    "id": "PUBet75HHg45",
    "outputId": "5ca2ebe9-045a-4e8c-93e1-e6effe1fdbc6"
   },
   "outputs": [
    {
     "name": "stdout",
     "output_type": "stream",
     "text": [
      "[0, 1, 2, 3, 4, 5, 6, 7, 8, 9, 10, 11, 12, 13, 14, 15, 16, 17, 18, 19, 20, 21, 22, 23, 24, 25, 26, 27, 28, 29, 30, 31, 32, 33, 34, 35, 36, 37, 38, 39, 40, 41, 42, 43, 44, 45, 46, 47, 48, 49, 50, 51, 52, 53, 54, 55, 56, 57, 58, 59] [49.31999994501809, 67.4779779808461, 0.0, 62.8495751770096, 0.0, 79.75098292378176, 0.0, 51.38999999999999, 55.529999999999994, 59.669999999999995, 63.809999999999995, 67.95, 3.313971319585108e-15, 67.95, 64.845, 61.74, 58.63499999999999, 91.0933069554352, 52.42499999999999, 49.32000000000003, 0.0, 72.20725114535611, 0.0, 73.28492711370264, 69.77115347053669, 0.0, 72.39378570710481, 0.0, 75.01641794367289, 0.0, 77.639050180241, 0.0, 80.26168241680908, 0.0, 0.0, 82.88431465337719, 0.0, 85.50694688994528, 0.0, 63.25644616467276, 49.641206896551715, 50.283620689655166, 50.92603448275862, 51.56844827586207, 52.21086206896551, 64.83422324031655, 52.853275862068955, 53.495689655172406, 54.13810344827586, 54.780517241379314, 55.42293103448275, 56.0653448275862, 56.707758620689646, 57.3501724137931, 57.99258620689655, 58.63499999999999, 0.0, 56.38351936693045, 0.0, 50.088167430237384]\n"
     ]
    }
   ],
   "source": [
    "print(V_steps, FC_A_list)"
   ]
  },
  {
   "cell_type": "code",
   "execution_count": 122,
   "metadata": {
    "colab": {
     "base_uri": "https://localhost:8080/"
    },
    "id": "Mmr7MzfBrnmp",
    "outputId": "29c2ddb0-15ea-40d6-abc9-8e5c0be0b87f"
   },
   "outputs": [
    {
     "name": "stdout",
     "output_type": "stream",
     "text": [
      "2739.356280429132\n"
     ]
    }
   ],
   "source": [
    "print(sum(FC_A_list)*dt)"
   ]
  },
  {
   "cell_type": "markdown",
   "metadata": {
    "id": "0p8MzO96JVV1"
   },
   "source": [
    "$\\newline $\n",
    "$\\newline $\n",
    "### Trip power flow bar chart."
   ]
  },
  {
   "cell_type": "code",
   "execution_count": 123,
   "metadata": {
    "colab": {
     "base_uri": "https://localhost:8080/",
     "height": 295
    },
    "id": "WjsUg-9qn4AA",
    "outputId": "e30169ed-49c3-4a04-ca5c-7bdb20be5c1b",
    "scrolled": false
   },
   "outputs": [
    {
     "data": {
      "application/vnd.plotly.v1+json": {
       "config": {
        "plotlyServerURL": "https://plot.ly"
       },
       "data": [
        {
         "alignmentgroup": "True",
         "hovertemplate": "Source of power=Power generated by the Genset.<br>Time step (min)=%{x}<br>Power (Kw)=%{y}<extra></extra>",
         "legendgroup": "Power generated by the Genset.",
         "marker": {
          "color": "#636efa",
          "pattern": {
           "shape": ""
          }
         },
         "name": "Power generated by the Genset.",
         "offsetgroup": "Power generated by the Genset.",
         "orientation": "v",
         "showlegend": true,
         "textposition": "auto",
         "texttemplate": "%{y}",
         "type": "bar",
         "x": [
          0,
          1,
          2,
          3,
          4,
          5,
          6,
          7,
          8,
          9,
          10,
          11,
          12,
          13,
          14,
          15,
          16,
          17,
          18,
          19,
          20,
          21,
          22,
          23,
          24,
          25,
          26,
          27,
          28,
          29,
          30,
          31,
          32,
          33,
          34,
          35,
          36,
          37,
          38,
          39,
          40,
          41,
          42,
          43,
          44,
          45,
          46,
          47,
          48,
          49,
          50,
          51,
          52,
          53,
          54,
          55,
          56,
          57,
          58,
          59
         ],
         "xaxis": "x",
         "y": [
          199.99999970487437,
          297.46633376728994,
          2.842170943040401e-14,
          272.6225183951133,
          0,
          363.343977046601,
          0,
          211.11111111111111,
          233.33333333333331,
          255.55555555555554,
          277.77777777777777,
          300,
          5.684341886080802e-14,
          300,
          283.3333333333333,
          266.6666666666667,
          250,
          424.22601693738693,
          216.66666666666666,
          200.0000000000002,
          0,
          322.8515896154381,
          0,
          328.6362163913185,
          309.7753809475937,
          0,
          323.8528486693763,
          0,
          337.9303163911589,
          0,
          352.0077841129415,
          0,
          366.0852518347241,
          0,
          0,
          380.16271955650666,
          0,
          394.2401872782893,
          0,
          274.8064743138635,
          201.72413793103448,
          205.17241379310343,
          208.6206896551724,
          212.06896551724137,
          215.51724137931035,
          283.27548706557457,
          218.9655172413793,
          222.41379310344826,
          225.86206896551724,
          229.31034482758622,
          232.75862068965517,
          236.20689655172413,
          239.65517241379308,
          243.10344827586206,
          246.55172413793105,
          250,
          2.842170943040401e-14,
          237.91475773983066,
          0,
          204.12328196584753
         ],
         "yaxis": "y"
        },
        {
         "alignmentgroup": "True",
         "hovertemplate": "Source of power=Power from the Genset to load.<br>Time step (min)=%{x}<br>Power (Kw)=%{y}<extra></extra>",
         "legendgroup": "Power from the Genset to load.",
         "marker": {
          "color": "#EF553B",
          "pattern": {
           "shape": ""
          }
         },
         "name": "Power from the Genset to load.",
         "offsetgroup": "Power from the Genset to load.",
         "orientation": "v",
         "showlegend": true,
         "textposition": "auto",
         "texttemplate": "%{y}",
         "type": "bar",
         "x": [
          0,
          1,
          2,
          3,
          4,
          5,
          6,
          7,
          8,
          9,
          10,
          11,
          12,
          13,
          14,
          15,
          16,
          17,
          18,
          19,
          20,
          21,
          22,
          23,
          24,
          25,
          26,
          27,
          28,
          29,
          30,
          31,
          32,
          33,
          34,
          35,
          36,
          37,
          38,
          39,
          40,
          41,
          42,
          43,
          44,
          45,
          46,
          47,
          48,
          49,
          50,
          51,
          52,
          53,
          54,
          55,
          56,
          57,
          58,
          59
         ],
         "xaxis": "x",
         "y": [
          200,
          188.88888888888889,
          0,
          122.22222222222223,
          0,
          166.66666666666666,
          0,
          211.11111111111111,
          233.33333333333331,
          255.55555555555554,
          277.77777777777777,
          300,
          0,
          300,
          283.3333333333333,
          266.6666666666667,
          250,
          233.33333333333331,
          216.66666666666666,
          200,
          0,
          166.66666666666666,
          0,
          166.66666666666669,
          150,
          0,
          156.89655172413794,
          0,
          163.79310344827587,
          0,
          170.68965517241378,
          0,
          177.58620689655172,
          0,
          0,
          184.48275862068965,
          0,
          191.3793103448276,
          0,
          198.27586206896552,
          201.72413793103448,
          205.17241379310343,
          208.6206896551724,
          212.06896551724137,
          215.51724137931035,
          144.44444444444446,
          218.9655172413793,
          222.41379310344826,
          225.86206896551724,
          229.31034482758622,
          232.75862068965517,
          236.20689655172413,
          239.65517241379308,
          243.10344827586206,
          246.55172413793105,
          250,
          0,
          122.22222222222223,
          0,
          100
         ],
         "yaxis": "y"
        },
        {
         "alignmentgroup": "True",
         "hovertemplate": "Source of power=Power from the battery to load.<br>Time step (min)=%{x}<br>Power (Kw)=%{y}<extra></extra>",
         "legendgroup": "Power from the battery to load.",
         "marker": {
          "color": "#00cc96",
          "pattern": {
           "shape": ""
          }
         },
         "name": "Power from the battery to load.",
         "offsetgroup": "Power from the battery to load.",
         "orientation": "v",
         "showlegend": true,
         "textposition": "auto",
         "texttemplate": "%{y}",
         "type": "bar",
         "x": [
          0,
          1,
          2,
          3,
          4,
          5,
          6,
          7,
          8,
          9,
          10,
          11,
          12,
          13,
          14,
          15,
          16,
          17,
          18,
          19,
          20,
          21,
          22,
          23,
          24,
          25,
          26,
          27,
          28,
          29,
          30,
          31,
          32,
          33,
          34,
          35,
          36,
          37,
          38,
          39,
          40,
          41,
          42,
          43,
          44,
          45,
          46,
          47,
          48,
          49,
          50,
          51,
          52,
          53,
          54,
          55,
          56,
          57,
          58,
          59
         ],
         "xaxis": "x",
         "y": [
          0,
          0,
          102.04081632653062,
          0,
          147.39229024943313,
          0,
          192.7437641723356,
          0,
          0,
          0,
          0,
          0,
          181.40589569160997,
          0,
          0,
          0,
          0,
          0,
          0,
          0,
          187.07482993197277,
          0,
          153.06122448979593,
          0,
          0,
          156.57987332864178,
          0,
          163.61717100633356,
          0,
          170.65446868402535,
          0,
          177.6917663617171,
          0,
          184.72906403940888,
          158.7301587301587,
          0,
          191.7663617171006,
          0,
          198.8036593947924,
          0,
          0,
          0,
          0,
          0,
          0,
          0,
          0,
          0,
          0,
          0,
          0,
          0,
          0,
          0,
          0,
          0,
          136.0544217687075,
          0,
          113.37868480725623,
          0
         ],
         "yaxis": "y"
        },
        {
         "alignmentgroup": "True",
         "hovertemplate": "Source of power=Power load requirements.<br>Time step (min)=%{x}<br>Power (Kw)=%{y}<extra></extra>",
         "legendgroup": "Power load requirements.",
         "marker": {
          "color": "#ab63fa",
          "pattern": {
           "shape": ""
          }
         },
         "name": "Power load requirements.",
         "offsetgroup": "Power load requirements.",
         "orientation": "v",
         "showlegend": true,
         "textposition": "auto",
         "texttemplate": "%{y}",
         "type": "bar",
         "x": [
          0,
          1,
          2,
          3,
          4,
          5,
          6,
          7,
          8,
          9,
          10,
          11,
          12,
          13,
          14,
          15,
          16,
          17,
          18,
          19,
          20,
          21,
          22,
          23,
          24,
          25,
          26,
          27,
          28,
          29,
          30,
          31,
          32,
          33,
          34,
          35,
          36,
          37,
          38,
          39,
          40,
          41,
          42,
          43,
          44,
          45,
          46,
          47,
          48,
          49,
          50,
          51,
          52,
          53,
          54,
          55,
          56,
          57,
          58,
          59
         ],
         "xaxis": "x",
         "y": [
          200,
          188.88888888888889,
          177.77777777777777,
          166.66666666666669,
          155.55555555555554,
          144.44444444444446,
          133.33333333333334,
          122.22222222222223,
          111.11111111111111,
          100,
          100,
          122.22222222222223,
          144.44444444444446,
          166.66666666666666,
          188.88888888888889,
          211.11111111111111,
          233.33333333333331,
          255.55555555555554,
          277.77777777777777,
          300,
          300,
          283.3333333333333,
          266.6666666666667,
          250,
          233.33333333333331,
          216.66666666666666,
          200,
          183.33333333333331,
          166.66666666666666,
          150,
          150,
          153.44827586206895,
          156.89655172413794,
          160.3448275862069,
          163.79310344827587,
          167.24137931034483,
          170.68965517241378,
          174.13793103448276,
          177.58620689655172,
          181.0344827586207,
          184.48275862068965,
          187.9310344827586,
          191.3793103448276,
          194.82758620689654,
          198.27586206896552,
          201.72413793103448,
          205.17241379310343,
          208.6206896551724,
          212.06896551724137,
          215.51724137931035,
          218.9655172413793,
          222.41379310344826,
          225.86206896551724,
          229.31034482758622,
          232.75862068965517,
          236.20689655172413,
          239.65517241379308,
          243.10344827586206,
          246.55172413793105,
          250
         ],
         "yaxis": "y"
        }
       ],
       "layout": {
        "barmode": "group",
        "legend": {
         "title": {
          "text": "Source of power"
         },
         "tracegroupgap": 0
        },
        "template": {
         "data": {
          "bar": [
           {
            "error_x": {
             "color": "#2a3f5f"
            },
            "error_y": {
             "color": "#2a3f5f"
            },
            "marker": {
             "line": {
              "color": "#E5ECF6",
              "width": 0.5
             },
             "pattern": {
              "fillmode": "overlay",
              "size": 10,
              "solidity": 0.2
             }
            },
            "type": "bar"
           }
          ],
          "barpolar": [
           {
            "marker": {
             "line": {
              "color": "#E5ECF6",
              "width": 0.5
             },
             "pattern": {
              "fillmode": "overlay",
              "size": 10,
              "solidity": 0.2
             }
            },
            "type": "barpolar"
           }
          ],
          "carpet": [
           {
            "aaxis": {
             "endlinecolor": "#2a3f5f",
             "gridcolor": "white",
             "linecolor": "white",
             "minorgridcolor": "white",
             "startlinecolor": "#2a3f5f"
            },
            "baxis": {
             "endlinecolor": "#2a3f5f",
             "gridcolor": "white",
             "linecolor": "white",
             "minorgridcolor": "white",
             "startlinecolor": "#2a3f5f"
            },
            "type": "carpet"
           }
          ],
          "choropleth": [
           {
            "colorbar": {
             "outlinewidth": 0,
             "ticks": ""
            },
            "type": "choropleth"
           }
          ],
          "contour": [
           {
            "colorbar": {
             "outlinewidth": 0,
             "ticks": ""
            },
            "colorscale": [
             [
              0,
              "#0d0887"
             ],
             [
              0.1111111111111111,
              "#46039f"
             ],
             [
              0.2222222222222222,
              "#7201a8"
             ],
             [
              0.3333333333333333,
              "#9c179e"
             ],
             [
              0.4444444444444444,
              "#bd3786"
             ],
             [
              0.5555555555555556,
              "#d8576b"
             ],
             [
              0.6666666666666666,
              "#ed7953"
             ],
             [
              0.7777777777777778,
              "#fb9f3a"
             ],
             [
              0.8888888888888888,
              "#fdca26"
             ],
             [
              1,
              "#f0f921"
             ]
            ],
            "type": "contour"
           }
          ],
          "contourcarpet": [
           {
            "colorbar": {
             "outlinewidth": 0,
             "ticks": ""
            },
            "type": "contourcarpet"
           }
          ],
          "heatmap": [
           {
            "colorbar": {
             "outlinewidth": 0,
             "ticks": ""
            },
            "colorscale": [
             [
              0,
              "#0d0887"
             ],
             [
              0.1111111111111111,
              "#46039f"
             ],
             [
              0.2222222222222222,
              "#7201a8"
             ],
             [
              0.3333333333333333,
              "#9c179e"
             ],
             [
              0.4444444444444444,
              "#bd3786"
             ],
             [
              0.5555555555555556,
              "#d8576b"
             ],
             [
              0.6666666666666666,
              "#ed7953"
             ],
             [
              0.7777777777777778,
              "#fb9f3a"
             ],
             [
              0.8888888888888888,
              "#fdca26"
             ],
             [
              1,
              "#f0f921"
             ]
            ],
            "type": "heatmap"
           }
          ],
          "heatmapgl": [
           {
            "colorbar": {
             "outlinewidth": 0,
             "ticks": ""
            },
            "colorscale": [
             [
              0,
              "#0d0887"
             ],
             [
              0.1111111111111111,
              "#46039f"
             ],
             [
              0.2222222222222222,
              "#7201a8"
             ],
             [
              0.3333333333333333,
              "#9c179e"
             ],
             [
              0.4444444444444444,
              "#bd3786"
             ],
             [
              0.5555555555555556,
              "#d8576b"
             ],
             [
              0.6666666666666666,
              "#ed7953"
             ],
             [
              0.7777777777777778,
              "#fb9f3a"
             ],
             [
              0.8888888888888888,
              "#fdca26"
             ],
             [
              1,
              "#f0f921"
             ]
            ],
            "type": "heatmapgl"
           }
          ],
          "histogram": [
           {
            "marker": {
             "pattern": {
              "fillmode": "overlay",
              "size": 10,
              "solidity": 0.2
             }
            },
            "type": "histogram"
           }
          ],
          "histogram2d": [
           {
            "colorbar": {
             "outlinewidth": 0,
             "ticks": ""
            },
            "colorscale": [
             [
              0,
              "#0d0887"
             ],
             [
              0.1111111111111111,
              "#46039f"
             ],
             [
              0.2222222222222222,
              "#7201a8"
             ],
             [
              0.3333333333333333,
              "#9c179e"
             ],
             [
              0.4444444444444444,
              "#bd3786"
             ],
             [
              0.5555555555555556,
              "#d8576b"
             ],
             [
              0.6666666666666666,
              "#ed7953"
             ],
             [
              0.7777777777777778,
              "#fb9f3a"
             ],
             [
              0.8888888888888888,
              "#fdca26"
             ],
             [
              1,
              "#f0f921"
             ]
            ],
            "type": "histogram2d"
           }
          ],
          "histogram2dcontour": [
           {
            "colorbar": {
             "outlinewidth": 0,
             "ticks": ""
            },
            "colorscale": [
             [
              0,
              "#0d0887"
             ],
             [
              0.1111111111111111,
              "#46039f"
             ],
             [
              0.2222222222222222,
              "#7201a8"
             ],
             [
              0.3333333333333333,
              "#9c179e"
             ],
             [
              0.4444444444444444,
              "#bd3786"
             ],
             [
              0.5555555555555556,
              "#d8576b"
             ],
             [
              0.6666666666666666,
              "#ed7953"
             ],
             [
              0.7777777777777778,
              "#fb9f3a"
             ],
             [
              0.8888888888888888,
              "#fdca26"
             ],
             [
              1,
              "#f0f921"
             ]
            ],
            "type": "histogram2dcontour"
           }
          ],
          "mesh3d": [
           {
            "colorbar": {
             "outlinewidth": 0,
             "ticks": ""
            },
            "type": "mesh3d"
           }
          ],
          "parcoords": [
           {
            "line": {
             "colorbar": {
              "outlinewidth": 0,
              "ticks": ""
             }
            },
            "type": "parcoords"
           }
          ],
          "pie": [
           {
            "automargin": true,
            "type": "pie"
           }
          ],
          "scatter": [
           {
            "fillpattern": {
             "fillmode": "overlay",
             "size": 10,
             "solidity": 0.2
            },
            "type": "scatter"
           }
          ],
          "scatter3d": [
           {
            "line": {
             "colorbar": {
              "outlinewidth": 0,
              "ticks": ""
             }
            },
            "marker": {
             "colorbar": {
              "outlinewidth": 0,
              "ticks": ""
             }
            },
            "type": "scatter3d"
           }
          ],
          "scattercarpet": [
           {
            "marker": {
             "colorbar": {
              "outlinewidth": 0,
              "ticks": ""
             }
            },
            "type": "scattercarpet"
           }
          ],
          "scattergeo": [
           {
            "marker": {
             "colorbar": {
              "outlinewidth": 0,
              "ticks": ""
             }
            },
            "type": "scattergeo"
           }
          ],
          "scattergl": [
           {
            "marker": {
             "colorbar": {
              "outlinewidth": 0,
              "ticks": ""
             }
            },
            "type": "scattergl"
           }
          ],
          "scattermapbox": [
           {
            "marker": {
             "colorbar": {
              "outlinewidth": 0,
              "ticks": ""
             }
            },
            "type": "scattermapbox"
           }
          ],
          "scatterpolar": [
           {
            "marker": {
             "colorbar": {
              "outlinewidth": 0,
              "ticks": ""
             }
            },
            "type": "scatterpolar"
           }
          ],
          "scatterpolargl": [
           {
            "marker": {
             "colorbar": {
              "outlinewidth": 0,
              "ticks": ""
             }
            },
            "type": "scatterpolargl"
           }
          ],
          "scatterternary": [
           {
            "marker": {
             "colorbar": {
              "outlinewidth": 0,
              "ticks": ""
             }
            },
            "type": "scatterternary"
           }
          ],
          "surface": [
           {
            "colorbar": {
             "outlinewidth": 0,
             "ticks": ""
            },
            "colorscale": [
             [
              0,
              "#0d0887"
             ],
             [
              0.1111111111111111,
              "#46039f"
             ],
             [
              0.2222222222222222,
              "#7201a8"
             ],
             [
              0.3333333333333333,
              "#9c179e"
             ],
             [
              0.4444444444444444,
              "#bd3786"
             ],
             [
              0.5555555555555556,
              "#d8576b"
             ],
             [
              0.6666666666666666,
              "#ed7953"
             ],
             [
              0.7777777777777778,
              "#fb9f3a"
             ],
             [
              0.8888888888888888,
              "#fdca26"
             ],
             [
              1,
              "#f0f921"
             ]
            ],
            "type": "surface"
           }
          ],
          "table": [
           {
            "cells": {
             "fill": {
              "color": "#EBF0F8"
             },
             "line": {
              "color": "white"
             }
            },
            "header": {
             "fill": {
              "color": "#C8D4E3"
             },
             "line": {
              "color": "white"
             }
            },
            "type": "table"
           }
          ]
         },
         "layout": {
          "annotationdefaults": {
           "arrowcolor": "#2a3f5f",
           "arrowhead": 0,
           "arrowwidth": 1
          },
          "autotypenumbers": "strict",
          "coloraxis": {
           "colorbar": {
            "outlinewidth": 0,
            "ticks": ""
           }
          },
          "colorscale": {
           "diverging": [
            [
             0,
             "#8e0152"
            ],
            [
             0.1,
             "#c51b7d"
            ],
            [
             0.2,
             "#de77ae"
            ],
            [
             0.3,
             "#f1b6da"
            ],
            [
             0.4,
             "#fde0ef"
            ],
            [
             0.5,
             "#f7f7f7"
            ],
            [
             0.6,
             "#e6f5d0"
            ],
            [
             0.7,
             "#b8e186"
            ],
            [
             0.8,
             "#7fbc41"
            ],
            [
             0.9,
             "#4d9221"
            ],
            [
             1,
             "#276419"
            ]
           ],
           "sequential": [
            [
             0,
             "#0d0887"
            ],
            [
             0.1111111111111111,
             "#46039f"
            ],
            [
             0.2222222222222222,
             "#7201a8"
            ],
            [
             0.3333333333333333,
             "#9c179e"
            ],
            [
             0.4444444444444444,
             "#bd3786"
            ],
            [
             0.5555555555555556,
             "#d8576b"
            ],
            [
             0.6666666666666666,
             "#ed7953"
            ],
            [
             0.7777777777777778,
             "#fb9f3a"
            ],
            [
             0.8888888888888888,
             "#fdca26"
            ],
            [
             1,
             "#f0f921"
            ]
           ],
           "sequentialminus": [
            [
             0,
             "#0d0887"
            ],
            [
             0.1111111111111111,
             "#46039f"
            ],
            [
             0.2222222222222222,
             "#7201a8"
            ],
            [
             0.3333333333333333,
             "#9c179e"
            ],
            [
             0.4444444444444444,
             "#bd3786"
            ],
            [
             0.5555555555555556,
             "#d8576b"
            ],
            [
             0.6666666666666666,
             "#ed7953"
            ],
            [
             0.7777777777777778,
             "#fb9f3a"
            ],
            [
             0.8888888888888888,
             "#fdca26"
            ],
            [
             1,
             "#f0f921"
            ]
           ]
          },
          "colorway": [
           "#636efa",
           "#EF553B",
           "#00cc96",
           "#ab63fa",
           "#FFA15A",
           "#19d3f3",
           "#FF6692",
           "#B6E880",
           "#FF97FF",
           "#FECB52"
          ],
          "font": {
           "color": "#2a3f5f"
          },
          "geo": {
           "bgcolor": "white",
           "lakecolor": "white",
           "landcolor": "#E5ECF6",
           "showlakes": true,
           "showland": true,
           "subunitcolor": "white"
          },
          "hoverlabel": {
           "align": "left"
          },
          "hovermode": "closest",
          "mapbox": {
           "style": "light"
          },
          "paper_bgcolor": "white",
          "plot_bgcolor": "#E5ECF6",
          "polar": {
           "angularaxis": {
            "gridcolor": "white",
            "linecolor": "white",
            "ticks": ""
           },
           "bgcolor": "#E5ECF6",
           "radialaxis": {
            "gridcolor": "white",
            "linecolor": "white",
            "ticks": ""
           }
          },
          "scene": {
           "xaxis": {
            "backgroundcolor": "#E5ECF6",
            "gridcolor": "white",
            "gridwidth": 2,
            "linecolor": "white",
            "showbackground": true,
            "ticks": "",
            "zerolinecolor": "white"
           },
           "yaxis": {
            "backgroundcolor": "#E5ECF6",
            "gridcolor": "white",
            "gridwidth": 2,
            "linecolor": "white",
            "showbackground": true,
            "ticks": "",
            "zerolinecolor": "white"
           },
           "zaxis": {
            "backgroundcolor": "#E5ECF6",
            "gridcolor": "white",
            "gridwidth": 2,
            "linecolor": "white",
            "showbackground": true,
            "ticks": "",
            "zerolinecolor": "white"
           }
          },
          "shapedefaults": {
           "line": {
            "color": "#2a3f5f"
           }
          },
          "ternary": {
           "aaxis": {
            "gridcolor": "white",
            "linecolor": "white",
            "ticks": ""
           },
           "baxis": {
            "gridcolor": "white",
            "linecolor": "white",
            "ticks": ""
           },
           "bgcolor": "#E5ECF6",
           "caxis": {
            "gridcolor": "white",
            "linecolor": "white",
            "ticks": ""
           }
          },
          "title": {
           "x": 0.05
          },
          "xaxis": {
           "automargin": true,
           "gridcolor": "white",
           "linecolor": "white",
           "ticks": "",
           "title": {
            "standoff": 15
           },
           "zerolinecolor": "white",
           "zerolinewidth": 2
          },
          "yaxis": {
           "automargin": true,
           "gridcolor": "white",
           "linecolor": "white",
           "ticks": "",
           "title": {
            "standoff": 15
           },
           "zerolinecolor": "white",
           "zerolinewidth": 2
          }
         }
        },
        "title": {
         "text": "______________________________________Typical Trip Power Flow._________________________________"
        },
        "xaxis": {
         "anchor": "y",
         "domain": [
          0,
          1
         ],
         "title": {
          "text": "Time step (min)"
         }
        },
        "yaxis": {
         "anchor": "x",
         "domain": [
          0,
          1
         ],
         "title": {
          "text": "Power (Kw)"
         }
        }
       }
      }
     },
     "metadata": {},
     "output_type": "display_data"
    }
   ],
   "source": [
    "dictframe = {\n",
    "             'Power generated by the Genset.': P_A_list, \n",
    "             \"Power from the Genset to load.\": P_A_load_list,\n",
    "             \"Power from the battery to load.\": P_From_bat_list,\n",
    "             \"Power load requirements.\": d_load_list\n",
    "               }\n",
    "\n",
    "df = pd.DataFrame(dictframe)\n",
    "\n",
    "fig = px.bar(df, x=V_steps, y=df.columns,barmode= 'group', text_auto=True,\n",
    "             title='______________________________________Typical Trip Power Flow._________________________________',\n",
    "             labels= {'x':'Time step (min)',\n",
    "                      'value': 'Power (Kw)',\n",
    "                      'variable': 'Source of power'}\n",
    "                      )\n",
    "fig.show()"
   ]
  }
 ],
 "metadata": {
  "colab": {
   "provenance": []
  },
  "kernelspec": {
   "display_name": "HYH_env",
   "language": "python",
   "name": "python3"
  },
  "language_info": {
   "codemirror_mode": {
    "name": "ipython",
    "version": 3
   },
   "file_extension": ".py",
   "mimetype": "text/x-python",
   "name": "python",
   "nbconvert_exporter": "python",
   "pygments_lexer": "ipython3",
   "version": "3.10.9"
  },
  "vscode": {
   "interpreter": {
    "hash": "b457b1efa9386fb31d0c27fbd21355d01f9885ccacfc2636833233b93949f974"
   }
  }
 },
 "nbformat": 4,
 "nbformat_minor": 1
}
